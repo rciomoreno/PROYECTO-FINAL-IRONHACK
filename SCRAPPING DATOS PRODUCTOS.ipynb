{
 "cells": [
  {
   "cell_type": "markdown",
   "id": "18c088b8",
   "metadata": {},
   "source": [
    "# EXTRACCIÓN DE DATOS:\n",
    "\n",
    "Paletas de sombras, pintalabios y colorete en función de la paleta de colores asignadas, siendo estas:\\\n",
    "        -PRIMAVERA\\\n",
    "        -VERANO\\\n",
    "        -OTOÑO\\\n",
    "        -INVIERNO"
   ]
  },
  {
   "cell_type": "markdown",
   "id": "8306b9b0",
   "metadata": {},
   "source": [
    "**IMPORTACIONES**"
   ]
  },
  {
   "cell_type": "code",
   "execution_count": 537,
   "id": "7a7a3c46",
   "metadata": {},
   "outputs": [],
   "source": [
    "from selenium import webdriver\n",
    "import pandas as pd\n",
    "import numpy as np\n",
    "from webdriver_manager.chrome import ChromeDriverManager\n",
    "from joblib import Parallel, delayed\n",
    "from selenium.webdriver.chrome.options import Options\n",
    "from selenium.webdriver.common.by import By\n",
    "import time\n",
    "import re"
   ]
  },
  {
   "cell_type": "code",
   "execution_count": null,
   "id": "e7df4cb8",
   "metadata": {},
   "outputs": [],
   "source": [
    "pd.set_option('display.max_rows', None)"
   ]
  },
  {
   "cell_type": "markdown",
   "id": "8f12334a",
   "metadata": {},
   "source": [
    "Ahora, vamos a scrappear los productos de maquillaje con mejor rating que se ajusten a las paletas de colores\\\n",
    "de cada estación. Sacaremos nombre, precio y rating."
   ]
  },
  {
   "cell_type": "code",
   "execution_count": 335,
   "id": "6b8fc451",
   "metadata": {
    "scrolled": true
   },
   "outputs": [
    {
     "name": "stderr",
     "output_type": "stream",
     "text": [
      "2022-12-12 16:24:52,097 [48607] WARNING  py.warnings:109: [JupyterRequire] /var/folders/fg/hm_rz3k53fv5qf5dywc0bfwr0000gn/T/ipykernel_48607/235325829.py:3: DeprecationWarning: executable_path has been deprecated, please pass in a Service object\n",
      "  driver=webdriver.Chrome(PATH)\n",
      "\n"
     ]
    }
   ],
   "source": [
    "PATH=ChromeDriverManager().install()\n",
    "\n",
    "driver=webdriver.Chrome(PATH)  "
   ]
  },
  {
   "cell_type": "markdown",
   "id": "afb20e2c",
   "metadata": {},
   "source": [
    "*Existen varios productos que podemos recomendar segun la colometría de las personas. En este caso, nos centraremos\\\n",
    "en sombras de ojos, pintalabios, colorete y corrector*\\\n",
    "\n",
    "Por otra parte, debemos tener en cuenta que hay varias tiendas donde podemos encontrar productos de maquillaje.\\\n",
    "Concretamente, en nuestro proyecto, los escogeremos de las siguientes:\n",
    "\n",
    "1. **PRIMOR**\n",
    "2. **SEPHORA**"
   ]
  },
  {
   "cell_type": "markdown",
   "id": "b84ce61a",
   "metadata": {},
   "source": [
    "# **1 - EXTRACCIÓN DE DATOS DE PRIMOR DE SOMBRAS, PINTALABIOS Y COLORETE DE PRIMOR**"
   ]
  },
  {
   "cell_type": "code",
   "execution_count": 336,
   "id": "acc4d75b",
   "metadata": {},
   "outputs": [],
   "source": [
    "URL = 'https://www.primor.eu/#/dfclassic/query=paletas%20sombras%20verano&filter%5Bcategories%5D%5B0%5D=Paletas%20de%20sombras%20de%20ojos%20y%20maquillaje&session_id=e68b0b5ac1828fdb430ff5b492adb6e5&query_name=match_and'\n",
    "driver.get(URL)"
   ]
  },
  {
   "cell_type": "code",
   "execution_count": 4,
   "id": "a98b7281",
   "metadata": {},
   "outputs": [],
   "source": [
    "#Investigamos dónde podemos entrar para scrappear PRIMOR\n",
    "filas = driver.find_elements(By.CLASS_NAME, 'df-card__content')"
   ]
  },
  {
   "cell_type": "code",
   "execution_count": 368,
   "id": "6a291236",
   "metadata": {},
   "outputs": [],
   "source": [
    "precios = driver.find_elements(By.CLASS_NAME, 'df-card__price')"
   ]
  },
  {
   "cell_type": "code",
   "execution_count": null,
   "id": "4af12c98",
   "metadata": {},
   "outputs": [],
   "source": []
  },
  {
   "cell_type": "code",
   "execution_count": 370,
   "id": "0b68890d",
   "metadata": {},
   "outputs": [],
   "source": [
    "#Paletas de sombras\n",
    "def extraer(URL):\n",
    "    driver = webdriver.Chrome(PATH)\n",
    "    driver.get(URL)\n",
    "    \n",
    "    driver.execute_script('window.scrollTo(0, 3000);')  # 200px de scroll\n",
    "    time.sleep(5)\n",
    "    \n",
    "    filas = driver.find_elements(By.CLASS_NAME, 'df-card__content')\n",
    "    link = driver.find_elements(By.CLASS_NAME, 'df-card__main')\n",
    "    tmp = []\n",
    "    links = []\n",
    "\n",
    "    for e in filas:\n",
    "        tmp.append(e.text.split('\\n'))\n",
    "    \n",
    "    for e in link:\n",
    "        links.append(e.get_attribute('href'))\n",
    "    \n",
    "    cols = ['NOMBRE', 'TIPO', 'PRECIO']\n",
    "    \n",
    "    total = pd.DataFrame(tmp, columns = cols)\n",
    "    \n",
    "    total['LINKS'] = links\n",
    "    total['PRODUCTO'] = 'SOMBRAS DE OJOS'\n",
    "    total.drop(['TIPO'], axis = 1, inplace = True)\n",
    "    \n",
    "    driver.quit()\n",
    "     \n",
    "    return total"
   ]
  },
  {
   "cell_type": "code",
   "execution_count": 371,
   "id": "db802f38",
   "metadata": {},
   "outputs": [],
   "source": [
    "links_sombras_primor = ['https://www.primor.eu/#/dfclassic/query=paletas%20sombras%20verano&filter%5Bcategories%5D%5B0%5D=Paletas%20de%20sombras%20de%20ojos%20y%20maquillaje&session_id=e68b0b5ac1828fdb430ff5b492adb6e5&query_name=match_and',\\\n",
    "               'https://www.primor.eu/#/dfclassic/query=paletas%20sombras%20oto%C3%B1al&session_id=e68b0b5ac1828fdb430ff5b492adb6e5&query_name=match_and',\\\n",
    "               'https://www.primor.eu/#/dfclassic/query=paletas%20sombras%20invierno&filter%5Bcategories%5D%5B0%5D=Ojos%20lujo&filter%5Bcategories%5D%5B1%5D=Paletas%20de%20sombras%20de%20ojos%20y%20maquillaje&filter%5Bcategories%5D%5B2%5D=Sombras%20de%20ojos%20lujo&session_id=e68b0b5ac1828fdb430ff5b492adb6e5&query_name=match_and',\\\n",
    "               'https://www.primor.eu/#/dfclassic/query=paletas%20sombras%20pastel&filter%5Bcategories%5D%5B0%5D=Paletas%20de%20sombras%20de%20ojos%20y%20maquillaje&filter%5Bcategories%5D%5B1%5D=Sombras%20de%20ojos&session_id=e68b0b5ac1828fdb430ff5b492adb6e5&query_name=match_and']"
   ]
  },
  {
   "cell_type": "code",
   "execution_count": 372,
   "id": "1beb7754",
   "metadata": {
    "scrolled": true
   },
   "outputs": [
    {
     "name": "stderr",
     "output_type": "stream",
     "text": [
      "[Parallel(n_jobs=4)]: Using backend LokyBackend with 4 concurrent workers.\n",
      "/var/folders/fg/hm_rz3k53fv5qf5dywc0bfwr0000gn/T/ipykernel_48607/2921855445.py:3: DeprecationWarning: executable_path has been deprecated, please pass in a Service object\n",
      "/var/folders/fg/hm_rz3k53fv5qf5dywc0bfwr0000gn/T/ipykernel_48607/2921855445.py:3: DeprecationWarning: executable_path has been deprecated, please pass in a Service object\n",
      "/var/folders/fg/hm_rz3k53fv5qf5dywc0bfwr0000gn/T/ipykernel_48607/2921855445.py:3: DeprecationWarning: executable_path has been deprecated, please pass in a Service object\n",
      "/var/folders/fg/hm_rz3k53fv5qf5dywc0bfwr0000gn/T/ipykernel_48607/2921855445.py:3: DeprecationWarning: executable_path has been deprecated, please pass in a Service object\n",
      "[Parallel(n_jobs=4)]: Done   2 out of   4 | elapsed:   41.4s remaining:   41.4s\n",
      "[Parallel(n_jobs=4)]: Done   4 out of   4 | elapsed:   43.0s finished\n"
     ]
    }
   ],
   "source": [
    "productos = Parallel(n_jobs=4, verbose=True)(delayed(extraer)(e) for e in links_sombras_primor)"
   ]
  },
  {
   "cell_type": "code",
   "execution_count": 373,
   "id": "475d2c44",
   "metadata": {},
   "outputs": [],
   "source": [
    "sombras_ver_prim = productos[0] \n",
    "sombras_oto_prim = productos[1] \n",
    "sombras_inv_prim = productos[2] \n",
    "sombras_pri_prim = productos[3] \n",
    "#productos_totales = pd.concat([productos[0], productos[1], productos[2], productos[3]], axis = 0)"
   ]
  },
  {
   "cell_type": "code",
   "execution_count": 374,
   "id": "6776dbba",
   "metadata": {},
   "outputs": [
    {
     "name": "stderr",
     "output_type": "stream",
     "text": [
      "2022-12-12 16:38:39,760 [48607] WARNING  py.warnings:109: [JupyterRequire] /var/folders/fg/hm_rz3k53fv5qf5dywc0bfwr0000gn/T/ipykernel_48607/2921855445.py:3: DeprecationWarning: executable_path has been deprecated, please pass in a Service object\n",
      "  driver = webdriver.Chrome(PATH)\n",
      "\n",
      "2022-12-12 16:39:00,221 [48607] WARNING  py.warnings:109: [JupyterRequire] /var/folders/fg/hm_rz3k53fv5qf5dywc0bfwr0000gn/T/ipykernel_48607/2921855445.py:3: DeprecationWarning: executable_path has been deprecated, please pass in a Service object\n",
      "  driver = webdriver.Chrome(PATH)\n",
      "\n",
      "2022-12-12 16:39:17,233 [48607] WARNING  py.warnings:109: [JupyterRequire] /var/folders/fg/hm_rz3k53fv5qf5dywc0bfwr0000gn/T/ipykernel_48607/2921855445.py:3: DeprecationWarning: executable_path has been deprecated, please pass in a Service object\n",
      "  driver = webdriver.Chrome(PATH)\n",
      "\n",
      "2022-12-12 16:39:41,491 [48607] WARNING  py.warnings:109: [JupyterRequire] /var/folders/fg/hm_rz3k53fv5qf5dywc0bfwr0000gn/T/ipykernel_48607/2921855445.py:3: DeprecationWarning: executable_path has been deprecated, please pass in a Service object\n",
      "  driver = webdriver.Chrome(PATH)\n",
      "\n"
     ]
    }
   ],
   "source": [
    "ad1 = extraer('https://www.primor.eu/#/dfclassic/query=sombras%20krash%20rosas&filter%5Bcategories%5D%5B0%5D=Paletas%20de%20sombras%20de%20ojos%20y%20maquillaje&filter%5Bcategories%5D%5B1%5D=Sombras%20de%20ojos&filter%5Bbrand%5D%5B0%5D=Krash%20Kosmetics&session_id=e68b0b5ac1828fdb430ff5b492adb6e5&query_name=match_and')\n",
    "ad2 = extraer('https://www.primor.eu/#/dfclassic/query=sombras%20lilas&filter%5Bcategories%5D%5B0%5D=Maquillaje%20de%20ojos&session_id=e68b0b5ac1828fdb430ff5b492adb6e5&query_name=match_and')\n",
    "ad3 = extraer('https://www.primor.eu/#/dfclassic/query=sombras%20negras&filter%5Bcategories%5D%5B0%5D=Maquillaje%20de%20ojos&session_id=e68b0b5ac1828fdb430ff5b492adb6e5&query_name=match_and')\n",
    "ad4 = extraer('https://www.primor.eu/#/dfclassic/query=sombras%20naranjas&session_id=e68b0b5ac1828fdb430ff5b492adb6e5&query_name=match_and')"
   ]
  },
  {
   "cell_type": "code",
   "execution_count": 375,
   "id": "05664c3d",
   "metadata": {},
   "outputs": [],
   "source": [
    "#Limpiamos los índices y añadimos lo que hemos sacado más\n",
    "\n",
    "#PRIMAVERA\n",
    "sombras_pri_prim = pd.concat([sombras_pri_prim, ad1], axis = 0)\n",
    "sombras_pri_prim.drop_duplicates(inplace = True)\n",
    "sombras_pri_prim['ID'] = [e for e in range(len(sombras_pri_prim))]\n",
    "sombras_pri_prim.set_index('ID', drop = True, inplace = True)\n",
    "\n",
    "#OTOÑO\n",
    "sombras_oto_prim = pd.concat([sombras_oto_prim, ad2], axis = 0)\n",
    "sombras_oto_prim.drop_duplicates(inplace = True)\n",
    "sombras_oto_prim['ID'] = [e for e in range(len(sombras_oto_prim))]\n",
    "sombras_oto_prim.set_index('ID', drop = True, inplace = True)\n",
    "\n",
    "#INVIERNO\n",
    "sombras_inv_prim = pd.concat([sombras_inv_prim, ad3], axis = 0)\n",
    "sombras_inv_prim.drop_duplicates(inplace = True)\n",
    "sombras_inv_prim['ID'] = [e for e in range(len(sombras_inv_prim))]\n",
    "sombras_inv_prim.set_index('ID', drop = True, inplace = True)\n",
    "\n",
    "#VERANO\n",
    "sombras_ver_prim = pd.concat([sombras_ver_prim, ad4], axis = 0)\n",
    "sombras_ver_prim.drop_duplicates(inplace = True)\n",
    "sombras_ver_prim['ID'] = [e for e in range(len(sombras_ver_prim))]\n",
    "sombras_ver_prim.set_index('ID', drop = True, inplace = True)"
   ]
  },
  {
   "cell_type": "code",
   "execution_count": 409,
   "id": "c36e501e",
   "metadata": {},
   "outputs": [],
   "source": [
    "sombras_pri_prim['PALETA'] = 'PRIMAVERA'\n",
    "sombras_oto_prim['PALETA'] = 'OTOÑO'\n",
    "sombras_inv_prim['PALETA'] = 'INVIERNO'\n",
    "sombras_ver_prim['PALETA'] = 'VERANO'"
   ]
  },
  {
   "cell_type": "code",
   "execution_count": 11,
   "id": "41c06af5",
   "metadata": {},
   "outputs": [],
   "source": [
    "#Pintalabios\n",
    "def extraer(URL):\n",
    "    driver = webdriver.Chrome(PATH)\n",
    "    driver.get(URL)\n",
    "    \n",
    "    driver.execute_script('window.scrollTo(0, 3000);')  # 200px de scroll\n",
    "    time.sleep(5)\n",
    "    \n",
    "    filas = driver.find_elements(By.CLASS_NAME, 'df-card__content')\n",
    "    link = driver.find_elements(By.CLASS_NAME, 'df-card__main')\n",
    "    tmp = []\n",
    "    links = []\n",
    "\n",
    "    for e in filas:\n",
    "        tmp.append(e.text.split('\\n'))\n",
    "    \n",
    "    for e in link:\n",
    "        links.append(e.get_attribute('href'))\n",
    "    \n",
    "    cols = ['NOMBRE', 'TIPO', 'PRECIO']\n",
    "    \n",
    "    total = pd.DataFrame(tmp, columns = cols)\n",
    "    \n",
    "    total['LINKS'] = links\n",
    "    total['PRODUCTO'] = 'PINTALABIOS'\n",
    "    \n",
    "    driver.quit()\n",
    "     \n",
    "    return total"
   ]
  },
  {
   "cell_type": "code",
   "execution_count": 12,
   "id": "909082c1",
   "metadata": {},
   "outputs": [],
   "source": [
    "links_pintalabios_primor = ['https://www.primor.eu/#/dfclassic/query=pintalabios%20vivid%20&filter%5Bcategories%5D%5B0%5D=Pintalabios%20y%20maquillaje%20de%20labios&session_id=e68b0b5ac1828fdb430ff5b492adb6e5&query_name=match_and',\\\n",
    "                           'https://www.primor.eu/#/dfclassic/query=pintalabios%20neutro&filter%5Bcategories%5D%5B0%5D=Barras%20de%20labios%20lujo&filter%5Bcategories%5D%5B1%5D=Pintalabios%20y%20maquillaje%20de%20labios&session_id=e68b0b5ac1828fdb430ff5b492adb6e5&query_name=match_and',\\\n",
    "                           'https://www.primor.eu/#/dfclassic/query=pintalabios%20oscuro&filter%5Bcategories%5D%5B0%5D=Pintalabios%20y%20maquillaje%20de%20labios&session_id=e68b0b5ac1828fdb430ff5b492adb6e5&query_name=match_and',\\\n",
    "                           'https://www.primor.eu/#/dfclassic/query=pintalabios%20rosados&filter%5Bcategories%5D%5B0%5D=Pintalabios%20y%20maquillaje%20de%20labios&filter%5Bbrand%5D%5B0%5D=Revolution&filter%5Bbrand%5D%5B1%5D=NYX%20Professional%20Makeup&filter%5Bbrand%5D%5B2%5D=Krash%20Kosmetics&session_id=e68b0b5ac1828fdb430ff5b492adb6e5&query_name=match_and']"
   ]
  },
  {
   "cell_type": "code",
   "execution_count": 13,
   "id": "f282ef42",
   "metadata": {
    "scrolled": true
   },
   "outputs": [
    {
     "name": "stderr",
     "output_type": "stream",
     "text": [
      "[Parallel(n_jobs=4)]: Using backend LokyBackend with 4 concurrent workers.\n",
      "/var/folders/fg/hm_rz3k53fv5qf5dywc0bfwr0000gn/T/ipykernel_48607/2764708321.py:3: DeprecationWarning: executable_path has been deprecated, please pass in a Service object\n",
      "/var/folders/fg/hm_rz3k53fv5qf5dywc0bfwr0000gn/T/ipykernel_48607/2764708321.py:3: DeprecationWarning: executable_path has been deprecated, please pass in a Service object\n",
      "/var/folders/fg/hm_rz3k53fv5qf5dywc0bfwr0000gn/T/ipykernel_48607/2764708321.py:3: DeprecationWarning: executable_path has been deprecated, please pass in a Service object\n",
      "/var/folders/fg/hm_rz3k53fv5qf5dywc0bfwr0000gn/T/ipykernel_48607/2764708321.py:3: DeprecationWarning: executable_path has been deprecated, please pass in a Service object\n",
      "[Parallel(n_jobs=4)]: Done   2 out of   4 | elapsed:   51.8s remaining:   51.8s\n",
      "[Parallel(n_jobs=4)]: Done   4 out of   4 | elapsed:   52.7s finished\n"
     ]
    }
   ],
   "source": [
    "productos1 = Parallel(n_jobs=4, verbose=True)(delayed(extraer)(e) for e in links_pintalabios_primor)"
   ]
  },
  {
   "cell_type": "code",
   "execution_count": 15,
   "id": "939ce90d",
   "metadata": {
    "scrolled": false
   },
   "outputs": [
    {
     "name": "stderr",
     "output_type": "stream",
     "text": [
      "2022-12-12 10:57:07,258 [48607] WARNING  py.warnings:109: [JupyterRequire] /var/folders/fg/hm_rz3k53fv5qf5dywc0bfwr0000gn/T/ipykernel_48607/2764708321.py:3: DeprecationWarning: executable_path has been deprecated, please pass in a Service object\n",
      "  driver = webdriver.Chrome(PATH)\n",
      "\n",
      "2022-12-12 10:57:27,066 [48607] WARNING  py.warnings:109: [JupyterRequire] /var/folders/fg/hm_rz3k53fv5qf5dywc0bfwr0000gn/T/ipykernel_48607/2764708321.py:3: DeprecationWarning: executable_path has been deprecated, please pass in a Service object\n",
      "  driver = webdriver.Chrome(PATH)\n",
      "\n",
      "2022-12-12 10:57:48,343 [48607] WARNING  py.warnings:109: [JupyterRequire] /var/folders/fg/hm_rz3k53fv5qf5dywc0bfwr0000gn/T/ipykernel_48607/2764708321.py:3: DeprecationWarning: executable_path has been deprecated, please pass in a Service object\n",
      "  driver = webdriver.Chrome(PATH)\n",
      "\n",
      "2022-12-12 10:58:03,451 [48607] WARNING  py.warnings:109: [JupyterRequire] /var/folders/fg/hm_rz3k53fv5qf5dywc0bfwr0000gn/T/ipykernel_48607/2764708321.py:3: DeprecationWarning: executable_path has been deprecated, please pass in a Service object\n",
      "  driver = webdriver.Chrome(PATH)\n",
      "\n",
      "2022-12-12 10:58:18,742 [48607] WARNING  py.warnings:109: [JupyterRequire] /var/folders/fg/hm_rz3k53fv5qf5dywc0bfwr0000gn/T/ipykernel_48607/2764708321.py:3: DeprecationWarning: executable_path has been deprecated, please pass in a Service object\n",
      "  driver = webdriver.Chrome(PATH)\n",
      "\n"
     ]
    }
   ],
   "source": [
    "#Añadimos más filas\n",
    "add1 = extraer('https://www.primor.eu/#/dfclassic/query=pintalabios%20rosados&filter%5Bcategories%5D%5B0%5D=Pintalabios%20y%20maquillaje%20de%20labios&filter%5Bbrand%5D%5B0%5D=NYX%20Professional%20Makeup&filter%5Bbrand%5D%5B1%5D=Krash%20Kosmetics&session_id=e68b0b5ac1828fdb430ff5b492adb6e5&query_name=match_and')\n",
    "add2 = extraer('https://www.primor.eu/#/dfclassic/query=berry%20nars&filter%5Bbrand%5D%5B0%5D=NARS&filter%5Bcategories%5D%5B0%5D=Labios%20lujo&session_id=e68b0b5ac1828fdb430ff5b492adb6e5&query_name=match_or')\n",
    "add3 = extraer('https://www.primor.eu/#/dfclassic/query=nude%20nars&session_id=e68b0b5ac1828fdb430ff5b492adb6e5&query_name=match_and')\n",
    "add4 = extraer('https://www.primor.eu/#/dfclassic/query=dark%20nars&filter%5Bbrand%5D%5B0%5D=NARS&filter%5Bcategories%5D%5B0%5D=Barras%20de%20labios%20lujo&session_id=e68b0b5ac1828fdb430ff5b492adb6e5&query_name=match_or')\n",
    "add5 = extraer('https://www.primor.eu/#/dfclassic/query=mac%20lips&session_id=e68b0b5ac1828fdb430ff5b492adb6e5&query_name=match_and')"
   ]
  },
  {
   "cell_type": "code",
   "execution_count": 16,
   "id": "f849b4a4",
   "metadata": {},
   "outputs": [],
   "source": [
    "pintalab_ver_prim = productos1[0] \n",
    "pintalab_oto_prim = productos1[1] \n",
    "pintalab_inv_prim = productos1[2] \n",
    "pintalab_pri_pri = productos1[3]"
   ]
  },
  {
   "cell_type": "code",
   "execution_count": 17,
   "id": "8aab43f1",
   "metadata": {},
   "outputs": [],
   "source": [
    "#Limpiamos los índices y añadimos lo que hemos sacado más\n",
    "\n",
    "#PRIMAVERA\n",
    "pintalab_pri_prim = pd.concat([pintalab_pri_pri, add1, add3], axis = 0)\n",
    "pintalab_pri_prim.drop_duplicates(inplace = True)\n",
    "pintalab_pri_prim['ID'] = [e for e in range(len(pintalab_pri_prim))]\n",
    "pintalab_pri_prim.set_index('ID', drop = True, inplace = True)\n",
    "\n",
    "#OTOÑO\n",
    "pintalab_oto_prim = pd.concat([pintalab_pri_pri, add1], axis = 0)\n",
    "pintalab_oto_prim.drop_duplicates(inplace = True)\n",
    "pintalab_oto_prim['ID'] = [e for e in range(len(pintalab_oto_prim))]\n",
    "pintalab_oto_prim.set_index('ID', drop = True, inplace = True)\n",
    "\n",
    "#INVIERNO\n",
    "pintalab_inv_prim = pd.concat([pintalab_pri_pri, add4], axis = 0)\n",
    "pintalab_inv_prim.drop_duplicates(inplace = True)\n",
    "pintalab_inv_prim['ID'] = [e for e in range(len(pintalab_inv_prim))]\n",
    "pintalab_inv_prim.set_index('ID', drop = True, inplace = True)\n",
    "\n",
    "#VERANO\n",
    "pintalab_ver_prim = pd.concat([pintalab_pri_pri, add5], axis = 0)\n",
    "pintalab_ver_prim.drop_duplicates(inplace = True)\n",
    "pintalab_ver_prim['ID'] = [e for e in range(len(pintalab_ver_prim))]\n",
    "pintalab_ver_prim.set_index('ID', drop = True, inplace = True)"
   ]
  },
  {
   "cell_type": "code",
   "execution_count": 410,
   "id": "07b41d1b",
   "metadata": {},
   "outputs": [],
   "source": [
    "pintalab_pri_prim['PALETA'] = 'PRIMAVERA'\n",
    "pintalab_oto_prim['PALETA'] = 'OTOÑO'\n",
    "pintalab_inv_prim['PALETA'] = 'INVIERNO'\n",
    "pintalab_ver_prim['PALETA'] = 'VERANO'"
   ]
  },
  {
   "cell_type": "code",
   "execution_count": 422,
   "id": "db60e539",
   "metadata": {},
   "outputs": [],
   "source": [
    "#Colorete\n",
    "def extraer(URL):\n",
    "    driver = webdriver.Chrome(PATH)\n",
    "    driver.get(URL)\n",
    "    \n",
    "    driver.execute_script('window.scrollTo(0, 3000);')  # 200px de scroll\n",
    "    time.sleep(5)\n",
    "    \n",
    "    filas = driver.find_elements(By.CLASS_NAME, 'df-card__content')\n",
    "    link = driver.find_elements(By.CLASS_NAME, 'df-card__main')\n",
    "    tmp = []\n",
    "    links = []\n",
    "\n",
    "    for e in filas:\n",
    "        tmp.append(e.text.split('\\n'))\n",
    "    \n",
    "    for e in link:\n",
    "        links.append(e.get_attribute('href'))\n",
    "    \n",
    "    cols = ['NOMBRE', 'TIPO', 'PRECIO']\n",
    "    \n",
    "    total = pd.DataFrame(tmp, columns = cols)\n",
    "    \n",
    "    total['LINKS'] = links\n",
    "    total['PRODUCTO'] = 'COLORETE'\n",
    "    \n",
    "    driver.quit()\n",
    "     \n",
    "    return total"
   ]
  },
  {
   "cell_type": "code",
   "execution_count": 19,
   "id": "c035284c",
   "metadata": {},
   "outputs": [],
   "source": [
    "links_blush_primor = ['https://www.primor.eu/3ina/66421-colorete-the-blush.html#/dfclassic/query=blush&filter%5Bbrand%5D%5B0%5D=MAC&session_id=e68b0b5ac1828fdb430ff5b492adb6e5&query_name=match_and',\\\n",
    "                     'https://www.primor.eu/#/dfclassic/query=blush&filter%5Bbrand%5D%5B0%5D=NARS&session_id=e68b0b5ac1828fdb430ff5b492adb6e5&query_name=match_and',\\\n",
    "                     'https://www.primor.eu/#/dfclassic/query=blush%20rosa&filter%5Bbrand%5D%5B0%5D=3ina&session_id=e68b0b5ac1828fdb430ff5b492adb6e5&query_name=match_and',\\\n",
    "                     'https://www.primor.eu/#/dfclassic/query=blush&filter%5Bbrand%5D%5B0%5D=Yves%20Saint%20Laurent&session_id=e68b0b5ac1828fdb430ff5b492adb6e5&query_name=match_and']"
   ]
  },
  {
   "cell_type": "code",
   "execution_count": 20,
   "id": "6e541764",
   "metadata": {},
   "outputs": [
    {
     "name": "stderr",
     "output_type": "stream",
     "text": [
      "[Parallel(n_jobs=4)]: Using backend LokyBackend with 4 concurrent workers.\n",
      "/var/folders/fg/hm_rz3k53fv5qf5dywc0bfwr0000gn/T/ipykernel_48607/2688360952.py:3: DeprecationWarning: executable_path has been deprecated, please pass in a Service object\n",
      "/var/folders/fg/hm_rz3k53fv5qf5dywc0bfwr0000gn/T/ipykernel_48607/2688360952.py:3: DeprecationWarning: executable_path has been deprecated, please pass in a Service object\n",
      "/var/folders/fg/hm_rz3k53fv5qf5dywc0bfwr0000gn/T/ipykernel_48607/2688360952.py:3: DeprecationWarning: executable_path has been deprecated, please pass in a Service object\n",
      "/var/folders/fg/hm_rz3k53fv5qf5dywc0bfwr0000gn/T/ipykernel_48607/2688360952.py:3: DeprecationWarning: executable_path has been deprecated, please pass in a Service object\n",
      "[Parallel(n_jobs=4)]: Done   2 out of   4 | elapsed:   35.4s remaining:   35.4s\n",
      "[Parallel(n_jobs=4)]: Done   4 out of   4 | elapsed:   43.1s finished\n"
     ]
    }
   ],
   "source": [
    "productos2 = Parallel(n_jobs=4, verbose=True)(delayed(extraer)(e) for e in links_blush_primor)"
   ]
  },
  {
   "cell_type": "code",
   "execution_count": 21,
   "id": "440a5c93",
   "metadata": {},
   "outputs": [],
   "source": [
    "blush_pri_prim = productos1[0] \n",
    "blush_ver_prim = productos1[1] \n",
    "blush_inv_prim = productos1[2] \n",
    "blush_oto_prim = productos1[3]"
   ]
  },
  {
   "cell_type": "code",
   "execution_count": 437,
   "id": "72edf724",
   "metadata": {},
   "outputs": [],
   "source": [
    "blush_pri_prim['PALETA'] = 'PRIMAVERA'\n",
    "blush_ver_prim['PALETA'] = 'VERANO'\n",
    "blush_inv_prim['PALETA'] = 'INVIERNO'\n",
    "blush_oto_prim['PALETA'] = 'OTOÑO'"
   ]
  },
  {
   "cell_type": "code",
   "execution_count": 438,
   "id": "3d425cda",
   "metadata": {},
   "outputs": [],
   "source": [
    "maquillaje_primor = pd.concat([sombras_pri_prim, sombras_ver_prim, sombras_oto_prim, sombras_inv_prim, \\\n",
    "                              pintalab_pri_prim, pintalab_ver_prim, pintalab_oto_prim, pintalab_inv_prim, \\\n",
    "                              blush_pri_prim, blush_ver_prim, blush_oto_prim, blush_inv_prim])"
   ]
  },
  {
   "cell_type": "code",
   "execution_count": 439,
   "id": "ae8847bb",
   "metadata": {},
   "outputs": [],
   "source": [
    "maquillaje_primor.drop('TIPO', axis = 1, inplace = True)"
   ]
  },
  {
   "cell_type": "code",
   "execution_count": 440,
   "id": "749460e9",
   "metadata": {},
   "outputs": [],
   "source": [
    "def limpiar_precios(columna):\n",
    "    return columna.split()[0]"
   ]
  },
  {
   "cell_type": "code",
   "execution_count": 452,
   "id": "9941aa47",
   "metadata": {},
   "outputs": [],
   "source": [
    "p = []\n",
    "for e in maquillaje_primor.PRECIO:\n",
    "    if ',' in e:\n",
    "        p.append(e.replace(',', '.'))\n",
    "        \n",
    "        \n",
    "maquillaje_primor.PRECIO = p"
   ]
  },
  {
   "cell_type": "code",
   "execution_count": 454,
   "id": "91214c22",
   "metadata": {},
   "outputs": [],
   "source": [
    "maquillaje_primor.rename(columns = {'PRECIO': 'PRECIO (€)'}, inplace = True ) "
   ]
  },
  {
   "cell_type": "code",
   "execution_count": 441,
   "id": "f614e812",
   "metadata": {},
   "outputs": [],
   "source": [
    "maquillaje_primor.PRECIO = maquillaje_primor.PRECIO.apply(limpiar_precios)"
   ]
  },
  {
   "cell_type": "code",
   "execution_count": 442,
   "id": "91d8c6db",
   "metadata": {},
   "outputs": [
    {
     "name": "stdout",
     "output_type": "stream",
     "text": [
      "<class 'pandas.core.frame.DataFrame'>\n",
      "Int64Index: 543 entries, 0 to 29\n",
      "Data columns (total 5 columns):\n",
      " #   Column    Non-Null Count  Dtype \n",
      "---  ------    --------------  ----- \n",
      " 0   NOMBRE    543 non-null    object\n",
      " 1   PRECIO    543 non-null    object\n",
      " 2   LINKS     543 non-null    object\n",
      " 3   PRODUCTO  543 non-null    object\n",
      " 4   PALETA    543 non-null    object\n",
      "dtypes: object(5)\n",
      "memory usage: 25.5+ KB\n"
     ]
    }
   ],
   "source": [
    "maquillaje_primor.info()"
   ]
  },
  {
   "cell_type": "code",
   "execution_count": 443,
   "id": "af538111",
   "metadata": {},
   "outputs": [],
   "source": [
    "#Añadimos la columna 'TIENDA' para indicar dónde comprar los productos\n",
    "maquillaje_primor['TIENDA'] = 'PRIMOR'"
   ]
  },
  {
   "cell_type": "code",
   "execution_count": 463,
   "id": "879e21f0",
   "metadata": {},
   "outputs": [],
   "source": [
    "#Cambiamos el tipo de dato a nuestro nuevo dataframe\n",
    "maquillaje_primor[['NOMBRE', 'LINKS', 'PRODUCTO', 'PALETA', 'TIENDA']] = maquillaje_primor[['NOMBRE', 'LINKS', 'PRODUCTO', 'PALETA', 'TIENDA']].astype('category')\n",
    "maquillaje_primor['PRECIO (€)'] = maquillaje_primor['PRECIO (€)'].astype('float')"
   ]
  },
  {
   "cell_type": "code",
   "execution_count": 464,
   "id": "ce1a3a3e",
   "metadata": {},
   "outputs": [
    {
     "name": "stdout",
     "output_type": "stream",
     "text": [
      "<class 'pandas.core.frame.DataFrame'>\n",
      "Int64Index: 543 entries, 0 to 29\n",
      "Data columns (total 6 columns):\n",
      " #   Column      Non-Null Count  Dtype   \n",
      "---  ------      --------------  -----   \n",
      " 0   NOMBRE      543 non-null    category\n",
      " 1   PRECIO (€)  543 non-null    float64 \n",
      " 2   LINKS       543 non-null    category\n",
      " 3   PRODUCTO    543 non-null    category\n",
      " 4   PALETA      543 non-null    category\n",
      " 5   TIENDA      543 non-null    category\n",
      "dtypes: category(5), float64(1)\n",
      "memory usage: 28.8 KB\n"
     ]
    }
   ],
   "source": [
    "maquillaje_primor.info()"
   ]
  },
  {
   "cell_type": "markdown",
   "id": "9d11e1a4",
   "metadata": {},
   "source": [
    "# **2 - EXTRACCIÓN DE DATOS DE SOMBRAS Y COLORETES DE URBAN DECAY**"
   ]
  },
  {
   "cell_type": "code",
   "execution_count": 22,
   "id": "0649778e",
   "metadata": {},
   "outputs": [
    {
     "name": "stderr",
     "output_type": "stream",
     "text": [
      "2022-12-12 10:59:17,915 [48607] WARNING  py.warnings:109: [JupyterRequire] /var/folders/fg/hm_rz3k53fv5qf5dywc0bfwr0000gn/T/ipykernel_48607/235325829.py:3: DeprecationWarning: executable_path has been deprecated, please pass in a Service object\n",
      "  driver=webdriver.Chrome(PATH)\n",
      "\n"
     ]
    }
   ],
   "source": [
    "PATH=ChromeDriverManager().install()\n",
    "\n",
    "driver=webdriver.Chrome(PATH)  "
   ]
  },
  {
   "cell_type": "code",
   "execution_count": 23,
   "id": "72198402",
   "metadata": {},
   "outputs": [],
   "source": [
    "URL = 'https://www.urbandecay.com/eyeshadow/?prefn1=taxonomyColorEye&prefv1=BLACK%7CBLUE%7CBOLD%7CBROWN%7CCOOL%7CNEUTRALS%7CPLUMS%7CPURPLE%7CRED%7CSIENNA%7CSILVER%7CSMOKEY%7CTAUPE&start=0&sz=12#view-mode=grid'\n",
    "driver.get(URL)"
   ]
  },
  {
   "cell_type": "code",
   "execution_count": 24,
   "id": "22f72982",
   "metadata": {},
   "outputs": [
    {
     "ename": "IndexError",
     "evalue": "list index out of range",
     "output_type": "error",
     "traceback": [
      "\u001b[0;31m---------------------------------------------------------------------------\u001b[0m",
      "\u001b[0;31mIndexError\u001b[0m                                Traceback (most recent call last)",
      "Input \u001b[0;32mIn [24]\u001b[0m, in \u001b[0;36m<cell line: 7>\u001b[0;34m()\u001b[0m\n\u001b[1;32m      5\u001b[0m links \u001b[38;5;241m=\u001b[39m [e\u001b[38;5;241m.\u001b[39mget_attribute(\u001b[38;5;124m'\u001b[39m\u001b[38;5;124mhref\u001b[39m\u001b[38;5;124m'\u001b[39m) \u001b[38;5;28;01mfor\u001b[39;00m e \u001b[38;5;129;01min\u001b[39;00m links1]\n\u001b[1;32m      6\u001b[0m precio \u001b[38;5;241m=\u001b[39m driver\u001b[38;5;241m.\u001b[39mfind_elements(By\u001b[38;5;241m.\u001b[39mCLASS_NAME, \u001b[38;5;124m'\u001b[39m\u001b[38;5;124mc-product-tile__price\u001b[39m\u001b[38;5;124m'\u001b[39m) \n\u001b[0;32m----> 7\u001b[0m precios \u001b[38;5;241m=\u001b[39m [e\u001b[38;5;241m.\u001b[39mtext\u001b[38;5;241m.\u001b[39msplit()[\u001b[38;5;241m-\u001b[39m\u001b[38;5;241m1\u001b[39m] \u001b[38;5;28;01mfor\u001b[39;00m e \u001b[38;5;129;01min\u001b[39;00m precio]\n",
      "Input \u001b[0;32mIn [24]\u001b[0m, in \u001b[0;36m<listcomp>\u001b[0;34m(.0)\u001b[0m\n\u001b[1;32m      5\u001b[0m links \u001b[38;5;241m=\u001b[39m [e\u001b[38;5;241m.\u001b[39mget_attribute(\u001b[38;5;124m'\u001b[39m\u001b[38;5;124mhref\u001b[39m\u001b[38;5;124m'\u001b[39m) \u001b[38;5;28;01mfor\u001b[39;00m e \u001b[38;5;129;01min\u001b[39;00m links1]\n\u001b[1;32m      6\u001b[0m precio \u001b[38;5;241m=\u001b[39m driver\u001b[38;5;241m.\u001b[39mfind_elements(By\u001b[38;5;241m.\u001b[39mCLASS_NAME, \u001b[38;5;124m'\u001b[39m\u001b[38;5;124mc-product-tile__price\u001b[39m\u001b[38;5;124m'\u001b[39m) \n\u001b[0;32m----> 7\u001b[0m precios \u001b[38;5;241m=\u001b[39m [\u001b[43me\u001b[49m\u001b[38;5;241;43m.\u001b[39;49m\u001b[43mtext\u001b[49m\u001b[38;5;241;43m.\u001b[39;49m\u001b[43msplit\u001b[49m\u001b[43m(\u001b[49m\u001b[43m)\u001b[49m\u001b[43m[\u001b[49m\u001b[38;5;241;43m-\u001b[39;49m\u001b[38;5;241;43m1\u001b[39;49m\u001b[43m]\u001b[49m \u001b[38;5;28;01mfor\u001b[39;00m e \u001b[38;5;129;01min\u001b[39;00m precio]\n",
      "\u001b[0;31mIndexError\u001b[0m: list index out of range"
     ]
    }
   ],
   "source": [
    "#Investigamos dónde podemos scrappear los datos que necesitamos\n",
    "prueba = driver.find_elements(By.CLASS_NAME, 'c-product-tile__caption-inner')\n",
    "nombres = driver.find_element(By.CLASS_NAME, 'c-product-tile__name').text\n",
    "links1 = driver.find_elements(By.CLASS_NAME, 'c-product-image__link')\n",
    "links = [e.get_attribute('href') for e in links1]\n",
    "precio = driver.find_elements(By.CLASS_NAME, 'c-product-tile__price') \n",
    "#precios = [e.text.split()[-1] for e in precio]\n"
   ]
  },
  {
   "cell_type": "code",
   "execution_count": 25,
   "id": "06717bc5",
   "metadata": {},
   "outputs": [],
   "source": [
    "#SOMBBRAS\n",
    "def extraer(URL):\n",
    "    PATH=ChromeDriverManager().install()\n",
    "    driver = webdriver.Chrome(PATH)\n",
    "    driver.get(URL)\n",
    "    \n",
    "    time.sleep(5)\n",
    "    driver.find_element(By.CSS_SELECTOR, 'body>div.c-modal.h-text-align-center.m-borderless.m-autosize-large.m-image.m-opened.h-fade-in>div>button').click() \n",
    "    time.sleep(5)\n",
    "    driver.execute_script('window.scrollTo(0, 3000);')  # 200px de scroll\n",
    "    time.sleep(5)\n",
    "    nombre = driver.find_elements(By.CLASS_NAME, 'c-product-tile__name') #nombre\n",
    "    time.sleep(5)\n",
    "    precio = driver.find_elements(By.CLASS_NAME, 'c-product-tile__price') #precio\n",
    "    time.sleep(5)\n",
    "    links1 = driver.find_elements(By.CLASS_NAME, 'c-product-image__link') #links\n",
    "        \n",
    "    tmp = [e.text for e in nombre]\n",
    "    \n",
    "    precios = [e.text.split('\\n')[-1] for e in precio]\n",
    "    \n",
    "    links = [e.get_attribute('href') for e in links1]\n",
    "    \n",
    "    cols = ['NOMBRE']\n",
    "    \n",
    "    total = pd.DataFrame(tmp, columns = cols)\n",
    "    \n",
    "    total['PRECIO'] = precios\n",
    "    total['LINKS'] = links\n",
    "    total['PRODUCTO'] = 'SOMBRAS DE OJOS'\n",
    "    \n",
    "    driver.quit()\n",
    "    \n",
    "    return total"
   ]
  },
  {
   "cell_type": "code",
   "execution_count": 26,
   "id": "5c859fb4",
   "metadata": {},
   "outputs": [],
   "source": [
    "URL = 'https://www.urbandecay.com/naked-palettes/?start=0&sz=18'"
   ]
  },
  {
   "cell_type": "code",
   "execution_count": 27,
   "id": "fe20ec06",
   "metadata": {
    "scrolled": true
   },
   "outputs": [
    {
     "name": "stderr",
     "output_type": "stream",
     "text": [
      "2022-12-12 11:00:04,873 [48607] WARNING  py.warnings:109: [JupyterRequire] /var/folders/fg/hm_rz3k53fv5qf5dywc0bfwr0000gn/T/ipykernel_48607/2965688531.py:4: DeprecationWarning: executable_path has been deprecated, please pass in a Service object\n",
      "  driver = webdriver.Chrome(PATH)\n",
      "\n"
     ]
    }
   ],
   "source": [
    "sombras_ud = extraer(URL)"
   ]
  },
  {
   "cell_type": "code",
   "execution_count": 28,
   "id": "cfc56fab",
   "metadata": {},
   "outputs": [],
   "source": [
    "sombras_ud.drop_duplicates(inplace = True)\n",
    "sombras_ud = sombras_ud[0:14] "
   ]
  },
  {
   "cell_type": "code",
   "execution_count": 29,
   "id": "fbb84d7d",
   "metadata": {},
   "outputs": [],
   "source": [
    "#Añadimos los valores de las paletas en función de los colores de las sombras\n",
    "\n",
    "sombras_ud['PALETA'] = ['PRIMAVERA', 'PRIMAVERA / OTOÑO', 'OTOÑO / INVIERNO', 'VERANO', 'TODAS', 'PRIMAVERA / VERANO',\\\n",
    "                  'OTOÑO', 'PRIMAVERA / VERANO', 'OTOÑO / INVIERNO', 'PRIMAVERA', 'PRIMAVERA / INVIERNO', 'PRIMAVERA',\\\n",
    "                  'PRIMAVERA / OTOÑO / INVIERNO', 'OTOÑO / INVIERNO']"
   ]
  },
  {
   "cell_type": "code",
   "execution_count": 30,
   "id": "73836ce5",
   "metadata": {},
   "outputs": [],
   "source": [
    "#COLORETE\n",
    "def extraer(URL):\n",
    "    PATH=ChromeDriverManager().install()\n",
    "    driver = webdriver.Chrome(PATH)\n",
    "    driver.get(URL)\n",
    "    \n",
    "    time.sleep(5)\n",
    "    driver.find_element(By.CSS_SELECTOR, 'body>div.c-modal.h-text-align-center.m-borderless.m-autosize-large.m-image.m-opened.h-fade-in>div>button').click() \n",
    "    time.sleep(5)\n",
    "    driver.execute_script('window.scrollTo(0, 3000);')  # 200px de scroll\n",
    "    time.sleep(5)\n",
    "    nombre = driver.find_elements(By.CLASS_NAME, 'c-product-tile__name') #nombre\n",
    "    time.sleep(5)\n",
    "    precio = driver.find_elements(By.CLASS_NAME, 'c-product-tile__price') #precio\n",
    "    time.sleep(5)\n",
    "    links1 = driver.find_elements(By.CLASS_NAME, 'c-product-image__link') #links\n",
    "        \n",
    "    tmp = [e.text for e in nombre]\n",
    "    \n",
    "    precios = [e.text.split('\\n')[-1] for e in precio]\n",
    "    \n",
    "    links = [e.get_attribute('href') for e in links1]\n",
    "    \n",
    "    cols = ['NOMBRE']\n",
    "    \n",
    "    total = pd.DataFrame(tmp, columns = cols)\n",
    "    \n",
    "    total['PRECIO'] = precios\n",
    "    total['LINKS'] = links\n",
    "    total['PRODUCTO'] = 'COLORETE'\n",
    "    \n",
    "    driver.quit()\n",
    "    \n",
    "    return total"
   ]
  },
  {
   "cell_type": "code",
   "execution_count": 31,
   "id": "f8855b6a",
   "metadata": {
    "scrolled": true
   },
   "outputs": [
    {
     "name": "stderr",
     "output_type": "stream",
     "text": [
      "2022-12-12 11:00:48,393 [48607] WARNING  py.warnings:109: [JupyterRequire] /var/folders/fg/hm_rz3k53fv5qf5dywc0bfwr0000gn/T/ipykernel_48607/169910402.py:4: DeprecationWarning: executable_path has been deprecated, please pass in a Service object\n",
      "  driver = webdriver.Chrome(PATH)\n",
      "\n"
     ]
    }
   ],
   "source": [
    "blush_ud = extraer('https://www.urbandecay.com/blush-bronzer-highlighter/')"
   ]
  },
  {
   "cell_type": "code",
   "execution_count": 32,
   "id": "aae75e69",
   "metadata": {},
   "outputs": [
    {
     "data": {
      "text/html": [
       "<div>\n",
       "<style scoped>\n",
       "    .dataframe tbody tr th:only-of-type {\n",
       "        vertical-align: middle;\n",
       "    }\n",
       "\n",
       "    .dataframe tbody tr th {\n",
       "        vertical-align: top;\n",
       "    }\n",
       "\n",
       "    .dataframe thead th {\n",
       "        text-align: right;\n",
       "    }\n",
       "</style>\n",
       "<table border=\"1\" class=\"dataframe\">\n",
       "  <thead>\n",
       "    <tr style=\"text-align: right;\">\n",
       "      <th></th>\n",
       "      <th>NOMBRE</th>\n",
       "      <th>PRECIO</th>\n",
       "      <th>LINKS</th>\n",
       "      <th>PRODUCTO</th>\n",
       "    </tr>\n",
       "  </thead>\n",
       "  <tbody>\n",
       "    <tr>\n",
       "      <th>0</th>\n",
       "      <td>STAY NAKED THREESOME BRONZE, BLUSH, AND HIGHLI...</td>\n",
       "      <td>$37.00</td>\n",
       "      <td>https://www.urbandecay.com/threesome-by-urban-...</td>\n",
       "      <td>COLORETE</td>\n",
       "    </tr>\n",
       "    <tr>\n",
       "      <th>1</th>\n",
       "      <td>BEACHED BRONZER</td>\n",
       "      <td>$31.00</td>\n",
       "      <td>https://www.urbandecay.com/beached-bronzer-by-...</td>\n",
       "      <td>COLORETE</td>\n",
       "    </tr>\n",
       "    <tr>\n",
       "      <th>2</th>\n",
       "      <td>NAKED3 EYESHADOW PALETTE</td>\n",
       "      <td>$27.00</td>\n",
       "      <td>https://www.urbandecay.com/naked-3-palette-by-...</td>\n",
       "      <td>COLORETE</td>\n",
       "    </tr>\n",
       "    <tr>\n",
       "      <th>3</th>\n",
       "      <td>NAKED RELOADED EYESHADOW PALETTE</td>\n",
       "      <td>$22.00</td>\n",
       "      <td>https://www.urbandecay.com/naked-reloaded-urba...</td>\n",
       "      <td>COLORETE</td>\n",
       "    </tr>\n",
       "    <tr>\n",
       "      <th>4</th>\n",
       "      <td>NAKED HEAT EYESHADOW PALETTE</td>\n",
       "      <td>$27.00</td>\n",
       "      <td>https://www.urbandecay.com/naked-heat-eyeshado...</td>\n",
       "      <td>COLORETE</td>\n",
       "    </tr>\n",
       "    <tr>\n",
       "      <th>5</th>\n",
       "      <td>24/7 GLIDE-ON WATERPROOF EYELINER PENCIL</td>\n",
       "      <td>$11.50</td>\n",
       "      <td>https://www.urbandecay.com/24-7-glide-on-eye-p...</td>\n",
       "      <td>COLORETE</td>\n",
       "    </tr>\n",
       "    <tr>\n",
       "      <th>6</th>\n",
       "      <td></td>\n",
       "      <td></td>\n",
       "      <td>https://www.urbandecay.com/all-nighter-setting...</td>\n",
       "      <td>COLORETE</td>\n",
       "    </tr>\n",
       "    <tr>\n",
       "      <th>7</th>\n",
       "      <td></td>\n",
       "      <td></td>\n",
       "      <td>https://www.urbandecay.com/naked-honey-eyeshad...</td>\n",
       "      <td>COLORETE</td>\n",
       "    </tr>\n",
       "    <tr>\n",
       "      <th>8</th>\n",
       "      <td></td>\n",
       "      <td></td>\n",
       "      <td>https://www.urbandecay.com/eyeshadow-primer-po...</td>\n",
       "      <td>COLORETE</td>\n",
       "    </tr>\n",
       "    <tr>\n",
       "      <th>9</th>\n",
       "      <td></td>\n",
       "      <td></td>\n",
       "      <td>https://www.urbandecay.com/urban-decay-cosmeti...</td>\n",
       "      <td>COLORETE</td>\n",
       "    </tr>\n",
       "  </tbody>\n",
       "</table>\n",
       "</div>"
      ],
      "text/plain": [
       "                                              NOMBRE  PRECIO  \\\n",
       "0  STAY NAKED THREESOME BRONZE, BLUSH, AND HIGHLI...  $37.00   \n",
       "1                                    BEACHED BRONZER  $31.00   \n",
       "2                           NAKED3 EYESHADOW PALETTE  $27.00   \n",
       "3                   NAKED RELOADED EYESHADOW PALETTE  $22.00   \n",
       "4                       NAKED HEAT EYESHADOW PALETTE  $27.00   \n",
       "5           24/7 GLIDE-ON WATERPROOF EYELINER PENCIL  $11.50   \n",
       "6                                                              \n",
       "7                                                              \n",
       "8                                                              \n",
       "9                                                              \n",
       "\n",
       "                                               LINKS  PRODUCTO  \n",
       "0  https://www.urbandecay.com/threesome-by-urban-...  COLORETE  \n",
       "1  https://www.urbandecay.com/beached-bronzer-by-...  COLORETE  \n",
       "2  https://www.urbandecay.com/naked-3-palette-by-...  COLORETE  \n",
       "3  https://www.urbandecay.com/naked-reloaded-urba...  COLORETE  \n",
       "4  https://www.urbandecay.com/naked-heat-eyeshado...  COLORETE  \n",
       "5  https://www.urbandecay.com/24-7-glide-on-eye-p...  COLORETE  \n",
       "6  https://www.urbandecay.com/all-nighter-setting...  COLORETE  \n",
       "7  https://www.urbandecay.com/naked-honey-eyeshad...  COLORETE  \n",
       "8  https://www.urbandecay.com/eyeshadow-primer-po...  COLORETE  \n",
       "9  https://www.urbandecay.com/urban-decay-cosmeti...  COLORETE  "
      ]
     },
     "execution_count": 32,
     "metadata": {},
     "output_type": "execute_result"
    }
   ],
   "source": [
    "blush_ud "
   ]
  },
  {
   "cell_type": "code",
   "execution_count": 33,
   "id": "7e722716",
   "metadata": {},
   "outputs": [
    {
     "name": "stderr",
     "output_type": "stream",
     "text": [
      "2022-12-12 11:01:22,134 [48607] WARNING  py.warnings:109: [JupyterRequire] /var/folders/fg/hm_rz3k53fv5qf5dywc0bfwr0000gn/T/ipykernel_48607/3659531634.py:2: SettingWithCopyWarning: \n",
      "A value is trying to be set on a copy of a slice from a DataFrame\n",
      "\n",
      "See the caveats in the documentation: https://pandas.pydata.org/pandas-docs/stable/user_guide/indexing.html#returning-a-view-versus-a-copy\n",
      "  blush_ud.drop_duplicates(inplace = True)\n",
      "\n",
      "2022-12-12 11:01:22,165 [48607] WARNING  py.warnings:109: [JupyterRequire] /var/folders/fg/hm_rz3k53fv5qf5dywc0bfwr0000gn/T/ipykernel_48607/3659531634.py:3: SettingWithCopyWarning: \n",
      "A value is trying to be set on a copy of a slice from a DataFrame.\n",
      "Try using .loc[row_indexer,col_indexer] = value instead\n",
      "\n",
      "See the caveats in the documentation: https://pandas.pydata.org/pandas-docs/stable/user_guide/indexing.html#returning-a-view-versus-a-copy\n",
      "  blush_ud['PALETA'] = ['VERANO / INVIERNO', 'TODAS']\n",
      "\n"
     ]
    }
   ],
   "source": [
    "blush_ud = blush_ud[0:2]\n",
    "blush_ud.drop_duplicates(inplace = True)\n",
    "blush_ud['PALETA'] = ['VERANO / INVIERNO', 'TODAS']\n"
   ]
  },
  {
   "cell_type": "code",
   "execution_count": 501,
   "id": "c0c1233a",
   "metadata": {},
   "outputs": [],
   "source": [
    "mu_ud = pd.concat([sombras_ud, blush_ud], axis = 0)"
   ]
  },
  {
   "cell_type": "code",
   "execution_count": 502,
   "id": "b3447106",
   "metadata": {
    "scrolled": true
   },
   "outputs": [
    {
     "data": {
      "text/html": [
       "<div>\n",
       "<style scoped>\n",
       "    .dataframe tbody tr th:only-of-type {\n",
       "        vertical-align: middle;\n",
       "    }\n",
       "\n",
       "    .dataframe tbody tr th {\n",
       "        vertical-align: top;\n",
       "    }\n",
       "\n",
       "    .dataframe thead th {\n",
       "        text-align: right;\n",
       "    }\n",
       "</style>\n",
       "<table border=\"1\" class=\"dataframe\">\n",
       "  <thead>\n",
       "    <tr style=\"text-align: right;\">\n",
       "      <th></th>\n",
       "      <th>NOMBRE</th>\n",
       "      <th>PRECIO</th>\n",
       "      <th>LINKS</th>\n",
       "      <th>PRODUCTO</th>\n",
       "      <th>PALETA</th>\n",
       "    </tr>\n",
       "  </thead>\n",
       "  <tbody>\n",
       "    <tr>\n",
       "      <th>0</th>\n",
       "      <td>NAKED3 EYESHADOW PALETTE</td>\n",
       "      <td>$27.00</td>\n",
       "      <td>https://www.urbandecay.com/naked-3-palette-by-...</td>\n",
       "      <td>SOMBRAS DE OJOS</td>\n",
       "      <td>PRIMAVERA</td>\n",
       "    </tr>\n",
       "    <tr>\n",
       "      <th>1</th>\n",
       "      <td>NAKED RELOADED EYESHADOW PALETTE</td>\n",
       "      <td>$22.00</td>\n",
       "      <td>https://www.urbandecay.com/naked-reloaded-urba...</td>\n",
       "      <td>SOMBRAS DE OJOS</td>\n",
       "      <td>PRIMAVERA / OTOÑO</td>\n",
       "    </tr>\n",
       "    <tr>\n",
       "      <th>2</th>\n",
       "      <td>NAKED HEAT EYESHADOW PALETTE</td>\n",
       "      <td>$27.00</td>\n",
       "      <td>https://www.urbandecay.com/naked-heat-eyeshado...</td>\n",
       "      <td>SOMBRAS DE OJOS</td>\n",
       "      <td>OTOÑO / INVIERNO</td>\n",
       "    </tr>\n",
       "    <tr>\n",
       "      <th>3</th>\n",
       "      <td>NAKED HONEY EYESHADOW PALETTE</td>\n",
       "      <td>$24.50</td>\n",
       "      <td>https://www.urbandecay.com/naked-honey-eyeshad...</td>\n",
       "      <td>SOMBRAS DE OJOS</td>\n",
       "      <td>VERANO</td>\n",
       "    </tr>\n",
       "    <tr>\n",
       "      <th>4</th>\n",
       "      <td>LET'S GET NAKED SET</td>\n",
       "      <td>$175.00</td>\n",
       "      <td>https://www.urbandecay.com/lets-get-naked-set-...</td>\n",
       "      <td>SOMBRAS DE OJOS</td>\n",
       "      <td>TODAS</td>\n",
       "    </tr>\n",
       "    <tr>\n",
       "      <th>5</th>\n",
       "      <td>UD X ROBIN EISENBERG ARTIST COLLAB HOLIDAY MAK...</td>\n",
       "      <td>$49.00</td>\n",
       "      <td>https://www.urbandecay.com/robin-eisenberg-hol...</td>\n",
       "      <td>SOMBRAS DE OJOS</td>\n",
       "      <td>PRIMAVERA / VERANO</td>\n",
       "    </tr>\n",
       "    <tr>\n",
       "      <th>6</th>\n",
       "      <td>NAKED WILD WEST MINI EYESHADOW PALETTE</td>\n",
       "      <td>$18.90</td>\n",
       "      <td>https://www.urbandecay.com/naked-wild-west-min...</td>\n",
       "      <td>SOMBRAS DE OJOS</td>\n",
       "      <td>OTOÑO</td>\n",
       "    </tr>\n",
       "    <tr>\n",
       "      <th>7</th>\n",
       "      <td>NAKED X ROBIN EISENBERG EYESHADOW PALETTE</td>\n",
       "      <td>$27.00</td>\n",
       "      <td>https://www.urbandecay.com/robin-eisenberg-nak...</td>\n",
       "      <td>SOMBRAS DE OJOS</td>\n",
       "      <td>PRIMAVERA / VERANO</td>\n",
       "    </tr>\n",
       "    <tr>\n",
       "      <th>8</th>\n",
       "      <td>NAKED WILD WEST EYESHADOW PALETTE</td>\n",
       "      <td>$24.50</td>\n",
       "      <td>https://www.urbandecay.com/urban-decay-cosmeti...</td>\n",
       "      <td>SOMBRAS DE OJOS</td>\n",
       "      <td>OTOÑO / INVIERNO</td>\n",
       "    </tr>\n",
       "    <tr>\n",
       "      <th>9</th>\n",
       "      <td>NAKED3 MINI EYESHADOW PALETTE</td>\n",
       "      <td>$29.00</td>\n",
       "      <td>https://www.urbandecay.com/naked3-mini-eyeshad...</td>\n",
       "      <td>SOMBRAS DE OJOS</td>\n",
       "      <td>PRIMAVERA</td>\n",
       "    </tr>\n",
       "    <tr>\n",
       "      <th>10</th>\n",
       "      <td>NAKED2 BASICS EYESHADOW PALETTE</td>\n",
       "      <td>$29.00</td>\n",
       "      <td>https://www.urbandecay.com/naked-2-basics-pale...</td>\n",
       "      <td>SOMBRAS DE OJOS</td>\n",
       "      <td>PRIMAVERA / INVIERNO</td>\n",
       "    </tr>\n",
       "    <tr>\n",
       "      <th>11</th>\n",
       "      <td>NAKED SIN MINI EYESHADOW PALETTE</td>\n",
       "      <td>$29.00</td>\n",
       "      <td>https://www.urbandecay.com/naked-sin-eyeshadow...</td>\n",
       "      <td>SOMBRAS DE OJOS</td>\n",
       "      <td>PRIMAVERA</td>\n",
       "    </tr>\n",
       "    <tr>\n",
       "      <th>12</th>\n",
       "      <td>NAKED HALF-BAKED MINI EYESHADOW PALETTE</td>\n",
       "      <td>$29.00</td>\n",
       "      <td>https://www.urbandecay.com/naked-half--baked-e...</td>\n",
       "      <td>SOMBRAS DE OJOS</td>\n",
       "      <td>PRIMAVERA / OTOÑO / INVIERNO</td>\n",
       "    </tr>\n",
       "    <tr>\n",
       "      <th>13</th>\n",
       "      <td>NAKED FOXY MINI EYESHADOW PALETTE</td>\n",
       "      <td>$29.00</td>\n",
       "      <td>https://www.urbandecay.com/naked-foxy-eyeshado...</td>\n",
       "      <td>SOMBRAS DE OJOS</td>\n",
       "      <td>OTOÑO / INVIERNO</td>\n",
       "    </tr>\n",
       "    <tr>\n",
       "      <th>0</th>\n",
       "      <td>STAY NAKED THREESOME BRONZE, BLUSH, AND HIGHLI...</td>\n",
       "      <td>$37.00</td>\n",
       "      <td>https://www.urbandecay.com/threesome-by-urban-...</td>\n",
       "      <td>COLORETE</td>\n",
       "      <td>VERANO / INVIERNO</td>\n",
       "    </tr>\n",
       "    <tr>\n",
       "      <th>1</th>\n",
       "      <td>BEACHED BRONZER</td>\n",
       "      <td>$31.00</td>\n",
       "      <td>https://www.urbandecay.com/beached-bronzer-by-...</td>\n",
       "      <td>COLORETE</td>\n",
       "      <td>TODAS</td>\n",
       "    </tr>\n",
       "  </tbody>\n",
       "</table>\n",
       "</div>"
      ],
      "text/plain": [
       "                                               NOMBRE   PRECIO  \\\n",
       "0                            NAKED3 EYESHADOW PALETTE   $27.00   \n",
       "1                    NAKED RELOADED EYESHADOW PALETTE   $22.00   \n",
       "2                        NAKED HEAT EYESHADOW PALETTE   $27.00   \n",
       "3                       NAKED HONEY EYESHADOW PALETTE   $24.50   \n",
       "4                                 LET'S GET NAKED SET  $175.00   \n",
       "5   UD X ROBIN EISENBERG ARTIST COLLAB HOLIDAY MAK...   $49.00   \n",
       "6              NAKED WILD WEST MINI EYESHADOW PALETTE   $18.90   \n",
       "7           NAKED X ROBIN EISENBERG EYESHADOW PALETTE   $27.00   \n",
       "8                   NAKED WILD WEST EYESHADOW PALETTE   $24.50   \n",
       "9                       NAKED3 MINI EYESHADOW PALETTE   $29.00   \n",
       "10                    NAKED2 BASICS EYESHADOW PALETTE   $29.00   \n",
       "11                   NAKED SIN MINI EYESHADOW PALETTE   $29.00   \n",
       "12            NAKED HALF-BAKED MINI EYESHADOW PALETTE   $29.00   \n",
       "13                  NAKED FOXY MINI EYESHADOW PALETTE   $29.00   \n",
       "0   STAY NAKED THREESOME BRONZE, BLUSH, AND HIGHLI...   $37.00   \n",
       "1                                     BEACHED BRONZER   $31.00   \n",
       "\n",
       "                                                LINKS         PRODUCTO  \\\n",
       "0   https://www.urbandecay.com/naked-3-palette-by-...  SOMBRAS DE OJOS   \n",
       "1   https://www.urbandecay.com/naked-reloaded-urba...  SOMBRAS DE OJOS   \n",
       "2   https://www.urbandecay.com/naked-heat-eyeshado...  SOMBRAS DE OJOS   \n",
       "3   https://www.urbandecay.com/naked-honey-eyeshad...  SOMBRAS DE OJOS   \n",
       "4   https://www.urbandecay.com/lets-get-naked-set-...  SOMBRAS DE OJOS   \n",
       "5   https://www.urbandecay.com/robin-eisenberg-hol...  SOMBRAS DE OJOS   \n",
       "6   https://www.urbandecay.com/naked-wild-west-min...  SOMBRAS DE OJOS   \n",
       "7   https://www.urbandecay.com/robin-eisenberg-nak...  SOMBRAS DE OJOS   \n",
       "8   https://www.urbandecay.com/urban-decay-cosmeti...  SOMBRAS DE OJOS   \n",
       "9   https://www.urbandecay.com/naked3-mini-eyeshad...  SOMBRAS DE OJOS   \n",
       "10  https://www.urbandecay.com/naked-2-basics-pale...  SOMBRAS DE OJOS   \n",
       "11  https://www.urbandecay.com/naked-sin-eyeshadow...  SOMBRAS DE OJOS   \n",
       "12  https://www.urbandecay.com/naked-half--baked-e...  SOMBRAS DE OJOS   \n",
       "13  https://www.urbandecay.com/naked-foxy-eyeshado...  SOMBRAS DE OJOS   \n",
       "0   https://www.urbandecay.com/threesome-by-urban-...         COLORETE   \n",
       "1   https://www.urbandecay.com/beached-bronzer-by-...         COLORETE   \n",
       "\n",
       "                          PALETA  \n",
       "0                      PRIMAVERA  \n",
       "1              PRIMAVERA / OTOÑO  \n",
       "2               OTOÑO / INVIERNO  \n",
       "3                         VERANO  \n",
       "4                          TODAS  \n",
       "5             PRIMAVERA / VERANO  \n",
       "6                          OTOÑO  \n",
       "7             PRIMAVERA / VERANO  \n",
       "8               OTOÑO / INVIERNO  \n",
       "9                      PRIMAVERA  \n",
       "10          PRIMAVERA / INVIERNO  \n",
       "11                     PRIMAVERA  \n",
       "12  PRIMAVERA / OTOÑO / INVIERNO  \n",
       "13              OTOÑO / INVIERNO  \n",
       "0              VERANO / INVIERNO  \n",
       "1                          TODAS  "
      ]
     },
     "execution_count": 502,
     "metadata": {},
     "output_type": "execute_result"
    }
   ],
   "source": [
    "mu_ud"
   ]
  },
  {
   "cell_type": "code",
   "execution_count": 504,
   "id": "562b143a",
   "metadata": {},
   "outputs": [],
   "source": [
    "#Vamos a limpiar la columna de PRECIO\n",
    "p2 = []\n",
    "for e in mu_ud['PRECIO']:\n",
    "    if '$' in e:\n",
    "        p2.append(float(e.replace('$', '')))\n",
    "        \n",
    "#Lo convertimos a EUROS(TIPO DE CAMBIO - 12/12/2022):\n",
    "p3 = []\n",
    "for e in p2:\n",
    "    p3.append(round((e*0.95), 2))\n",
    "\n",
    "mu_ud.PRECIO = p3"
   ]
  },
  {
   "cell_type": "code",
   "execution_count": 513,
   "id": "0d2c04b6",
   "metadata": {},
   "outputs": [],
   "source": [
    "mu_ud.rename(columns = {'PRECIO' : 'PRECIO (€)'}, inplace = True)"
   ]
  },
  {
   "cell_type": "code",
   "execution_count": 516,
   "id": "4460c033",
   "metadata": {},
   "outputs": [],
   "source": [
    "#Cambiamos el tipo de dato de las columnas \n",
    "mu_ud[['NOMBRE', 'LINKS', 'PRODUCTO', 'PALETA']] = mu_ud[['NOMBRE', 'LINKS', 'PRODUCTO', 'PALETA']].astype('category')"
   ]
  },
  {
   "cell_type": "code",
   "execution_count": 531,
   "id": "26fab1a6",
   "metadata": {},
   "outputs": [
    {
     "name": "stdout",
     "output_type": "stream",
     "text": [
      "<class 'pandas.core.frame.DataFrame'>\n",
      "Int64Index: 16 entries, 0 to 1\n",
      "Data columns (total 5 columns):\n",
      " #   Column      Non-Null Count  Dtype   \n",
      "---  ------      --------------  -----   \n",
      " 0   NOMBRE      16 non-null     category\n",
      " 1   PRECIO (€)  16 non-null     float64 \n",
      " 2   LINKS       16 non-null     category\n",
      " 3   PRODUCTO    16 non-null     category\n",
      " 4   PALETA      16 non-null     category\n",
      "dtypes: category(4), float64(1)\n",
      "memory usage: 2.1 KB\n"
     ]
    }
   ],
   "source": [
    "mu_ud.info()"
   ]
  },
  {
   "cell_type": "markdown",
   "id": "f79b29fa",
   "metadata": {},
   "source": [
    "# **3 - EXTRACCIÓN DE DATOS DE SOMBRAS Y COLORETES DE HUDA BEAUTY**"
   ]
  },
  {
   "cell_type": "code",
   "execution_count": 267,
   "id": "d61fe269",
   "metadata": {},
   "outputs": [
    {
     "name": "stderr",
     "output_type": "stream",
     "text": [
      "2022-12-12 16:04:12,877 [48607] WARNING  py.warnings:109: [JupyterRequire] /var/folders/fg/hm_rz3k53fv5qf5dywc0bfwr0000gn/T/ipykernel_48607/91254812.py:3: DeprecationWarning: executable_path has been deprecated, please pass in a Service object\n",
      "  driver=webdriver.Chrome(PATH)\n",
      "\n"
     ]
    }
   ],
   "source": [
    "PATH=ChromeDriverManager().install()\n",
    "\n",
    "driver=webdriver.Chrome(PATH) "
   ]
  },
  {
   "cell_type": "code",
   "execution_count": 279,
   "id": "e1276494",
   "metadata": {},
   "outputs": [],
   "source": [
    "URL = 'https://hudabeauty.com/us/en_US/eyes/eyeshadow'\n",
    "driver.get(URL)"
   ]
  },
  {
   "cell_type": "code",
   "execution_count": 319,
   "id": "b308ad18",
   "metadata": {},
   "outputs": [],
   "source": [
    "#SOMBRAS\n",
    "def extraer(URL):\n",
    "    driver = webdriver.Chrome(PATH)\n",
    "    driver.get(URL)\n",
    "    \n",
    "    time.sleep(5)\n",
    "    driver.execute_script('window.scrollTo(0, 4500);')  # 200px de scroll\n",
    "    time.sleep(10)\n",
    "    \n",
    "    filas = driver.find_elements(By.CLASS_NAME, 'link')\n",
    "    precios = driver.find_elements(By.CLASS_NAME, 'price')\n",
    "    tmp = []\n",
    "    links = []\n",
    "    precio = []\n",
    "\n",
    "    for e in filas:\n",
    "        tmp.append(e.text)\n",
    "    \n",
    "    for e in filas:\n",
    "        links.append(e.get_attribute('href'))\n",
    "    \n",
    "    for e in precios:\n",
    "        precio.append(e.text.split()[0])\n",
    "    \n",
    "    \n",
    "    cols = ['NOMBRE']\n",
    "    \n",
    "    total = pd.DataFrame(tmp, columns = cols)\n",
    "    \n",
    "    total['LINKS'] = links\n",
    "    total['PRECIO'] = precio\n",
    "    total['PRODUCTO'] = 'SOMBRAS DE OJOS'\n",
    "    \n",
    "    \n",
    "    driver.quit()\n",
    "     \n",
    "    return total"
   ]
  },
  {
   "cell_type": "code",
   "execution_count": 320,
   "id": "85ad4f40",
   "metadata": {},
   "outputs": [],
   "source": [
    "URL = 'https://hudabeauty.com/us/en_US/eyes/eyeshadow'"
   ]
  },
  {
   "cell_type": "code",
   "execution_count": 321,
   "id": "c1f31c8f",
   "metadata": {
    "scrolled": true
   },
   "outputs": [
    {
     "name": "stderr",
     "output_type": "stream",
     "text": [
      "2022-12-12 16:19:59,725 [48607] WARNING  py.warnings:109: [JupyterRequire] /var/folders/fg/hm_rz3k53fv5qf5dywc0bfwr0000gn/T/ipykernel_48607/958777798.py:3: DeprecationWarning: executable_path has been deprecated, please pass in a Service object\n",
      "  driver = webdriver.Chrome(PATH)\n",
      "\n"
     ]
    }
   ],
   "source": [
    "sombras_hb = extraer(URL)"
   ]
  },
  {
   "cell_type": "code",
   "execution_count": 525,
   "id": "676fa608",
   "metadata": {},
   "outputs": [],
   "source": [
    "sombras_hb['PALETA']=  ['PRIMAVERA / OTOÑO / INVIERNO', 'PRIMAVERA / OTOÑO', 'PRIMAVERA / OTOÑO','OTOÑO / INVIERNO',\\\n",
    "                        'PRIMAVERA / OTOÑO / INVIERNO', 'VERANO / OTOÑO', 'VERANO / OTOÑO / INVIERNO',\\\n",
    "                        'TODAS', 'VERANO', 'PRIMAVERA', 'PRIMAVERA / OTOÑO', 'PRIMAVERA', \\\n",
    "                        'OTOÑO / INVIERNO', 'PRIMAVERA / OTOÑO', 'PRIMAVERA', 'OTOÑO / INVIERNO', 'PRIMAVERA / VERANO / OTOÑO',\\\n",
    "                        'OTOÑO / PRIMAVERA', 'TODAS', 'OTOÑO / VERANO', 'VERANO']"
   ]
  },
  {
   "cell_type": "code",
   "execution_count": 324,
   "id": "974ad5dc",
   "metadata": {},
   "outputs": [],
   "source": [
    "#LABIOS\n",
    "def extraer(URL):\n",
    "    driver = webdriver.Chrome(PATH)\n",
    "    driver.get(URL)\n",
    "    \n",
    "    time.sleep(5)\n",
    "    driver.execute_script('window.scrollTo(0, 4500);')  # 200px de scroll\n",
    "    time.sleep(10)\n",
    "    \n",
    "    filas = driver.find_elements(By.CLASS_NAME, 'link')\n",
    "    precios = driver.find_elements(By.CLASS_NAME, 'price')\n",
    "    tmp = []\n",
    "    links = []\n",
    "    precio = []\n",
    "\n",
    "    for e in filas:\n",
    "        tmp.append(e.text)\n",
    "    \n",
    "    for e in filas:\n",
    "        links.append(e.get_attribute('href'))\n",
    "    \n",
    "    for e in precios:\n",
    "        precio.append(e.text.split()[0])\n",
    "    \n",
    "    \n",
    "    cols = ['NOMBRE']\n",
    "    \n",
    "    total = pd.DataFrame(tmp, columns = cols)\n",
    "    \n",
    "    total['LINKS'] = links\n",
    "    total['PRECIO'] = precio\n",
    "    total['PRODUCTO'] = 'PINTALABIOS'\n",
    "    \n",
    "    \n",
    "    driver.quit()\n",
    "     \n",
    "    return total"
   ]
  },
  {
   "cell_type": "code",
   "execution_count": 325,
   "id": "e5687874",
   "metadata": {},
   "outputs": [],
   "source": [
    "URL = 'https://hudabeauty.com/us/en_US/makeup/lips'"
   ]
  },
  {
   "cell_type": "code",
   "execution_count": 326,
   "id": "8452d3e3",
   "metadata": {},
   "outputs": [
    {
     "name": "stderr",
     "output_type": "stream",
     "text": [
      "2022-12-12 16:21:28,932 [48607] WARNING  py.warnings:109: [JupyterRequire] /var/folders/fg/hm_rz3k53fv5qf5dywc0bfwr0000gn/T/ipykernel_48607/1998456133.py:3: DeprecationWarning: executable_path has been deprecated, please pass in a Service object\n",
      "  driver = webdriver.Chrome(PATH)\n",
      "\n"
     ]
    }
   ],
   "source": [
    "pintalabios_hb = extraer(URL)"
   ]
  },
  {
   "cell_type": "code",
   "execution_count": 524,
   "id": "84ec4c2f",
   "metadata": {},
   "outputs": [],
   "source": [
    "paletas = ['TODAS', 'TODAS', 'TODAS', 'PRIMAVERA / VERANO / OTOÑO', 'TODAS', 'PRIMAVERA / OTOÑO / INVIERNO',\\\n",
    "          'TODAS', 'TODAS', 'TODAS', 'TODAS', 'INVIERNO', 'TODAS', 'TODAS', 'INVIERNO / OTOÑO', 'TODAS',\\\n",
    "          'OTOÑO / PRIMAVERA / INVIERNO', 'OTOÑO / INVIERNO', 'TODAS', 'TODAS', 'OTOÑO / INVIERNO']\n",
    "pintalabios_hb['PALETA'] = paletas"
   ]
  },
  {
   "cell_type": "code",
   "execution_count": 329,
   "id": "37ea6f5b",
   "metadata": {},
   "outputs": [],
   "source": [
    "#BLUSH\n",
    "def extraer(URL):\n",
    "    driver = webdriver.Chrome(PATH)\n",
    "    driver.get(URL)\n",
    "    \n",
    "    time.sleep(5)\n",
    "    driver.execute_script('window.scrollTo(0, 4500);')  # 200px de scroll\n",
    "    time.sleep(10)\n",
    "    \n",
    "    filas = driver.find_elements(By.CLASS_NAME, 'link')\n",
    "    precios = driver.find_elements(By.CLASS_NAME, 'price')\n",
    "    tmp = []\n",
    "    links = []\n",
    "    precio = []\n",
    "\n",
    "    for e in filas:\n",
    "        tmp.append(e.text)\n",
    "    \n",
    "    for e in filas:\n",
    "        links.append(e.get_attribute('href'))\n",
    "    \n",
    "    for e in precios:\n",
    "        precio.append(e.text.split()[0])\n",
    "    \n",
    "    \n",
    "    cols = ['NOMBRE']\n",
    "    \n",
    "    total = pd.DataFrame(tmp, columns = cols)\n",
    "    \n",
    "    total['LINKS'] = links\n",
    "    total['PRECIO'] = precio\n",
    "    total['PRODUCTO'] = 'COLORETE'\n",
    "    \n",
    "    \n",
    "    driver.quit()\n",
    "     \n",
    "    return total"
   ]
  },
  {
   "cell_type": "code",
   "execution_count": 330,
   "id": "b33e04f6",
   "metadata": {},
   "outputs": [],
   "source": [
    "URL = 'https://hudabeauty.com/us/en_US/cheek/blush'"
   ]
  },
  {
   "cell_type": "code",
   "execution_count": 331,
   "id": "163b3170",
   "metadata": {},
   "outputs": [
    {
     "name": "stderr",
     "output_type": "stream",
     "text": [
      "2022-12-12 16:22:34,520 [48607] WARNING  py.warnings:109: [JupyterRequire] /var/folders/fg/hm_rz3k53fv5qf5dywc0bfwr0000gn/T/ipykernel_48607/4071659692.py:3: DeprecationWarning: executable_path has been deprecated, please pass in a Service object\n",
      "  driver = webdriver.Chrome(PATH)\n",
      "\n"
     ]
    }
   ],
   "source": [
    "blush_hb = extraer(URL)"
   ]
  },
  {
   "cell_type": "code",
   "execution_count": 526,
   "id": "2a1d557d",
   "metadata": {},
   "outputs": [],
   "source": [
    "blush_hb['PALETA'] = 'TODAS'"
   ]
  },
  {
   "cell_type": "code",
   "execution_count": 527,
   "id": "82833faf",
   "metadata": {},
   "outputs": [],
   "source": [
    "maquillaje_hb = pd.concat([sombras_hb, pintalabios_hb, blush_hb])"
   ]
  },
  {
   "cell_type": "code",
   "execution_count": 528,
   "id": "5c002efd",
   "metadata": {},
   "outputs": [],
   "source": [
    "#Vamos a limpiar la columna de PRECIO\n",
    "p2 = []\n",
    "for e in maquillaje_hb['PRECIO']:\n",
    "    if '$' in e:\n",
    "        p2.append(float(e.replace('$', '')))\n",
    "#Lo convertimos a EUROS (TIPO DE CAMBIO - 12/12/2022):\n",
    "p3 = []\n",
    "for e in p2:\n",
    "    p3.append(round((e*0.95), 2))\n",
    "\n",
    "maquillaje_hb.PRECIO = p3"
   ]
  },
  {
   "cell_type": "code",
   "execution_count": 529,
   "id": "e1a98979",
   "metadata": {},
   "outputs": [],
   "source": [
    "maquillaje_hb.rename(columns = {'PRECIO' : 'PRECIO (€)'}, inplace = True)"
   ]
  },
  {
   "cell_type": "code",
   "execution_count": 530,
   "id": "c0ea5b7e",
   "metadata": {},
   "outputs": [],
   "source": [
    "#Cambiamos el tipo de dato de las columnas \n",
    "maquillaje_hb[['NOMBRE', 'LINKS', 'PRODUCTO', 'PALETA']] = \\\n",
    "maquillaje_hb[['NOMBRE', 'LINKS', 'PRODUCTO', 'PALETA']].astype('category')"
   ]
  },
  {
   "cell_type": "code",
   "execution_count": 532,
   "id": "6a05f4b4",
   "metadata": {},
   "outputs": [
    {
     "name": "stdout",
     "output_type": "stream",
     "text": [
      "<class 'pandas.core.frame.DataFrame'>\n",
      "Int64Index: 45 entries, 0 to 3\n",
      "Data columns (total 6 columns):\n",
      " #   Column      Non-Null Count  Dtype   \n",
      "---  ------      --------------  -----   \n",
      " 0   NOMBRE      45 non-null     category\n",
      " 1   LINKS       45 non-null     category\n",
      " 2   PRECIO (€)  45 non-null     float64 \n",
      " 3   PRODUCTO    45 non-null     category\n",
      " 4   PALETAS     45 non-null     object  \n",
      " 5   PALETA      45 non-null     category\n",
      "dtypes: category(4), float64(1), object(1)\n",
      "memory usage: 4.7+ KB\n"
     ]
    }
   ],
   "source": [
    "maquillaje_hb.info()"
   ]
  },
  {
   "cell_type": "markdown",
   "id": "d053087b",
   "metadata": {},
   "source": [
    "# **4 - EXTRACCIÓN DE DATOS DE SOMBRAS,  COLORETES Y PINTALABIOS DE KIKO MILANO**"
   ]
  },
  {
   "cell_type": "code",
   "execution_count": 51,
   "id": "3810fabf",
   "metadata": {},
   "outputs": [
    {
     "name": "stderr",
     "output_type": "stream",
     "text": [
      "2022-12-12 11:03:35,973 [48607] WARNING  py.warnings:109: [JupyterRequire] /var/folders/fg/hm_rz3k53fv5qf5dywc0bfwr0000gn/T/ipykernel_48607/91254812.py:3: DeprecationWarning: executable_path has been deprecated, please pass in a Service object\n",
      "  driver=webdriver.Chrome(PATH)\n",
      "\n"
     ]
    }
   ],
   "source": [
    "PATH=ChromeDriverManager().install()\n",
    "\n",
    "driver=webdriver.Chrome(PATH) "
   ]
  },
  {
   "cell_type": "code",
   "execution_count": 52,
   "id": "35d61753",
   "metadata": {},
   "outputs": [],
   "source": [
    "URL = 'https://www.kikocosmetics.com/es-es/maquillaje/labios.html'"
   ]
  },
  {
   "cell_type": "code",
   "execution_count": 53,
   "id": "f3c78bf0",
   "metadata": {},
   "outputs": [],
   "source": [
    "driver.get(URL)"
   ]
  },
  {
   "cell_type": "code",
   "execution_count": 54,
   "id": "33db9df7",
   "metadata": {},
   "outputs": [],
   "source": [
    "#Investigamos cómo scrappear la página de KIKO MILANO para poder sacar los productos y los precios\n",
    "nombres = driver.find_elements(By.CLASS_NAME, 'ProductBox__Title')\n",
    "precio = driver.find_elements(By.CLASS_NAME, 'js-new-price')\n",
    "link2 =  driver.find_elements(By.PARTIAL_LINK_TEXT, 'Palette')"
   ]
  },
  {
   "cell_type": "code",
   "execution_count": 241,
   "id": "31fe1daa",
   "metadata": {},
   "outputs": [],
   "source": [
    "#BLUSH Y SOMBRAS\n",
    "def extraer(URL):\n",
    "    driver = webdriver.Chrome(PATH)\n",
    "    driver.get(URL)\n",
    "    \n",
    "    driver.find_element(By.XPATH, '//*[@id=\"iubenda-cs-banner\"]/div/div/div/div[3]/div[2]/button[2]').click()\n",
    "    time.sleep(5)\n",
    "    driver.execute_script('window.scrollTo(0, 3000);')  # 200px de scroll\n",
    "    time.sleep(5)\n",
    "    \n",
    "    nombre = driver.find_elements(By.CLASS_NAME, 'ProductBox__Title')\n",
    "    precio = driver.find_elements(By.CLASS_NAME, 'js-new-price')\n",
    "    link =  driver.find_elements(By.PARTIAL_LINK_TEXT, 'Palette')\n",
    "    \n",
    "    tmp = []\n",
    "    precios = []\n",
    "    links = []\n",
    "    \n",
    "\n",
    "    for e in nombre:\n",
    "        tmp.append(e.text.split('\\n'))\n",
    "    \n",
    "    for e in precio:\n",
    "        precios.append(e.text)\n",
    "    \n",
    "    for e in link:\n",
    "        links.append(e.get_attribute('href'))\n",
    "    \n",
    "    cols = ['NOMBRE']\n",
    "    \n",
    "    total = pd.DataFrame(tmp, columns = cols)\n",
    "    \n",
    "    precios.remove('')\n",
    "    precios.remove('')\n",
    "    \n",
    "    total['PRECIO'] = precios\n",
    "    total['LINKS'] = links\n",
    "    total['PRODUCTO'] = 'SOMBRAS DE OJOS'\n",
    "    \n",
    "    \n",
    "    driver.quit()\n",
    "     \n",
    "    return total"
   ]
  },
  {
   "cell_type": "code",
   "execution_count": 242,
   "id": "9f9421fe",
   "metadata": {},
   "outputs": [],
   "source": [
    "URL = 'https://www.kikocosmetics.com/es-es/maquillaje/paletas/paleta-de-ojos.html'"
   ]
  },
  {
   "cell_type": "code",
   "execution_count": 243,
   "id": "71bac6fe",
   "metadata": {
    "scrolled": false
   },
   "outputs": [
    {
     "name": "stderr",
     "output_type": "stream",
     "text": [
      "2022-12-12 13:45:54,438 [48607] WARNING  py.warnings:109: [JupyterRequire] /var/folders/fg/hm_rz3k53fv5qf5dywc0bfwr0000gn/T/ipykernel_48607/3280125201.py:3: DeprecationWarning: executable_path has been deprecated, please pass in a Service object\n",
      "  driver = webdriver.Chrome(PATH)\n",
      "\n"
     ]
    }
   ],
   "source": [
    "sombras_kiko = extraer(URL) #CUÁLES SOMBRAS Y CUÁLES BLUSH?"
   ]
  },
  {
   "cell_type": "code",
   "execution_count": 244,
   "id": "dd6a5eeb",
   "metadata": {
    "scrolled": true
   },
   "outputs": [
    {
     "data": {
      "text/plain": [
       "(28, 4)"
      ]
     },
     "execution_count": 244,
     "metadata": {},
     "output_type": "execute_result"
    }
   ],
   "source": [
    "sombras_kiko.shape"
   ]
  },
  {
   "cell_type": "code",
   "execution_count": 567,
   "id": "4406df9e",
   "metadata": {},
   "outputs": [],
   "source": [
    "paletas = ['PRIMAVERA / OTOÑO', 'TODAS', 'TODAS', 'TODAS', 'TODAS', 'TODAS', 'TODAS', 'TODAS', 'TODAS', 'TODAS','TODAS',\\\n",
    "          'TODAS', 'TODAS', 'PRIMAVERA / VERANO', 'PRIMAVERA / VERANO / OTOÑO', 'INVIERNO / OTOÑO', 'INVIERNO / OTOÑO', \\\n",
    "          'INVIERNO / OTOÑO', 'PRIMAVERA / OTOÑO', 'PRIMAVERA / OTOÑO / INVIERNO', 'TODAS', 'PRIMAVERA / OTOÑO / INVIERNO',\\\n",
    "          'PRIMAVERA / OTOÑO / INVIERNO', 'TODAS', 'PRIMAVERA / VERANO', 'PRIMAVERA / VERANO', 'TODAS', 'TODAS']\n",
    "sombras_kiko['PALETA'] = paletas"
   ]
  },
  {
   "cell_type": "code",
   "execution_count": 568,
   "id": "e237c89f",
   "metadata": {},
   "outputs": [],
   "source": [
    "sombras_kiko.at[26, 'PRODUCTO'] = 'COLORETE'\n",
    "sombras_kiko.at[27, 'PRODUCTO'] = 'COLORETE'"
   ]
  },
  {
   "cell_type": "code",
   "execution_count": 569,
   "id": "76604f43",
   "metadata": {},
   "outputs": [],
   "source": [
    "#PINTALABIOS\n",
    "def extraer(URL):\n",
    "    driver = webdriver.Chrome(PATH)\n",
    "    driver.get(URL)\n",
    "    \n",
    "    driver.execute_script('window.scrollTo(0, 2000);')  # 200px de scroll\n",
    "    \n",
    "    nombre = driver.find_elements(By.CLASS_NAME, 'ProductBox__Title')\n",
    "    precio = driver.find_elements(By.CLASS_NAME, 'js-new-price')\n",
    "    link =  driver.find_elements(By.PARTIAL_LINK_TEXT, 'Lip')\n",
    "    link2 =  driver.find_elements(By.PARTIAL_LINK_TEXT, 'Unlimited')\n",
    "    link3 =  driver.find_elements(By.PARTIAL_LINK_TEXT, 'Stick')\n",
    "    link4 = driver.find_elements(By.PARTIAL_LINK_TEXT, 'Pearly')\n",
    "    link5 = driver.find_elements(By.PARTIAL_LINK_TEXT, 'Jelly')\n",
    "    \n",
    "    tmp = []\n",
    "    precios = []\n",
    "    links = []\n",
    "    \n",
    "\n",
    "    for e in nombre:\n",
    "        tmp.append(e.text.split('\\n'))\n",
    "    \n",
    "    for e in precio:\n",
    "        precios.append(e.text)\n",
    "    \n",
    "    for e in link:\n",
    "        links.append(e.get_attribute('href'))\n",
    "    \n",
    "    for e in link2:\n",
    "        links.append(e.get_attribute('href'))\n",
    "    \n",
    "    for e in link3:\n",
    "        links.append(e.get_attribute('href'))\n",
    "    \n",
    "    for e in link4:\n",
    "        links.append(e.get_attribute('href'))\n",
    "    \n",
    "    for e in link5:\n",
    "        links.append(e.get_attribute('href'))\n",
    "    \n",
    "    \n",
    "    cols = ['NOMBRE']\n",
    "    \n",
    "    total = pd.DataFrame(tmp, columns = cols)\n",
    "    \n",
    "    precios.remove('')\n",
    "    precios.remove('')\n",
    "    precios.remove('')\n",
    "    precios.remove('')\n",
    "    precios.remove('')\n",
    "    precios.remove('')\n",
    "    precios.remove('')\n",
    "    precios.remove('')\n",
    "    precios.remove('')\n",
    "    \n",
    "    total['PRECIO'] = precios\n",
    "    total['LINKS'] = links\n",
    "    total['PRODUCTO'] = 'PINTALABIOS'\n",
    "    \n",
    "    \n",
    "    driver.quit()\n",
    "     \n",
    "    return total"
   ]
  },
  {
   "cell_type": "code",
   "execution_count": 59,
   "id": "b2136f95",
   "metadata": {},
   "outputs": [],
   "source": [
    "URL = 'https://www.kikocosmetics.com/es-es/maquillaje/labios.html'"
   ]
  },
  {
   "cell_type": "code",
   "execution_count": 60,
   "id": "9edcd257",
   "metadata": {},
   "outputs": [
    {
     "name": "stderr",
     "output_type": "stream",
     "text": [
      "2022-12-12 11:04:04,420 [48607] WARNING  py.warnings:109: [JupyterRequire] /var/folders/fg/hm_rz3k53fv5qf5dywc0bfwr0000gn/T/ipykernel_48607/1661189169.py:3: DeprecationWarning: executable_path has been deprecated, please pass in a Service object\n",
      "  driver = webdriver.Chrome(PATH)\n",
      "\n"
     ]
    }
   ],
   "source": [
    "labios_kiko = extraer(URL)"
   ]
  },
  {
   "cell_type": "code",
   "execution_count": 570,
   "id": "5eba9ab0",
   "metadata": {},
   "outputs": [],
   "source": [
    "labios_kiko['PALETA'] = 'TODAS'"
   ]
  },
  {
   "cell_type": "code",
   "execution_count": 571,
   "id": "6be516cc",
   "metadata": {},
   "outputs": [],
   "source": [
    "maquillaje_kiko = pd.concat([sombras_kiko, labios_kiko])"
   ]
  },
  {
   "cell_type": "code",
   "execution_count": 572,
   "id": "237d1917",
   "metadata": {},
   "outputs": [],
   "source": [
    "#Limpiamos la columna PRECIO\n",
    "p = []\n",
    "for e in maquillaje_kiko.PRECIO:\n",
    "    if ',' in e:\n",
    "        p.append(e.replace(',', '.'))\n",
    "        \n",
    "        \n",
    "maquillaje_kiko.PRECIO = p\n",
    "\n",
    "#Limpiamos la columna PRECIO\n",
    "def quitar_euro(columna):\n",
    "    e = re.findall('\\d+.\\d+', columna)\n",
    "    e = ''.join(e)\n",
    "    return float(e)\n",
    "\n",
    "maquillaje_kiko.PRECIO = maquillaje_kiko.PRECIO.apply(quitar_euro)\n",
    "\n",
    "maquillaje_kiko.rename(columns = {'PRECIO' : 'PRECIO (€)'}, inplace = True)"
   ]
  },
  {
   "cell_type": "code",
   "execution_count": 573,
   "id": "ef38c7ad",
   "metadata": {},
   "outputs": [],
   "source": [
    "#Cambiamos el tipo de dato de las columnas\n",
    "maquillaje_kiko[['NOMBRE', 'LINKS', 'PRODUCTO', 'PALETA']] = \\\n",
    "maquillaje_kiko[['NOMBRE', 'LINKS', 'PRODUCTO', 'PALETA']].astype('category')"
   ]
  },
  {
   "cell_type": "code",
   "execution_count": 576,
   "id": "c0e0e850",
   "metadata": {},
   "outputs": [
    {
     "name": "stdout",
     "output_type": "stream",
     "text": [
      "<class 'pandas.core.frame.DataFrame'>\n",
      "Int64Index: 52 entries, 0 to 23\n",
      "Data columns (total 5 columns):\n",
      " #   Column      Non-Null Count  Dtype   \n",
      "---  ------      --------------  -----   \n",
      " 0   NOMBRE      52 non-null     category\n",
      " 1   PRECIO (€)  52 non-null     float64 \n",
      " 2   LINKS       52 non-null     category\n",
      " 3   PRODUCTO    52 non-null     category\n",
      " 4   PALETA      52 non-null     category\n",
      "dtypes: category(4), float64(1)\n",
      "memory usage: 6.3 KB\n"
     ]
    }
   ],
   "source": [
    "maquillaje_kiko.info()"
   ]
  },
  {
   "cell_type": "markdown",
   "id": "bd9ba85a",
   "metadata": {},
   "source": [
    "# 5 - EXTRACCIÓN DE DATOS DE PINTALABIOS DE KAT VON D"
   ]
  },
  {
   "cell_type": "code",
   "execution_count": 62,
   "id": "8ef32f1a",
   "metadata": {},
   "outputs": [
    {
     "name": "stderr",
     "output_type": "stream",
     "text": [
      "2022-12-12 11:04:22,654 [48607] WARNING  py.warnings:109: [JupyterRequire] /var/folders/fg/hm_rz3k53fv5qf5dywc0bfwr0000gn/T/ipykernel_48607/1981730666.py:3: DeprecationWarning: executable_path has been deprecated, please pass in a Service object\n",
      "  driver=webdriver.Chrome(PATH)\n",
      "\n"
     ]
    }
   ],
   "source": [
    "PATH=ChromeDriverManager().install()\n",
    "\n",
    "driver=webdriver.Chrome(PATH)"
   ]
  },
  {
   "cell_type": "code",
   "execution_count": 63,
   "id": "89ba2ccb",
   "metadata": {},
   "outputs": [],
   "source": [
    "URL = 'https://kvdveganbeauty.com/collections/lip'"
   ]
  },
  {
   "cell_type": "code",
   "execution_count": 64,
   "id": "e3aa6e19",
   "metadata": {},
   "outputs": [],
   "source": [
    "driver.get(URL)"
   ]
  },
  {
   "cell_type": "code",
   "execution_count": 65,
   "id": "93b22f3d",
   "metadata": {},
   "outputs": [],
   "source": [
    "nombres = driver.find_elements(By.CLASS_NAME, 'product-card__name')\n",
    "precios = driver.find_elements(By.CLASS_NAME, 'product-card__price')"
   ]
  },
  {
   "cell_type": "code",
   "execution_count": 66,
   "id": "71584800",
   "metadata": {},
   "outputs": [],
   "source": [
    "lista = []\n",
    "for e in nombres:\n",
    "    lista.append(e.text)"
   ]
  },
  {
   "cell_type": "code",
   "execution_count": 67,
   "id": "365ab178",
   "metadata": {},
   "outputs": [
    {
     "data": {
      "text/plain": [
       "['Everlasting Hyperlight Transfer-Proof Liquid Lipstick',\n",
       " 'Epic Kiss Nourishing Vegan Butter Lipstick',\n",
       " 'Mini Epic Kiss Nourishing Vegan Butter Lipstick',\n",
       " 'Studded Kiss Crème Lipstick',\n",
       " 'XO Vinyl Lip Cream Lip Gloss',\n",
       " 'XO Lip Gloss']"
      ]
     },
     "execution_count": 67,
     "metadata": {},
     "output_type": "execute_result"
    }
   ],
   "source": [
    "lista[18:24]"
   ]
  },
  {
   "cell_type": "code",
   "execution_count": 68,
   "id": "0a2a2228",
   "metadata": {},
   "outputs": [],
   "source": [
    "def extraer(URL):\n",
    "    driver = webdriver.Chrome(PATH)\n",
    "    driver.get(URL)\n",
    "    \n",
    "    driver.find_element(By.XPATH, '//*[@id=\"onetrust-accept-btn-handler\"]').click()\n",
    "    time.sleep(5)\n",
    "    driver.find_element(By.CLASS_NAME, 'glClose').click()\n",
    "    time.sleep(5)\n",
    "    driver.execute_script('window.scrollTo(0, 3000);')  # 200px de scroll\n",
    "    time.sleep(5)\n",
    "    \n",
    "    nombre = driver.find_elements(By.CLASS_NAME, 'product-card__name')\n",
    "    precio = driver.find_elements(By.CLASS_NAME, 'product-card__price')\n",
    "    link =  driver.find_elements(By.PARTIAL_LINK_TEXT, 'Lip')\n",
    "    \n",
    "    tmp = []\n",
    "    precios = []\n",
    "    links = []\n",
    "    \n",
    "\n",
    "    for e in nombre:\n",
    "        tmp.append(e.text.split('\\n'))\n",
    "    \n",
    "    for e in precio:\n",
    "        precios.append(e.text)\n",
    "    \n",
    "    for e in link:\n",
    "        links.append(e.get_attribute('href'))\n",
    "    \n",
    "    tmp = tmp[18:24]\n",
    "    links = links[0:6]\n",
    "    \n",
    "    \n",
    "    cols = ['NOMBRE']\n",
    "    \n",
    "    total = pd.DataFrame(tmp, columns = cols)\n",
    "\n",
    "    \n",
    "    total['PRECIO'] = precios\n",
    "    total['LINKS'] = links\n",
    "    total['PRODUCTO'] = 'PINTALABIOS'\n",
    "    \n",
    "    \n",
    "    driver.quit()\n",
    "     \n",
    "    return total"
   ]
  },
  {
   "cell_type": "code",
   "execution_count": 69,
   "id": "1a50eb4c",
   "metadata": {},
   "outputs": [],
   "source": [
    "URL = 'https://kvdveganbeauty.com/collections/lip'"
   ]
  },
  {
   "cell_type": "code",
   "execution_count": 70,
   "id": "8beab6f1",
   "metadata": {},
   "outputs": [
    {
     "name": "stderr",
     "output_type": "stream",
     "text": [
      "2022-12-12 11:04:37,936 [48607] WARNING  py.warnings:109: [JupyterRequire] /var/folders/fg/hm_rz3k53fv5qf5dywc0bfwr0000gn/T/ipykernel_48607/3548246177.py:2: DeprecationWarning: executable_path has been deprecated, please pass in a Service object\n",
      "  driver = webdriver.Chrome(PATH)\n",
      "\n"
     ]
    }
   ],
   "source": [
    "pintalabios_kvd = extraer(URL) #falta añadir las paletas"
   ]
  },
  {
   "cell_type": "code",
   "execution_count": 577,
   "id": "3f3e0d57",
   "metadata": {},
   "outputs": [],
   "source": [
    "pintalabios_kvd['PALETA'] = 'TODAS'"
   ]
  },
  {
   "cell_type": "code",
   "execution_count": 578,
   "id": "804706a9",
   "metadata": {},
   "outputs": [],
   "source": [
    "pintalabios_kvd.drop('PALETAS', axis = 1, inplace = True)"
   ]
  },
  {
   "cell_type": "code",
   "execution_count": 580,
   "id": "56e2718f",
   "metadata": {},
   "outputs": [
    {
     "ename": "TypeError",
     "evalue": "rename() got an unexpected keyword argument 'columns'",
     "output_type": "error",
     "traceback": [
      "\u001b[0;31m---------------------------------------------------------------------------\u001b[0m",
      "\u001b[0;31mTypeError\u001b[0m                                 Traceback (most recent call last)",
      "Input \u001b[0;32mIn [580]\u001b[0m, in \u001b[0;36m<cell line: 9>\u001b[0;34m()\u001b[0m\n\u001b[1;32m      5\u001b[0m     \u001b[38;5;28;01mreturn\u001b[39;00m \u001b[38;5;28mfloat\u001b[39m(e)\n\u001b[1;32m      7\u001b[0m pintalabios_kvd\u001b[38;5;241m.\u001b[39mPRECIO \u001b[38;5;241m=\u001b[39m pintalabios_kvd\u001b[38;5;241m.\u001b[39mPRECIO\u001b[38;5;241m.\u001b[39mapply(quitar_euro)\n\u001b[0;32m----> 9\u001b[0m \u001b[43mpintalabios_kvd\u001b[49m\u001b[38;5;241;43m.\u001b[39;49m\u001b[43mPRECIO\u001b[49m\u001b[38;5;241;43m.\u001b[39;49m\u001b[43mrename\u001b[49m\u001b[43m(\u001b[49m\u001b[43mcolumns\u001b[49m\u001b[43m \u001b[49m\u001b[38;5;241;43m=\u001b[39;49m\u001b[43m \u001b[49m\u001b[43m{\u001b[49m\u001b[38;5;124;43m'\u001b[39;49m\u001b[38;5;124;43mPRECIO\u001b[39;49m\u001b[38;5;124;43m'\u001b[39;49m\u001b[43m \u001b[49m\u001b[43m:\u001b[49m\u001b[43m \u001b[49m\u001b[38;5;124;43m'\u001b[39;49m\u001b[38;5;124;43mPRECIO (€)\u001b[39;49m\u001b[38;5;124;43m'\u001b[39;49m\u001b[43m}\u001b[49m\u001b[43m,\u001b[49m\u001b[43m \u001b[49m\u001b[43minplace\u001b[49m\u001b[43m \u001b[49m\u001b[38;5;241;43m=\u001b[39;49m\u001b[43m \u001b[49m\u001b[38;5;28;43;01mTrue\u001b[39;49;00m\u001b[43m)\u001b[49m\n",
      "\u001b[0;31mTypeError\u001b[0m: rename() got an unexpected keyword argument 'columns'"
     ]
    }
   ],
   "source": [
    "#Limpiamos la columna PRECIO\n",
    "def quitar_euro(columna):\n",
    "    e = re.findall('\\d+.\\d+', columna)\n",
    "    e = ''.join(e)\n",
    "    return float(e)\n",
    "\n",
    "pintalabios_kvd.PRECIO = pintalabios_kvd.PRECIO.apply(quitar_euro)\n",
    "pintalabios_kvd.rename(columns = {'PRECIO' : 'PRECIO (€)'}, inplace = True)"
   ]
  },
  {
   "cell_type": "code",
   "execution_count": 584,
   "id": "4723cbdc",
   "metadata": {},
   "outputs": [],
   "source": [
    "#Cambiamos el tipo de dato de las columnas\n",
    "pintalabios_kvd[['NOMBRE', 'LINKS', 'PRODUCTO', 'PALETA']] = \\\n",
    "pintalabios_kvd[['NOMBRE', 'LINKS', 'PRODUCTO', 'PALETA']].astype('category')"
   ]
  },
  {
   "cell_type": "markdown",
   "id": "3ce75bbc",
   "metadata": {},
   "source": [
    "# 5 - EXTRACCIÓN DE DATOS DE COLORETES DE BENEFIT"
   ]
  },
  {
   "cell_type": "code",
   "execution_count": 71,
   "id": "1d7d7a80",
   "metadata": {},
   "outputs": [
    {
     "name": "stderr",
     "output_type": "stream",
     "text": [
      "2022-12-12 11:05:13,513 [48607] WARNING  py.warnings:109: [JupyterRequire] /var/folders/fg/hm_rz3k53fv5qf5dywc0bfwr0000gn/T/ipykernel_48607/1981730666.py:3: DeprecationWarning: executable_path has been deprecated, please pass in a Service object\n",
      "  driver=webdriver.Chrome(PATH)\n",
      "\n"
     ]
    }
   ],
   "source": [
    "PATH=ChromeDriverManager().install()\n",
    "\n",
    "driver=webdriver.Chrome(PATH)"
   ]
  },
  {
   "cell_type": "code",
   "execution_count": 72,
   "id": "2995bdff",
   "metadata": {},
   "outputs": [],
   "source": [
    "URL = 'https://www.benefitcosmetics.com/en-us/face/blush?page=3'"
   ]
  },
  {
   "cell_type": "code",
   "execution_count": 73,
   "id": "c88ea51d",
   "metadata": {},
   "outputs": [],
   "source": [
    "driver.get(URL)"
   ]
  },
  {
   "cell_type": "code",
   "execution_count": 74,
   "id": "84cba8b5",
   "metadata": {},
   "outputs": [],
   "source": [
    "nombres = driver.find_elements(By.CLASS_NAME, 'card__title')\n",
    "precios = driver.find_elements(By.CLASS_NAME, 'price')"
   ]
  },
  {
   "cell_type": "code",
   "execution_count": 75,
   "id": "a41f621d",
   "metadata": {},
   "outputs": [],
   "source": [
    "link = driver.find_elements(By.TAG_NAME, 'a')"
   ]
  },
  {
   "cell_type": "code",
   "execution_count": 76,
   "id": "b3f17b2a",
   "metadata": {},
   "outputs": [],
   "source": [
    "lista = []\n",
    "for e in link:\n",
    "    lista.append(e.get_attribute('href'))"
   ]
  },
  {
   "cell_type": "code",
   "execution_count": 77,
   "id": "f4dcd2a1",
   "metadata": {},
   "outputs": [
    {
     "data": {
      "text/plain": [
       "['https://www.benefitcosmetics.com/en-us/product/moone-rich-berry-blush?product=MOONE-MINI',\n",
       " 'https://www.benefitcosmetics.com/en-us/product/shellie-warm-seashell-pink-blush?product=SHELLIE-MINI',\n",
       " 'https://www.benefitcosmetics.com/en-us/product/terra-golden-brick-red-blush?product=TERRA-MINI',\n",
       " 'https://www.benefitcosmetics.com/en-us/product/peachin-golden-peach-blush?product=PEACHIN-MINI',\n",
       " 'https://www.benefitcosmetics.com/en-us/product/dandelion-brightening-finishing-powder?product=DANDELION-FULL',\n",
       " 'https://www.benefitcosmetics.com/en-us/product/georgia-golden-peach-blush?product=GEORGIA-FULL',\n",
       " 'https://www.benefitcosmetics.com/en-us/product/georgia-golden-peach-blush?product=GEORFM233',\n",
       " 'https://www.benefitcosmetics.com/en-us/product/love-me-bright',\n",
       " 'https://www.benefitcosmetics.com/en-us/product/sincerely-yours-beauty-advent-calendar']"
      ]
     },
     "execution_count": 77,
     "metadata": {},
     "output_type": "execute_result"
    }
   ],
   "source": [
    "lista[103:112]"
   ]
  },
  {
   "cell_type": "code",
   "execution_count": 78,
   "id": "c4cb2d23",
   "metadata": {},
   "outputs": [],
   "source": [
    "links = links[102:114]"
   ]
  },
  {
   "cell_type": "code",
   "execution_count": 79,
   "id": "e1123c08",
   "metadata": {},
   "outputs": [
    {
     "data": {
      "text/plain": [
       "['https://www.benefitcosmetics.com/en-us',\n",
       " 'https://www.benefitcosmetics.com/en-us/locations',\n",
       " 'https://www.benefitcosmetics.com/en-us/find-a-store',\n",
       " 'https://www.benefitcosmetics.com/en-us/face/blush?page=3#',\n",
       " 'https://www.benefitcosmetics.com/en-us/account/register/?returnUrl=%2Fen-us%2Fface%2Fblush',\n",
       " 'https://www.benefitcosmetics.com/en-us/product/gimme-brow-volumizing-eyebrow-gel?product=GIMMEBROW-FULL',\n",
       " 'https://www.benefitcosmetics.com/en-us/product/gimme-brow-volumizing-eyebrow-gel?product=GIMMEBROW-MINI',\n",
       " 'https://www.benefitcosmetics.com/en-us/product/gimme-brow-volumizing-eyebrow-gel?product=GIMMEBROW-JUMBO',\n",
       " 'https://www.benefitcosmetics.com/en-us/product/goof-proof-eyebrow-pencil?product=GOOFP-FULL']"
      ]
     },
     "execution_count": 79,
     "metadata": {},
     "output_type": "execute_result"
    }
   ],
   "source": [
    "lista[10:19]"
   ]
  },
  {
   "cell_type": "code",
   "execution_count": 80,
   "id": "1eb968ea",
   "metadata": {},
   "outputs": [],
   "source": [
    "precios = driver.find_elements(By.CLASS_NAME, 'price')"
   ]
  },
  {
   "cell_type": "code",
   "execution_count": 81,
   "id": "28c1606e",
   "metadata": {},
   "outputs": [
    {
     "data": {
      "text/plain": [
       "['https://www.benefitcosmetics.com/en-us/all-makeup',\n",
       " 'https://www.benefitcosmetics.com/en-us/product/moone-rich-berry-blush?product=MOONE-MINI',\n",
       " 'https://www.benefitcosmetics.com/en-us/product/shellie-warm-seashell-pink-blush?product=SHELLIE-MINI',\n",
       " 'https://www.benefitcosmetics.com/en-us/product/terra-golden-brick-red-blush?product=TERRA-MINI',\n",
       " 'https://www.benefitcosmetics.com/en-us/product/peachin-golden-peach-blush?product=PEACHIN-MINI',\n",
       " 'https://www.benefitcosmetics.com/en-us/product/dandelion-brightening-finishing-powder?product=DANDELION-FULL',\n",
       " 'https://www.benefitcosmetics.com/en-us/product/georgia-golden-peach-blush?product=GEORGIA-FULL',\n",
       " 'https://www.benefitcosmetics.com/en-us/product/georgia-golden-peach-blush?product=GEORFM233',\n",
       " 'https://www.benefitcosmetics.com/en-us/product/love-me-bright',\n",
       " 'https://www.benefitcosmetics.com/en-us/product/sincerely-yours-beauty-advent-calendar',\n",
       " 'https://www.benefitcosmetics.com/en-us/face/blush?page=3#',\n",
       " 'https://www.benefitcosmetics.com/en-us/bestsellers-makeup']"
      ]
     },
     "execution_count": 81,
     "metadata": {},
     "output_type": "execute_result"
    }
   ],
   "source": [
    "lista[102:114]"
   ]
  },
  {
   "cell_type": "code",
   "execution_count": 82,
   "id": "4da40639",
   "metadata": {},
   "outputs": [
    {
     "data": {
      "text/plain": [
       "<selenium.webdriver.remote.webelement.WebElement (session=\"ad3fdbbc39be0cfd43f7e96d0f7c502b\", element=\"32c913de-b5fa-4a91-a46d-3518d35e67e1\")>"
      ]
     },
     "execution_count": 82,
     "metadata": {},
     "output_type": "execute_result"
    }
   ],
   "source": [
    "driver.find_element(By.CSS_SELECTOR, '#category > div.category__container > div > div > div.pagination > a > i')"
   ]
  },
  {
   "cell_type": "code",
   "execution_count": 83,
   "id": "84d026b0",
   "metadata": {},
   "outputs": [],
   "source": [
    "def extraer(URL):\n",
    "    driver = webdriver.Chrome(PATH)\n",
    "    driver.get(URL)\n",
    "\n",
    "    time.sleep(5)\n",
    "    driver.execute_script('window.scrollTo(0, 3000);')  # 200px de scroll\n",
    "    \n",
    "    \n",
    "    nombre = driver.find_elements(By.CLASS_NAME, 'card__title')\n",
    "    precio = driver.find_elements(By.CLASS_NAME, 'price')\n",
    "    link =  driver.find_elements(By.TAG_NAME, 'a')\n",
    "    \n",
    "    tmp = []\n",
    "    precios = []\n",
    "    links = []\n",
    "    \n",
    "\n",
    "    for e in nombre:\n",
    "        tmp.append(e.text.split('\\n'))\n",
    "    \n",
    "    for e in precio:\n",
    "        precios.append(e.text.split('\\n')[-1])\n",
    "    \n",
    "    for e in link:\n",
    "        links.append(e.get_attribute('href'))\n",
    "    \n",
    "    precios = precios[10:22]\n",
    "    tmp = tmp[10:22]\n",
    "    links = links[102:114]\n",
    "    \n",
    "    cols = ['NOMBRE']\n",
    "    \n",
    "    total = pd.DataFrame(tmp, columns = cols)\n",
    "\n",
    "    \n",
    "    total['PRECIO'] = precios\n",
    "    total['LINKS'] = links\n",
    "    total['PRODUCTO'] = 'COLORETE'\n",
    "    \n",
    "    \n",
    "    driver.quit()\n",
    "     \n",
    "    return total"
   ]
  },
  {
   "cell_type": "code",
   "execution_count": 84,
   "id": "52bbde8e",
   "metadata": {},
   "outputs": [],
   "source": [
    "def extraer2(URL):\n",
    "    driver = webdriver.Chrome(PATH)\n",
    "    driver.get(URL)\n",
    "\n",
    "    time.sleep(5)\n",
    "    driver.execute_script('window.scrollTo(0, 3000);')  # 200px de scroll\n",
    "    \n",
    "    \n",
    "    nombre = driver.find_elements(By.CLASS_NAME, 'card__title')\n",
    "    precio = driver.find_elements(By.CLASS_NAME, 'price')\n",
    "    link =  driver.find_elements(By.TAG_NAME, 'a')\n",
    "    \n",
    "    tmp = []\n",
    "    precios = []\n",
    "    links = []\n",
    "    \n",
    "\n",
    "    for e in nombre:\n",
    "        tmp.append(e.text.split('\\n'))\n",
    "    \n",
    "    for e in precio:\n",
    "        precios.append(e.text.split('\\n')[-1])\n",
    "    \n",
    "    for e in link:\n",
    "        links.append(e.get_attribute('href'))\n",
    "    \n",
    "    precios = precios[10:22]\n",
    "    tmp = tmp[10:22]\n",
    "    links = links[103:112]\n",
    "    \n",
    "    cols = ['NOMBRE']\n",
    "    \n",
    "    total = pd.DataFrame(tmp, columns = cols)\n",
    "\n",
    "    \n",
    "    total['PRECIO'] = precios\n",
    "    total['LINKS'] = links\n",
    "    total['PRODUCTO'] = 'COLORETE'\n",
    "    \n",
    "    \n",
    "    driver.quit()\n",
    "     \n",
    "    return total"
   ]
  },
  {
   "cell_type": "code",
   "execution_count": 85,
   "id": "cffdf842",
   "metadata": {},
   "outputs": [],
   "source": [
    "links_ben = ['https://www.benefitcosmetics.com/en-us/face/blush',\\\n",
    "            'https://www.benefitcosmetics.com/en-us/face/blush?page=2']"
   ]
  },
  {
   "cell_type": "code",
   "execution_count": 86,
   "id": "0417c860",
   "metadata": {},
   "outputs": [
    {
     "name": "stderr",
     "output_type": "stream",
     "text": [
      "2022-12-12 11:05:31,868 [48607] WARNING  py.warnings:109: [JupyterRequire] /var/folders/fg/hm_rz3k53fv5qf5dywc0bfwr0000gn/T/ipykernel_48607/326568913.py:2: DeprecationWarning: executable_path has been deprecated, please pass in a Service object\n",
      "  driver = webdriver.Chrome(PATH)\n",
      "\n"
     ]
    }
   ],
   "source": [
    "tres = extraer2('https://www.benefitcosmetics.com/en-us/face/blush?page=3') "
   ]
  },
  {
   "cell_type": "code",
   "execution_count": 87,
   "id": "cd4b0cae",
   "metadata": {},
   "outputs": [
    {
     "name": "stderr",
     "output_type": "stream",
     "text": [
      "[Parallel(n_jobs=3)]: Using backend LokyBackend with 3 concurrent workers.\n",
      "/var/folders/fg/hm_rz3k53fv5qf5dywc0bfwr0000gn/T/ipykernel_48607/1349481635.py:2: DeprecationWarning: executable_path has been deprecated, please pass in a Service object\n",
      "/var/folders/fg/hm_rz3k53fv5qf5dywc0bfwr0000gn/T/ipykernel_48607/1349481635.py:2: DeprecationWarning: executable_path has been deprecated, please pass in a Service object\n",
      "[Parallel(n_jobs=3)]: Done   2 out of   2 | elapsed:   34.3s finished\n"
     ]
    }
   ],
   "source": [
    "blush_benefit = Parallel(n_jobs=3, verbose=True)(delayed(extraer)(e) for e in links_ben)"
   ]
  },
  {
   "cell_type": "code",
   "execution_count": 88,
   "id": "1c905767",
   "metadata": {},
   "outputs": [],
   "source": [
    "blush1 = blush_benefit[0]\n",
    "blush2 = blush_benefit[1]"
   ]
  },
  {
   "cell_type": "code",
   "execution_count": 218,
   "id": "efd4bf9d",
   "metadata": {},
   "outputs": [],
   "source": [
    "blush1.drop(blush1.index[[6]], inplace = True)"
   ]
  },
  {
   "cell_type": "code",
   "execution_count": 221,
   "id": "c8b26a47",
   "metadata": {},
   "outputs": [],
   "source": [
    "paletas = ['PRIMAVERA / OTOÑO', 'TODAS', 'TODAS', 'PRIMAVERA / OTOÑO', 'INVIERNO / VERANO', 'PRIMAVERA / OTOÑO',\\\n",
    "          'INVIERNO / VERANO', 'INVIERNO / VERANO', 'TODAS', 'PRIMAVERA / OTOÑO', 'INVIERNO / VERANO']\n",
    "blush1['PALETAS'] = paletas"
   ]
  },
  {
   "cell_type": "code",
   "execution_count": 223,
   "id": "b77d66d3",
   "metadata": {},
   "outputs": [],
   "source": [
    "paletas = ['PRIMAVERA / OTOÑO', 'PRIMAVERA / OTOÑO', 'INVIERNO / VERANO', 'INVIERNO / VERANO', 'INVIERNO / VERANO',\\\n",
    "          'INVIERNO / VERANO', 'PRIMAVERA / OTOÑO', 'PRIMAVERA / OTOÑO', 'INVIERNO / VERANO', 'PRIMAVERA / OTOÑO',\\\n",
    "          'PRIMAVERA / OTOÑO', 'INVIERNO / VERANO']\n",
    "blush2['PALETAS'] = paletas"
   ]
  },
  {
   "cell_type": "code",
   "execution_count": 225,
   "id": "9f83dc04",
   "metadata": {},
   "outputs": [],
   "source": [
    "paletas = ['INVIERNO / VERANO', 'PRIMAVERA / OTOÑO', 'PRIMAVERA / OTOÑO', 'PRIMAVERA / OTOÑO', 'INVIERNO / VERANO',\\\n",
    "          'PRIMAVERA / OTOÑO', 'PRIMAVERA / OTOÑO', 'TODAS', 'TODAS']\n",
    "tres['PALETAS'] = paletas"
   ]
  },
  {
   "cell_type": "code",
   "execution_count": 226,
   "id": "5d30cf70",
   "metadata": {},
   "outputs": [],
   "source": [
    "blush_benefit = pd.concat([blush1, blush2, tres], axis = 0)\n",
    "blush_benefit['PRODUCTO'] = 'COLORETE'"
   ]
  },
  {
   "cell_type": "code",
   "execution_count": 228,
   "id": "84d8581f",
   "metadata": {},
   "outputs": [
    {
     "data": {
      "text/html": [
       "<div>\n",
       "<style scoped>\n",
       "    .dataframe tbody tr th:only-of-type {\n",
       "        vertical-align: middle;\n",
       "    }\n",
       "\n",
       "    .dataframe tbody tr th {\n",
       "        vertical-align: top;\n",
       "    }\n",
       "\n",
       "    .dataframe thead th {\n",
       "        text-align: right;\n",
       "    }\n",
       "</style>\n",
       "<table border=\"1\" class=\"dataframe\">\n",
       "  <thead>\n",
       "    <tr style=\"text-align: right;\">\n",
       "      <th></th>\n",
       "      <th>NOMBRE</th>\n",
       "      <th>PRECIO</th>\n",
       "      <th>LINKS</th>\n",
       "      <th>PRODUCTO</th>\n",
       "      <th>PALETAS</th>\n",
       "    </tr>\n",
       "  </thead>\n",
       "  <tbody>\n",
       "    <tr>\n",
       "      <th>0</th>\n",
       "      <td>Cheek the Mail</td>\n",
       "      <td>$36.00</td>\n",
       "      <td>https://www.benefitcosmetics.com/en-us/all-makeup</td>\n",
       "      <td>COLORETE</td>\n",
       "      <td>PRIMAVERA / OTOÑO</td>\n",
       "    </tr>\n",
       "    <tr>\n",
       "      <th>1</th>\n",
       "      <td>Cheek Party Package</td>\n",
       "      <td>$36.00</td>\n",
       "      <td>https://www.benefitcosmetics.com/en-us/product...</td>\n",
       "      <td>COLORETE</td>\n",
       "      <td>TODAS</td>\n",
       "    </tr>\n",
       "    <tr>\n",
       "      <th>2</th>\n",
       "      <td>Blush ‘n Brush Delivery</td>\n",
       "      <td>$30.00</td>\n",
       "      <td>https://www.benefitcosmetics.com/en-us/product...</td>\n",
       "      <td>COLORETE</td>\n",
       "      <td>TODAS</td>\n",
       "    </tr>\n",
       "    <tr>\n",
       "      <th>3</th>\n",
       "      <td>Forward to: Gorgeous</td>\n",
       "      <td>$50.00</td>\n",
       "      <td>https://www.benefitcosmetics.com/en-us/product...</td>\n",
       "      <td>COLORETE</td>\n",
       "      <td>PRIMAVERA / OTOÑO</td>\n",
       "    </tr>\n",
       "    <tr>\n",
       "      <th>4</th>\n",
       "      <td>Pretty Pink Postage</td>\n",
       "      <td>$20.00</td>\n",
       "      <td>https://www.benefitcosmetics.com/en-us/product...</td>\n",
       "      <td>COLORETE</td>\n",
       "      <td>INVIERNO / VERANO</td>\n",
       "    </tr>\n",
       "    <tr>\n",
       "      <th>5</th>\n",
       "      <td>Blushin’ Benetint Bundle</td>\n",
       "      <td>$20.00</td>\n",
       "      <td>https://www.benefitcosmetics.com/en-us/product...</td>\n",
       "      <td>COLORETE</td>\n",
       "      <td>PRIMAVERA / OTOÑO</td>\n",
       "    </tr>\n",
       "    <tr>\n",
       "      <th>7</th>\n",
       "      <td>Bright n' Peachy Blush Duo</td>\n",
       "      <td>$28.00</td>\n",
       "      <td>https://www.benefitcosmetics.com/en-us/product...</td>\n",
       "      <td>COLORETE</td>\n",
       "      <td>INVIERNO / VERANO</td>\n",
       "    </tr>\n",
       "    <tr>\n",
       "      <th>8</th>\n",
       "      <td>Whatta Beach!</td>\n",
       "      <td>$28.00</td>\n",
       "      <td>https://www.benefitcosmetics.com/en-us/product...</td>\n",
       "      <td>COLORETE</td>\n",
       "      <td>INVIERNO / VERANO</td>\n",
       "    </tr>\n",
       "    <tr>\n",
       "      <th>9</th>\n",
       "      <td>Wanderful World Blush Collection</td>\n",
       "      <td>$280.00</td>\n",
       "      <td>https://www.benefitcosmetics.com/en-us/product...</td>\n",
       "      <td>COLORETE</td>\n",
       "      <td>TODAS</td>\n",
       "    </tr>\n",
       "    <tr>\n",
       "      <th>10</th>\n",
       "      <td>Starlaa Rosy Bronze Blush</td>\n",
       "      <td>$29.00</td>\n",
       "      <td>https://www.benefitcosmetics.com/en-us/product...</td>\n",
       "      <td>COLORETE</td>\n",
       "      <td>PRIMAVERA / OTOÑO</td>\n",
       "    </tr>\n",
       "    <tr>\n",
       "      <th>11</th>\n",
       "      <td>Willa Soft Neutral-Rose Blush</td>\n",
       "      <td>$29.00</td>\n",
       "      <td>https://www.benefitcosmetics.com/en-us/product...</td>\n",
       "      <td>COLORETE</td>\n",
       "      <td>INVIERNO / VERANO</td>\n",
       "    </tr>\n",
       "    <tr>\n",
       "      <th>0</th>\n",
       "      <td>Sunny Warm Coral Blush</td>\n",
       "      <td>$29.00</td>\n",
       "      <td>https://www.benefitcosmetics.com/en-us/all-makeup</td>\n",
       "      <td>COLORETE</td>\n",
       "      <td>PRIMAVERA / OTOÑO</td>\n",
       "    </tr>\n",
       "    <tr>\n",
       "      <th>1</th>\n",
       "      <td>Butterfly Golden Orange Blush</td>\n",
       "      <td>$29.00</td>\n",
       "      <td>https://www.benefitcosmetics.com/en-us/product...</td>\n",
       "      <td>COLORETE</td>\n",
       "      <td>PRIMAVERA / OTOÑO</td>\n",
       "    </tr>\n",
       "    <tr>\n",
       "      <th>2</th>\n",
       "      <td>Shellie Warm-Seashell Pink Blush</td>\n",
       "      <td>$29.00</td>\n",
       "      <td>https://www.benefitcosmetics.com/en-us/product...</td>\n",
       "      <td>COLORETE</td>\n",
       "      <td>INVIERNO / VERANO</td>\n",
       "    </tr>\n",
       "    <tr>\n",
       "      <th>3</th>\n",
       "      <td>PomPom Pomegranate Rose Blush</td>\n",
       "      <td>$29.00</td>\n",
       "      <td>https://www.benefitcosmetics.com/en-us/product...</td>\n",
       "      <td>COLORETE</td>\n",
       "      <td>INVIERNO / VERANO</td>\n",
       "    </tr>\n",
       "    <tr>\n",
       "      <th>4</th>\n",
       "      <td>Crystah Strawberry Pink Blush</td>\n",
       "      <td>$29.00</td>\n",
       "      <td>https://www.benefitcosmetics.com/en-us/product...</td>\n",
       "      <td>COLORETE</td>\n",
       "      <td>INVIERNO / VERANO</td>\n",
       "    </tr>\n",
       "    <tr>\n",
       "      <th>5</th>\n",
       "      <td>Peachin' Golden Peach Blush</td>\n",
       "      <td>$29.00</td>\n",
       "      <td>https://www.benefitcosmetics.com/en-us/product...</td>\n",
       "      <td>COLORETE</td>\n",
       "      <td>INVIERNO / VERANO</td>\n",
       "    </tr>\n",
       "    <tr>\n",
       "      <th>6</th>\n",
       "      <td>Java Rosy Mocha Blush</td>\n",
       "      <td>$29.00</td>\n",
       "      <td>https://www.benefitcosmetics.com/en-us/product...</td>\n",
       "      <td>COLORETE</td>\n",
       "      <td>PRIMAVERA / OTOÑO</td>\n",
       "    </tr>\n",
       "    <tr>\n",
       "      <th>7</th>\n",
       "      <td>Moone Rich Berry Blush</td>\n",
       "      <td>$29.00</td>\n",
       "      <td>https://www.benefitcosmetics.com/en-us/product...</td>\n",
       "      <td>COLORETE</td>\n",
       "      <td>PRIMAVERA / OTOÑO</td>\n",
       "    </tr>\n",
       "    <tr>\n",
       "      <th>8</th>\n",
       "      <td>Dandelion Baby-Pink Brightening Blush</td>\n",
       "      <td>$29.00</td>\n",
       "      <td>https://www.benefitcosmetics.com/en-us/product...</td>\n",
       "      <td>COLORETE</td>\n",
       "      <td>INVIERNO / VERANO</td>\n",
       "    </tr>\n",
       "    <tr>\n",
       "      <th>9</th>\n",
       "      <td>Terra Golden Brick-Red Blush</td>\n",
       "      <td>$29.00</td>\n",
       "      <td>https://www.benefitcosmetics.com/en-us/product...</td>\n",
       "      <td>COLORETE</td>\n",
       "      <td>PRIMAVERA / OTOÑO</td>\n",
       "    </tr>\n",
       "    <tr>\n",
       "      <th>10</th>\n",
       "      <td>Starlaa Rosy Bronze Blush Travel Size Mini</td>\n",
       "      <td>$17.00</td>\n",
       "      <td>https://www.benefitcosmetics.com/en-us/product...</td>\n",
       "      <td>COLORETE</td>\n",
       "      <td>PRIMAVERA / OTOÑO</td>\n",
       "    </tr>\n",
       "    <tr>\n",
       "      <th>11</th>\n",
       "      <td>Crystah Strawberry Pink Blush Travel Size Mini</td>\n",
       "      <td>$17.00</td>\n",
       "      <td>https://www.benefitcosmetics.com/en-us/product...</td>\n",
       "      <td>COLORETE</td>\n",
       "      <td>INVIERNO / VERANO</td>\n",
       "    </tr>\n",
       "    <tr>\n",
       "      <th>0</th>\n",
       "      <td>Moone Rich Berry Blush Travel Size Mini</td>\n",
       "      <td>$17.00</td>\n",
       "      <td>https://www.benefitcosmetics.com/en-us/product...</td>\n",
       "      <td>COLORETE</td>\n",
       "      <td>INVIERNO / VERANO</td>\n",
       "    </tr>\n",
       "    <tr>\n",
       "      <th>1</th>\n",
       "      <td>Shellie Warm-Seashell Pink Blush Travel Size Mini</td>\n",
       "      <td>$17.00</td>\n",
       "      <td>https://www.benefitcosmetics.com/en-us/product...</td>\n",
       "      <td>COLORETE</td>\n",
       "      <td>PRIMAVERA / OTOÑO</td>\n",
       "    </tr>\n",
       "    <tr>\n",
       "      <th>2</th>\n",
       "      <td>Terra Golden Brick-Red Blush Travel Size Mini</td>\n",
       "      <td>$17.00</td>\n",
       "      <td>https://www.benefitcosmetics.com/en-us/product...</td>\n",
       "      <td>COLORETE</td>\n",
       "      <td>PRIMAVERA / OTOÑO</td>\n",
       "    </tr>\n",
       "    <tr>\n",
       "      <th>3</th>\n",
       "      <td>Peachin' Golden Peach Blush Travel Size Mini</td>\n",
       "      <td>$17.00</td>\n",
       "      <td>https://www.benefitcosmetics.com/en-us/product...</td>\n",
       "      <td>COLORETE</td>\n",
       "      <td>PRIMAVERA / OTOÑO</td>\n",
       "    </tr>\n",
       "    <tr>\n",
       "      <th>4</th>\n",
       "      <td>Dandelion Baby-Pink Brightening Blush Travel S...</td>\n",
       "      <td>$17.00</td>\n",
       "      <td>https://www.benefitcosmetics.com/en-us/product...</td>\n",
       "      <td>COLORETE</td>\n",
       "      <td>INVIERNO / VERANO</td>\n",
       "    </tr>\n",
       "    <tr>\n",
       "      <th>5</th>\n",
       "      <td>Georgia Golden Peach Blush</td>\n",
       "      <td>$30.00</td>\n",
       "      <td>https://www.benefitcosmetics.com/en-us/product...</td>\n",
       "      <td>COLORETE</td>\n",
       "      <td>PRIMAVERA / OTOÑO</td>\n",
       "    </tr>\n",
       "    <tr>\n",
       "      <th>6</th>\n",
       "      <td>Georgia Golden Peach Blush Mini</td>\n",
       "      <td>$17.00</td>\n",
       "      <td>https://www.benefitcosmetics.com/en-us/product...</td>\n",
       "      <td>COLORETE</td>\n",
       "      <td>PRIMAVERA / OTOÑO</td>\n",
       "    </tr>\n",
       "    <tr>\n",
       "      <th>7</th>\n",
       "      <td>Love Me Bright</td>\n",
       "      <td>$36.00</td>\n",
       "      <td>https://www.benefitcosmetics.com/en-us/product...</td>\n",
       "      <td>COLORETE</td>\n",
       "      <td>TODAS</td>\n",
       "    </tr>\n",
       "    <tr>\n",
       "      <th>8</th>\n",
       "      <td>Sincerely Yours, Beauty Advent Calendar</td>\n",
       "      <td>$65.00</td>\n",
       "      <td>https://www.benefitcosmetics.com/en-us/product...</td>\n",
       "      <td>COLORETE</td>\n",
       "      <td>TODAS</td>\n",
       "    </tr>\n",
       "  </tbody>\n",
       "</table>\n",
       "</div>"
      ],
      "text/plain": [
       "                                               NOMBRE   PRECIO  \\\n",
       "0                                      Cheek the Mail   $36.00   \n",
       "1                                 Cheek Party Package   $36.00   \n",
       "2                             Blush ‘n Brush Delivery   $30.00   \n",
       "3                                Forward to: Gorgeous   $50.00   \n",
       "4                                 Pretty Pink Postage   $20.00   \n",
       "5                            Blushin’ Benetint Bundle   $20.00   \n",
       "7                          Bright n' Peachy Blush Duo   $28.00   \n",
       "8                                       Whatta Beach!   $28.00   \n",
       "9                    Wanderful World Blush Collection  $280.00   \n",
       "10                          Starlaa Rosy Bronze Blush   $29.00   \n",
       "11                      Willa Soft Neutral-Rose Blush   $29.00   \n",
       "0                              Sunny Warm Coral Blush   $29.00   \n",
       "1                       Butterfly Golden Orange Blush   $29.00   \n",
       "2                    Shellie Warm-Seashell Pink Blush   $29.00   \n",
       "3                       PomPom Pomegranate Rose Blush   $29.00   \n",
       "4                       Crystah Strawberry Pink Blush   $29.00   \n",
       "5                         Peachin' Golden Peach Blush   $29.00   \n",
       "6                               Java Rosy Mocha Blush   $29.00   \n",
       "7                              Moone Rich Berry Blush   $29.00   \n",
       "8               Dandelion Baby-Pink Brightening Blush   $29.00   \n",
       "9                        Terra Golden Brick-Red Blush   $29.00   \n",
       "10         Starlaa Rosy Bronze Blush Travel Size Mini   $17.00   \n",
       "11     Crystah Strawberry Pink Blush Travel Size Mini   $17.00   \n",
       "0             Moone Rich Berry Blush Travel Size Mini   $17.00   \n",
       "1   Shellie Warm-Seashell Pink Blush Travel Size Mini   $17.00   \n",
       "2       Terra Golden Brick-Red Blush Travel Size Mini   $17.00   \n",
       "3        Peachin' Golden Peach Blush Travel Size Mini   $17.00   \n",
       "4   Dandelion Baby-Pink Brightening Blush Travel S...   $17.00   \n",
       "5                          Georgia Golden Peach Blush   $30.00   \n",
       "6                     Georgia Golden Peach Blush Mini   $17.00   \n",
       "7                                      Love Me Bright   $36.00   \n",
       "8             Sincerely Yours, Beauty Advent Calendar   $65.00   \n",
       "\n",
       "                                                LINKS  PRODUCTO  \\\n",
       "0   https://www.benefitcosmetics.com/en-us/all-makeup  COLORETE   \n",
       "1   https://www.benefitcosmetics.com/en-us/product...  COLORETE   \n",
       "2   https://www.benefitcosmetics.com/en-us/product...  COLORETE   \n",
       "3   https://www.benefitcosmetics.com/en-us/product...  COLORETE   \n",
       "4   https://www.benefitcosmetics.com/en-us/product...  COLORETE   \n",
       "5   https://www.benefitcosmetics.com/en-us/product...  COLORETE   \n",
       "7   https://www.benefitcosmetics.com/en-us/product...  COLORETE   \n",
       "8   https://www.benefitcosmetics.com/en-us/product...  COLORETE   \n",
       "9   https://www.benefitcosmetics.com/en-us/product...  COLORETE   \n",
       "10  https://www.benefitcosmetics.com/en-us/product...  COLORETE   \n",
       "11  https://www.benefitcosmetics.com/en-us/product...  COLORETE   \n",
       "0   https://www.benefitcosmetics.com/en-us/all-makeup  COLORETE   \n",
       "1   https://www.benefitcosmetics.com/en-us/product...  COLORETE   \n",
       "2   https://www.benefitcosmetics.com/en-us/product...  COLORETE   \n",
       "3   https://www.benefitcosmetics.com/en-us/product...  COLORETE   \n",
       "4   https://www.benefitcosmetics.com/en-us/product...  COLORETE   \n",
       "5   https://www.benefitcosmetics.com/en-us/product...  COLORETE   \n",
       "6   https://www.benefitcosmetics.com/en-us/product...  COLORETE   \n",
       "7   https://www.benefitcosmetics.com/en-us/product...  COLORETE   \n",
       "8   https://www.benefitcosmetics.com/en-us/product...  COLORETE   \n",
       "9   https://www.benefitcosmetics.com/en-us/product...  COLORETE   \n",
       "10  https://www.benefitcosmetics.com/en-us/product...  COLORETE   \n",
       "11  https://www.benefitcosmetics.com/en-us/product...  COLORETE   \n",
       "0   https://www.benefitcosmetics.com/en-us/product...  COLORETE   \n",
       "1   https://www.benefitcosmetics.com/en-us/product...  COLORETE   \n",
       "2   https://www.benefitcosmetics.com/en-us/product...  COLORETE   \n",
       "3   https://www.benefitcosmetics.com/en-us/product...  COLORETE   \n",
       "4   https://www.benefitcosmetics.com/en-us/product...  COLORETE   \n",
       "5   https://www.benefitcosmetics.com/en-us/product...  COLORETE   \n",
       "6   https://www.benefitcosmetics.com/en-us/product...  COLORETE   \n",
       "7   https://www.benefitcosmetics.com/en-us/product...  COLORETE   \n",
       "8   https://www.benefitcosmetics.com/en-us/product...  COLORETE   \n",
       "\n",
       "              PALETAS  \n",
       "0   PRIMAVERA / OTOÑO  \n",
       "1               TODAS  \n",
       "2               TODAS  \n",
       "3   PRIMAVERA / OTOÑO  \n",
       "4   INVIERNO / VERANO  \n",
       "5   PRIMAVERA / OTOÑO  \n",
       "7   INVIERNO / VERANO  \n",
       "8   INVIERNO / VERANO  \n",
       "9               TODAS  \n",
       "10  PRIMAVERA / OTOÑO  \n",
       "11  INVIERNO / VERANO  \n",
       "0   PRIMAVERA / OTOÑO  \n",
       "1   PRIMAVERA / OTOÑO  \n",
       "2   INVIERNO / VERANO  \n",
       "3   INVIERNO / VERANO  \n",
       "4   INVIERNO / VERANO  \n",
       "5   INVIERNO / VERANO  \n",
       "6   PRIMAVERA / OTOÑO  \n",
       "7   PRIMAVERA / OTOÑO  \n",
       "8   INVIERNO / VERANO  \n",
       "9   PRIMAVERA / OTOÑO  \n",
       "10  PRIMAVERA / OTOÑO  \n",
       "11  INVIERNO / VERANO  \n",
       "0   INVIERNO / VERANO  \n",
       "1   PRIMAVERA / OTOÑO  \n",
       "2   PRIMAVERA / OTOÑO  \n",
       "3   PRIMAVERA / OTOÑO  \n",
       "4   INVIERNO / VERANO  \n",
       "5   PRIMAVERA / OTOÑO  \n",
       "6   PRIMAVERA / OTOÑO  \n",
       "7               TODAS  \n",
       "8               TODAS  "
      ]
     },
     "execution_count": 228,
     "metadata": {},
     "output_type": "execute_result"
    }
   ],
   "source": [
    "blush_benefit"
   ]
  },
  {
   "cell_type": "markdown",
   "id": "720bda2b",
   "metadata": {},
   "source": [
    "# 5 - EXTRACCIÓN DE DATOS DE SOMBRAS, BLUSH Y PINTALABIOS DE NARS"
   ]
  },
  {
   "cell_type": "code",
   "execution_count": 90,
   "id": "a9d30cd6",
   "metadata": {},
   "outputs": [
    {
     "name": "stderr",
     "output_type": "stream",
     "text": [
      "2022-12-12 11:06:41,282 [48607] WARNING  py.warnings:109: [JupyterRequire] /var/folders/fg/hm_rz3k53fv5qf5dywc0bfwr0000gn/T/ipykernel_48607/1981730666.py:3: DeprecationWarning: executable_path has been deprecated, please pass in a Service object\n",
      "  driver=webdriver.Chrome(PATH)\n",
      "\n"
     ]
    }
   ],
   "source": [
    "PATH=ChromeDriverManager().install()\n",
    "\n",
    "driver=webdriver.Chrome(PATH)"
   ]
  },
  {
   "cell_type": "code",
   "execution_count": 91,
   "id": "87539227",
   "metadata": {},
   "outputs": [],
   "source": [
    "URL = 'https://www.narscosmetics.es/es/maquillaje/ojos/paletas-de-sombras'"
   ]
  },
  {
   "cell_type": "code",
   "execution_count": 92,
   "id": "1b2bde46",
   "metadata": {},
   "outputs": [],
   "source": [
    "driver.get(URL)"
   ]
  },
  {
   "cell_type": "code",
   "execution_count": 93,
   "id": "9f35974b",
   "metadata": {},
   "outputs": [],
   "source": [
    "nombres = driver.find_elements(By.CLASS_NAME, 'product-name')"
   ]
  },
  {
   "cell_type": "code",
   "execution_count": 94,
   "id": "649b2855",
   "metadata": {},
   "outputs": [
    {
     "data": {
      "text/plain": [
       "['SUMMER UNRATED EYESHADOW PALETTE',\n",
       " 'UNWRAPPED MINI EYESHADOW PALETTE',\n",
       " 'EUPHORIA FACE PALETTE',\n",
       " 'COOL CRUSH EYESHADOW PALETTE',\n",
       " 'VOYAGEUR EYESHADOW PALETTE',\n",
       " 'VOYAGEUR EYESHADOW PALETTE',\n",
       " 'VOYAGEUR EYESHADOW PALETTE',\n",
       " 'VOYAGEUR EYESHADOW PALETTE',\n",
       " 'VOYAGEUR EYESHADOW PALETTE',\n",
       " 'CUARTETO DE SOMBRAS DE OJOS',\n",
       " 'CUARTETO DE SOMBRAS DE OJOS',\n",
       " 'CUARTETO DE SOMBRAS DE OJOS',\n",
       " 'CUARTETO DE SOMBRAS DE OJOS',\n",
       " 'CUARTETO DE SOMBRAS DE OJOS',\n",
       " '#22 BLENDING BRUSH',\n",
       " '#20 ALLOVER EYESHADOW BRUSH']"
      ]
     },
     "execution_count": 94,
     "metadata": {},
     "output_type": "execute_result"
    }
   ],
   "source": [
    "[e.text for e in nombres]"
   ]
  },
  {
   "cell_type": "code",
   "execution_count": 95,
   "id": "dc45363b",
   "metadata": {},
   "outputs": [],
   "source": [
    "prec = driver.find_elements(By.CLASS_NAME, 'product-pricing')"
   ]
  },
  {
   "cell_type": "code",
   "execution_count": 96,
   "id": "2bb770e3",
   "metadata": {},
   "outputs": [
    {
     "data": {
      "text/plain": [
       "['55,00',\n",
       " '26,00',\n",
       " '55,00',\n",
       " '55,00',\n",
       " '30,50',\n",
       " '30,50',\n",
       " '30,50',\n",
       " '30,50',\n",
       " '30,50',\n",
       " '49,00',\n",
       " '49,00',\n",
       " '49,00',\n",
       " '49,00',\n",
       " '49,00',\n",
       " '31,50',\n",
       " '31,50']"
      ]
     },
     "execution_count": 96,
     "metadata": {},
     "output_type": "execute_result"
    }
   ],
   "source": [
    "[e.text.split()[0] for e in prec]"
   ]
  },
  {
   "cell_type": "code",
   "execution_count": 97,
   "id": "e129e748",
   "metadata": {},
   "outputs": [
    {
     "data": {
      "text/plain": [
       "'/es/summer-unrated-eyeshadow-palette/0194251130200.html'"
      ]
     },
     "execution_count": 97,
     "metadata": {},
     "output_type": "execute_result"
    }
   ],
   "source": [
    "driver.find_element(By.CLASS_NAME, 'name-link').get_attribute('href')"
   ]
  },
  {
   "cell_type": "code",
   "execution_count": 98,
   "id": "e8aaec88",
   "metadata": {},
   "outputs": [],
   "source": [
    "#SOMBRAS, LABIOS Y BRUSH\n",
    "def extraer2(URL):\n",
    "    driver = webdriver.Chrome(PATH)\n",
    "    driver.get(URL)\n",
    "\n",
    "    time.sleep(5)\n",
    "    driver.find_element(By.CSS_SELECTOR, '#onetrust-accept-btn-handler').click()\n",
    "    time.sleep(5)\n",
    "    driver.execute_script('window.scrollTo(0, 3000);')  # 200px de scroll\n",
    "    time.sleep(5)\n",
    "    \n",
    "    nombre = driver.find_elements(By.CLASS_NAME, 'product-name')\n",
    "    precio = driver.find_elements(By.CLASS_NAME, 'product-pricing')\n",
    "    link =  driver.find_elements(By.CLASS_NAME, 'name-link')\n",
    "    \n",
    "    tmp = []\n",
    "    precios = []\n",
    "    links = []\n",
    "    \n",
    "\n",
    "    for e in nombre:\n",
    "        tmp.append(e.text)\n",
    "    \n",
    "    for e in precio:\n",
    "        precios.append(e.text.split()[0])\n",
    "    \n",
    "    for e in link:\n",
    "        links.append(e.get_attribute('href'))\n",
    "    \n",
    "    \n",
    "    cols = ['NOMBRE']\n",
    "    \n",
    "    total = pd.DataFrame(tmp, columns = cols)\n",
    "\n",
    "    \n",
    "    total['PRECIO'] = precios\n",
    "    total['LINKS'] = links\n",
    "    total['PRODUCTO'] = 'SOMBRAS DE OJOS'\n",
    "    \n",
    "    \n",
    "    driver.quit()\n",
    "     \n",
    "    return total"
   ]
  },
  {
   "cell_type": "code",
   "execution_count": 99,
   "id": "74399526",
   "metadata": {},
   "outputs": [],
   "source": [
    "links_nars = ('https://www.narscosmetics.es/es/maquillaje/ojos/paletas-de-sombras',\n",
    "             'https://www.narscosmetics.es/es/maquillaje/labios',\n",
    "             'https://www.narscosmetics.es/es/maquillaje/rostro/blush')"
   ]
  },
  {
   "cell_type": "code",
   "execution_count": 100,
   "id": "5b486d02",
   "metadata": {
    "scrolled": true
   },
   "outputs": [
    {
     "name": "stderr",
     "output_type": "stream",
     "text": [
      "[Parallel(n_jobs=3)]: Using backend LokyBackend with 3 concurrent workers.\n",
      "/var/folders/fg/hm_rz3k53fv5qf5dywc0bfwr0000gn/T/ipykernel_48607/2494103033.py:3: DeprecationWarning: executable_path has been deprecated, please pass in a Service object\n",
      "/var/folders/fg/hm_rz3k53fv5qf5dywc0bfwr0000gn/T/ipykernel_48607/2494103033.py:3: DeprecationWarning: executable_path has been deprecated, please pass in a Service object\n",
      "/var/folders/fg/hm_rz3k53fv5qf5dywc0bfwr0000gn/T/ipykernel_48607/2494103033.py:3: DeprecationWarning: executable_path has been deprecated, please pass in a Service object\n",
      "[Parallel(n_jobs=3)]: Done   3 out of   3 | elapsed:   56.1s finished\n"
     ]
    }
   ],
   "source": [
    "nars = Parallel(n_jobs=3, verbose=True)(delayed(extraer2)(e) for e in links_nars)"
   ]
  },
  {
   "cell_type": "code",
   "execution_count": 101,
   "id": "a66d2842",
   "metadata": {},
   "outputs": [],
   "source": [
    "sombras_nars = nars[0]\n",
    "labios_nars = nars[1]\n",
    "blush_nars = nars[2]"
   ]
  },
  {
   "cell_type": "code",
   "execution_count": 204,
   "id": "b5d09ea9",
   "metadata": {},
   "outputs": [
    {
     "name": "stderr",
     "output_type": "stream",
     "text": [
      "2022-12-12 13:04:28,775 [48607] WARNING  py.warnings:109: [JupyterRequire] /var/folders/fg/hm_rz3k53fv5qf5dywc0bfwr0000gn/T/ipykernel_48607/270403714.py:4: FutureWarning: The frame.append method is deprecated and will be removed from pandas in a future version. Use pandas.concat instead.\n",
      "  sombras_nars = sombras_nars.append(dictio, ignore_index = True)\n",
      "\n"
     ]
    }
   ],
   "source": [
    "sombras_nars\n",
    "dictio = {'NOMBRE' : 'STARGAZE EYESHADOW PALETTE', 'PRECIO' : '59,00', 'LINKS' : 'https://www.narscosmetics.es/es/stargaze-eyeshadow-palette/0194251134321.html',\\\n",
    "         'PRODUCTO' : 'SOMBRAS DE OJOS'}\n",
    "sombras_nars = sombras_nars.append(dictio, ignore_index = True)"
   ]
  },
  {
   "cell_type": "code",
   "execution_count": 207,
   "id": "ef006e2e",
   "metadata": {},
   "outputs": [],
   "source": [
    "paletas = ['TODAS', 'PRIMAVERA / VERANO', 'PRIMAVERA / VERANO / OTOÑO', 'PRIMAVERA / OTOÑO', 'INVIERNO / OTOÑO',\\\n",
    "          'VERANO / OTOÑO', 'PRIMAVERA / VERANO', 'PRIMAVERA / OTOÑO', 'OTOÑO / INVIERNO', 'OTOÑO', 'PRIMAVERA / OTOÑO',\\\n",
    "          'PRIMAVERA', 'OTOÑO / VERANO', 'PRIMAVERA', 'PRIMAVERA / OTOÑO']\n",
    "sombras_nars['PALETAS'] = paletas"
   ]
  },
  {
   "cell_type": "code",
   "execution_count": 210,
   "id": "164b88a6",
   "metadata": {},
   "outputs": [],
   "source": [
    "paletas = ['VERANO / INVIERNO / OTOÑO', 'PRIMAVERA / VERANO', 'INVIERNO', 'PRIMAVERA', 'OTOÑO / INVIERNO',\\\n",
    "          'VERANO / INVIERNO / OTOÑO', 'PRIMAVERA', 'PRIMAVERA', 'PRIMAVERA / VERANO', 'TODAS', 'TODAS',\\\n",
    "          'VERANO / INVIERNO / OTOÑO', 'PRIMAVERA / VERANO', 'PRIMAVERA / VERANO', 'PRIMAVERA / VERANO', 'TODAS']\n",
    "labios_nars['PALETAS'] = paletas"
   ]
  },
  {
   "cell_type": "code",
   "execution_count": 216,
   "id": "eaeaa146",
   "metadata": {},
   "outputs": [],
   "source": [
    "paletas = ['INVIERNO / VERANO', 'INVIERNO / VERANO', 'INVIERNO / VERANO', 'PRIMAVERA / OTOÑO', 'TODAS', \\\n",
    "          'PRIMAVERA / OTOÑO', 'TODAS', 'INVIERNO / VERANO', 'INVIERNO / VERANO', 'PRIMAVERA / OTOÑO', 'INVIERNO / VERANO',\\\n",
    "          'PRIMAVERA / OTOÑO', 'PRIMAVERA / OTOÑO']\n",
    "blush_nars['PALETAS'] = paletas"
   ]
  },
  {
   "cell_type": "code",
   "execution_count": 102,
   "id": "8a336039",
   "metadata": {},
   "outputs": [],
   "source": [
    "labios_nars['PRODUCTO'] = 'PINTALABIOS'\n",
    "blush_nars['PRODUCTO'] = 'COLORETE'"
   ]
  },
  {
   "cell_type": "code",
   "execution_count": 103,
   "id": "15b61b66",
   "metadata": {},
   "outputs": [],
   "source": [
    "def arreglar_links(link):\n",
    "    return 'https://www.narscosmetics.es' + link \n",
    "\n",
    "sombras_nars.LINKS = sombras_nars.LINKS.apply(arreglar_links)"
   ]
  },
  {
   "cell_type": "code",
   "execution_count": 104,
   "id": "269d5f70",
   "metadata": {},
   "outputs": [],
   "source": [
    "sombras_nars['LINKS'] = sombras_nars['LINKS'].apply(arreglar_links)\n",
    "labios_nars['LINKS'] = labios_nars['LINKS'].apply(arreglar_links)\n",
    "blush_nars['LINKS'] = blush_nars['LINKS'].apply(arreglar_links)"
   ]
  },
  {
   "cell_type": "code",
   "execution_count": 105,
   "id": "b28defb4",
   "metadata": {},
   "outputs": [],
   "source": [
    "sombras_nars.drop(sombras_nars.index[[14,15]], inplace = True)\n",
    "blush_nars.drop(blush_nars.index[[12,13,14]], inplace = True)"
   ]
  },
  {
   "cell_type": "markdown",
   "id": "31f20cc6",
   "metadata": {},
   "source": [
    "# 6 - EXTRACCIÓN DE DATOS DE SOMBRAS, BLUSH Y PINTALABIOS DE CHARLOTTE TILBURY"
   ]
  },
  {
   "cell_type": "code",
   "execution_count": 182,
   "id": "0609ab46",
   "metadata": {},
   "outputs": [
    {
     "name": "stderr",
     "output_type": "stream",
     "text": [
      "2022-12-12 12:39:52,662 [48607] WARNING  py.warnings:109: [JupyterRequire] /var/folders/fg/hm_rz3k53fv5qf5dywc0bfwr0000gn/T/ipykernel_48607/1981730666.py:3: DeprecationWarning: executable_path has been deprecated, please pass in a Service object\n",
      "  driver=webdriver.Chrome(PATH)\n",
      "\n"
     ]
    }
   ],
   "source": [
    "PATH=ChromeDriverManager().install()\n",
    "\n",
    "driver=webdriver.Chrome(PATH)"
   ]
  },
  {
   "cell_type": "code",
   "execution_count": 183,
   "id": "f659c94b",
   "metadata": {},
   "outputs": [],
   "source": [
    "URL = 'https://www.charlottetilbury.com/es/products/maquillaje/ojos/paleta'"
   ]
  },
  {
   "cell_type": "code",
   "execution_count": 184,
   "id": "b8c1a66c",
   "metadata": {},
   "outputs": [],
   "source": [
    "driver.get(URL)"
   ]
  },
  {
   "cell_type": "code",
   "execution_count": 185,
   "id": "e77cf529",
   "metadata": {},
   "outputs": [],
   "source": [
    "driver.find_element(By.XPATH, '//*[@id=\"onetrust-accept-btn-handler\"]').click()"
   ]
  },
  {
   "cell_type": "code",
   "execution_count": 186,
   "id": "05cc2f6b",
   "metadata": {},
   "outputs": [],
   "source": [
    "nombre = driver.find_element(By.CLASS_NAME, 'ProductCard__title').text.split('\\n')[0]"
   ]
  },
  {
   "cell_type": "code",
   "execution_count": 187,
   "id": "ec05dfc0",
   "metadata": {},
   "outputs": [
    {
     "data": {
      "text/plain": [
       "'LUXURY PALETTE'"
      ]
     },
     "execution_count": 187,
     "metadata": {},
     "output_type": "execute_result"
    }
   ],
   "source": [
    "nombre"
   ]
  },
  {
   "cell_type": "code",
   "execution_count": 110,
   "id": "39c1f5fa",
   "metadata": {},
   "outputs": [],
   "source": [
    "precio = driver.find_element(By.CLASS_NAME, 'DisplayPrice__price').text"
   ]
  },
  {
   "cell_type": "code",
   "execution_count": 111,
   "id": "041b549b",
   "metadata": {},
   "outputs": [],
   "source": [
    "links = driver.find_element(By.CLASS_NAME, 'ProductCard__link').get_attribute('href')"
   ]
  },
  {
   "cell_type": "code",
   "execution_count": 188,
   "id": "d6978f4f",
   "metadata": {},
   "outputs": [],
   "source": [
    "#SOMBRAS, LABIOS Y BLUSH\n",
    "def extraer2(URL):\n",
    "    driver = webdriver.Chrome(PATH)\n",
    "    driver.get(URL)\n",
    "    \n",
    "    driver.find_element(By.XPATH, '//*[@id=\"onetrust-accept-btn-handler\"]').click()\n",
    "\n",
    "    time.sleep(5)\n",
    "    driver.execute_script('window.scrollTo(0, 3000);')  # 200px de scroll\n",
    "    time.sleep(5)\n",
    "    \n",
    "    \n",
    "    nombre = driver.find_elements(By.CLASS_NAME, 'ProductCard__title')\n",
    "    precio = driver.find_elements(By.CLASS_NAME, 'DisplayPrice__price')\n",
    "    link =  driver.find_elements(By.CLASS_NAME, 'ProductCard__link')\n",
    "    \n",
    "    tmp = []\n",
    "    precios = []\n",
    "    links = []\n",
    "    \n",
    "\n",
    "    for e in nombre:\n",
    "        tmp.append(e.text.split('\\n')[0])\n",
    "    \n",
    "    for e in precio:\n",
    "        precios.append(e.text)\n",
    "    \n",
    "    for e in link:\n",
    "        links.append(e.get_attribute('href'))\n",
    "    \n",
    "    \n",
    "    cols = ['NOMBRE']\n",
    "    \n",
    "    total = pd.DataFrame(tmp, columns = cols)\n",
    "\n",
    "    \n",
    "    total['PRECIO'] = precios\n",
    "    total['LINKS'] = links\n",
    "    total['PRODUCTO'] = 'SOMBRAS DE OJOS'\n",
    "    \n",
    "    \n",
    "    driver.quit()\n",
    "     \n",
    "    return total"
   ]
  },
  {
   "cell_type": "code",
   "execution_count": 189,
   "id": "e080ade2",
   "metadata": {},
   "outputs": [],
   "source": [
    "links_ct = ['https://www.charlottetilbury.com/es/products/maquillaje/ojos/paleta',\\\n",
    "           'https://www.charlottetilbury.com/es/products/maquillaje/labios/labial/revolucion-matte',\\\n",
    "           'https://www.charlottetilbury.com/es/products/maquillaje/mejillas/rubor/rubor-en-polvo']"
   ]
  },
  {
   "cell_type": "code",
   "execution_count": 190,
   "id": "cab9be4c",
   "metadata": {
    "scrolled": true
   },
   "outputs": [
    {
     "name": "stderr",
     "output_type": "stream",
     "text": [
      "[Parallel(n_jobs=3)]: Using backend LokyBackend with 3 concurrent workers.\n",
      "/var/folders/fg/hm_rz3k53fv5qf5dywc0bfwr0000gn/T/ipykernel_48607/3048332081.py:3: DeprecationWarning: executable_path has been deprecated, please pass in a Service object\n",
      "/var/folders/fg/hm_rz3k53fv5qf5dywc0bfwr0000gn/T/ipykernel_48607/3048332081.py:3: DeprecationWarning: executable_path has been deprecated, please pass in a Service object\n",
      "/var/folders/fg/hm_rz3k53fv5qf5dywc0bfwr0000gn/T/ipykernel_48607/3048332081.py:3: DeprecationWarning: executable_path has been deprecated, please pass in a Service object\n",
      "[Parallel(n_jobs=3)]: Done   3 out of   3 | elapsed:   32.0s finished\n"
     ]
    }
   ],
   "source": [
    "ch_til = Parallel(n_jobs=3, verbose=True)(delayed(extraer2)(e) for e in links_ct)"
   ]
  },
  {
   "cell_type": "code",
   "execution_count": 192,
   "id": "1f2099db",
   "metadata": {},
   "outputs": [],
   "source": [
    "sombras_ct = ch_til[0]\n",
    "labios_ct = ch_til[1]\n",
    "blush_ct = ch_til[2]"
   ]
  },
  {
   "cell_type": "code",
   "execution_count": 196,
   "id": "af9a17b6",
   "metadata": {
    "scrolled": true
   },
   "outputs": [],
   "source": [
    "paletas = ['OTOÑO', 'PRIMAVERA / OTOÑO / INVIERNO', 'INVIERNO', 'PRIMAVERA / IVNVIERNO', 'OTOÑO / INVIERNO',\\\n",
    "          'OTOÑO / INVIERNO']\n",
    "sombras_ct['PALETAS'] = paletas"
   ]
  },
  {
   "cell_type": "code",
   "execution_count": 199,
   "id": "19522fb6",
   "metadata": {},
   "outputs": [],
   "source": [
    "paletas = ['OTOÑO / INVIERNO', 'OTOÑO / INVIERNO / VERANO', 'PRIMAVERA / OTOÑO / VERANO', 'VERANO / OTOÑO, INVIERNO',\\\n",
    "          'OTOÑO / INVIERNO', 'PRIMAVERA / OTOÑO', 'PRIMAVERA / VERANO', 'VERANO / INVIERNO', 'PRIMAVERA', 'PRIMAVERA / OTOÑO', 'PRIMAVERA / OTOÑO']\n",
    "labios_ct['PALETAS'] = paletas"
   ]
  },
  {
   "cell_type": "code",
   "execution_count": 200,
   "id": "03551246",
   "metadata": {},
   "outputs": [],
   "source": [
    "paletas = ['VERANO / INVIERNO', 'PRIMAVERA / OTOÑO', 'VERANO / INVIERNO', 'VERANO / INVIERNO', 'PRIMAVERA / OTOÑO', \\\n",
    "          'VERANO / INVIERNO', 'VERANO / INVIERNO']\n",
    "blush_ct['PALETAS'] = paletas"
   ]
  },
  {
   "cell_type": "code",
   "execution_count": 116,
   "id": "d13fa990",
   "metadata": {},
   "outputs": [],
   "source": [
    "labios_ct['PRODUCTO'] = 'PINTALABIOS'\n",
    "blush_ct['PRODUCTO'] = 'COLORETE'"
   ]
  },
  {
   "cell_type": "markdown",
   "id": "7d467bbc",
   "metadata": {},
   "source": [
    "# 7 - EXTRACCIÓN DE DATOS DE SOMBRAS, BLUSH Y PINTALABIOS DE BOBBI BROWN"
   ]
  },
  {
   "cell_type": "code",
   "execution_count": 118,
   "id": "a5603afb",
   "metadata": {},
   "outputs": [
    {
     "name": "stderr",
     "output_type": "stream",
     "text": [
      "2022-12-12 11:08:52,937 [48607] WARNING  py.warnings:109: [JupyterRequire] /var/folders/fg/hm_rz3k53fv5qf5dywc0bfwr0000gn/T/ipykernel_48607/1981730666.py:3: DeprecationWarning: executable_path has been deprecated, please pass in a Service object\n",
      "  driver=webdriver.Chrome(PATH)\n",
      "\n"
     ]
    }
   ],
   "source": [
    "PATH=ChromeDriverManager().install()\n",
    "\n",
    "driver=webdriver.Chrome(PATH)"
   ]
  },
  {
   "cell_type": "code",
   "execution_count": 119,
   "id": "aed28653",
   "metadata": {},
   "outputs": [],
   "source": [
    "URL = 'https://www.bobbibrown.es/products/2330/makeup/eyes/sombra-de-ojos'"
   ]
  },
  {
   "cell_type": "code",
   "execution_count": 120,
   "id": "e078006b",
   "metadata": {},
   "outputs": [],
   "source": [
    "driver.get(URL)"
   ]
  },
  {
   "cell_type": "code",
   "execution_count": 121,
   "id": "a6e16337",
   "metadata": {},
   "outputs": [],
   "source": [
    "precio = driver.find_elements(By.CLASS_NAME, 'price')"
   ]
  },
  {
   "cell_type": "code",
   "execution_count": 122,
   "id": "3178c5c6",
   "metadata": {},
   "outputs": [],
   "source": [
    "def extraer2(URL):\n",
    "    driver = webdriver.Chrome(PATH)\n",
    "    driver.get(URL)\n",
    "    time.sleep(5)\n",
    "    driver.execute_script('window.scrollTo(0, 3000);')\n",
    "    time.sleep(5)\n",
    "    \n",
    "    \n",
    "    nombre = driver.find_elements(By.CLASS_NAME, 'product-brief__header')\n",
    "    precio = driver.find_elements(By.CLASS_NAME, 'price')\n",
    "    link =  driver.find_elements(By.CLASS_NAME, 'product-brief__headline-review-link')\n",
    "    \n",
    "    tmp = []\n",
    "    precios = []\n",
    "    links = []\n",
    "    \n",
    "\n",
    "    for e in nombre:\n",
    "        tmp.append(e.text)\n",
    "    \n",
    "    for e in precio:\n",
    "        precios.append(e.text)\n",
    "    \n",
    "    for e in link:\n",
    "        links.append(e.get_attribute('href'))\n",
    "        \n",
    "    for e in precios:\n",
    "        if e == '':\n",
    "            precios.remove(e)\n",
    "    \n",
    "    \n",
    "    cols = ['NOMBRE']\n",
    "    \n",
    "    total = pd.DataFrame(tmp, columns = cols)\n",
    "    \n",
    "    total['PRECIO'] = precios\n",
    "    total['LINKS'] = links\n",
    "    total['PRODUCTO'] = 'SOMBRAS DE OJOS'\n",
    "    \n",
    "    \n",
    "    driver.quit()\n",
    "     \n",
    "    return total"
   ]
  },
  {
   "cell_type": "code",
   "execution_count": 123,
   "id": "4a72d2b7",
   "metadata": {},
   "outputs": [],
   "source": [
    "links_bb = ['https://www.bobbibrown.es/products/2330/makeup/eyes/sombra-de-ojos', \\\n",
    "           'https://www.bobbibrown.es/products/2339/makeup/lips']"
   ]
  },
  {
   "cell_type": "code",
   "execution_count": 150,
   "id": "648b4a3f",
   "metadata": {
    "scrolled": true
   },
   "outputs": [
    {
     "name": "stderr",
     "output_type": "stream",
     "text": [
      "[Parallel(n_jobs=2)]: Using backend LokyBackend with 2 concurrent workers.\n",
      "/var/folders/fg/hm_rz3k53fv5qf5dywc0bfwr0000gn/T/ipykernel_48607/4154559620.py:2: DeprecationWarning: executable_path has been deprecated, please pass in a Service object\n",
      "/var/folders/fg/hm_rz3k53fv5qf5dywc0bfwr0000gn/T/ipykernel_48607/4154559620.py:2: DeprecationWarning: executable_path has been deprecated, please pass in a Service object\n",
      "[Parallel(n_jobs=2)]: Done   2 out of   2 | elapsed:   28.7s remaining:    0.0s\n",
      "[Parallel(n_jobs=2)]: Done   2 out of   2 | elapsed:   28.7s finished\n"
     ]
    }
   ],
   "source": [
    "bobbi_brown = Parallel(n_jobs=2, verbose=True)(delayed(extraer2)(e) for e in links_bb)"
   ]
  },
  {
   "cell_type": "code",
   "execution_count": 151,
   "id": "35da5f7a",
   "metadata": {},
   "outputs": [],
   "source": [
    "sombras_bb = bobbi_brown[0]\n",
    "labios_bb = bobbi_brown[1]"
   ]
  },
  {
   "cell_type": "code",
   "execution_count": 164,
   "id": "ff472777",
   "metadata": {},
   "outputs": [],
   "source": [
    "#ASIGNAMOS LAS PALETAS PARA CADA PRODUCTO\n",
    "labios_bb['PRODUCTO'] = 'PINTALABIOS'\n",
    "labios_bb.drop(labios_bb.index[[19]], inplace = True)\n",
    "paletas = ['TODAS', 'PRIMAVERA / VERANO', 'TODAS', 'TODAS', 'PRIMAVERA', 'TODAS', 'TODAS','TODAS','TODAS',\\\n",
    "          'PRIMAVERA / OTOÑO / INVIERNO', 'TODAS', 'TODAS', 'TODAS', 'TODAS', 'PRIMAVERA / VERANO', 'TODAS',\\\n",
    "          'TODAS', 'PRIMAVERA / OTOÑO / INVIERNO', 'TODAS', 'PRIMAVERA', 'TODAS', 'OTOÑO / INVIERNO', \\\n",
    "          'TODAS', 'OTOÑO / INVIERNO', 'OTOÑO / INVIERNO']\n",
    "labios_bb['PALETAS'] = paletas"
   ]
  },
  {
   "cell_type": "code",
   "execution_count": 154,
   "id": "6df7dd1d",
   "metadata": {},
   "outputs": [],
   "source": [
    "#ASIGNAMOS LAS PALETAS PARA CADA PRODUCTO\n",
    "sombras_bb.drop(sombras_bb.index[[0,1,4,5,14,15,16]], inplace = True)\n",
    "paletas = ['PRIMAVERA / OTOÑO / INVIERNO', 'PRIMAVERA / OTOÑO / INVIERNO', 'PRIMAVERA / OTOÑO / VERANO', \\\n",
    "          'PRIMAVERA / OTOÑO / VERANO', 'PRIMAVERA / OTOÑO', 'TODAS', 'TODAS', 'PRIMAVERA / OTOÑO / VERANO', \\\n",
    "           'PRIMAVERA', 'PRIMAVERA / OTOÑO / INVIERNO', 'PRIMAVERA']\n",
    "sombras_bb['PALETAS'] = paletas"
   ]
  },
  {
   "cell_type": "markdown",
   "id": "98ff85ae",
   "metadata": {},
   "source": [
    "# 8 - EXTRACCIÓN DE DATOS DE SOMBRAS, BLUSH Y PINTALABIOS DE NYX"
   ]
  },
  {
   "cell_type": "code",
   "execution_count": null,
   "id": "dbac884a",
   "metadata": {},
   "outputs": [],
   "source": [
    "PATH=ChromeDriverManager().install()\n",
    "\n",
    "driver=webdriver.Chrome(PATH)"
   ]
  },
  {
   "cell_type": "code",
   "execution_count": null,
   "id": "8caf7ef4",
   "metadata": {},
   "outputs": [],
   "source": [
    "URL = 'https://www.nyxcosmetics.es/paletas/sombras?start=0&sz=18#view-mode=grid'"
   ]
  },
  {
   "cell_type": "code",
   "execution_count": null,
   "id": "1aaa44c6",
   "metadata": {},
   "outputs": [],
   "source": [
    "driver.get(URL)"
   ]
  },
  {
   "cell_type": "code",
   "execution_count": null,
   "id": "1cc8f480",
   "metadata": {},
   "outputs": [],
   "source": []
  }
 ],
 "metadata": {
  "kernelspec": {
   "display_name": "Python 3 (ipykernel)",
   "language": "python",
   "name": "python3"
  },
  "language_info": {
   "codemirror_mode": {
    "name": "ipython",
    "version": 3
   },
   "file_extension": ".py",
   "mimetype": "text/x-python",
   "name": "python",
   "nbconvert_exporter": "python",
   "pygments_lexer": "ipython3",
   "version": "3.9.12"
  }
 },
 "nbformat": 4,
 "nbformat_minor": 5
}
