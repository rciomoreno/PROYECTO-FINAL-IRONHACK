{
 "cells": [
  {
   "cell_type": "markdown",
   "id": "fe1f35b9",
   "metadata": {},
   "source": [
    "# EXTRACCIÓN DE DATOS:\n",
    "\n",
    "Paletas de sombras, pintalabios y colorete en función de la paleta de colores asignadas, siendo estas:\\\n",
    "        -PRIMAVERA\\\n",
    "        -VERANO\\\n",
    "        -OTOÑO\\\n",
    "        -INVIERNO"
   ]
  },
  {
   "cell_type": "markdown",
   "id": "98659534",
   "metadata": {},
   "source": [
    "**IMPORTACIONES**"
   ]
  },
  {
   "cell_type": "code",
   "execution_count": 1,
   "id": "95110d6c",
   "metadata": {},
   "outputs": [],
   "source": [
    "from selenium import webdriver\n",
    "import pandas as pd\n",
    "import numpy as np\n",
    "from webdriver_manager.chrome import ChromeDriverManager\n",
    "from joblib import Parallel, delayed\n",
    "from selenium.webdriver.chrome.options import Options\n",
    "from selenium.webdriver.common.by import By\n",
    "import time"
   ]
  },
  {
   "cell_type": "markdown",
   "id": "14a81f33",
   "metadata": {},
   "source": [
    "Ahora, vamos a scrappear los productos de maquillaje con mejor rating que se ajusten a las paletas de colores\\\n",
    "de cada estación. Sacaremos nombre, precio y rating."
   ]
  },
  {
   "cell_type": "code",
   "execution_count": 2,
   "id": "7f4be981",
   "metadata": {
    "scrolled": true
   },
   "outputs": [
    {
     "name": "stderr",
     "output_type": "stream",
     "text": [
      "/var/folders/fg/hm_rz3k53fv5qf5dywc0bfwr0000gn/T/ipykernel_41429/235325829.py:3: DeprecationWarning: executable_path has been deprecated, please pass in a Service object\n",
      "  driver=webdriver.Chrome(PATH)\n"
     ]
    }
   ],
   "source": [
    "PATH=ChromeDriverManager().install()\n",
    "\n",
    "driver=webdriver.Chrome(PATH)  "
   ]
  },
  {
   "cell_type": "markdown",
   "id": "026cc5f8",
   "metadata": {},
   "source": [
    "*Existen varios productos que podemos recomendar segun la colometría de las personas. En este caso, nos centraremos\\\n",
    "en sombras de ojos, pintalabios, colorete y corrector*\\\n",
    "\n",
    "Por otra parte, debemos tener en cuenta que hay varias tiendas donde podemos encontrar productos de maquillaje.\\\n",
    "Concretamente, en nuestro proyecto, los escogeremos de las siguientes:\n",
    "\n",
    "1. **PRIMOR**\n",
    "2. **SEPHORA**"
   ]
  },
  {
   "cell_type": "markdown",
   "id": "f9725b4e",
   "metadata": {},
   "source": [
    "# **1 - EXTRACCIÓN DE DATOS DE PRIMOR DE SOMBRAS, PINTALABIOS Y COLORETE DE PRIMOR**"
   ]
  },
  {
   "cell_type": "code",
   "execution_count": 3,
   "id": "a77e535f",
   "metadata": {},
   "outputs": [],
   "source": [
    "URL = 'https://www.primor.eu/#/dfclassic/query=paletas%20sombras%20verano&filter%5Bcategories%5D%5B0%5D=Paletas%20de%20sombras%20de%20ojos%20y%20maquillaje&session_id=e68b0b5ac1828fdb430ff5b492adb6e5&query_name=match_and'\n",
    "driver.get(URL)"
   ]
  },
  {
   "cell_type": "code",
   "execution_count": 4,
   "id": "452b92c1",
   "metadata": {},
   "outputs": [],
   "source": [
    "filas = driver.find_elements(By.CLASS_NAME, 'df-card__content')"
   ]
  },
  {
   "cell_type": "code",
   "execution_count": 35,
   "id": "691eadd3",
   "metadata": {},
   "outputs": [],
   "source": [
    "#Paletas de sombras\n",
    "def extraer(URL):\n",
    "    driver = webdriver.Chrome(PATH)\n",
    "    driver.get(URL)\n",
    "    \n",
    "    driver.execute_script('window.scrollTo(0, 200);')  # 200px de scroll\n",
    "    \n",
    "    filas = driver.find_elements(By.CLASS_NAME, 'df-card__content')\n",
    "    link = driver.find_elements(By.CLASS_NAME, 'df-card__main')\n",
    "    tmp = []\n",
    "    links = []\n",
    "\n",
    "    for e in filas:\n",
    "        tmp.append(e.text.split('\\n'))\n",
    "    \n",
    "    for e in link:\n",
    "        links.append(e.get_attribute('href'))\n",
    "    \n",
    "    cols = ['NOMBRE', 'TIPO', 'PRECIO'] \n",
    "    \n",
    "    total = pd.DataFrame(tmp, columns = cols)\n",
    "    \n",
    "    total['LINKS'] = links\n",
    "    total['PRODUCTO'] = 'SOMBRAS DE OJOS'\n",
    "    \n",
    "    driver.quit()\n",
    "     \n",
    "    return total"
   ]
  },
  {
   "cell_type": "code",
   "execution_count": 36,
   "id": "28c02199",
   "metadata": {},
   "outputs": [],
   "source": [
    "links_sombras_primor = ['https://www.primor.eu/#/dfclassic/query=paletas%20sombras%20verano&filter%5Bcategories%5D%5B0%5D=Paletas%20de%20sombras%20de%20ojos%20y%20maquillaje&session_id=e68b0b5ac1828fdb430ff5b492adb6e5&query_name=match_and',\\\n",
    "               'https://www.primor.eu/#/dfclassic/query=paletas%20sombras%20oto%C3%B1al&session_id=e68b0b5ac1828fdb430ff5b492adb6e5&query_name=match_and',\\\n",
    "               'https://www.primor.eu/#/dfclassic/query=paletas%20sombras%20invierno&filter%5Bcategories%5D%5B0%5D=Ojos%20lujo&filter%5Bcategories%5D%5B1%5D=Paletas%20de%20sombras%20de%20ojos%20y%20maquillaje&filter%5Bcategories%5D%5B2%5D=Sombras%20de%20ojos%20lujo&session_id=e68b0b5ac1828fdb430ff5b492adb6e5&query_name=match_and',\\\n",
    "               'https://www.primor.eu/#/dfclassic/query=paletas%20sombras%20pastel&filter%5Bcategories%5D%5B0%5D=Paletas%20de%20sombras%20de%20ojos%20y%20maquillaje&filter%5Bcategories%5D%5B1%5D=Sombras%20de%20ojos&session_id=e68b0b5ac1828fdb430ff5b492adb6e5&query_name=match_and']"
   ]
  },
  {
   "cell_type": "code",
   "execution_count": 37,
   "id": "ddc665c8",
   "metadata": {
    "scrolled": true
   },
   "outputs": [
    {
     "name": "stderr",
     "output_type": "stream",
     "text": [
      "[Parallel(n_jobs=4)]: Using backend LokyBackend with 4 concurrent workers.\n",
      "/var/folders/fg/hm_rz3k53fv5qf5dywc0bfwr0000gn/T/ipykernel_41429/840644339.py:3: DeprecationWarning: executable_path has been deprecated, please pass in a Service object\n",
      "/var/folders/fg/hm_rz3k53fv5qf5dywc0bfwr0000gn/T/ipykernel_41429/840644339.py:3: DeprecationWarning: executable_path has been deprecated, please pass in a Service object\n",
      "/var/folders/fg/hm_rz3k53fv5qf5dywc0bfwr0000gn/T/ipykernel_41429/840644339.py:3: DeprecationWarning: executable_path has been deprecated, please pass in a Service object\n",
      "/var/folders/fg/hm_rz3k53fv5qf5dywc0bfwr0000gn/T/ipykernel_41429/840644339.py:3: DeprecationWarning: executable_path has been deprecated, please pass in a Service object\n",
      "[Parallel(n_jobs=4)]: Done   2 out of   4 | elapsed:  1.7min remaining:  1.7min\n",
      "[Parallel(n_jobs=4)]: Done   4 out of   4 | elapsed:  1.8min finished\n"
     ]
    }
   ],
   "source": [
    "productos = Parallel(n_jobs=4, verbose=True)(delayed(extraer)(e) for e in links_sombras_primor)"
   ]
  },
  {
   "cell_type": "code",
   "execution_count": 8,
   "id": "db808770",
   "metadata": {},
   "outputs": [],
   "source": [
    "sombras_ver_prim = productos[0] \n",
    "sombras_oto_prim = productos[1] \n",
    "sombras_inv_prim = productos[2] \n",
    "sombras_pri_prim = productos[3] \n",
    "#productos_totales = pd.concat([productos[0], productos[1], productos[2], productos[3]], axis = 0)"
   ]
  },
  {
   "cell_type": "code",
   "execution_count": 9,
   "id": "4e8f9e75",
   "metadata": {},
   "outputs": [
    {
     "name": "stderr",
     "output_type": "stream",
     "text": [
      "/var/folders/fg/hm_rz3k53fv5qf5dywc0bfwr0000gn/T/ipykernel_41429/535601540.py:3: DeprecationWarning: executable_path has been deprecated, please pass in a Service object\n",
      "  driver = webdriver.Chrome(PATH)\n",
      "/var/folders/fg/hm_rz3k53fv5qf5dywc0bfwr0000gn/T/ipykernel_41429/535601540.py:3: DeprecationWarning: executable_path has been deprecated, please pass in a Service object\n",
      "  driver = webdriver.Chrome(PATH)\n",
      "/var/folders/fg/hm_rz3k53fv5qf5dywc0bfwr0000gn/T/ipykernel_41429/535601540.py:3: DeprecationWarning: executable_path has been deprecated, please pass in a Service object\n",
      "  driver = webdriver.Chrome(PATH)\n",
      "/var/folders/fg/hm_rz3k53fv5qf5dywc0bfwr0000gn/T/ipykernel_41429/535601540.py:3: DeprecationWarning: executable_path has been deprecated, please pass in a Service object\n",
      "  driver = webdriver.Chrome(PATH)\n"
     ]
    }
   ],
   "source": [
    "ad1 = extraer('https://www.primor.eu/#/dfclassic/query=sombras%20krash%20rosas&filter%5Bcategories%5D%5B0%5D=Paletas%20de%20sombras%20de%20ojos%20y%20maquillaje&filter%5Bcategories%5D%5B1%5D=Sombras%20de%20ojos&filter%5Bbrand%5D%5B0%5D=Krash%20Kosmetics&session_id=e68b0b5ac1828fdb430ff5b492adb6e5&query_name=match_and')\n",
    "ad2 = extraer('https://www.primor.eu/#/dfclassic/query=sombras%20lilas&filter%5Bcategories%5D%5B0%5D=Maquillaje%20de%20ojos&session_id=e68b0b5ac1828fdb430ff5b492adb6e5&query_name=match_and')\n",
    "ad3 = extraer('https://www.primor.eu/#/dfclassic/query=sombras%20negras&filter%5Bcategories%5D%5B0%5D=Maquillaje%20de%20ojos&session_id=e68b0b5ac1828fdb430ff5b492adb6e5&query_name=match_and')\n",
    "ad4 = extraer('https://www.primor.eu/#/dfclassic/query=sombras%20naranjas&session_id=e68b0b5ac1828fdb430ff5b492adb6e5&query_name=match_and')"
   ]
  },
  {
   "cell_type": "code",
   "execution_count": 10,
   "id": "27ead922",
   "metadata": {},
   "outputs": [],
   "source": [
    "#Limpiamos los índices y añadimos lo que hemos sacado más\n",
    "\n",
    "#PRIMAVERA\n",
    "sombras_pri_prim = pd.concat([sombras_pri_prim, ad1], axis = 0)\n",
    "sombras_pri_prim.drop_duplicates(inplace = True)\n",
    "sombras_pri_prim['ID'] = [e for e in range(len(sombras_pri_prim))]\n",
    "sombras_pri_prim.set_index('ID', drop = True, inplace = True)\n",
    "\n",
    "#OTOÑO\n",
    "sombras_oto_prim = pd.concat([sombras_oto_prim, ad2], axis = 0)\n",
    "sombras_oto_prim.drop_duplicates(inplace = True)\n",
    "sombras_oto_prim['ID'] = [e for e in range(len(sombras_oto_prim))]\n",
    "sombras_oto_prim.set_index('ID', drop = True, inplace = True)\n",
    "\n",
    "#INVIERNO\n",
    "sombras_inv_prim = pd.concat([sombras_inv_prim, ad3], axis = 0)\n",
    "sombras_inv_prim.drop_duplicates(inplace = True)\n",
    "sombras_inv_prim['ID'] = [e for e in range(len(sombras_inv_prim))]\n",
    "sombras_inv_prim.set_index('ID', drop = True, inplace = True)\n",
    "\n",
    "#VERANO\n",
    "sombras_ver_prim = pd.concat([sombras_ver_prim, ad4], axis = 0)\n",
    "sombras_ver_prim.drop_duplicates(inplace = True)\n",
    "sombras_ver_prim['ID'] = [e for e in range(len(sombras_ver_prim))]\n",
    "sombras_ver_prim.set_index('ID', drop = True, inplace = True)"
   ]
  },
  {
   "cell_type": "code",
   "execution_count": 11,
   "id": "8532bfb5",
   "metadata": {},
   "outputs": [],
   "source": [
    "#Pintalabios\n",
    "def extraer(URL):\n",
    "    driver = webdriver.Chrome(PATH)\n",
    "    driver.get(URL)\n",
    "    \n",
    "    driver.execute_script('window.scrollTo(0, 200);')  # 200px de scroll\n",
    "    \n",
    "    filas = driver.find_elements(By.CLASS_NAME, 'df-card__content')\n",
    "    link = driver.find_elements(By.CLASS_NAME, 'df-card__main')\n",
    "    tmp = []\n",
    "    links = []\n",
    "\n",
    "    for e in filas:\n",
    "        tmp.append(e.text.split('\\n'))\n",
    "    \n",
    "    for e in link:\n",
    "        links.append(e.get_attribute('href'))\n",
    "    \n",
    "    cols = ['NOMBRE', 'TIPO', 'PRECIO']\n",
    "    \n",
    "    total = pd.DataFrame(tmp, columns = cols)\n",
    "    \n",
    "    total['LINKS'] = links\n",
    "    total['PRODUCTO'] = 'PINTALABIOS'\n",
    "    \n",
    "    driver.quit()\n",
    "     \n",
    "    return total"
   ]
  },
  {
   "cell_type": "code",
   "execution_count": 12,
   "id": "f612986d",
   "metadata": {},
   "outputs": [],
   "source": [
    "links_pintalabios_primor = ['https://www.primor.eu/#/dfclassic/query=pintalabios%20vivid%20&filter%5Bcategories%5D%5B0%5D=Pintalabios%20y%20maquillaje%20de%20labios&session_id=e68b0b5ac1828fdb430ff5b492adb6e5&query_name=match_and',\\\n",
    "                           'https://www.primor.eu/#/dfclassic/query=pintalabios%20neutro&filter%5Bcategories%5D%5B0%5D=Barras%20de%20labios%20lujo&filter%5Bcategories%5D%5B1%5D=Pintalabios%20y%20maquillaje%20de%20labios&session_id=e68b0b5ac1828fdb430ff5b492adb6e5&query_name=match_and',\\\n",
    "                           'https://www.primor.eu/#/dfclassic/query=pintalabios%20oscuro&filter%5Bcategories%5D%5B0%5D=Pintalabios%20y%20maquillaje%20de%20labios&session_id=e68b0b5ac1828fdb430ff5b492adb6e5&query_name=match_and',\\\n",
    "                           'https://www.primor.eu/#/dfclassic/query=pintalabios%20rosados&filter%5Bcategories%5D%5B0%5D=Pintalabios%20y%20maquillaje%20de%20labios&filter%5Bbrand%5D%5B0%5D=Revolution&filter%5Bbrand%5D%5B1%5D=NYX%20Professional%20Makeup&filter%5Bbrand%5D%5B2%5D=Krash%20Kosmetics&session_id=e68b0b5ac1828fdb430ff5b492adb6e5&query_name=match_and']"
   ]
  },
  {
   "cell_type": "code",
   "execution_count": 13,
   "id": "a7b058bb",
   "metadata": {
    "scrolled": true
   },
   "outputs": [
    {
     "name": "stderr",
     "output_type": "stream",
     "text": [
      "[Parallel(n_jobs=4)]: Using backend LokyBackend with 4 concurrent workers.\n",
      "/var/folders/fg/hm_rz3k53fv5qf5dywc0bfwr0000gn/T/ipykernel_41429/1683671410.py:3: DeprecationWarning: executable_path has been deprecated, please pass in a Service object\n",
      "/var/folders/fg/hm_rz3k53fv5qf5dywc0bfwr0000gn/T/ipykernel_41429/1683671410.py:3: DeprecationWarning: executable_path has been deprecated, please pass in a Service object\n",
      "/var/folders/fg/hm_rz3k53fv5qf5dywc0bfwr0000gn/T/ipykernel_41429/1683671410.py:3: DeprecationWarning: executable_path has been deprecated, please pass in a Service object\n",
      "/var/folders/fg/hm_rz3k53fv5qf5dywc0bfwr0000gn/T/ipykernel_41429/1683671410.py:3: DeprecationWarning: executable_path has been deprecated, please pass in a Service object\n",
      "[Parallel(n_jobs=4)]: Done   2 out of   4 | elapsed:  1.5min remaining:  1.5min\n",
      "[Parallel(n_jobs=4)]: Done   4 out of   4 | elapsed:  1.5min finished\n"
     ]
    }
   ],
   "source": [
    "productos1 = Parallel(n_jobs=4, verbose=True)(delayed(extraer)(e) for e in links_pintalabios_primor)"
   ]
  },
  {
   "cell_type": "code",
   "execution_count": 14,
   "id": "d5214d17",
   "metadata": {
    "scrolled": false
   },
   "outputs": [
    {
     "name": "stderr",
     "output_type": "stream",
     "text": [
      "/var/folders/fg/hm_rz3k53fv5qf5dywc0bfwr0000gn/T/ipykernel_41429/1683671410.py:3: DeprecationWarning: executable_path has been deprecated, please pass in a Service object\n",
      "  driver = webdriver.Chrome(PATH)\n",
      "/var/folders/fg/hm_rz3k53fv5qf5dywc0bfwr0000gn/T/ipykernel_41429/1683671410.py:3: DeprecationWarning: executable_path has been deprecated, please pass in a Service object\n",
      "  driver = webdriver.Chrome(PATH)\n",
      "/var/folders/fg/hm_rz3k53fv5qf5dywc0bfwr0000gn/T/ipykernel_41429/1683671410.py:3: DeprecationWarning: executable_path has been deprecated, please pass in a Service object\n",
      "  driver = webdriver.Chrome(PATH)\n",
      "/var/folders/fg/hm_rz3k53fv5qf5dywc0bfwr0000gn/T/ipykernel_41429/1683671410.py:3: DeprecationWarning: executable_path has been deprecated, please pass in a Service object\n",
      "  driver = webdriver.Chrome(PATH)\n",
      "/var/folders/fg/hm_rz3k53fv5qf5dywc0bfwr0000gn/T/ipykernel_41429/1683671410.py:3: DeprecationWarning: executable_path has been deprecated, please pass in a Service object\n",
      "  driver = webdriver.Chrome(PATH)\n"
     ]
    }
   ],
   "source": [
    "#Añadimos más filas\n",
    "add1 = extraer('https://www.primor.eu/#/dfclassic/query=pintalabios%20rosados&filter%5Bcategories%5D%5B0%5D=Pintalabios%20y%20maquillaje%20de%20labios&filter%5Bbrand%5D%5B0%5D=NYX%20Professional%20Makeup&filter%5Bbrand%5D%5B1%5D=Krash%20Kosmetics&session_id=e68b0b5ac1828fdb430ff5b492adb6e5&query_name=match_and')\n",
    "add2 = extraer('https://www.primor.eu/#/dfclassic/query=berry%20nars&filter%5Bbrand%5D%5B0%5D=NARS&filter%5Bcategories%5D%5B0%5D=Labios%20lujo&session_id=e68b0b5ac1828fdb430ff5b492adb6e5&query_name=match_or')\n",
    "add3 = extraer('https://www.primor.eu/#/dfclassic/query=nude%20nars&session_id=e68b0b5ac1828fdb430ff5b492adb6e5&query_name=match_and')\n",
    "add4 = extraer('https://www.primor.eu/#/dfclassic/query=dark%20nars&filter%5Bbrand%5D%5B0%5D=NARS&filter%5Bcategories%5D%5B0%5D=Barras%20de%20labios%20lujo&session_id=e68b0b5ac1828fdb430ff5b492adb6e5&query_name=match_or')\n",
    "add5 = extraer('https://www.primor.eu/#/dfclassic/query=mac%20lips&session_id=e68b0b5ac1828fdb430ff5b492adb6e5&query_name=match_and')"
   ]
  },
  {
   "cell_type": "code",
   "execution_count": 15,
   "id": "627f697f",
   "metadata": {},
   "outputs": [],
   "source": [
    "pintalab_ver_prim = productos1[0] \n",
    "pintalab_oto_prim = productos1[1] \n",
    "pintalab_inv_prim = productos1[2] \n",
    "pintalab_pri_pri = productos1[3]"
   ]
  },
  {
   "cell_type": "code",
   "execution_count": 17,
   "id": "65108f19",
   "metadata": {},
   "outputs": [],
   "source": [
    "#Limpiamos los índices y añadimos lo que hemos sacado más\n",
    "\n",
    "#PRIMAVERA\n",
    "pintalab_pri_prim = pd.concat([pintalab_pri_pri, add1, add3], axis = 0)\n",
    "pintalab_pri_prim.drop_duplicates(inplace = True)\n",
    "pintalab_pri_prim['ID'] = [e for e in range(len(pintalab_pri_prim))]\n",
    "pintalab_pri_prim.set_index('ID', drop = True, inplace = True)\n",
    "\n",
    "#OTOÑO\n",
    "pintalab_oto_prim = pd.concat([pintalab_pri_pri, add1], axis = 0)\n",
    "pintalab_oto_prim.drop_duplicates(inplace = True)\n",
    "pintalab_oto_prim['ID'] = [e for e in range(len(pintalab_oto_prim))]\n",
    "pintalab_oto_prim.set_index('ID', drop = True, inplace = True)\n",
    "\n",
    "#INVIERNO\n",
    "pintalab_inv_prim = pd.concat([pintalab_pri_pri, add4], axis = 0)\n",
    "pintalab_inv_prim.drop_duplicates(inplace = True)\n",
    "pintalab_inv_prim['ID'] = [e for e in range(len(pintalab_inv_prim))]\n",
    "pintalab_inv_prim.set_index('ID', drop = True, inplace = True)\n",
    "\n",
    "#VERANO\n",
    "pintalab_ver_prim = pd.concat([pintalab_pri_pri, add5], axis = 0)\n",
    "pintalab_ver_prim.drop_duplicates(inplace = True)\n",
    "pintalab_ver_prim['ID'] = [e for e in range(len(pintalab_ver_prim))]\n",
    "pintalab_ver_prim.set_index('ID', drop = True, inplace = True)"
   ]
  },
  {
   "cell_type": "code",
   "execution_count": 18,
   "id": "2cd974d1",
   "metadata": {},
   "outputs": [],
   "source": [
    "#Colorete\n",
    "def extraer(URL):\n",
    "    driver = webdriver.Chrome(PATH)\n",
    "    driver.get(URL)\n",
    "    \n",
    "    driver.execute_script('window.scrollTo(0, 200);')  # 200px de scroll\n",
    "    \n",
    "    filas = driver.find_elements(By.CLASS_NAME, 'df-card__content')\n",
    "    link = driver.find_elements(By.CLASS_NAME, 'df-card__main')\n",
    "    tmp = []\n",
    "    links = []\n",
    "\n",
    "    for e in filas:\n",
    "        tmp.append(e.text.split('\\n'))\n",
    "    \n",
    "    for e in link:\n",
    "        links.append(e.get_attribute('href'))\n",
    "    \n",
    "    cols = ['NOMBRE', 'TIPO', 'PRECIO']\n",
    "    \n",
    "    total = pd.DataFrame(tmp, columns = cols)\n",
    "    \n",
    "    total['LINKS'] = links\n",
    "    total['PRODUCTO'] = 'COLORETE'\n",
    "    \n",
    "    driver.quit()\n",
    "     \n",
    "    return total"
   ]
  },
  {
   "cell_type": "code",
   "execution_count": 19,
   "id": "a3703a85",
   "metadata": {},
   "outputs": [],
   "source": [
    "links_blush_primor = ['https://www.primor.eu/3ina/66421-colorete-the-blush.html#/dfclassic/query=blush&filter%5Bbrand%5D%5B0%5D=MAC&session_id=e68b0b5ac1828fdb430ff5b492adb6e5&query_name=match_and',\\\n",
    "                     'https://www.primor.eu/#/dfclassic/query=blush&filter%5Bbrand%5D%5B0%5D=NARS&session_id=e68b0b5ac1828fdb430ff5b492adb6e5&query_name=match_and',\\\n",
    "                     'https://www.primor.eu/#/dfclassic/query=blush%20rosa&filter%5Bbrand%5D%5B0%5D=3ina&session_id=e68b0b5ac1828fdb430ff5b492adb6e5&query_name=match_and',\\\n",
    "                     'https://www.primor.eu/#/dfclassic/query=blush&filter%5Bbrand%5D%5B0%5D=Yves%20Saint%20Laurent&session_id=e68b0b5ac1828fdb430ff5b492adb6e5&query_name=match_and']"
   ]
  },
  {
   "cell_type": "code",
   "execution_count": 20,
   "id": "6d9240cc",
   "metadata": {},
   "outputs": [
    {
     "name": "stderr",
     "output_type": "stream",
     "text": [
      "[Parallel(n_jobs=4)]: Using backend LokyBackend with 4 concurrent workers.\n",
      "/var/folders/fg/hm_rz3k53fv5qf5dywc0bfwr0000gn/T/ipykernel_41429/2199440826.py:3: DeprecationWarning: executable_path has been deprecated, please pass in a Service object\n",
      "/var/folders/fg/hm_rz3k53fv5qf5dywc0bfwr0000gn/T/ipykernel_41429/2199440826.py:3: DeprecationWarning: executable_path has been deprecated, please pass in a Service object\n",
      "/var/folders/fg/hm_rz3k53fv5qf5dywc0bfwr0000gn/T/ipykernel_41429/2199440826.py:3: DeprecationWarning: executable_path has been deprecated, please pass in a Service object\n",
      "/var/folders/fg/hm_rz3k53fv5qf5dywc0bfwr0000gn/T/ipykernel_41429/2199440826.py:3: DeprecationWarning: executable_path has been deprecated, please pass in a Service object\n",
      "[Parallel(n_jobs=4)]: Done   2 out of   4 | elapsed:   54.9s remaining:   54.9s\n",
      "[Parallel(n_jobs=4)]: Done   4 out of   4 | elapsed:  1.1min finished\n"
     ]
    }
   ],
   "source": [
    "productos2 = Parallel(n_jobs=4, verbose=True)(delayed(extraer)(e) for e in links_blush_primor)"
   ]
  },
  {
   "cell_type": "code",
   "execution_count": 21,
   "id": "7329c922",
   "metadata": {},
   "outputs": [],
   "source": [
    "blush_pri_prim = productos1[0] \n",
    "blush_ver_prim = productos1[1] \n",
    "blush_inv_prim = productos1[2] \n",
    "blush_oto_prim = productos1[3]"
   ]
  },
  {
   "cell_type": "markdown",
   "id": "491fadee",
   "metadata": {},
   "source": [
    "# **2 - EXTRACCIÓN DE DATOS DE PRIMOR DE SOMBRAS Y COLORETES DE URBAN DECAY**"
   ]
  },
  {
   "cell_type": "code",
   "execution_count": 22,
   "id": "edec4d6d",
   "metadata": {},
   "outputs": [
    {
     "name": "stderr",
     "output_type": "stream",
     "text": [
      "/var/folders/fg/hm_rz3k53fv5qf5dywc0bfwr0000gn/T/ipykernel_41429/235325829.py:3: DeprecationWarning: executable_path has been deprecated, please pass in a Service object\n",
      "  driver=webdriver.Chrome(PATH)\n"
     ]
    }
   ],
   "source": [
    "PATH=ChromeDriverManager().install()\n",
    "\n",
    "driver=webdriver.Chrome(PATH)  "
   ]
  },
  {
   "cell_type": "code",
   "execution_count": 23,
   "id": "70df20b6",
   "metadata": {},
   "outputs": [],
   "source": [
    "URL = 'https://www.urbandecay.com/eyeshadow/?prefn1=taxonomyColorEye&prefv1=BLACK%7CBLUE%7CBOLD%7CBROWN%7CCOOL%7CNEUTRALS%7CPLUMS%7CPURPLE%7CRED%7CSIENNA%7CSILVER%7CSMOKEY%7CTAUPE&start=0&sz=12#view-mode=grid'\n",
    "driver.get(URL)"
   ]
  },
  {
   "cell_type": "code",
   "execution_count": 24,
   "id": "511a63a9",
   "metadata": {},
   "outputs": [],
   "source": [
    "#Investigamos dónde podemos scrappear los datos que necesitamos\n",
    "prueba = driver.find_elements(By.CLASS_NAME, 'c-product-tile__caption-inner')\n",
    "nombres = driver.find_element(By.CLASS_NAME, 'c-product-tile__name').text\n",
    "links1 = driver.find_elements(By.CLASS_NAME, 'c-product-image__link')\n",
    "links = [e.get_attribute('href') for e in links1]\n",
    "precio = driver.find_elements(By.CLASS_NAME, 'c-product-tile__price') \n",
    "precios = [e.text.split()[-1] for e in precio]\n"
   ]
  },
  {
   "cell_type": "code",
   "execution_count": 28,
   "id": "d4fa954a",
   "metadata": {},
   "outputs": [],
   "source": [
    "#SOMBBRAS\n",
    "def extraer(URL):\n",
    "    PATH=ChromeDriverManager().install()\n",
    "    driver = webdriver.Chrome(PATH)\n",
    "    driver.get(URL)\n",
    "    \n",
    "    time.sleep(5)\n",
    "    driver.find_element(By.CSS_SELECTOR, 'body>div.c-modal.h-text-align-center.m-borderless.m-autosize-large.m-image.m-opened.h-fade-in>div>button').click() \n",
    "    time.sleep(5)\n",
    "    driver.execute_script('window.scrollTo(0, 3000);')  # 200px de scroll\n",
    "    time.sleep(5)\n",
    "    nombre = driver.find_elements(By.CLASS_NAME, 'c-product-tile__name') #nombre\n",
    "    time.sleep(5)\n",
    "    precio = driver.find_elements(By.CLASS_NAME, 'c-product-tile__price') #precio\n",
    "    time.sleep(5)\n",
    "    links1 = driver.find_elements(By.CLASS_NAME, 'c-product-image__link') #links\n",
    "        \n",
    "    tmp = [e.text for e in nombre]\n",
    "    \n",
    "    precios = [e.text.split('\\n')[-1] for e in precio]\n",
    "    \n",
    "    links = [e.get_attribute('href') for e in links1]\n",
    "    \n",
    "    cols = ['NOMBRE']\n",
    "    \n",
    "    total = pd.DataFrame(tmp, columns = cols)\n",
    "    \n",
    "    total['PRECIO'] = precios\n",
    "    total['LINKS'] = links\n",
    "    total['PRODUCTO'] = 'SOMBRAS DE OJOS'\n",
    "    \n",
    "    driver.quit()\n",
    "    \n",
    "    return total"
   ]
  },
  {
   "cell_type": "code",
   "execution_count": 29,
   "id": "113f0da7",
   "metadata": {},
   "outputs": [],
   "source": [
    "URL = 'https://www.urbandecay.com/naked-palettes/?start=0&sz=18'"
   ]
  },
  {
   "cell_type": "code",
   "execution_count": 30,
   "id": "0734d765",
   "metadata": {
    "scrolled": true
   },
   "outputs": [
    {
     "name": "stderr",
     "output_type": "stream",
     "text": [
      "/var/folders/fg/hm_rz3k53fv5qf5dywc0bfwr0000gn/T/ipykernel_41429/1508465150.py:4: DeprecationWarning: executable_path has been deprecated, please pass in a Service object\n",
      "  driver = webdriver.Chrome(PATH)\n"
     ]
    }
   ],
   "source": [
    "sombras_ud = extraer(URL)"
   ]
  },
  {
   "cell_type": "code",
   "execution_count": 31,
   "id": "2b8513ac",
   "metadata": {},
   "outputs": [],
   "source": [
    "sombras_ud.drop_duplicates(inplace = True)\n",
    "sombras_ud = sombras_ud[0:14] "
   ]
  },
  {
   "cell_type": "code",
   "execution_count": 32,
   "id": "42acbd1e",
   "metadata": {},
   "outputs": [],
   "source": [
    "#Añadimos los valores de las paletas en función de los colores de las sombras\n",
    "\n",
    "sombras_ud['PALETA'] = ['PRIMAVERA', 'PRIMAVERA / OTOÑO', 'OTOÑO / INVIERNO', 'VERANO', 'TODAS', 'PRIMAVERA / VERANO',\\\n",
    "                  'OTOÑO', 'PRIMAVERA / VERANO', 'OTOÑO / INVIERNO', 'PRIMAVERA', 'PRIMAVERA / INVIERNO', 'PRIMAVERA',\\\n",
    "                  'PRIMAVERA / OTOÑO / INVIERNO', 'OTOÑO / INVIERNO']"
   ]
  },
  {
   "cell_type": "code",
   "execution_count": 38,
   "id": "50469735",
   "metadata": {},
   "outputs": [],
   "source": [
    "#COLORETE\n",
    "def extraer(URL):\n",
    "    PATH=ChromeDriverManager().install()\n",
    "    driver = webdriver.Chrome(PATH)\n",
    "    driver.get(URL)\n",
    "    \n",
    "    time.sleep(5)\n",
    "    driver.find_element(By.CSS_SELECTOR, 'body>div.c-modal.h-text-align-center.m-borderless.m-autosize-large.m-image.m-opened.h-fade-in>div>button').click() \n",
    "    time.sleep(5)\n",
    "    driver.execute_script('window.scrollTo(0, 3000);')  # 200px de scroll\n",
    "    time.sleep(5)\n",
    "    nombre = driver.find_elements(By.CLASS_NAME, 'c-product-tile__name') #nombre\n",
    "    time.sleep(5)\n",
    "    precio = driver.find_elements(By.CLASS_NAME, 'c-product-tile__price') #precio\n",
    "    time.sleep(5)\n",
    "    links1 = driver.find_elements(By.CLASS_NAME, 'c-product-image__link') #links\n",
    "        \n",
    "    tmp = [e.text for e in nombre]\n",
    "    \n",
    "    precios = [e.text.split('\\n')[-1] for e in precio]\n",
    "    \n",
    "    links = [e.get_attribute('href') for e in links1]\n",
    "    \n",
    "    cols = ['NOMBRE']\n",
    "    \n",
    "    total = pd.DataFrame(tmp, columns = cols)\n",
    "    \n",
    "    total['PRECIO'] = precios\n",
    "    total['LINKS'] = links\n",
    "    total['PRODUCTO'] = 'COLORETE'\n",
    "    \n",
    "    driver.quit()\n",
    "    \n",
    "    return total"
   ]
  },
  {
   "cell_type": "code",
   "execution_count": 39,
   "id": "d8ddc769",
   "metadata": {
    "scrolled": true
   },
   "outputs": [
    {
     "name": "stderr",
     "output_type": "stream",
     "text": [
      "/var/folders/fg/hm_rz3k53fv5qf5dywc0bfwr0000gn/T/ipykernel_41429/169910402.py:4: DeprecationWarning: executable_path has been deprecated, please pass in a Service object\n",
      "  driver = webdriver.Chrome(PATH)\n"
     ]
    }
   ],
   "source": [
    "blush_ud = extraer('https://www.urbandecay.com/blush-bronzer-highlighter/')"
   ]
  },
  {
   "cell_type": "code",
   "execution_count": 40,
   "id": "46c7993c",
   "metadata": {},
   "outputs": [
    {
     "data": {
      "text/html": [
       "<div>\n",
       "<style scoped>\n",
       "    .dataframe tbody tr th:only-of-type {\n",
       "        vertical-align: middle;\n",
       "    }\n",
       "\n",
       "    .dataframe tbody tr th {\n",
       "        vertical-align: top;\n",
       "    }\n",
       "\n",
       "    .dataframe thead th {\n",
       "        text-align: right;\n",
       "    }\n",
       "</style>\n",
       "<table border=\"1\" class=\"dataframe\">\n",
       "  <thead>\n",
       "    <tr style=\"text-align: right;\">\n",
       "      <th></th>\n",
       "      <th>NOMBRE</th>\n",
       "      <th>PRECIO</th>\n",
       "      <th>LINKS</th>\n",
       "      <th>PRODUCTO</th>\n",
       "    </tr>\n",
       "  </thead>\n",
       "  <tbody>\n",
       "    <tr>\n",
       "      <th>0</th>\n",
       "      <td>STAY NAKED THREESOME BRONZE, BLUSH, AND HIGHLI...</td>\n",
       "      <td>$37.00</td>\n",
       "      <td>https://www.urbandecay.com/threesome-by-urban-...</td>\n",
       "      <td>COLORETE</td>\n",
       "    </tr>\n",
       "    <tr>\n",
       "      <th>1</th>\n",
       "      <td>BEACHED BRONZER</td>\n",
       "      <td>$31.00</td>\n",
       "      <td>https://www.urbandecay.com/beached-bronzer-by-...</td>\n",
       "      <td>COLORETE</td>\n",
       "    </tr>\n",
       "    <tr>\n",
       "      <th>2</th>\n",
       "      <td>NAKED3 EYESHADOW PALETTE</td>\n",
       "      <td>$27.00</td>\n",
       "      <td>https://www.urbandecay.com/naked-3-palette-by-...</td>\n",
       "      <td>COLORETE</td>\n",
       "    </tr>\n",
       "    <tr>\n",
       "      <th>3</th>\n",
       "      <td>24/7 GLIDE-ON WATERPROOF EYELINER PENCIL</td>\n",
       "      <td>$11.50</td>\n",
       "      <td>https://www.urbandecay.com/24-7-glide-on-eye-p...</td>\n",
       "      <td>COLORETE</td>\n",
       "    </tr>\n",
       "    <tr>\n",
       "      <th>4</th>\n",
       "      <td>NAKED RELOADED EYESHADOW PALETTE</td>\n",
       "      <td>$22.00</td>\n",
       "      <td>https://www.urbandecay.com/naked-reloaded-urba...</td>\n",
       "      <td>COLORETE</td>\n",
       "    </tr>\n",
       "    <tr>\n",
       "      <th>5</th>\n",
       "      <td>NAKED HEAT EYESHADOW PALETTE</td>\n",
       "      <td>$27.00</td>\n",
       "      <td>https://www.urbandecay.com/naked-heat-eyeshado...</td>\n",
       "      <td>COLORETE</td>\n",
       "    </tr>\n",
       "    <tr>\n",
       "      <th>6</th>\n",
       "      <td></td>\n",
       "      <td></td>\n",
       "      <td>https://www.urbandecay.com/naked-honey-eyeshad...</td>\n",
       "      <td>COLORETE</td>\n",
       "    </tr>\n",
       "    <tr>\n",
       "      <th>7</th>\n",
       "      <td></td>\n",
       "      <td></td>\n",
       "      <td>https://www.urbandecay.com/urban-decay-cosmeti...</td>\n",
       "      <td>COLORETE</td>\n",
       "    </tr>\n",
       "    <tr>\n",
       "      <th>8</th>\n",
       "      <td></td>\n",
       "      <td></td>\n",
       "      <td>https://www.urbandecay.com/all-nighter-setting...</td>\n",
       "      <td>COLORETE</td>\n",
       "    </tr>\n",
       "    <tr>\n",
       "      <th>9</th>\n",
       "      <td></td>\n",
       "      <td></td>\n",
       "      <td>https://www.urbandecay.com/eyeshadow-primer-po...</td>\n",
       "      <td>COLORETE</td>\n",
       "    </tr>\n",
       "  </tbody>\n",
       "</table>\n",
       "</div>"
      ],
      "text/plain": [
       "                                              NOMBRE  PRECIO  \\\n",
       "0  STAY NAKED THREESOME BRONZE, BLUSH, AND HIGHLI...  $37.00   \n",
       "1                                    BEACHED BRONZER  $31.00   \n",
       "2                           NAKED3 EYESHADOW PALETTE  $27.00   \n",
       "3           24/7 GLIDE-ON WATERPROOF EYELINER PENCIL  $11.50   \n",
       "4                   NAKED RELOADED EYESHADOW PALETTE  $22.00   \n",
       "5                       NAKED HEAT EYESHADOW PALETTE  $27.00   \n",
       "6                                                              \n",
       "7                                                              \n",
       "8                                                              \n",
       "9                                                              \n",
       "\n",
       "                                               LINKS  PRODUCTO  \n",
       "0  https://www.urbandecay.com/threesome-by-urban-...  COLORETE  \n",
       "1  https://www.urbandecay.com/beached-bronzer-by-...  COLORETE  \n",
       "2  https://www.urbandecay.com/naked-3-palette-by-...  COLORETE  \n",
       "3  https://www.urbandecay.com/24-7-glide-on-eye-p...  COLORETE  \n",
       "4  https://www.urbandecay.com/naked-reloaded-urba...  COLORETE  \n",
       "5  https://www.urbandecay.com/naked-heat-eyeshado...  COLORETE  \n",
       "6  https://www.urbandecay.com/naked-honey-eyeshad...  COLORETE  \n",
       "7  https://www.urbandecay.com/urban-decay-cosmeti...  COLORETE  \n",
       "8  https://www.urbandecay.com/all-nighter-setting...  COLORETE  \n",
       "9  https://www.urbandecay.com/eyeshadow-primer-po...  COLORETE  "
      ]
     },
     "execution_count": 40,
     "metadata": {},
     "output_type": "execute_result"
    }
   ],
   "source": [
    "blush_ud "
   ]
  },
  {
   "cell_type": "code",
   "execution_count": 41,
   "id": "089fceeb",
   "metadata": {},
   "outputs": [
    {
     "name": "stderr",
     "output_type": "stream",
     "text": [
      "/var/folders/fg/hm_rz3k53fv5qf5dywc0bfwr0000gn/T/ipykernel_41429/3659531634.py:2: SettingWithCopyWarning: \n",
      "A value is trying to be set on a copy of a slice from a DataFrame\n",
      "\n",
      "See the caveats in the documentation: https://pandas.pydata.org/pandas-docs/stable/user_guide/indexing.html#returning-a-view-versus-a-copy\n",
      "  blush_ud.drop_duplicates(inplace = True)\n",
      "/var/folders/fg/hm_rz3k53fv5qf5dywc0bfwr0000gn/T/ipykernel_41429/3659531634.py:3: SettingWithCopyWarning: \n",
      "A value is trying to be set on a copy of a slice from a DataFrame.\n",
      "Try using .loc[row_indexer,col_indexer] = value instead\n",
      "\n",
      "See the caveats in the documentation: https://pandas.pydata.org/pandas-docs/stable/user_guide/indexing.html#returning-a-view-versus-a-copy\n",
      "  blush_ud['PALETA'] = ['VERANO / INVIERNO', 'TODAS']\n"
     ]
    }
   ],
   "source": [
    "blush_ud = blush_ud[0:2]\n",
    "blush_ud.drop_duplicates(inplace = True)\n",
    "blush_ud['PALETA'] = ['VERANO / INVIERNO', 'TODAS']\n"
   ]
  },
  {
   "cell_type": "code",
   "execution_count": null,
   "id": "b1bc4c1f",
   "metadata": {},
   "outputs": [],
   "source": [
    "mu_ud = pd.concat()"
   ]
  },
  {
   "cell_type": "code",
   "execution_count": null,
   "id": "8e73c531",
   "metadata": {},
   "outputs": [],
   "source": []
  }
 ],
 "metadata": {
  "kernelspec": {
   "display_name": "Python 3 (ipykernel)",
   "language": "python",
   "name": "python3"
  },
  "language_info": {
   "codemirror_mode": {
    "name": "ipython",
    "version": 3
   },
   "file_extension": ".py",
   "mimetype": "text/x-python",
   "name": "python",
   "nbconvert_exporter": "python",
   "pygments_lexer": "ipython3",
   "version": "3.9.12"
  }
 },
 "nbformat": 4,
 "nbformat_minor": 5
}
