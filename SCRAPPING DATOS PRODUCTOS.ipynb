{
 "cells": [
  {
   "cell_type": "markdown",
   "id": "5f9afc94",
   "metadata": {},
   "source": [
    "# EXTRACCIÓN DE DATOS:\n",
    "\n",
    "Paletas de sombras, pintalabios y colorete en función de la paleta de colores asignadas, siendo estas:\\\n",
    "        -PRIMAVERA\\\n",
    "        -VERANO\\\n",
    "        -OTOÑO\\\n",
    "        -INVIERNO"
   ]
  },
  {
   "cell_type": "markdown",
   "id": "0bdc5a79",
   "metadata": {},
   "source": [
    "**IMPORTACIONES**"
   ]
  },
  {
   "cell_type": "code",
   "execution_count": 537,
   "id": "16ef5385",
   "metadata": {},
   "outputs": [],
   "source": [
    "from selenium import webdriver\n",
    "import pandas as pd\n",
    "import numpy as np\n",
    "from webdriver_manager.chrome import ChromeDriverManager\n",
    "from joblib import Parallel, delayed\n",
    "from selenium.webdriver.chrome.options import Options\n",
    "from selenium.webdriver.common.by import By\n",
    "import time\n",
    "import re"
   ]
  },
  {
   "cell_type": "code",
   "execution_count": null,
   "id": "d7764e70",
   "metadata": {},
   "outputs": [],
   "source": [
    "pd.set_option('display.max_rows', None)"
   ]
  },
  {
   "cell_type": "markdown",
   "id": "18c17ec8",
   "metadata": {},
   "source": [
    "Ahora, vamos a scrappear los productos de maquillaje con mejor rating que se ajusten a las paletas de colores\\\n",
    "de cada estación. Sacaremos nombre, precio y rating."
   ]
  },
  {
   "cell_type": "code",
   "execution_count": 335,
   "id": "615af8ec",
   "metadata": {
    "scrolled": true
   },
   "outputs": [
    {
     "name": "stderr",
     "output_type": "stream",
     "text": [
      "2022-12-12 16:24:52,097 [48607] WARNING  py.warnings:109: [JupyterRequire] /var/folders/fg/hm_rz3k53fv5qf5dywc0bfwr0000gn/T/ipykernel_48607/235325829.py:3: DeprecationWarning: executable_path has been deprecated, please pass in a Service object\n",
      "  driver=webdriver.Chrome(PATH)\n",
      "\n"
     ]
    }
   ],
   "source": [
    "PATH=ChromeDriverManager().install()\n",
    "\n",
    "driver=webdriver.Chrome(PATH)  "
   ]
  },
  {
   "cell_type": "markdown",
   "id": "c32daf91",
   "metadata": {},
   "source": [
    "*Existen varios productos que podemos recomendar segun la colometría de las personas. En este caso, nos centraremos\\\n",
    "en sombras de ojos, pintalabios y colorete, puesto que es la cosmética de color más fácil de asignar a un tipo de \\\n",
    "paleta*\n",
    "\n",
    "Por otra parte, debemos tener en cuenta que hay varias tiendas donde podemos encontrar productos de maquillaje.\\\n",
    "Concretamente, en nuestro proyecto, los escogeremos de las siguientes:\n",
    "\n",
    "1. **PRIMOR** - Nº 1 PERFUMERÍA / COSMÉTICA EN ESPAÑA\n",
    "2. **URBAN DECAY** - TOP 10 MEJORES MARCAS PARA SOMBRAS A NIVEL MUNDIAL\n",
    "3. **HUDA BEAUTY** - TOP 10 MEJORES MARCAS PARA SOMBRAS Y PINTALABIOS A NIVEL MUNDIAL\n",
    "4. **KIKO** - TOP 10 MEJORES MARCAS PARA PINTALABIOS A NIVEL MUNDIAL\n",
    "5. **KAT VON D** - TOP 10 MEJORES MARCAS PARA PINTALABIOS A NIVEL MUNDIAL\n",
    "6. **BENEFIT** - TOP 10 MEJORES MARCAS PARA COLORETES A NIVEL MUNDIAL\n",
    "7. **NARS** - TOP 10 MEJORES MARCAS PARA SOMBRAS, COLORETES Y PINTALABIOS A NIVEL MUNDIAL\n",
    "8. **CHARLOTTE TILBURY** - TOP 10 MEJORES MARCAS PARA COLORETES\n",
    "9. **BOBBI BROWN** - TOP 10 MEJORES MARCAS PARA PINTALABIOS Y SOMBRAS\n",
    "\n",
    "En ellas, podremos encontrar variedad de precio, composición y producto."
   ]
  },
  {
   "cell_type": "markdown",
   "id": "7b0c93bf",
   "metadata": {},
   "source": [
    "# **1 - EXTRACCIÓN DE DATOS  Y LIMPIEZA DE PRIMOR: SOMBRAS, PINTALABIOS Y COLORETES**"
   ]
  },
  {
   "cell_type": "markdown",
   "id": "fd2aa253",
   "metadata": {},
   "source": [
    "*SOMBRAS*"
   ]
  },
  {
   "cell_type": "code",
   "execution_count": 370,
   "id": "34476e22",
   "metadata": {},
   "outputs": [],
   "source": [
    "def extraer(URL):\n",
    "    driver = webdriver.Chrome(PATH)\n",
    "    driver.get(URL)\n",
    "    \n",
    "    driver.execute_script('window.scrollTo(0, 3000);')  # 200px de scroll\n",
    "    time.sleep(5)\n",
    "    \n",
    "    filas = driver.find_elements(By.CLASS_NAME, 'df-card__content')\n",
    "    link = driver.find_elements(By.CLASS_NAME, 'df-card__main')\n",
    "    tmp = []\n",
    "    links = []\n",
    "\n",
    "    for e in filas:\n",
    "        tmp.append(e.text.split('\\n'))\n",
    "    \n",
    "    for e in link:\n",
    "        links.append(e.get_attribute('href'))\n",
    "    \n",
    "    cols = ['NOMBRE', 'TIPO', 'PRECIO']\n",
    "    \n",
    "    total = pd.DataFrame(tmp, columns = cols)\n",
    "    \n",
    "    total['LINKS'] = links\n",
    "    total['PRODUCTO'] = 'SOMBRAS DE OJOS'\n",
    "    total.drop(['TIPO'], axis = 1, inplace = True)\n",
    "    \n",
    "    driver.quit()\n",
    "     \n",
    "    return total"
   ]
  },
  {
   "cell_type": "code",
   "execution_count": 371,
   "id": "11f38282",
   "metadata": {},
   "outputs": [],
   "source": [
    "links_sombras_primor = ['https://www.primor.eu/#/dfclassic/query=paletas%20sombras%20verano&filter%5Bcategories%5D%5B0%5D=Paletas%20de%20sombras%20de%20ojos%20y%20maquillaje&session_id=e68b0b5ac1828fdb430ff5b492adb6e5&query_name=match_and',\\\n",
    "               'https://www.primor.eu/#/dfclassic/query=paletas%20sombras%20oto%C3%B1al&session_id=e68b0b5ac1828fdb430ff5b492adb6e5&query_name=match_and',\\\n",
    "               'https://www.primor.eu/#/dfclassic/query=paletas%20sombras%20invierno&filter%5Bcategories%5D%5B0%5D=Ojos%20lujo&filter%5Bcategories%5D%5B1%5D=Paletas%20de%20sombras%20de%20ojos%20y%20maquillaje&filter%5Bcategories%5D%5B2%5D=Sombras%20de%20ojos%20lujo&session_id=e68b0b5ac1828fdb430ff5b492adb6e5&query_name=match_and',\\\n",
    "               'https://www.primor.eu/#/dfclassic/query=paletas%20sombras%20pastel&filter%5Bcategories%5D%5B0%5D=Paletas%20de%20sombras%20de%20ojos%20y%20maquillaje&filter%5Bcategories%5D%5B1%5D=Sombras%20de%20ojos&session_id=e68b0b5ac1828fdb430ff5b492adb6e5&query_name=match_and']"
   ]
  },
  {
   "cell_type": "code",
   "execution_count": 372,
   "id": "999f417f",
   "metadata": {
    "scrolled": true
   },
   "outputs": [
    {
     "name": "stderr",
     "output_type": "stream",
     "text": [
      "[Parallel(n_jobs=4)]: Using backend LokyBackend with 4 concurrent workers.\n",
      "/var/folders/fg/hm_rz3k53fv5qf5dywc0bfwr0000gn/T/ipykernel_48607/2921855445.py:3: DeprecationWarning: executable_path has been deprecated, please pass in a Service object\n",
      "/var/folders/fg/hm_rz3k53fv5qf5dywc0bfwr0000gn/T/ipykernel_48607/2921855445.py:3: DeprecationWarning: executable_path has been deprecated, please pass in a Service object\n",
      "/var/folders/fg/hm_rz3k53fv5qf5dywc0bfwr0000gn/T/ipykernel_48607/2921855445.py:3: DeprecationWarning: executable_path has been deprecated, please pass in a Service object\n",
      "/var/folders/fg/hm_rz3k53fv5qf5dywc0bfwr0000gn/T/ipykernel_48607/2921855445.py:3: DeprecationWarning: executable_path has been deprecated, please pass in a Service object\n",
      "[Parallel(n_jobs=4)]: Done   2 out of   4 | elapsed:   41.4s remaining:   41.4s\n",
      "[Parallel(n_jobs=4)]: Done   4 out of   4 | elapsed:   43.0s finished\n"
     ]
    }
   ],
   "source": [
    "productos = Parallel(n_jobs=4, verbose=True)(delayed(extraer)(e) for e in links_sombras_primor)"
   ]
  },
  {
   "cell_type": "code",
   "execution_count": 373,
   "id": "26d57d51",
   "metadata": {},
   "outputs": [],
   "source": [
    "sombras_ver_prim = productos[0] \n",
    "sombras_oto_prim = productos[1] \n",
    "sombras_inv_prim = productos[2] \n",
    "sombras_pri_prim = productos[3] \n",
    "#productos_totales = pd.concat([productos[0], productos[1], productos[2], productos[3]], axis = 0)"
   ]
  },
  {
   "cell_type": "code",
   "execution_count": 374,
   "id": "5c2988fe",
   "metadata": {},
   "outputs": [
    {
     "name": "stderr",
     "output_type": "stream",
     "text": [
      "2022-12-12 16:38:39,760 [48607] WARNING  py.warnings:109: [JupyterRequire] /var/folders/fg/hm_rz3k53fv5qf5dywc0bfwr0000gn/T/ipykernel_48607/2921855445.py:3: DeprecationWarning: executable_path has been deprecated, please pass in a Service object\n",
      "  driver = webdriver.Chrome(PATH)\n",
      "\n",
      "2022-12-12 16:39:00,221 [48607] WARNING  py.warnings:109: [JupyterRequire] /var/folders/fg/hm_rz3k53fv5qf5dywc0bfwr0000gn/T/ipykernel_48607/2921855445.py:3: DeprecationWarning: executable_path has been deprecated, please pass in a Service object\n",
      "  driver = webdriver.Chrome(PATH)\n",
      "\n",
      "2022-12-12 16:39:17,233 [48607] WARNING  py.warnings:109: [JupyterRequire] /var/folders/fg/hm_rz3k53fv5qf5dywc0bfwr0000gn/T/ipykernel_48607/2921855445.py:3: DeprecationWarning: executable_path has been deprecated, please pass in a Service object\n",
      "  driver = webdriver.Chrome(PATH)\n",
      "\n",
      "2022-12-12 16:39:41,491 [48607] WARNING  py.warnings:109: [JupyterRequire] /var/folders/fg/hm_rz3k53fv5qf5dywc0bfwr0000gn/T/ipykernel_48607/2921855445.py:3: DeprecationWarning: executable_path has been deprecated, please pass in a Service object\n",
      "  driver = webdriver.Chrome(PATH)\n",
      "\n"
     ]
    }
   ],
   "source": [
    "ad1 = extraer('https://www.primor.eu/#/dfclassic/query=sombras%20krash%20rosas&filter%5Bcategories%5D%5B0%5D=Paletas%20de%20sombras%20de%20ojos%20y%20maquillaje&filter%5Bcategories%5D%5B1%5D=Sombras%20de%20ojos&filter%5Bbrand%5D%5B0%5D=Krash%20Kosmetics&session_id=e68b0b5ac1828fdb430ff5b492adb6e5&query_name=match_and')\n",
    "ad2 = extraer('https://www.primor.eu/#/dfclassic/query=sombras%20lilas&filter%5Bcategories%5D%5B0%5D=Maquillaje%20de%20ojos&session_id=e68b0b5ac1828fdb430ff5b492adb6e5&query_name=match_and')\n",
    "ad3 = extraer('https://www.primor.eu/#/dfclassic/query=sombras%20negras&filter%5Bcategories%5D%5B0%5D=Maquillaje%20de%20ojos&session_id=e68b0b5ac1828fdb430ff5b492adb6e5&query_name=match_and')\n",
    "ad4 = extraer('https://www.primor.eu/#/dfclassic/query=sombras%20naranjas&session_id=e68b0b5ac1828fdb430ff5b492adb6e5&query_name=match_and')"
   ]
  },
  {
   "cell_type": "code",
   "execution_count": 375,
   "id": "e6d2651c",
   "metadata": {},
   "outputs": [],
   "source": [
    "#Limpiamos los índices y añadimos lo que hemos sacado más\n",
    "\n",
    "#PRIMAVERA\n",
    "sombras_pri_prim = pd.concat([sombras_pri_prim, ad1], axis = 0)\n",
    "sombras_pri_prim.drop_duplicates(inplace = True)\n",
    "sombras_pri_prim['ID'] = [e for e in range(len(sombras_pri_prim))]\n",
    "sombras_pri_prim.set_index('ID', drop = True, inplace = True)\n",
    "\n",
    "#OTOÑO\n",
    "sombras_oto_prim = pd.concat([sombras_oto_prim, ad2], axis = 0)\n",
    "sombras_oto_prim.drop_duplicates(inplace = True)\n",
    "sombras_oto_prim['ID'] = [e for e in range(len(sombras_oto_prim))]\n",
    "sombras_oto_prim.set_index('ID', drop = True, inplace = True)\n",
    "\n",
    "#INVIERNO\n",
    "sombras_inv_prim = pd.concat([sombras_inv_prim, ad3], axis = 0)\n",
    "sombras_inv_prim.drop_duplicates(inplace = True)\n",
    "sombras_inv_prim['ID'] = [e for e in range(len(sombras_inv_prim))]\n",
    "sombras_inv_prim.set_index('ID', drop = True, inplace = True)\n",
    "\n",
    "#VERANO\n",
    "sombras_ver_prim = pd.concat([sombras_ver_prim, ad4], axis = 0)\n",
    "sombras_ver_prim.drop_duplicates(inplace = True)\n",
    "sombras_ver_prim['ID'] = [e for e in range(len(sombras_ver_prim))]\n",
    "sombras_ver_prim.set_index('ID', drop = True, inplace = True)"
   ]
  },
  {
   "cell_type": "code",
   "execution_count": 409,
   "id": "ba147834",
   "metadata": {},
   "outputs": [],
   "source": [
    "sombras_pri_prim['PALETA'] = 'PRIMAVERA'\n",
    "sombras_oto_prim['PALETA'] = 'OTOÑO'\n",
    "sombras_inv_prim['PALETA'] = 'INVIERNO'\n",
    "sombras_ver_prim['PALETA'] = 'VERANO'"
   ]
  },
  {
   "cell_type": "markdown",
   "id": "b9667676",
   "metadata": {},
   "source": [
    "*PINTALABIOS*"
   ]
  },
  {
   "cell_type": "code",
   "execution_count": 11,
   "id": "bb3b689d",
   "metadata": {},
   "outputs": [],
   "source": [
    "def extraer(URL):\n",
    "    driver = webdriver.Chrome(PATH)\n",
    "    driver.get(URL)\n",
    "    \n",
    "    driver.execute_script('window.scrollTo(0, 3000);')  # 200px de scroll\n",
    "    time.sleep(5)\n",
    "    \n",
    "    filas = driver.find_elements(By.CLASS_NAME, 'df-card__content')\n",
    "    link = driver.find_elements(By.CLASS_NAME, 'df-card__main')\n",
    "    tmp = []\n",
    "    links = []\n",
    "\n",
    "    for e in filas:\n",
    "        tmp.append(e.text.split('\\n'))\n",
    "    \n",
    "    for e in link:\n",
    "        links.append(e.get_attribute('href'))\n",
    "    \n",
    "    cols = ['NOMBRE', 'TIPO', 'PRECIO']\n",
    "    \n",
    "    total = pd.DataFrame(tmp, columns = cols)\n",
    "    \n",
    "    total['LINKS'] = links\n",
    "    total['PRODUCTO'] = 'PINTALABIOS'\n",
    "    \n",
    "    driver.quit()\n",
    "     \n",
    "    return total"
   ]
  },
  {
   "cell_type": "code",
   "execution_count": 12,
   "id": "d6164bc5",
   "metadata": {},
   "outputs": [],
   "source": [
    "links_pintalabios_primor = ['https://www.primor.eu/#/dfclassic/query=pintalabios%20vivid%20&filter%5Bcategories%5D%5B0%5D=Pintalabios%20y%20maquillaje%20de%20labios&session_id=e68b0b5ac1828fdb430ff5b492adb6e5&query_name=match_and',\\\n",
    "                           'https://www.primor.eu/#/dfclassic/query=pintalabios%20neutro&filter%5Bcategories%5D%5B0%5D=Barras%20de%20labios%20lujo&filter%5Bcategories%5D%5B1%5D=Pintalabios%20y%20maquillaje%20de%20labios&session_id=e68b0b5ac1828fdb430ff5b492adb6e5&query_name=match_and',\\\n",
    "                           'https://www.primor.eu/#/dfclassic/query=pintalabios%20oscuro&filter%5Bcategories%5D%5B0%5D=Pintalabios%20y%20maquillaje%20de%20labios&session_id=e68b0b5ac1828fdb430ff5b492adb6e5&query_name=match_and',\\\n",
    "                           'https://www.primor.eu/#/dfclassic/query=pintalabios%20rosados&filter%5Bcategories%5D%5B0%5D=Pintalabios%20y%20maquillaje%20de%20labios&filter%5Bbrand%5D%5B0%5D=Revolution&filter%5Bbrand%5D%5B1%5D=NYX%20Professional%20Makeup&filter%5Bbrand%5D%5B2%5D=Krash%20Kosmetics&session_id=e68b0b5ac1828fdb430ff5b492adb6e5&query_name=match_and']"
   ]
  },
  {
   "cell_type": "code",
   "execution_count": 13,
   "id": "44378e51",
   "metadata": {
    "scrolled": true
   },
   "outputs": [
    {
     "name": "stderr",
     "output_type": "stream",
     "text": [
      "[Parallel(n_jobs=4)]: Using backend LokyBackend with 4 concurrent workers.\n",
      "/var/folders/fg/hm_rz3k53fv5qf5dywc0bfwr0000gn/T/ipykernel_48607/2764708321.py:3: DeprecationWarning: executable_path has been deprecated, please pass in a Service object\n",
      "/var/folders/fg/hm_rz3k53fv5qf5dywc0bfwr0000gn/T/ipykernel_48607/2764708321.py:3: DeprecationWarning: executable_path has been deprecated, please pass in a Service object\n",
      "/var/folders/fg/hm_rz3k53fv5qf5dywc0bfwr0000gn/T/ipykernel_48607/2764708321.py:3: DeprecationWarning: executable_path has been deprecated, please pass in a Service object\n",
      "/var/folders/fg/hm_rz3k53fv5qf5dywc0bfwr0000gn/T/ipykernel_48607/2764708321.py:3: DeprecationWarning: executable_path has been deprecated, please pass in a Service object\n",
      "[Parallel(n_jobs=4)]: Done   2 out of   4 | elapsed:   51.8s remaining:   51.8s\n",
      "[Parallel(n_jobs=4)]: Done   4 out of   4 | elapsed:   52.7s finished\n"
     ]
    }
   ],
   "source": [
    "productos1 = Parallel(n_jobs=4, verbose=True)(delayed(extraer)(e) for e in links_pintalabios_primor)"
   ]
  },
  {
   "cell_type": "code",
   "execution_count": 15,
   "id": "655f9cc5",
   "metadata": {
    "scrolled": false
   },
   "outputs": [
    {
     "name": "stderr",
     "output_type": "stream",
     "text": [
      "2022-12-12 10:57:07,258 [48607] WARNING  py.warnings:109: [JupyterRequire] /var/folders/fg/hm_rz3k53fv5qf5dywc0bfwr0000gn/T/ipykernel_48607/2764708321.py:3: DeprecationWarning: executable_path has been deprecated, please pass in a Service object\n",
      "  driver = webdriver.Chrome(PATH)\n",
      "\n",
      "2022-12-12 10:57:27,066 [48607] WARNING  py.warnings:109: [JupyterRequire] /var/folders/fg/hm_rz3k53fv5qf5dywc0bfwr0000gn/T/ipykernel_48607/2764708321.py:3: DeprecationWarning: executable_path has been deprecated, please pass in a Service object\n",
      "  driver = webdriver.Chrome(PATH)\n",
      "\n",
      "2022-12-12 10:57:48,343 [48607] WARNING  py.warnings:109: [JupyterRequire] /var/folders/fg/hm_rz3k53fv5qf5dywc0bfwr0000gn/T/ipykernel_48607/2764708321.py:3: DeprecationWarning: executable_path has been deprecated, please pass in a Service object\n",
      "  driver = webdriver.Chrome(PATH)\n",
      "\n",
      "2022-12-12 10:58:03,451 [48607] WARNING  py.warnings:109: [JupyterRequire] /var/folders/fg/hm_rz3k53fv5qf5dywc0bfwr0000gn/T/ipykernel_48607/2764708321.py:3: DeprecationWarning: executable_path has been deprecated, please pass in a Service object\n",
      "  driver = webdriver.Chrome(PATH)\n",
      "\n",
      "2022-12-12 10:58:18,742 [48607] WARNING  py.warnings:109: [JupyterRequire] /var/folders/fg/hm_rz3k53fv5qf5dywc0bfwr0000gn/T/ipykernel_48607/2764708321.py:3: DeprecationWarning: executable_path has been deprecated, please pass in a Service object\n",
      "  driver = webdriver.Chrome(PATH)\n",
      "\n"
     ]
    }
   ],
   "source": [
    "#Añadimos más filas\n",
    "add1 = extraer('https://www.primor.eu/#/dfclassic/query=pintalabios%20rosados&filter%5Bcategories%5D%5B0%5D=Pintalabios%20y%20maquillaje%20de%20labios&filter%5Bbrand%5D%5B0%5D=NYX%20Professional%20Makeup&filter%5Bbrand%5D%5B1%5D=Krash%20Kosmetics&session_id=e68b0b5ac1828fdb430ff5b492adb6e5&query_name=match_and')\n",
    "add2 = extraer('https://www.primor.eu/#/dfclassic/query=berry%20nars&filter%5Bbrand%5D%5B0%5D=NARS&filter%5Bcategories%5D%5B0%5D=Labios%20lujo&session_id=e68b0b5ac1828fdb430ff5b492adb6e5&query_name=match_or')\n",
    "add3 = extraer('https://www.primor.eu/#/dfclassic/query=nude%20nars&session_id=e68b0b5ac1828fdb430ff5b492adb6e5&query_name=match_and')\n",
    "add4 = extraer('https://www.primor.eu/#/dfclassic/query=dark%20nars&filter%5Bbrand%5D%5B0%5D=NARS&filter%5Bcategories%5D%5B0%5D=Barras%20de%20labios%20lujo&session_id=e68b0b5ac1828fdb430ff5b492adb6e5&query_name=match_or')\n",
    "add5 = extraer('https://www.primor.eu/#/dfclassic/query=mac%20lips&session_id=e68b0b5ac1828fdb430ff5b492adb6e5&query_name=match_and')"
   ]
  },
  {
   "cell_type": "code",
   "execution_count": 16,
   "id": "e971efcb",
   "metadata": {},
   "outputs": [],
   "source": [
    "pintalab_ver_prim = productos1[0] \n",
    "pintalab_oto_prim = productos1[1] \n",
    "pintalab_inv_prim = productos1[2] \n",
    "pintalab_pri_pri = productos1[3]"
   ]
  },
  {
   "cell_type": "code",
   "execution_count": 17,
   "id": "0cabce47",
   "metadata": {},
   "outputs": [],
   "source": [
    "#Limpiamos los índices y añadimos lo que hemos sacado más\n",
    "\n",
    "#PRIMAVERA\n",
    "pintalab_pri_prim = pd.concat([pintalab_pri_pri, add1, add3], axis = 0)\n",
    "pintalab_pri_prim.drop_duplicates(inplace = True)\n",
    "pintalab_pri_prim['ID'] = [e for e in range(len(pintalab_pri_prim))]\n",
    "pintalab_pri_prim.set_index('ID', drop = True, inplace = True)\n",
    "\n",
    "#OTOÑO\n",
    "pintalab_oto_prim = pd.concat([pintalab_pri_pri, add1], axis = 0)\n",
    "pintalab_oto_prim.drop_duplicates(inplace = True)\n",
    "pintalab_oto_prim['ID'] = [e for e in range(len(pintalab_oto_prim))]\n",
    "pintalab_oto_prim.set_index('ID', drop = True, inplace = True)\n",
    "\n",
    "#INVIERNO\n",
    "pintalab_inv_prim = pd.concat([pintalab_pri_pri, add4], axis = 0)\n",
    "pintalab_inv_prim.drop_duplicates(inplace = True)\n",
    "pintalab_inv_prim['ID'] = [e for e in range(len(pintalab_inv_prim))]\n",
    "pintalab_inv_prim.set_index('ID', drop = True, inplace = True)\n",
    "\n",
    "#VERANO\n",
    "pintalab_ver_prim = pd.concat([pintalab_pri_pri, add5], axis = 0)\n",
    "pintalab_ver_prim.drop_duplicates(inplace = True)\n",
    "pintalab_ver_prim['ID'] = [e for e in range(len(pintalab_ver_prim))]\n",
    "pintalab_ver_prim.set_index('ID', drop = True, inplace = True)"
   ]
  },
  {
   "cell_type": "code",
   "execution_count": 410,
   "id": "9b8392f2",
   "metadata": {},
   "outputs": [],
   "source": [
    "pintalab_pri_prim['PALETA'] = 'PRIMAVERA'\n",
    "pintalab_oto_prim['PALETA'] = 'OTOÑO'\n",
    "pintalab_inv_prim['PALETA'] = 'INVIERNO'\n",
    "pintalab_ver_prim['PALETA'] = 'VERANO'"
   ]
  },
  {
   "cell_type": "markdown",
   "id": "81be5c92",
   "metadata": {},
   "source": [
    "*COLORETES*"
   ]
  },
  {
   "cell_type": "code",
   "execution_count": 422,
   "id": "e8d477e2",
   "metadata": {},
   "outputs": [],
   "source": [
    "def extraer(URL):\n",
    "    driver = webdriver.Chrome(PATH)\n",
    "    driver.get(URL)\n",
    "    \n",
    "    driver.execute_script('window.scrollTo(0, 3000);')  # 200px de scroll\n",
    "    time.sleep(5)\n",
    "    \n",
    "    filas = driver.find_elements(By.CLASS_NAME, 'df-card__content')\n",
    "    link = driver.find_elements(By.CLASS_NAME, 'df-card__main')\n",
    "    tmp = []\n",
    "    links = []\n",
    "\n",
    "    for e in filas:\n",
    "        tmp.append(e.text.split('\\n'))\n",
    "    \n",
    "    for e in link:\n",
    "        links.append(e.get_attribute('href'))\n",
    "    \n",
    "    cols = ['NOMBRE', 'TIPO', 'PRECIO']\n",
    "    \n",
    "    total = pd.DataFrame(tmp, columns = cols)\n",
    "    \n",
    "    total['LINKS'] = links\n",
    "    total['PRODUCTO'] = 'COLORETE'\n",
    "    \n",
    "    driver.quit()\n",
    "     \n",
    "    return total"
   ]
  },
  {
   "cell_type": "code",
   "execution_count": 19,
   "id": "3de83844",
   "metadata": {},
   "outputs": [],
   "source": [
    "links_blush_primor = ['https://www.primor.eu/3ina/66421-colorete-the-blush.html#/dfclassic/query=blush&filter%5Bbrand%5D%5B0%5D=MAC&session_id=e68b0b5ac1828fdb430ff5b492adb6e5&query_name=match_and',\\\n",
    "                     'https://www.primor.eu/#/dfclassic/query=blush&filter%5Bbrand%5D%5B0%5D=NARS&session_id=e68b0b5ac1828fdb430ff5b492adb6e5&query_name=match_and',\\\n",
    "                     'https://www.primor.eu/#/dfclassic/query=blush%20rosa&filter%5Bbrand%5D%5B0%5D=3ina&session_id=e68b0b5ac1828fdb430ff5b492adb6e5&query_name=match_and',\\\n",
    "                     'https://www.primor.eu/#/dfclassic/query=blush&filter%5Bbrand%5D%5B0%5D=Yves%20Saint%20Laurent&session_id=e68b0b5ac1828fdb430ff5b492adb6e5&query_name=match_and']"
   ]
  },
  {
   "cell_type": "code",
   "execution_count": 20,
   "id": "b5ff4e8a",
   "metadata": {},
   "outputs": [
    {
     "name": "stderr",
     "output_type": "stream",
     "text": [
      "[Parallel(n_jobs=4)]: Using backend LokyBackend with 4 concurrent workers.\n",
      "/var/folders/fg/hm_rz3k53fv5qf5dywc0bfwr0000gn/T/ipykernel_48607/2688360952.py:3: DeprecationWarning: executable_path has been deprecated, please pass in a Service object\n",
      "/var/folders/fg/hm_rz3k53fv5qf5dywc0bfwr0000gn/T/ipykernel_48607/2688360952.py:3: DeprecationWarning: executable_path has been deprecated, please pass in a Service object\n",
      "/var/folders/fg/hm_rz3k53fv5qf5dywc0bfwr0000gn/T/ipykernel_48607/2688360952.py:3: DeprecationWarning: executable_path has been deprecated, please pass in a Service object\n",
      "/var/folders/fg/hm_rz3k53fv5qf5dywc0bfwr0000gn/T/ipykernel_48607/2688360952.py:3: DeprecationWarning: executable_path has been deprecated, please pass in a Service object\n",
      "[Parallel(n_jobs=4)]: Done   2 out of   4 | elapsed:   35.4s remaining:   35.4s\n",
      "[Parallel(n_jobs=4)]: Done   4 out of   4 | elapsed:   43.1s finished\n"
     ]
    }
   ],
   "source": [
    "productos2 = Parallel(n_jobs=4, verbose=True)(delayed(extraer)(e) for e in links_blush_primor)"
   ]
  },
  {
   "cell_type": "code",
   "execution_count": 21,
   "id": "aad26459",
   "metadata": {},
   "outputs": [],
   "source": [
    "blush_pri_prim = productos1[0] \n",
    "blush_ver_prim = productos1[1] \n",
    "blush_inv_prim = productos1[2] \n",
    "blush_oto_prim = productos1[3]"
   ]
  },
  {
   "cell_type": "code",
   "execution_count": 437,
   "id": "44479da9",
   "metadata": {},
   "outputs": [],
   "source": [
    "blush_pri_prim['PALETA'] = 'PRIMAVERA'\n",
    "blush_ver_prim['PALETA'] = 'VERANO'\n",
    "blush_inv_prim['PALETA'] = 'INVIERNO'\n",
    "blush_oto_prim['PALETA'] = 'OTOÑO'"
   ]
  },
  {
   "cell_type": "code",
   "execution_count": 438,
   "id": "44bce1d3",
   "metadata": {},
   "outputs": [],
   "source": [
    "maquillaje_primor = pd.concat([sombras_pri_prim, sombras_ver_prim, sombras_oto_prim, sombras_inv_prim, \\\n",
    "                              pintalab_pri_prim, pintalab_ver_prim, pintalab_oto_prim, pintalab_inv_prim, \\\n",
    "                              blush_pri_prim, blush_ver_prim, blush_oto_prim, blush_inv_prim])"
   ]
  },
  {
   "cell_type": "code",
   "execution_count": 439,
   "id": "708db8fe",
   "metadata": {},
   "outputs": [],
   "source": [
    "maquillaje_primor.drop('TIPO', axis = 1, inplace = True)"
   ]
  },
  {
   "cell_type": "markdown",
   "id": "c532a1f3",
   "metadata": {},
   "source": [
    "*LIMPIEZA*"
   ]
  },
  {
   "cell_type": "code",
   "execution_count": 452,
   "id": "8a0285ed",
   "metadata": {},
   "outputs": [],
   "source": [
    "#Limpiamos la columna de PRECIO\n",
    "def limpiar_precios(columna):\n",
    "    return columna.split()[0]\n",
    "\n",
    "p = []\n",
    "for e in maquillaje_primor.PRECIO:\n",
    "    if ',' in e:\n",
    "        p.append(float(e.replace(',', '.')))\n",
    "        \n",
    "        \n",
    "maquillaje_primor.PRECIO = p\n",
    "maquillaje_primor.rename(columns = {'PRECIO': 'PRECIO (€)'}, inplace = True ) \n",
    "maquillaje_primor.PRECIO = maquillaje_primor.PRECIO.apply(limpiar_precios)"
   ]
  },
  {
   "cell_type": "code",
   "execution_count": 443,
   "id": "d9434a52",
   "metadata": {},
   "outputs": [],
   "source": [
    "#Añadimos la columna 'TIENDA' para indicar dónde comprar los productos\n",
    "maquillaje_primor['TIENDA'] = 'PRIMOR'"
   ]
  },
  {
   "cell_type": "code",
   "execution_count": 463,
   "id": "c6da914a",
   "metadata": {},
   "outputs": [],
   "source": [
    "#Cambiamos el tipo de dato a nuestro nuevo dataframe\n",
    "maquillaje_primor[['NOMBRE', 'LINKS', 'PRODUCTO', 'PALETA', 'TIENDA']] =\\\n",
    "maquillaje_primor[['NOMBRE', 'LINKS', 'PRODUCTO', 'PALETA', 'TIENDA']].astype('category')"
   ]
  },
  {
   "cell_type": "code",
   "execution_count": 464,
   "id": "5e3b109c",
   "metadata": {},
   "outputs": [
    {
     "name": "stdout",
     "output_type": "stream",
     "text": [
      "<class 'pandas.core.frame.DataFrame'>\n",
      "Int64Index: 543 entries, 0 to 29\n",
      "Data columns (total 6 columns):\n",
      " #   Column      Non-Null Count  Dtype   \n",
      "---  ------      --------------  -----   \n",
      " 0   NOMBRE      543 non-null    category\n",
      " 1   PRECIO (€)  543 non-null    float64 \n",
      " 2   LINKS       543 non-null    category\n",
      " 3   PRODUCTO    543 non-null    category\n",
      " 4   PALETA      543 non-null    category\n",
      " 5   TIENDA      543 non-null    category\n",
      "dtypes: category(5), float64(1)\n",
      "memory usage: 28.8 KB\n"
     ]
    }
   ],
   "source": [
    "maquillaje_primor.info()"
   ]
  },
  {
   "cell_type": "markdown",
   "id": "8c0d1c16",
   "metadata": {},
   "source": [
    "# 2 - EXTRACCIÓN DE DATOS DE URBAN DECAY: SOMBRAS Y COLORETES"
   ]
  },
  {
   "cell_type": "markdown",
   "id": "9d926892",
   "metadata": {},
   "source": [
    "*SOMBRAS*"
   ]
  },
  {
   "cell_type": "code",
   "execution_count": 25,
   "id": "d08d77d2",
   "metadata": {},
   "outputs": [],
   "source": [
    "def extraer(URL):\n",
    "    PATH=ChromeDriverManager().install()\n",
    "    driver = webdriver.Chrome(PATH)\n",
    "    driver.get(URL)\n",
    "    \n",
    "    time.sleep(5)\n",
    "    driver.find_element(By.CSS_SELECTOR, 'body>div.c-modal.h-text-align-center.m-borderless.m-autosize-large.m-image.m-opened.h-fade-in>div>button').click() \n",
    "    time.sleep(5)\n",
    "    driver.execute_script('window.scrollTo(0, 3000);')  # 200px de scroll\n",
    "    time.sleep(5)\n",
    "    nombre = driver.find_elements(By.CLASS_NAME, 'c-product-tile__name') #nombre\n",
    "    time.sleep(5)\n",
    "    precio = driver.find_elements(By.CLASS_NAME, 'c-product-tile__price') #precio\n",
    "    time.sleep(5)\n",
    "    links1 = driver.find_elements(By.CLASS_NAME, 'c-product-image__link') #links\n",
    "        \n",
    "    tmp = [e.text for e in nombre]\n",
    "    \n",
    "    precios = [e.text.split('\\n')[-1] for e in precio]\n",
    "    \n",
    "    links = [e.get_attribute('href') for e in links1]\n",
    "    \n",
    "    cols = ['NOMBRE']\n",
    "    \n",
    "    total = pd.DataFrame(tmp, columns = cols)\n",
    "    \n",
    "    total['PRECIO'] = precios\n",
    "    total['LINKS'] = links\n",
    "    total['PRODUCTO'] = 'SOMBRAS DE OJOS'\n",
    "    \n",
    "    driver.quit()\n",
    "    \n",
    "    return total"
   ]
  },
  {
   "cell_type": "code",
   "execution_count": 26,
   "id": "f4427cee",
   "metadata": {},
   "outputs": [],
   "source": [
    "URL = 'https://www.urbandecay.com/naked-palettes/?start=0&sz=18'"
   ]
  },
  {
   "cell_type": "code",
   "execution_count": 27,
   "id": "4691e81a",
   "metadata": {
    "scrolled": true
   },
   "outputs": [
    {
     "name": "stderr",
     "output_type": "stream",
     "text": [
      "2022-12-12 11:00:04,873 [48607] WARNING  py.warnings:109: [JupyterRequire] /var/folders/fg/hm_rz3k53fv5qf5dywc0bfwr0000gn/T/ipykernel_48607/2965688531.py:4: DeprecationWarning: executable_path has been deprecated, please pass in a Service object\n",
      "  driver = webdriver.Chrome(PATH)\n",
      "\n"
     ]
    }
   ],
   "source": [
    "sombras_ud = extraer(URL)"
   ]
  },
  {
   "cell_type": "code",
   "execution_count": 28,
   "id": "129857be",
   "metadata": {},
   "outputs": [],
   "source": [
    "sombras_ud.drop_duplicates(inplace = True)\n",
    "sombras_ud = sombras_ud[0:14] "
   ]
  },
  {
   "cell_type": "markdown",
   "id": "3ed7d1f4",
   "metadata": {},
   "source": [
    "*COLORETE*"
   ]
  },
  {
   "cell_type": "code",
   "execution_count": 30,
   "id": "806472a3",
   "metadata": {},
   "outputs": [],
   "source": [
    "def extraer(URL):\n",
    "    PATH=ChromeDriverManager().install()\n",
    "    driver = webdriver.Chrome(PATH)\n",
    "    driver.get(URL)\n",
    "    \n",
    "    time.sleep(5)\n",
    "    driver.find_element(By.CSS_SELECTOR, 'body>div.c-modal.h-text-align-center.m-borderless.m-autosize-large.m-image.m-opened.h-fade-in>div>button').click() \n",
    "    time.sleep(5)\n",
    "    driver.execute_script('window.scrollTo(0, 3000);')  # 200px de scroll\n",
    "    time.sleep(5)\n",
    "    nombre = driver.find_elements(By.CLASS_NAME, 'c-product-tile__name') #nombre\n",
    "    time.sleep(5)\n",
    "    precio = driver.find_elements(By.CLASS_NAME, 'c-product-tile__price') #precio\n",
    "    time.sleep(5)\n",
    "    links1 = driver.find_elements(By.CLASS_NAME, 'c-product-image__link') #links\n",
    "        \n",
    "    tmp = [e.text for e in nombre]\n",
    "    \n",
    "    precios = [e.text.split('\\n')[-1] for e in precio]\n",
    "    \n",
    "    links = [e.get_attribute('href') for e in links1]\n",
    "    \n",
    "    cols = ['NOMBRE']\n",
    "    \n",
    "    total = pd.DataFrame(tmp, columns = cols)\n",
    "    \n",
    "    total['PRECIO'] = precios\n",
    "    total['LINKS'] = links\n",
    "    total['PRODUCTO'] = 'COLORETE'\n",
    "    \n",
    "    driver.quit()\n",
    "    \n",
    "    return total"
   ]
  },
  {
   "cell_type": "code",
   "execution_count": 31,
   "id": "737fd2dd",
   "metadata": {
    "scrolled": true
   },
   "outputs": [
    {
     "name": "stderr",
     "output_type": "stream",
     "text": [
      "2022-12-12 11:00:48,393 [48607] WARNING  py.warnings:109: [JupyterRequire] /var/folders/fg/hm_rz3k53fv5qf5dywc0bfwr0000gn/T/ipykernel_48607/169910402.py:4: DeprecationWarning: executable_path has been deprecated, please pass in a Service object\n",
      "  driver = webdriver.Chrome(PATH)\n",
      "\n"
     ]
    }
   ],
   "source": [
    "blush_ud = extraer('https://www.urbandecay.com/blush-bronzer-highlighter/')"
   ]
  },
  {
   "cell_type": "markdown",
   "id": "5f777074",
   "metadata": {},
   "source": [
    "*LIMPIEZA*"
   ]
  },
  {
   "cell_type": "markdown",
   "id": "26381b23",
   "metadata": {},
   "source": [
    "Asignamos la paleta de colores para cada producto. Para ello, se ha hecho un estudio previo de cada producto."
   ]
  },
  {
   "cell_type": "code",
   "execution_count": 33,
   "id": "2fd0bb57",
   "metadata": {
    "scrolled": true
   },
   "outputs": [
    {
     "name": "stderr",
     "output_type": "stream",
     "text": [
      "2022-12-12 11:01:22,134 [48607] WARNING  py.warnings:109: [JupyterRequire] /var/folders/fg/hm_rz3k53fv5qf5dywc0bfwr0000gn/T/ipykernel_48607/3659531634.py:2: SettingWithCopyWarning: \n",
      "A value is trying to be set on a copy of a slice from a DataFrame\n",
      "\n",
      "See the caveats in the documentation: https://pandas.pydata.org/pandas-docs/stable/user_guide/indexing.html#returning-a-view-versus-a-copy\n",
      "  blush_ud.drop_duplicates(inplace = True)\n",
      "\n",
      "2022-12-12 11:01:22,165 [48607] WARNING  py.warnings:109: [JupyterRequire] /var/folders/fg/hm_rz3k53fv5qf5dywc0bfwr0000gn/T/ipykernel_48607/3659531634.py:3: SettingWithCopyWarning: \n",
      "A value is trying to be set on a copy of a slice from a DataFrame.\n",
      "Try using .loc[row_indexer,col_indexer] = value instead\n",
      "\n",
      "See the caveats in the documentation: https://pandas.pydata.org/pandas-docs/stable/user_guide/indexing.html#returning-a-view-versus-a-copy\n",
      "  blush_ud['PALETA'] = ['VERANO / INVIERNO', 'TODAS']\n",
      "\n"
     ]
    }
   ],
   "source": [
    "blush_ud = blush_ud[0:2]\n",
    "blush_ud.drop_duplicates(inplace = True)\n",
    "blush_ud['PALETA'] = ['VERANO / INVIERNO', 'TODAS']"
   ]
  },
  {
   "cell_type": "code",
   "execution_count": 29,
   "id": "95027989",
   "metadata": {},
   "outputs": [],
   "source": [
    "sombras_ud['PALETA'] = ['PRIMAVERA', 'PRIMAVERA / OTOÑO', 'OTOÑO / INVIERNO', 'VERANO', 'TODAS', 'PRIMAVERA / VERANO',\\\n",
    "                  'OTOÑO', 'PRIMAVERA / VERANO', 'OTOÑO / INVIERNO', 'PRIMAVERA', 'PRIMAVERA / INVIERNO', 'PRIMAVERA',\\\n",
    "                  'PRIMAVERA / OTOÑO / INVIERNO', 'OTOÑO / INVIERNO']"
   ]
  },
  {
   "cell_type": "code",
   "execution_count": 501,
   "id": "e64fdeb6",
   "metadata": {},
   "outputs": [],
   "source": [
    "mu_ud = pd.concat([sombras_ud, blush_ud], axis = 0)"
   ]
  },
  {
   "cell_type": "code",
   "execution_count": 586,
   "id": "2fe91069",
   "metadata": {
    "scrolled": true
   },
   "outputs": [
    {
     "data": {
      "text/html": [
       "<div>\n",
       "<style scoped>\n",
       "    .dataframe tbody tr th:only-of-type {\n",
       "        vertical-align: middle;\n",
       "    }\n",
       "\n",
       "    .dataframe tbody tr th {\n",
       "        vertical-align: top;\n",
       "    }\n",
       "\n",
       "    .dataframe thead th {\n",
       "        text-align: right;\n",
       "    }\n",
       "</style>\n",
       "<table border=\"1\" class=\"dataframe\">\n",
       "  <thead>\n",
       "    <tr style=\"text-align: right;\">\n",
       "      <th></th>\n",
       "      <th>NOMBRE</th>\n",
       "      <th>PRECIO (€)</th>\n",
       "      <th>LINKS</th>\n",
       "      <th>PRODUCTO</th>\n",
       "      <th>PALETA</th>\n",
       "    </tr>\n",
       "  </thead>\n",
       "  <tbody>\n",
       "    <tr>\n",
       "      <th>0</th>\n",
       "      <td>NAKED3 EYESHADOW PALETTE</td>\n",
       "      <td>25.65</td>\n",
       "      <td>https://www.urbandecay.com/naked-3-palette-by-...</td>\n",
       "      <td>SOMBRAS DE OJOS</td>\n",
       "      <td>PRIMAVERA</td>\n",
       "    </tr>\n",
       "    <tr>\n",
       "      <th>1</th>\n",
       "      <td>NAKED RELOADED EYESHADOW PALETTE</td>\n",
       "      <td>20.90</td>\n",
       "      <td>https://www.urbandecay.com/naked-reloaded-urba...</td>\n",
       "      <td>SOMBRAS DE OJOS</td>\n",
       "      <td>PRIMAVERA / OTOÑO</td>\n",
       "    </tr>\n",
       "    <tr>\n",
       "      <th>2</th>\n",
       "      <td>NAKED HEAT EYESHADOW PALETTE</td>\n",
       "      <td>25.65</td>\n",
       "      <td>https://www.urbandecay.com/naked-heat-eyeshado...</td>\n",
       "      <td>SOMBRAS DE OJOS</td>\n",
       "      <td>OTOÑO / INVIERNO</td>\n",
       "    </tr>\n",
       "    <tr>\n",
       "      <th>3</th>\n",
       "      <td>NAKED HONEY EYESHADOW PALETTE</td>\n",
       "      <td>23.27</td>\n",
       "      <td>https://www.urbandecay.com/naked-honey-eyeshad...</td>\n",
       "      <td>SOMBRAS DE OJOS</td>\n",
       "      <td>VERANO</td>\n",
       "    </tr>\n",
       "    <tr>\n",
       "      <th>4</th>\n",
       "      <td>LET'S GET NAKED SET</td>\n",
       "      <td>166.25</td>\n",
       "      <td>https://www.urbandecay.com/lets-get-naked-set-...</td>\n",
       "      <td>SOMBRAS DE OJOS</td>\n",
       "      <td>TODAS</td>\n",
       "    </tr>\n",
       "  </tbody>\n",
       "</table>\n",
       "</div>"
      ],
      "text/plain": [
       "                             NOMBRE  PRECIO (€)  \\\n",
       "0          NAKED3 EYESHADOW PALETTE       25.65   \n",
       "1  NAKED RELOADED EYESHADOW PALETTE       20.90   \n",
       "2      NAKED HEAT EYESHADOW PALETTE       25.65   \n",
       "3     NAKED HONEY EYESHADOW PALETTE       23.27   \n",
       "4               LET'S GET NAKED SET      166.25   \n",
       "\n",
       "                                               LINKS         PRODUCTO  \\\n",
       "0  https://www.urbandecay.com/naked-3-palette-by-...  SOMBRAS DE OJOS   \n",
       "1  https://www.urbandecay.com/naked-reloaded-urba...  SOMBRAS DE OJOS   \n",
       "2  https://www.urbandecay.com/naked-heat-eyeshado...  SOMBRAS DE OJOS   \n",
       "3  https://www.urbandecay.com/naked-honey-eyeshad...  SOMBRAS DE OJOS   \n",
       "4  https://www.urbandecay.com/lets-get-naked-set-...  SOMBRAS DE OJOS   \n",
       "\n",
       "              PALETA  \n",
       "0          PRIMAVERA  \n",
       "1  PRIMAVERA / OTOÑO  \n",
       "2   OTOÑO / INVIERNO  \n",
       "3             VERANO  \n",
       "4              TODAS  "
      ]
     },
     "execution_count": 586,
     "metadata": {},
     "output_type": "execute_result"
    }
   ],
   "source": [
    "mu_ud.head()"
   ]
  },
  {
   "cell_type": "code",
   "execution_count": 504,
   "id": "2036ab8e",
   "metadata": {},
   "outputs": [],
   "source": [
    "#Vamos a limpiar la columna de PRECIO\n",
    "p2 = []\n",
    "for e in mu_ud['PRECIO']:\n",
    "    if '$' in e:\n",
    "        p2.append(float(e.replace('$', '')))\n",
    "        \n",
    "#Lo convertimos a EUROS(TIPO DE CAMBIO - 12/12/2022):\n",
    "p3 = []\n",
    "for e in p2:\n",
    "    p3.append(round((e*0.95), 2))\n",
    "\n",
    "mu_ud.PRECIO = p3\n",
    "mu_ud.rename(columns = {'PRECIO' : 'PRECIO (€)'}, inplace = True)"
   ]
  },
  {
   "cell_type": "code",
   "execution_count": 587,
   "id": "dfe203af",
   "metadata": {},
   "outputs": [],
   "source": [
    "#Añadimos la columna 'TIENDA' para indicar dónde comprar los productos\n",
    "mu_ud['TIENDA'] = 'URBAN DECAY'"
   ]
  },
  {
   "cell_type": "code",
   "execution_count": 588,
   "id": "bd3305ec",
   "metadata": {},
   "outputs": [],
   "source": [
    "#Cambiamos el tipo de dato de las columnas \n",
    "mu_ud[['NOMBRE', 'LINKS', 'PRODUCTO', 'PALETA', 'TIENDA']] = \\\n",
    "mu_ud[['NOMBRE', 'LINKS', 'PRODUCTO', 'PALETA', 'TIENDA']].astype('category')"
   ]
  },
  {
   "cell_type": "code",
   "execution_count": 591,
   "id": "2e63221f",
   "metadata": {},
   "outputs": [
    {
     "name": "stdout",
     "output_type": "stream",
     "text": [
      "<class 'pandas.core.frame.DataFrame'>\n",
      "Int64Index: 16 entries, 0 to 1\n",
      "Data columns (total 6 columns):\n",
      " #   Column      Non-Null Count  Dtype   \n",
      "---  ------      --------------  -----   \n",
      " 0   NOMBRE      16 non-null     category\n",
      " 1   PRECIO (€)  16 non-null     float64 \n",
      " 2   LINKS       16 non-null     category\n",
      " 3   PRODUCTO    16 non-null     category\n",
      " 4   PALETA      16 non-null     category\n",
      " 5   TIENDA      16 non-null     category\n",
      "dtypes: category(5), float64(1)\n",
      "memory usage: 2.3 KB\n"
     ]
    }
   ],
   "source": [
    "mu_ud.info()"
   ]
  },
  {
   "cell_type": "markdown",
   "id": "0d2fd71c",
   "metadata": {},
   "source": [
    "# 3 - EXTRACCIÓN DE DATOS DE HUDA BEAUTY: SOMBRAS, COLORETES Y PINTALABIOS"
   ]
  },
  {
   "cell_type": "markdown",
   "id": "bb04c2da",
   "metadata": {},
   "source": [
    "*SOMBRAS*"
   ]
  },
  {
   "cell_type": "code",
   "execution_count": 319,
   "id": "46f75497",
   "metadata": {},
   "outputs": [],
   "source": [
    "def extraer(URL):\n",
    "    driver = webdriver.Chrome(PATH)\n",
    "    driver.get(URL)\n",
    "    \n",
    "    time.sleep(5)\n",
    "    driver.execute_script('window.scrollTo(0, 4500);')  # 200px de scroll\n",
    "    time.sleep(10)\n",
    "    \n",
    "    filas = driver.find_elements(By.CLASS_NAME, 'link')\n",
    "    precios = driver.find_elements(By.CLASS_NAME, 'price')\n",
    "    tmp = []\n",
    "    links = []\n",
    "    precio = []\n",
    "\n",
    "    for e in filas:\n",
    "        tmp.append(e.text)\n",
    "    \n",
    "    for e in filas:\n",
    "        links.append(e.get_attribute('href'))\n",
    "    \n",
    "    for e in precios:\n",
    "        precio.append(e.text.split()[0])\n",
    "    \n",
    "    \n",
    "    cols = ['NOMBRE']\n",
    "    \n",
    "    total = pd.DataFrame(tmp, columns = cols)\n",
    "    \n",
    "    total['LINKS'] = links\n",
    "    total['PRECIO'] = precio\n",
    "    total['PRODUCTO'] = 'SOMBRAS DE OJOS'\n",
    "    \n",
    "    \n",
    "    driver.quit()\n",
    "     \n",
    "    return total"
   ]
  },
  {
   "cell_type": "code",
   "execution_count": 320,
   "id": "abb51fda",
   "metadata": {},
   "outputs": [],
   "source": [
    "URL = 'https://hudabeauty.com/us/en_US/eyes/eyeshadow'"
   ]
  },
  {
   "cell_type": "code",
   "execution_count": 321,
   "id": "3b33b626",
   "metadata": {
    "scrolled": true
   },
   "outputs": [
    {
     "name": "stderr",
     "output_type": "stream",
     "text": [
      "2022-12-12 16:19:59,725 [48607] WARNING  py.warnings:109: [JupyterRequire] /var/folders/fg/hm_rz3k53fv5qf5dywc0bfwr0000gn/T/ipykernel_48607/958777798.py:3: DeprecationWarning: executable_path has been deprecated, please pass in a Service object\n",
      "  driver = webdriver.Chrome(PATH)\n",
      "\n"
     ]
    }
   ],
   "source": [
    "sombras_hb = extraer(URL)"
   ]
  },
  {
   "cell_type": "markdown",
   "id": "d021422a",
   "metadata": {},
   "source": [
    "*LABIOS*"
   ]
  },
  {
   "cell_type": "code",
   "execution_count": 324,
   "id": "ed6ec176",
   "metadata": {},
   "outputs": [],
   "source": [
    "def extraer(URL):\n",
    "    driver = webdriver.Chrome(PATH)\n",
    "    driver.get(URL)\n",
    "    \n",
    "    time.sleep(5)\n",
    "    driver.execute_script('window.scrollTo(0, 4500);')  # 200px de scroll\n",
    "    time.sleep(10)\n",
    "    \n",
    "    filas = driver.find_elements(By.CLASS_NAME, 'link')\n",
    "    precios = driver.find_elements(By.CLASS_NAME, 'price')\n",
    "    tmp = []\n",
    "    links = []\n",
    "    precio = []\n",
    "\n",
    "    for e in filas:\n",
    "        tmp.append(e.text)\n",
    "    \n",
    "    for e in filas:\n",
    "        links.append(e.get_attribute('href'))\n",
    "    \n",
    "    for e in precios:\n",
    "        precio.append(e.text.split()[0])\n",
    "    \n",
    "    \n",
    "    cols = ['NOMBRE']\n",
    "    \n",
    "    total = pd.DataFrame(tmp, columns = cols)\n",
    "    \n",
    "    total['LINKS'] = links\n",
    "    total['PRECIO'] = precio\n",
    "    total['PRODUCTO'] = 'PINTALABIOS'\n",
    "    \n",
    "    \n",
    "    driver.quit()\n",
    "     \n",
    "    return total"
   ]
  },
  {
   "cell_type": "code",
   "execution_count": 325,
   "id": "2019e4d2",
   "metadata": {},
   "outputs": [],
   "source": [
    "URL = 'https://hudabeauty.com/us/en_US/makeup/lips'"
   ]
  },
  {
   "cell_type": "code",
   "execution_count": 326,
   "id": "89b5a92b",
   "metadata": {},
   "outputs": [
    {
     "name": "stderr",
     "output_type": "stream",
     "text": [
      "2022-12-12 16:21:28,932 [48607] WARNING  py.warnings:109: [JupyterRequire] /var/folders/fg/hm_rz3k53fv5qf5dywc0bfwr0000gn/T/ipykernel_48607/1998456133.py:3: DeprecationWarning: executable_path has been deprecated, please pass in a Service object\n",
      "  driver = webdriver.Chrome(PATH)\n",
      "\n"
     ]
    }
   ],
   "source": [
    "pintalabios_hb = extraer(URL)"
   ]
  },
  {
   "cell_type": "markdown",
   "id": "97095b20",
   "metadata": {},
   "source": [
    "*COLORETES*"
   ]
  },
  {
   "cell_type": "code",
   "execution_count": 329,
   "id": "adbc6bfe",
   "metadata": {},
   "outputs": [],
   "source": [
    "def extraer(URL):\n",
    "    driver = webdriver.Chrome(PATH)\n",
    "    driver.get(URL)\n",
    "    \n",
    "    time.sleep(5)\n",
    "    driver.execute_script('window.scrollTo(0, 4500);')  # 200px de scroll\n",
    "    time.sleep(10)\n",
    "    \n",
    "    filas = driver.find_elements(By.CLASS_NAME, 'link')\n",
    "    precios = driver.find_elements(By.CLASS_NAME, 'price')\n",
    "    tmp = []\n",
    "    links = []\n",
    "    precio = []\n",
    "\n",
    "    for e in filas:\n",
    "        tmp.append(e.text)\n",
    "    \n",
    "    for e in filas:\n",
    "        links.append(e.get_attribute('href'))\n",
    "    \n",
    "    for e in precios:\n",
    "        precio.append(e.text.split()[0])\n",
    "    \n",
    "    \n",
    "    cols = ['NOMBRE']\n",
    "    \n",
    "    total = pd.DataFrame(tmp, columns = cols)\n",
    "    \n",
    "    total['LINKS'] = links\n",
    "    total['PRECIO'] = precio\n",
    "    total['PRODUCTO'] = 'COLORETE'\n",
    "    \n",
    "    \n",
    "    driver.quit()\n",
    "     \n",
    "    return total"
   ]
  },
  {
   "cell_type": "code",
   "execution_count": 330,
   "id": "024872af",
   "metadata": {},
   "outputs": [],
   "source": [
    "URL = 'https://hudabeauty.com/us/en_US/cheek/blush'"
   ]
  },
  {
   "cell_type": "code",
   "execution_count": 331,
   "id": "56a73473",
   "metadata": {},
   "outputs": [
    {
     "name": "stderr",
     "output_type": "stream",
     "text": [
      "2022-12-12 16:22:34,520 [48607] WARNING  py.warnings:109: [JupyterRequire] /var/folders/fg/hm_rz3k53fv5qf5dywc0bfwr0000gn/T/ipykernel_48607/4071659692.py:3: DeprecationWarning: executable_path has been deprecated, please pass in a Service object\n",
      "  driver = webdriver.Chrome(PATH)\n",
      "\n"
     ]
    }
   ],
   "source": [
    "blush_hb = extraer(URL)"
   ]
  },
  {
   "cell_type": "markdown",
   "id": "c4604eba",
   "metadata": {},
   "source": [
    "*LIMPIEZA*"
   ]
  },
  {
   "cell_type": "markdown",
   "id": "e9aa249d",
   "metadata": {},
   "source": [
    "Asignamos la paleta de colores para cada producto. Para ello, se ha hecho un estudio previo de cada producto."
   ]
  },
  {
   "cell_type": "code",
   "execution_count": 525,
   "id": "57380af2",
   "metadata": {},
   "outputs": [],
   "source": [
    "sombras_hb['PALETA'] =  ['PRIMAVERA / OTOÑO / INVIERNO', 'PRIMAVERA / OTOÑO', 'PRIMAVERA / OTOÑO','OTOÑO / INVIERNO',\\\n",
    "                        'PRIMAVERA / OTOÑO / INVIERNO', 'VERANO / OTOÑO', 'VERANO / OTOÑO / INVIERNO',\\\n",
    "                        'TODAS', 'VERANO', 'PRIMAVERA', 'PRIMAVERA / OTOÑO', 'PRIMAVERA', \\\n",
    "                        'OTOÑO / INVIERNO', 'PRIMAVERA / OTOÑO', 'PRIMAVERA', 'OTOÑO / INVIERNO', 'PRIMAVERA / VERANO / OTOÑO',\\\n",
    "                        'OTOÑO / PRIMAVERA', 'TODAS', 'OTOÑO / VERANO', 'VERANO']"
   ]
  },
  {
   "cell_type": "code",
   "execution_count": 524,
   "id": "efe44022",
   "metadata": {},
   "outputs": [],
   "source": [
    "pintalabios_hb['PALETA'] = ['TODAS', 'TODAS', 'TODAS', 'PRIMAVERA / VERANO / OTOÑO', 'TODAS', 'PRIMAVERA / OTOÑO / INVIERNO',\\\n",
    "          'TODAS', 'TODAS', 'TODAS', 'TODAS', 'INVIERNO', 'TODAS', 'TODAS', 'INVIERNO / OTOÑO', 'TODAS',\\\n",
    "          'OTOÑO / PRIMAVERA / INVIERNO', 'OTOÑO / INVIERNO', 'TODAS', 'TODAS', 'OTOÑO / INVIERNO']\n"
   ]
  },
  {
   "cell_type": "code",
   "execution_count": 526,
   "id": "7b1555a9",
   "metadata": {},
   "outputs": [],
   "source": [
    "blush_hb['PALETA'] = 'TODAS'"
   ]
  },
  {
   "cell_type": "code",
   "execution_count": 527,
   "id": "cc88ff25",
   "metadata": {},
   "outputs": [],
   "source": [
    "maquillaje_hb = pd.concat([sombras_hb, pintalabios_hb, blush_hb])"
   ]
  },
  {
   "cell_type": "code",
   "execution_count": 528,
   "id": "14243f38",
   "metadata": {},
   "outputs": [],
   "source": [
    "#Vamos a limpiar la columna de PRECIO\n",
    "p2 = []\n",
    "for e in maquillaje_hb['PRECIO']:\n",
    "    if '$' in e:\n",
    "        p2.append(float(e.replace('$', '')))\n",
    "#Lo convertimos a EUROS (TIPO DE CAMBIO - 12/12/2022):\n",
    "p3 = []\n",
    "for e in p2:\n",
    "    p3.append(round((e*0.95), 2))\n",
    "\n",
    "maquillaje_hb.PRECIO = p3\n",
    "maquillaje_hb.rename(columns = {'PRECIO' : 'PRECIO (€)'}, inplace = True)"
   ]
  },
  {
   "cell_type": "code",
   "execution_count": 593,
   "id": "51f6a991",
   "metadata": {},
   "outputs": [],
   "source": [
    "#Añadimos la columna 'TIENDA' para indicar dónde comprar los productos\n",
    "maquillaje_hb['TIENDA'] = 'HUDA BEAUTY'"
   ]
  },
  {
   "cell_type": "code",
   "execution_count": 594,
   "id": "89e30e89",
   "metadata": {},
   "outputs": [],
   "source": [
    "#Cambiamos el tipo de dato de las columnas \n",
    "maquillaje_hb[['NOMBRE', 'LINKS', 'PRODUCTO', 'PALETA', 'TIENDA']] = \\\n",
    "maquillaje_hb[['NOMBRE', 'LINKS', 'PRODUCTO', 'PALETA', 'TIENDA']].astype('category')"
   ]
  },
  {
   "cell_type": "code",
   "execution_count": 595,
   "id": "471e6abe",
   "metadata": {},
   "outputs": [
    {
     "name": "stdout",
     "output_type": "stream",
     "text": [
      "<class 'pandas.core.frame.DataFrame'>\n",
      "Int64Index: 45 entries, 0 to 3\n",
      "Data columns (total 7 columns):\n",
      " #   Column      Non-Null Count  Dtype   \n",
      "---  ------      --------------  -----   \n",
      " 0   NOMBRE      45 non-null     category\n",
      " 1   LINKS       45 non-null     category\n",
      " 2   PRECIO (€)  45 non-null     float64 \n",
      " 3   PRODUCTO    45 non-null     category\n",
      " 4   PALETAS     45 non-null     object  \n",
      " 5   PALETA      45 non-null     category\n",
      " 6   TIENDA      45 non-null     category\n",
      "dtypes: category(5), float64(1), object(1)\n",
      "memory usage: 4.9+ KB\n"
     ]
    }
   ],
   "source": [
    "maquillaje_hb.info()"
   ]
  },
  {
   "cell_type": "markdown",
   "id": "9d8741e1",
   "metadata": {},
   "source": [
    "# 4 - EXTRACCIÓN DE DATOS DE KIKO MILANO: SOMBRAS, COLORETES Y PINTALABIOS"
   ]
  },
  {
   "cell_type": "markdown",
   "id": "e67e5ec9",
   "metadata": {},
   "source": [
    "*SOMBRAS Y COLORETES*"
   ]
  },
  {
   "cell_type": "code",
   "execution_count": 241,
   "id": "6aca41c8",
   "metadata": {},
   "outputs": [],
   "source": [
    "def extraer(URL):\n",
    "    driver = webdriver.Chrome(PATH)\n",
    "    driver.get(URL)\n",
    "    \n",
    "    driver.find_element(By.XPATH, '//*[@id=\"iubenda-cs-banner\"]/div/div/div/div[3]/div[2]/button[2]').click()\n",
    "    time.sleep(5)\n",
    "    driver.execute_script('window.scrollTo(0, 3000);')  # 200px de scroll\n",
    "    time.sleep(5)\n",
    "    \n",
    "    nombre = driver.find_elements(By.CLASS_NAME, 'ProductBox__Title')\n",
    "    precio = driver.find_elements(By.CLASS_NAME, 'js-new-price')\n",
    "    link =  driver.find_elements(By.PARTIAL_LINK_TEXT, 'Palette')\n",
    "    \n",
    "    tmp = []\n",
    "    precios = []\n",
    "    links = []\n",
    "    \n",
    "\n",
    "    for e in nombre:\n",
    "        tmp.append(e.text.split('\\n'))\n",
    "    \n",
    "    for e in precio:\n",
    "        precios.append(e.text)\n",
    "    \n",
    "    for e in link:\n",
    "        links.append(e.get_attribute('href'))\n",
    "    \n",
    "    cols = ['NOMBRE']\n",
    "    \n",
    "    total = pd.DataFrame(tmp, columns = cols)\n",
    "    \n",
    "    precios.remove('')\n",
    "    precios.remove('')\n",
    "    \n",
    "    total['PRECIO'] = precios\n",
    "    total['LINKS'] = links\n",
    "    total['PRODUCTO'] = 'SOMBRAS DE OJOS'\n",
    "    \n",
    "    \n",
    "    driver.quit()\n",
    "     \n",
    "    return total"
   ]
  },
  {
   "cell_type": "code",
   "execution_count": 242,
   "id": "598fb8c3",
   "metadata": {},
   "outputs": [],
   "source": [
    "URL = 'https://www.kikocosmetics.com/es-es/maquillaje/paletas/paleta-de-ojos.html'"
   ]
  },
  {
   "cell_type": "code",
   "execution_count": 243,
   "id": "4e59b9d8",
   "metadata": {
    "scrolled": false
   },
   "outputs": [
    {
     "name": "stderr",
     "output_type": "stream",
     "text": [
      "2022-12-12 13:45:54,438 [48607] WARNING  py.warnings:109: [JupyterRequire] /var/folders/fg/hm_rz3k53fv5qf5dywc0bfwr0000gn/T/ipykernel_48607/3280125201.py:3: DeprecationWarning: executable_path has been deprecated, please pass in a Service object\n",
      "  driver = webdriver.Chrome(PATH)\n",
      "\n"
     ]
    }
   ],
   "source": [
    "sombras_kiko = extraer(URL) #CUÁLES SOMBRAS Y CUÁLES BLUSH?"
   ]
  },
  {
   "cell_type": "markdown",
   "id": "f3906e16",
   "metadata": {},
   "source": [
    "*PINTALABIOS*"
   ]
  },
  {
   "cell_type": "code",
   "execution_count": 569,
   "id": "9be41538",
   "metadata": {},
   "outputs": [],
   "source": [
    "def extraer(URL):\n",
    "    driver = webdriver.Chrome(PATH)\n",
    "    driver.get(URL)\n",
    "    \n",
    "    driver.execute_script('window.scrollTo(0, 2000);')  # 200px de scroll\n",
    "    \n",
    "    nombre = driver.find_elements(By.CLASS_NAME, 'ProductBox__Title')\n",
    "    precio = driver.find_elements(By.CLASS_NAME, 'js-new-price')\n",
    "    link =  driver.find_elements(By.PARTIAL_LINK_TEXT, 'Lip')\n",
    "    link2 =  driver.find_elements(By.PARTIAL_LINK_TEXT, 'Unlimited')\n",
    "    link3 =  driver.find_elements(By.PARTIAL_LINK_TEXT, 'Stick')\n",
    "    link4 = driver.find_elements(By.PARTIAL_LINK_TEXT, 'Pearly')\n",
    "    link5 = driver.find_elements(By.PARTIAL_LINK_TEXT, 'Jelly')\n",
    "    \n",
    "    tmp = []\n",
    "    precios = []\n",
    "    links = []\n",
    "    \n",
    "\n",
    "    for e in nombre:\n",
    "        tmp.append(e.text.split('\\n'))\n",
    "    \n",
    "    for e in precio:\n",
    "        precios.append(e.text)\n",
    "    \n",
    "    for e in link:\n",
    "        links.append(e.get_attribute('href'))\n",
    "    \n",
    "    for e in link2:\n",
    "        links.append(e.get_attribute('href'))\n",
    "    \n",
    "    for e in link3:\n",
    "        links.append(e.get_attribute('href'))\n",
    "    \n",
    "    for e in link4:\n",
    "        links.append(e.get_attribute('href'))\n",
    "    \n",
    "    for e in link5:\n",
    "        links.append(e.get_attribute('href'))\n",
    "    \n",
    "    \n",
    "    cols = ['NOMBRE']\n",
    "    \n",
    "    total = pd.DataFrame(tmp, columns = cols)\n",
    "    \n",
    "    precios.remove('')\n",
    "    precios.remove('')\n",
    "    precios.remove('')\n",
    "    precios.remove('')\n",
    "    precios.remove('')\n",
    "    precios.remove('')\n",
    "    precios.remove('')\n",
    "    precios.remove('')\n",
    "    precios.remove('')\n",
    "    \n",
    "    total['PRECIO'] = precios\n",
    "    total['LINKS'] = links\n",
    "    total['PRODUCTO'] = 'PINTALABIOS'\n",
    "    \n",
    "    \n",
    "    driver.quit()\n",
    "     \n",
    "    return total"
   ]
  },
  {
   "cell_type": "code",
   "execution_count": 59,
   "id": "8e25ff13",
   "metadata": {},
   "outputs": [],
   "source": [
    "URL = 'https://www.kikocosmetics.com/es-es/maquillaje/labios.html'"
   ]
  },
  {
   "cell_type": "code",
   "execution_count": 60,
   "id": "72a5103b",
   "metadata": {},
   "outputs": [
    {
     "name": "stderr",
     "output_type": "stream",
     "text": [
      "2022-12-12 11:04:04,420 [48607] WARNING  py.warnings:109: [JupyterRequire] /var/folders/fg/hm_rz3k53fv5qf5dywc0bfwr0000gn/T/ipykernel_48607/1661189169.py:3: DeprecationWarning: executable_path has been deprecated, please pass in a Service object\n",
      "  driver = webdriver.Chrome(PATH)\n",
      "\n"
     ]
    }
   ],
   "source": [
    "labios_kiko = extraer(URL)"
   ]
  },
  {
   "cell_type": "markdown",
   "id": "b229383a",
   "metadata": {},
   "source": [
    "*LIMPIEZA*"
   ]
  },
  {
   "cell_type": "markdown",
   "id": "d82b34fb",
   "metadata": {},
   "source": [
    "Asignamos la paleta de colores para cada producto. Para ello, se ha hecho un estudio previo de cada producto."
   ]
  },
  {
   "cell_type": "code",
   "execution_count": 567,
   "id": "3c032bbd",
   "metadata": {},
   "outputs": [],
   "source": [
    "sombras_kiko['PALETA'] = ['PRIMAVERA / OTOÑO', 'TODAS', 'TODAS', 'TODAS', 'TODAS', 'TODAS', 'TODAS', 'TODAS', 'TODAS', 'TODAS','TODAS',\\\n",
    "          'TODAS', 'TODAS', 'PRIMAVERA / VERANO', 'PRIMAVERA / VERANO / OTOÑO', 'INVIERNO / OTOÑO', 'INVIERNO / OTOÑO', \\\n",
    "          'INVIERNO / OTOÑO', 'PRIMAVERA / OTOÑO', 'PRIMAVERA / OTOÑO / INVIERNO', 'TODAS', 'PRIMAVERA / OTOÑO / INVIERNO',\\\n",
    "          'PRIMAVERA / OTOÑO / INVIERNO', 'TODAS', 'PRIMAVERA / VERANO', 'PRIMAVERA / VERANO', 'TODAS', 'TODAS']"
   ]
  },
  {
   "cell_type": "code",
   "execution_count": 568,
   "id": "a71edb90",
   "metadata": {},
   "outputs": [],
   "source": [
    "sombras_kiko.at[26, 'PRODUCTO'] = 'COLORETE'\n",
    "sombras_kiko.at[27, 'PRODUCTO'] = 'COLORETE'"
   ]
  },
  {
   "cell_type": "code",
   "execution_count": 570,
   "id": "8b9491fb",
   "metadata": {},
   "outputs": [],
   "source": [
    "labios_kiko['PALETA'] = 'TODAS'"
   ]
  },
  {
   "cell_type": "code",
   "execution_count": 571,
   "id": "5e14cf63",
   "metadata": {},
   "outputs": [],
   "source": [
    "maquillaje_kiko = pd.concat([sombras_kiko, labios_kiko])"
   ]
  },
  {
   "cell_type": "code",
   "execution_count": 572,
   "id": "a0e0d676",
   "metadata": {},
   "outputs": [],
   "source": [
    "#Limpiamos la columna PRECIO\n",
    "p = []\n",
    "for e in maquillaje_kiko.PRECIO:\n",
    "    if ',' in e:\n",
    "        p.append(e.replace(',', '.'))\n",
    "        \n",
    "        \n",
    "maquillaje_kiko.PRECIO = p\n",
    "\n",
    "#Limpiamos la columna PRECIO\n",
    "def quitar_euro(columna):\n",
    "    e = re.findall('\\d+.\\d+', columna)\n",
    "    e = ''.join(e)\n",
    "    return float(e)\n",
    "\n",
    "maquillaje_kiko.PRECIO = maquillaje_kiko.PRECIO.apply(quitar_euro)\n",
    "\n",
    "maquillaje_kiko.rename(columns = {'PRECIO' : 'PRECIO (€)'}, inplace = True)"
   ]
  },
  {
   "cell_type": "code",
   "execution_count": 596,
   "id": "a4fd51fc",
   "metadata": {},
   "outputs": [],
   "source": [
    "#Añadimos la columna 'TIENDA' para indicar dónde comprar los productos\n",
    "maquillaje_kiko['TIENDA'] = 'KIKO MILANO'"
   ]
  },
  {
   "cell_type": "code",
   "execution_count": 597,
   "id": "24612c05",
   "metadata": {},
   "outputs": [],
   "source": [
    "#Cambiamos el tipo de dato de las columnas\n",
    "maquillaje_kiko[['NOMBRE', 'LINKS', 'PRODUCTO', 'PALETA', 'TIENDA']] = \\\n",
    "maquillaje_kiko[['NOMBRE', 'LINKS', 'PRODUCTO', 'PALETA', 'TIENDA']].astype('category')"
   ]
  },
  {
   "cell_type": "code",
   "execution_count": 598,
   "id": "56d173bd",
   "metadata": {},
   "outputs": [
    {
     "name": "stdout",
     "output_type": "stream",
     "text": [
      "<class 'pandas.core.frame.DataFrame'>\n",
      "Int64Index: 52 entries, 0 to 23\n",
      "Data columns (total 6 columns):\n",
      " #   Column      Non-Null Count  Dtype   \n",
      "---  ------      --------------  -----   \n",
      " 0   NOMBRE      52 non-null     category\n",
      " 1   PRECIO (€)  52 non-null     float64 \n",
      " 2   LINKS       52 non-null     category\n",
      " 3   PRODUCTO    52 non-null     category\n",
      " 4   PALETA      52 non-null     category\n",
      " 5   TIENDA      52 non-null     category\n",
      "dtypes: category(5), float64(1)\n",
      "memory usage: 6.4 KB\n"
     ]
    }
   ],
   "source": [
    "maquillaje_kiko.info()"
   ]
  },
  {
   "cell_type": "markdown",
   "id": "c5e03471",
   "metadata": {},
   "source": [
    "# 5 - EXTRACCIÓN DE DE KAT VON D: PINTALABIOS"
   ]
  },
  {
   "cell_type": "markdown",
   "id": "8e2f3444",
   "metadata": {},
   "source": [
    "*PINTALABIOS*"
   ]
  },
  {
   "cell_type": "code",
   "execution_count": 68,
   "id": "5fd8216f",
   "metadata": {},
   "outputs": [],
   "source": [
    "def extraer(URL):\n",
    "    driver = webdriver.Chrome(PATH)\n",
    "    driver.get(URL)\n",
    "    \n",
    "    driver.find_element(By.XPATH, '//*[@id=\"onetrust-accept-btn-handler\"]').click()\n",
    "    time.sleep(5)\n",
    "    driver.find_element(By.CLASS_NAME, 'glClose').click()\n",
    "    time.sleep(5)\n",
    "    driver.execute_script('window.scrollTo(0, 3000);')  # 200px de scroll\n",
    "    time.sleep(5)\n",
    "    \n",
    "    nombre = driver.find_elements(By.CLASS_NAME, 'product-card__name')\n",
    "    precio = driver.find_elements(By.CLASS_NAME, 'product-card__price')\n",
    "    link =  driver.find_elements(By.PARTIAL_LINK_TEXT, 'Lip')\n",
    "    \n",
    "    tmp = []\n",
    "    precios = []\n",
    "    links = []\n",
    "    \n",
    "\n",
    "    for e in nombre:\n",
    "        tmp.append(e.text.split('\\n'))\n",
    "    \n",
    "    for e in precio:\n",
    "        precios.append(e.text)\n",
    "    \n",
    "    for e in link:\n",
    "        links.append(e.get_attribute('href'))\n",
    "    \n",
    "    tmp = tmp[18:24]\n",
    "    links = links[0:6]\n",
    "    \n",
    "    \n",
    "    cols = ['NOMBRE']\n",
    "    \n",
    "    total = pd.DataFrame(tmp, columns = cols)\n",
    "\n",
    "    \n",
    "    total['PRECIO'] = precios\n",
    "    total['LINKS'] = links\n",
    "    total['PRODUCTO'] = 'PINTALABIOS'\n",
    "    \n",
    "    \n",
    "    driver.quit()\n",
    "     \n",
    "    return total"
   ]
  },
  {
   "cell_type": "code",
   "execution_count": 69,
   "id": "5e029491",
   "metadata": {},
   "outputs": [],
   "source": [
    "URL = 'https://kvdveganbeauty.com/collections/lip'"
   ]
  },
  {
   "cell_type": "code",
   "execution_count": 70,
   "id": "52576038",
   "metadata": {},
   "outputs": [
    {
     "name": "stderr",
     "output_type": "stream",
     "text": [
      "2022-12-12 11:04:37,936 [48607] WARNING  py.warnings:109: [JupyterRequire] /var/folders/fg/hm_rz3k53fv5qf5dywc0bfwr0000gn/T/ipykernel_48607/3548246177.py:2: DeprecationWarning: executable_path has been deprecated, please pass in a Service object\n",
      "  driver = webdriver.Chrome(PATH)\n",
      "\n"
     ]
    }
   ],
   "source": [
    "pintalabios_kvd = extraer(URL) #falta añadir las paletas"
   ]
  },
  {
   "cell_type": "markdown",
   "id": "31369d1c",
   "metadata": {},
   "source": [
    "*LIMPIEZA*"
   ]
  },
  {
   "cell_type": "markdown",
   "id": "cc05a12b",
   "metadata": {},
   "source": [
    "Asignamos la paleta de colores para cada producto. Para ello, se ha hecho un estudio previo de cada producto."
   ]
  },
  {
   "cell_type": "code",
   "execution_count": 577,
   "id": "50200772",
   "metadata": {},
   "outputs": [],
   "source": [
    "pintalabios_kvd['PALETA'] = 'TODAS'"
   ]
  },
  {
   "cell_type": "code",
   "execution_count": 580,
   "id": "0707c4c7",
   "metadata": {},
   "outputs": [
    {
     "ename": "TypeError",
     "evalue": "rename() got an unexpected keyword argument 'columns'",
     "output_type": "error",
     "traceback": [
      "\u001b[0;31m---------------------------------------------------------------------------\u001b[0m",
      "\u001b[0;31mTypeError\u001b[0m                                 Traceback (most recent call last)",
      "Input \u001b[0;32mIn [580]\u001b[0m, in \u001b[0;36m<cell line: 9>\u001b[0;34m()\u001b[0m\n\u001b[1;32m      5\u001b[0m     \u001b[38;5;28;01mreturn\u001b[39;00m \u001b[38;5;28mfloat\u001b[39m(e)\n\u001b[1;32m      7\u001b[0m pintalabios_kvd\u001b[38;5;241m.\u001b[39mPRECIO \u001b[38;5;241m=\u001b[39m pintalabios_kvd\u001b[38;5;241m.\u001b[39mPRECIO\u001b[38;5;241m.\u001b[39mapply(quitar_euro)\n\u001b[0;32m----> 9\u001b[0m \u001b[43mpintalabios_kvd\u001b[49m\u001b[38;5;241;43m.\u001b[39;49m\u001b[43mPRECIO\u001b[49m\u001b[38;5;241;43m.\u001b[39;49m\u001b[43mrename\u001b[49m\u001b[43m(\u001b[49m\u001b[43mcolumns\u001b[49m\u001b[43m \u001b[49m\u001b[38;5;241;43m=\u001b[39;49m\u001b[43m \u001b[49m\u001b[43m{\u001b[49m\u001b[38;5;124;43m'\u001b[39;49m\u001b[38;5;124;43mPRECIO\u001b[39;49m\u001b[38;5;124;43m'\u001b[39;49m\u001b[43m \u001b[49m\u001b[43m:\u001b[49m\u001b[43m \u001b[49m\u001b[38;5;124;43m'\u001b[39;49m\u001b[38;5;124;43mPRECIO (€)\u001b[39;49m\u001b[38;5;124;43m'\u001b[39;49m\u001b[43m}\u001b[49m\u001b[43m,\u001b[49m\u001b[43m \u001b[49m\u001b[43minplace\u001b[49m\u001b[43m \u001b[49m\u001b[38;5;241;43m=\u001b[39;49m\u001b[43m \u001b[49m\u001b[38;5;28;43;01mTrue\u001b[39;49;00m\u001b[43m)\u001b[49m\n",
      "\u001b[0;31mTypeError\u001b[0m: rename() got an unexpected keyword argument 'columns'"
     ]
    }
   ],
   "source": [
    "#Limpiamos la columna PRECIO\n",
    "def quitar_euro(columna):\n",
    "    e = re.findall('\\d+.\\d+', columna)\n",
    "    e = ''.join(e)\n",
    "    return float(e)\n",
    "\n",
    "pintalabios_kvd.PRECIO = pintalabios_kvd.PRECIO.apply(quitar_euro)\n",
    "pintalabios_kvd.rename(columns = {'PRECIO' : 'PRECIO (€)'}, inplace = True)"
   ]
  },
  {
   "cell_type": "code",
   "execution_count": 599,
   "id": "a0baaf0a",
   "metadata": {},
   "outputs": [],
   "source": [
    "#Añadimos la columna 'TIENDA' para indicar dónde comprar los productos\n",
    "pintalabios_kvd['TIENDA'] = 'KAT VON D'"
   ]
  },
  {
   "cell_type": "code",
   "execution_count": 600,
   "id": "a15ba8b1",
   "metadata": {},
   "outputs": [],
   "source": [
    "#Cambiamos el tipo de dato de las columnas\n",
    "pintalabios_kvd[['NOMBRE', 'LINKS', 'PRODUCTO', 'PALETA', 'TIENDA']] = \\\n",
    "pintalabios_kvd[['NOMBRE', 'LINKS', 'PRODUCTO', 'PALETA', 'TIENDA']].astype('category')"
   ]
  },
  {
   "cell_type": "code",
   "execution_count": 602,
   "id": "6f2157f4",
   "metadata": {},
   "outputs": [
    {
     "name": "stdout",
     "output_type": "stream",
     "text": [
      "<class 'pandas.core.frame.DataFrame'>\n",
      "RangeIndex: 6 entries, 0 to 5\n",
      "Data columns (total 6 columns):\n",
      " #   Column      Non-Null Count  Dtype   \n",
      "---  ------      --------------  -----   \n",
      " 0   NOMBRE      6 non-null      category\n",
      " 1   PRECIO (€)  6 non-null      float64 \n",
      " 2   LINKS       6 non-null      category\n",
      " 3   PRODUCTO    6 non-null      category\n",
      " 4   PALETA      6 non-null      category\n",
      " 5   TIENDA      6 non-null      category\n",
      "dtypes: category(5), float64(1)\n",
      "memory usage: 994.0 bytes\n"
     ]
    }
   ],
   "source": [
    "pintalabios_kvd.info()"
   ]
  },
  {
   "cell_type": "markdown",
   "id": "f329109f",
   "metadata": {},
   "source": [
    "# 6 - EXTRACCIÓN DE DATOS DE BENEFIT: COLORETES"
   ]
  },
  {
   "cell_type": "markdown",
   "id": "35a382a8",
   "metadata": {},
   "source": [
    "*COLORETES: PÁGINA 1, PÁGINA 2, PÁGINA 3*"
   ]
  },
  {
   "cell_type": "code",
   "execution_count": 83,
   "id": "0f99e0da",
   "metadata": {},
   "outputs": [],
   "source": [
    "def extraer(URL):\n",
    "    driver = webdriver.Chrome(PATH)\n",
    "    driver.get(URL)\n",
    "\n",
    "    time.sleep(5)\n",
    "    driver.execute_script('window.scrollTo(0, 3000);')  # 200px de scroll\n",
    "    \n",
    "    \n",
    "    nombre = driver.find_elements(By.CLASS_NAME, 'card__title')\n",
    "    precio = driver.find_elements(By.CLASS_NAME, 'price')\n",
    "    link =  driver.find_elements(By.TAG_NAME, 'a')\n",
    "    \n",
    "    tmp = []\n",
    "    precios = []\n",
    "    links = []\n",
    "    \n",
    "\n",
    "    for e in nombre:\n",
    "        tmp.append(e.text.split('\\n'))\n",
    "    \n",
    "    for e in precio:\n",
    "        precios.append(e.text.split('\\n')[-1])\n",
    "    \n",
    "    for e in link:\n",
    "        links.append(e.get_attribute('href'))\n",
    "    \n",
    "    precios = precios[10:22]\n",
    "    tmp = tmp[10:22]\n",
    "    links = links[102:114]\n",
    "    \n",
    "    cols = ['NOMBRE']\n",
    "    \n",
    "    total = pd.DataFrame(tmp, columns = cols)\n",
    "\n",
    "    \n",
    "    total['PRECIO'] = precios\n",
    "    total['LINKS'] = links\n",
    "    total['PRODUCTO'] = 'COLORETE'\n",
    "    \n",
    "    \n",
    "    driver.quit()\n",
    "     \n",
    "    return total"
   ]
  },
  {
   "cell_type": "code",
   "execution_count": 84,
   "id": "c5e5aa35",
   "metadata": {},
   "outputs": [],
   "source": [
    "def extraer2(URL):\n",
    "    driver = webdriver.Chrome(PATH)\n",
    "    driver.get(URL)\n",
    "\n",
    "    time.sleep(5)\n",
    "    driver.execute_script('window.scrollTo(0, 3000);')  # 200px de scroll\n",
    "    \n",
    "    \n",
    "    nombre = driver.find_elements(By.CLASS_NAME, 'card__title')\n",
    "    precio = driver.find_elements(By.CLASS_NAME, 'price')\n",
    "    link =  driver.find_elements(By.TAG_NAME, 'a')\n",
    "    \n",
    "    tmp = []\n",
    "    precios = []\n",
    "    links = []\n",
    "    \n",
    "\n",
    "    for e in nombre:\n",
    "        tmp.append(e.text.split('\\n'))\n",
    "    \n",
    "    for e in precio:\n",
    "        precios.append(e.text.split('\\n')[-1])\n",
    "    \n",
    "    for e in link:\n",
    "        links.append(e.get_attribute('href'))\n",
    "    \n",
    "    precios = precios[10:22]\n",
    "    tmp = tmp[10:22]\n",
    "    links = links[103:112]\n",
    "    \n",
    "    cols = ['NOMBRE']\n",
    "    \n",
    "    total = pd.DataFrame(tmp, columns = cols)\n",
    "\n",
    "    \n",
    "    total['PRECIO'] = precios\n",
    "    total['LINKS'] = links\n",
    "    total['PRODUCTO'] = 'COLORETE'\n",
    "    \n",
    "    \n",
    "    driver.quit()\n",
    "     \n",
    "    return total"
   ]
  },
  {
   "cell_type": "code",
   "execution_count": 85,
   "id": "b23f1ea9",
   "metadata": {},
   "outputs": [],
   "source": [
    "links_ben = ['https://www.benefitcosmetics.com/en-us/face/blush',\\\n",
    "            'https://www.benefitcosmetics.com/en-us/face/blush?page=2']"
   ]
  },
  {
   "cell_type": "code",
   "execution_count": 86,
   "id": "641d31ca",
   "metadata": {},
   "outputs": [
    {
     "name": "stderr",
     "output_type": "stream",
     "text": [
      "2022-12-12 11:05:31,868 [48607] WARNING  py.warnings:109: [JupyterRequire] /var/folders/fg/hm_rz3k53fv5qf5dywc0bfwr0000gn/T/ipykernel_48607/326568913.py:2: DeprecationWarning: executable_path has been deprecated, please pass in a Service object\n",
      "  driver = webdriver.Chrome(PATH)\n",
      "\n"
     ]
    }
   ],
   "source": [
    "tres = extraer2('https://www.benefitcosmetics.com/en-us/face/blush?page=3') "
   ]
  },
  {
   "cell_type": "code",
   "execution_count": 87,
   "id": "0bb74d5e",
   "metadata": {},
   "outputs": [
    {
     "name": "stderr",
     "output_type": "stream",
     "text": [
      "[Parallel(n_jobs=3)]: Using backend LokyBackend with 3 concurrent workers.\n",
      "/var/folders/fg/hm_rz3k53fv5qf5dywc0bfwr0000gn/T/ipykernel_48607/1349481635.py:2: DeprecationWarning: executable_path has been deprecated, please pass in a Service object\n",
      "/var/folders/fg/hm_rz3k53fv5qf5dywc0bfwr0000gn/T/ipykernel_48607/1349481635.py:2: DeprecationWarning: executable_path has been deprecated, please pass in a Service object\n",
      "[Parallel(n_jobs=3)]: Done   2 out of   2 | elapsed:   34.3s finished\n"
     ]
    }
   ],
   "source": [
    "blush_benefit = Parallel(n_jobs=3, verbose=True)(delayed(extraer)(e) for e in links_ben)"
   ]
  },
  {
   "cell_type": "code",
   "execution_count": 608,
   "id": "5a5ce5f8",
   "metadata": {},
   "outputs": [
    {
     "ename": "KeyError",
     "evalue": "0",
     "output_type": "error",
     "traceback": [
      "\u001b[0;31m---------------------------------------------------------------------------\u001b[0m",
      "\u001b[0;31mKeyError\u001b[0m                                  Traceback (most recent call last)",
      "File \u001b[0;32m~/opt/anaconda3/lib/python3.9/site-packages/pandas/core/indexes/base.py:3621\u001b[0m, in \u001b[0;36mIndex.get_loc\u001b[0;34m(self, key, method, tolerance)\u001b[0m\n\u001b[1;32m   3620\u001b[0m \u001b[38;5;28;01mtry\u001b[39;00m:\n\u001b[0;32m-> 3621\u001b[0m     \u001b[38;5;28;01mreturn\u001b[39;00m \u001b[38;5;28;43mself\u001b[39;49m\u001b[38;5;241;43m.\u001b[39;49m\u001b[43m_engine\u001b[49m\u001b[38;5;241;43m.\u001b[39;49m\u001b[43mget_loc\u001b[49m\u001b[43m(\u001b[49m\u001b[43mcasted_key\u001b[49m\u001b[43m)\u001b[49m\n\u001b[1;32m   3622\u001b[0m \u001b[38;5;28;01mexcept\u001b[39;00m \u001b[38;5;167;01mKeyError\u001b[39;00m \u001b[38;5;28;01mas\u001b[39;00m err:\n",
      "File \u001b[0;32m~/opt/anaconda3/lib/python3.9/site-packages/pandas/_libs/index.pyx:136\u001b[0m, in \u001b[0;36mpandas._libs.index.IndexEngine.get_loc\u001b[0;34m()\u001b[0m\n",
      "File \u001b[0;32m~/opt/anaconda3/lib/python3.9/site-packages/pandas/_libs/index.pyx:163\u001b[0m, in \u001b[0;36mpandas._libs.index.IndexEngine.get_loc\u001b[0;34m()\u001b[0m\n",
      "File \u001b[0;32mpandas/_libs/hashtable_class_helper.pxi:5198\u001b[0m, in \u001b[0;36mpandas._libs.hashtable.PyObjectHashTable.get_item\u001b[0;34m()\u001b[0m\n",
      "File \u001b[0;32mpandas/_libs/hashtable_class_helper.pxi:5206\u001b[0m, in \u001b[0;36mpandas._libs.hashtable.PyObjectHashTable.get_item\u001b[0;34m()\u001b[0m\n",
      "\u001b[0;31mKeyError\u001b[0m: 0",
      "\nThe above exception was the direct cause of the following exception:\n",
      "\u001b[0;31mKeyError\u001b[0m                                  Traceback (most recent call last)",
      "Input \u001b[0;32mIn [608]\u001b[0m, in \u001b[0;36m<cell line: 1>\u001b[0;34m()\u001b[0m\n\u001b[0;32m----> 1\u001b[0m blush1 \u001b[38;5;241m=\u001b[39m \u001b[43mblush_benefit\u001b[49m\u001b[43m[\u001b[49m\u001b[38;5;241;43m0\u001b[39;49m\u001b[43m]\u001b[49m\n\u001b[1;32m      2\u001b[0m blush2 \u001b[38;5;241m=\u001b[39m blush_benefit[\u001b[38;5;241m1\u001b[39m]\n",
      "File \u001b[0;32m~/opt/anaconda3/lib/python3.9/site-packages/pandas/core/frame.py:3505\u001b[0m, in \u001b[0;36mDataFrame.__getitem__\u001b[0;34m(self, key)\u001b[0m\n\u001b[1;32m   3503\u001b[0m \u001b[38;5;28;01mif\u001b[39;00m \u001b[38;5;28mself\u001b[39m\u001b[38;5;241m.\u001b[39mcolumns\u001b[38;5;241m.\u001b[39mnlevels \u001b[38;5;241m>\u001b[39m \u001b[38;5;241m1\u001b[39m:\n\u001b[1;32m   3504\u001b[0m     \u001b[38;5;28;01mreturn\u001b[39;00m \u001b[38;5;28mself\u001b[39m\u001b[38;5;241m.\u001b[39m_getitem_multilevel(key)\n\u001b[0;32m-> 3505\u001b[0m indexer \u001b[38;5;241m=\u001b[39m \u001b[38;5;28;43mself\u001b[39;49m\u001b[38;5;241;43m.\u001b[39;49m\u001b[43mcolumns\u001b[49m\u001b[38;5;241;43m.\u001b[39;49m\u001b[43mget_loc\u001b[49m\u001b[43m(\u001b[49m\u001b[43mkey\u001b[49m\u001b[43m)\u001b[49m\n\u001b[1;32m   3506\u001b[0m \u001b[38;5;28;01mif\u001b[39;00m is_integer(indexer):\n\u001b[1;32m   3507\u001b[0m     indexer \u001b[38;5;241m=\u001b[39m [indexer]\n",
      "File \u001b[0;32m~/opt/anaconda3/lib/python3.9/site-packages/pandas/core/indexes/base.py:3623\u001b[0m, in \u001b[0;36mIndex.get_loc\u001b[0;34m(self, key, method, tolerance)\u001b[0m\n\u001b[1;32m   3621\u001b[0m     \u001b[38;5;28;01mreturn\u001b[39;00m \u001b[38;5;28mself\u001b[39m\u001b[38;5;241m.\u001b[39m_engine\u001b[38;5;241m.\u001b[39mget_loc(casted_key)\n\u001b[1;32m   3622\u001b[0m \u001b[38;5;28;01mexcept\u001b[39;00m \u001b[38;5;167;01mKeyError\u001b[39;00m \u001b[38;5;28;01mas\u001b[39;00m err:\n\u001b[0;32m-> 3623\u001b[0m     \u001b[38;5;28;01mraise\u001b[39;00m \u001b[38;5;167;01mKeyError\u001b[39;00m(key) \u001b[38;5;28;01mfrom\u001b[39;00m \u001b[38;5;21;01merr\u001b[39;00m\n\u001b[1;32m   3624\u001b[0m \u001b[38;5;28;01mexcept\u001b[39;00m \u001b[38;5;167;01mTypeError\u001b[39;00m:\n\u001b[1;32m   3625\u001b[0m     \u001b[38;5;66;03m# If we have a listlike key, _check_indexing_error will raise\u001b[39;00m\n\u001b[1;32m   3626\u001b[0m     \u001b[38;5;66;03m#  InvalidIndexError. Otherwise we fall through and re-raise\u001b[39;00m\n\u001b[1;32m   3627\u001b[0m     \u001b[38;5;66;03m#  the TypeError.\u001b[39;00m\n\u001b[1;32m   3628\u001b[0m     \u001b[38;5;28mself\u001b[39m\u001b[38;5;241m.\u001b[39m_check_indexing_error(key)\n",
      "\u001b[0;31mKeyError\u001b[0m: 0"
     ]
    }
   ],
   "source": [
    "blush1 = blush_benefit[0]\n",
    "blush2 = blush_benefit[1]"
   ]
  },
  {
   "cell_type": "markdown",
   "id": "d6df3e7d",
   "metadata": {},
   "source": [
    "*LIMPIEZA*"
   ]
  },
  {
   "cell_type": "markdown",
   "id": "e896490d",
   "metadata": {},
   "source": [
    "Asignamos la paleta de colores para cada producto. Para ello, se ha hecho un estudio previo de cada producto."
   ]
  },
  {
   "cell_type": "code",
   "execution_count": 218,
   "id": "8d29179c",
   "metadata": {},
   "outputs": [],
   "source": [
    "blush1.drop(blush1.index[[6]], inplace = True)"
   ]
  },
  {
   "cell_type": "code",
   "execution_count": 609,
   "id": "2cd0cee6",
   "metadata": {},
   "outputs": [],
   "source": [
    "blush1['PALETA'] = ['PRIMAVERA / OTOÑO', 'TODAS', 'TODAS', 'PRIMAVERA / OTOÑO', 'INVIERNO / VERANO', 'PRIMAVERA / OTOÑO',\\\n",
    "          'INVIERNO / VERANO', 'INVIERNO / VERANO', 'TODAS', 'PRIMAVERA / OTOÑO', 'INVIERNO / VERANO']"
   ]
  },
  {
   "cell_type": "code",
   "execution_count": 610,
   "id": "1e63f36c",
   "metadata": {},
   "outputs": [],
   "source": [
    "blush2['PALETA'] = ['PRIMAVERA / OTOÑO', 'PRIMAVERA / OTOÑO', 'INVIERNO / VERANO', 'INVIERNO / VERANO', 'INVIERNO / VERANO',\\\n",
    "          'INVIERNO / VERANO', 'PRIMAVERA / OTOÑO', 'PRIMAVERA / OTOÑO', 'INVIERNO / VERANO', 'PRIMAVERA / OTOÑO',\\\n",
    "          'PRIMAVERA / OTOÑO', 'INVIERNO / VERANO']"
   ]
  },
  {
   "cell_type": "code",
   "execution_count": 611,
   "id": "c236ad85",
   "metadata": {},
   "outputs": [],
   "source": [
    "tres['PALETA'] = ['INVIERNO / VERANO', 'PRIMAVERA / OTOÑO', 'PRIMAVERA / OTOÑO', 'PRIMAVERA / OTOÑO', 'INVIERNO / VERANO',\\\n",
    "          'PRIMAVERA / OTOÑO', 'PRIMAVERA / OTOÑO', 'TODAS', 'TODAS']"
   ]
  },
  {
   "cell_type": "code",
   "execution_count": 612,
   "id": "c45cb34b",
   "metadata": {},
   "outputs": [],
   "source": [
    "blush_benefit = pd.concat([blush1, blush2, tres], axis = 0)"
   ]
  },
  {
   "cell_type": "code",
   "execution_count": 613,
   "id": "43f8236d",
   "metadata": {},
   "outputs": [],
   "source": [
    "#Vamos a limpiar la columna de PRECIO\n",
    "p2 = []\n",
    "for e in blush_benefit['PRECIO']:\n",
    "    if '$' in e:\n",
    "        p2.append(float(e.replace('$', '')))\n",
    "#Lo convertimos a EUROS (TIPO DE CAMBIO - 12/12/2022):\n",
    "p3 = []\n",
    "for e in p2:\n",
    "    p3.append(round((e*0.95), 2))\n",
    "\n",
    "blush_benefit.PRECIO = p3\n",
    "blush_benefit.rename(columns = {'PRECIO' : 'PRECIO (€)'}, inplace = True)"
   ]
  },
  {
   "cell_type": "code",
   "execution_count": 614,
   "id": "e13913c0",
   "metadata": {},
   "outputs": [],
   "source": [
    "#Añadimos la columna 'TIENDA' para indicar dónde comprar los productos\n",
    "blush_benefit['TIENDA'] = 'BENEFIT'"
   ]
  },
  {
   "cell_type": "code",
   "execution_count": 615,
   "id": "acafd543",
   "metadata": {},
   "outputs": [],
   "source": [
    "#Cambiamos el tipo de dato de las columnas \n",
    "blush_benefit[['NOMBRE', 'LINKS', 'PRODUCTO', 'PALETA', 'TIENDA']] = \\\n",
    "blush_benefit[['NOMBRE', 'LINKS', 'PRODUCTO', 'PALETA', 'TIENDA']].astype('category')"
   ]
  },
  {
   "cell_type": "code",
   "execution_count": 621,
   "id": "55e03e94",
   "metadata": {},
   "outputs": [
    {
     "name": "stdout",
     "output_type": "stream",
     "text": [
      "<class 'pandas.core.frame.DataFrame'>\n",
      "Int64Index: 32 entries, 0 to 8\n",
      "Data columns (total 6 columns):\n",
      " #   Column      Non-Null Count  Dtype   \n",
      "---  ------      --------------  -----   \n",
      " 0   NOMBRE      32 non-null     category\n",
      " 1   PRECIO (€)  32 non-null     float64 \n",
      " 2   LINKS       32 non-null     category\n",
      " 3   PRODUCTO    32 non-null     category\n",
      " 4   PALETA      32 non-null     category\n",
      " 5   TIENDA      32 non-null     category\n",
      "dtypes: category(5), float64(1)\n",
      "memory usage: 4.6 KB\n"
     ]
    }
   ],
   "source": [
    "blush_benefit.info()"
   ]
  },
  {
   "cell_type": "markdown",
   "id": "2720a7df",
   "metadata": {},
   "source": [
    "# 7 - EXTRACCIÓN DE DATOS DE NARS: SOMBRAS, COLORETES Y PINTALABIOS"
   ]
  },
  {
   "cell_type": "markdown",
   "id": "e7d8a012",
   "metadata": {},
   "source": [
    "*SOMBRAS, LABIOS Y COLORETE*"
   ]
  },
  {
   "cell_type": "code",
   "execution_count": 98,
   "id": "27f68991",
   "metadata": {},
   "outputs": [],
   "source": [
    "def extraer2(URL):\n",
    "    driver = webdriver.Chrome(PATH)\n",
    "    driver.get(URL)\n",
    "\n",
    "    time.sleep(5)\n",
    "    driver.find_element(By.CSS_SELECTOR, '#onetrust-accept-btn-handler').click()\n",
    "    time.sleep(5)\n",
    "    driver.execute_script('window.scrollTo(0, 3000);')  # 200px de scroll\n",
    "    time.sleep(5)\n",
    "    \n",
    "    nombre = driver.find_elements(By.CLASS_NAME, 'product-name')\n",
    "    precio = driver.find_elements(By.CLASS_NAME, 'product-pricing')\n",
    "    link =  driver.find_elements(By.CLASS_NAME, 'name-link')\n",
    "    \n",
    "    tmp = []\n",
    "    precios = []\n",
    "    links = []\n",
    "    \n",
    "\n",
    "    for e in nombre:\n",
    "        tmp.append(e.text)\n",
    "    \n",
    "    for e in precio:\n",
    "        precios.append(e.text.split()[0])\n",
    "    \n",
    "    for e in link:\n",
    "        links.append(e.get_attribute('href'))\n",
    "    \n",
    "    \n",
    "    cols = ['NOMBRE']\n",
    "    \n",
    "    total = pd.DataFrame(tmp, columns = cols)\n",
    "\n",
    "    \n",
    "    total['PRECIO'] = precios\n",
    "    total['LINKS'] = links\n",
    "    total['PRODUCTO'] = 'SOMBRAS DE OJOS'\n",
    "    \n",
    "    \n",
    "    driver.quit()\n",
    "     \n",
    "    return total"
   ]
  },
  {
   "cell_type": "code",
   "execution_count": 99,
   "id": "d905f0d0",
   "metadata": {},
   "outputs": [],
   "source": [
    "links_nars = ('https://www.narscosmetics.es/es/maquillaje/ojos/paletas-de-sombras',\n",
    "             'https://www.narscosmetics.es/es/maquillaje/labios',\n",
    "             'https://www.narscosmetics.es/es/maquillaje/rostro/blush')"
   ]
  },
  {
   "cell_type": "code",
   "execution_count": 100,
   "id": "526620ed",
   "metadata": {
    "scrolled": true
   },
   "outputs": [
    {
     "name": "stderr",
     "output_type": "stream",
     "text": [
      "[Parallel(n_jobs=3)]: Using backend LokyBackend with 3 concurrent workers.\n",
      "/var/folders/fg/hm_rz3k53fv5qf5dywc0bfwr0000gn/T/ipykernel_48607/2494103033.py:3: DeprecationWarning: executable_path has been deprecated, please pass in a Service object\n",
      "/var/folders/fg/hm_rz3k53fv5qf5dywc0bfwr0000gn/T/ipykernel_48607/2494103033.py:3: DeprecationWarning: executable_path has been deprecated, please pass in a Service object\n",
      "/var/folders/fg/hm_rz3k53fv5qf5dywc0bfwr0000gn/T/ipykernel_48607/2494103033.py:3: DeprecationWarning: executable_path has been deprecated, please pass in a Service object\n",
      "[Parallel(n_jobs=3)]: Done   3 out of   3 | elapsed:   56.1s finished\n"
     ]
    }
   ],
   "source": [
    "nars = Parallel(n_jobs=3, verbose=True)(delayed(extraer2)(e) for e in links_nars)"
   ]
  },
  {
   "cell_type": "code",
   "execution_count": 101,
   "id": "d3495ca1",
   "metadata": {},
   "outputs": [],
   "source": [
    "sombras_nars = nars[0]\n",
    "labios_nars = nars[1]\n",
    "blush_nars = nars[2]"
   ]
  },
  {
   "cell_type": "markdown",
   "id": "aa229a8d",
   "metadata": {},
   "source": [
    "*LIMPIEZA*"
   ]
  },
  {
   "cell_type": "code",
   "execution_count": 204,
   "id": "412bd98c",
   "metadata": {},
   "outputs": [
    {
     "name": "stderr",
     "output_type": "stream",
     "text": [
      "2022-12-12 13:04:28,775 [48607] WARNING  py.warnings:109: [JupyterRequire] /var/folders/fg/hm_rz3k53fv5qf5dywc0bfwr0000gn/T/ipykernel_48607/270403714.py:4: FutureWarning: The frame.append method is deprecated and will be removed from pandas in a future version. Use pandas.concat instead.\n",
      "  sombras_nars = sombras_nars.append(dictio, ignore_index = True)\n",
      "\n"
     ]
    }
   ],
   "source": [
    "sombras_nars\n",
    "dictio = {'NOMBRE' : 'STARGAZE EYESHADOW PALETTE', 'PRECIO' : '59,00', 'LINKS' : 'https://www.narscosmetics.es/es/stargaze-eyeshadow-palette/0194251134321.html',\\\n",
    "         'PRODUCTO' : 'SOMBRAS DE OJOS'}\n",
    "sombras_nars = sombras_nars.append(dictio, ignore_index = True)"
   ]
  },
  {
   "cell_type": "code",
   "execution_count": 623,
   "id": "972da94d",
   "metadata": {},
   "outputs": [],
   "source": [
    "sombras_nars['PALETA'] = ['TODAS', 'PRIMAVERA / VERANO', 'PRIMAVERA / VERANO / OTOÑO', 'PRIMAVERA / OTOÑO', 'INVIERNO / OTOÑO',\\\n",
    "          'VERANO / OTOÑO', 'PRIMAVERA / VERANO', 'PRIMAVERA / OTOÑO', 'OTOÑO / INVIERNO', 'OTOÑO', 'PRIMAVERA / OTOÑO',\\\n",
    "          'PRIMAVERA', 'OTOÑO / VERANO', 'PRIMAVERA', 'PRIMAVERA / OTOÑO']"
   ]
  },
  {
   "cell_type": "code",
   "execution_count": 624,
   "id": "0e14d633",
   "metadata": {},
   "outputs": [],
   "source": [
    "labios_nars['PALETA'] = ['VERANO / INVIERNO / OTOÑO', 'PRIMAVERA / VERANO', 'INVIERNO', 'PRIMAVERA', 'OTOÑO / INVIERNO',\\\n",
    "          'VERANO / INVIERNO / OTOÑO', 'PRIMAVERA', 'PRIMAVERA', 'PRIMAVERA / VERANO', 'TODAS', 'TODAS',\\\n",
    "          'VERANO / INVIERNO / OTOÑO', 'PRIMAVERA / VERANO', 'PRIMAVERA / VERANO', 'PRIMAVERA / VERANO', 'TODAS']"
   ]
  },
  {
   "cell_type": "code",
   "execution_count": 625,
   "id": "faf83fdc",
   "metadata": {},
   "outputs": [],
   "source": [
    "blush_nars['PALETA'] = ['INVIERNO / VERANO', 'INVIERNO / VERANO', 'INVIERNO / VERANO', 'PRIMAVERA / OTOÑO', 'TODAS', \\\n",
    "          'PRIMAVERA / OTOÑO', 'TODAS', 'INVIERNO / VERANO', 'INVIERNO / VERANO', 'PRIMAVERA / OTOÑO', 'INVIERNO / VERANO',\\\n",
    "          'PRIMAVERA / OTOÑO', 'PRIMAVERA / OTOÑO']"
   ]
  },
  {
   "cell_type": "code",
   "execution_count": 102,
   "id": "6bf83378",
   "metadata": {},
   "outputs": [],
   "source": [
    "labios_nars['PRODUCTO'] = 'PINTALABIOS'\n",
    "blush_nars['PRODUCTO'] = 'COLORETE'"
   ]
  },
  {
   "cell_type": "code",
   "execution_count": 105,
   "id": "116ab893",
   "metadata": {},
   "outputs": [],
   "source": [
    "sombras_nars.drop(sombras_nars.index[[14,15]], inplace = True)\n",
    "blush_nars.drop(blush_nars.index[[12,13,14]], inplace = True)"
   ]
  },
  {
   "cell_type": "code",
   "execution_count": 627,
   "id": "89c4dec4",
   "metadata": {},
   "outputs": [],
   "source": [
    "maquillaje_nars = pd.concat([sombras_nars, labios_nars, blush_nars])"
   ]
  },
  {
   "cell_type": "code",
   "execution_count": null,
   "id": "8a85cd59",
   "metadata": {},
   "outputs": [],
   "source": [
    "#Arreglamos la columna de los links\n",
    "def arreglar_links(link):\n",
    "    return 'https://www.narscosmetics.es' + link \n",
    "\n",
    "maquillaje_nars.LINKS = maquillaje_nars.LINKS.apply(arreglar_links)"
   ]
  },
  {
   "cell_type": "code",
   "execution_count": 635,
   "id": "fc278e28",
   "metadata": {},
   "outputs": [],
   "source": [
    "#Vamos a limpiar la columna de PRECIO:\n",
    "p = []\n",
    "for e in maquillaje_nars.PRECIO:\n",
    "    if ',' in e:\n",
    "        p.append(float(e.replace(',', '.')))\n",
    "        \n",
    "        \n",
    "maquillaje_nars.PRECIO = p\n",
    "maquillaje_nars.rename(columns = {'PRECIO': 'PRECIO (€)'}, inplace = True ) "
   ]
  },
  {
   "cell_type": "code",
   "execution_count": 646,
   "id": "5c9a3ab5",
   "metadata": {},
   "outputs": [],
   "source": [
    "#Añadimos la columna 'TIENDA' para indicar dónde comprar los productos\n",
    "maquillaje_nars['TIENDA'] = 'NARS'"
   ]
  },
  {
   "cell_type": "code",
   "execution_count": 647,
   "id": "07dc8c23",
   "metadata": {},
   "outputs": [],
   "source": [
    "#Cambiamos el tipo de dato de las columnas \n",
    "maquillaje_nars[['NOMBRE', 'LINKS', 'PRODUCTO', 'PALETA', 'TIENDA']] = \\\n",
    "maquillaje_nars[['NOMBRE', 'LINKS', 'PRODUCTO', 'PALETA', 'TIENDA']].astype('category')"
   ]
  },
  {
   "cell_type": "code",
   "execution_count": 649,
   "id": "053e336e",
   "metadata": {},
   "outputs": [
    {
     "name": "stdout",
     "output_type": "stream",
     "text": [
      "<class 'pandas.core.frame.DataFrame'>\n",
      "Int64Index: 44 entries, 0 to 15\n",
      "Data columns (total 6 columns):\n",
      " #   Column      Non-Null Count  Dtype   \n",
      "---  ------      --------------  -----   \n",
      " 0   NOMBRE      44 non-null     category\n",
      " 1   PRECIO (€)  44 non-null     float64 \n",
      " 2   LINKS       44 non-null     category\n",
      " 3   PRODUCTO    44 non-null     category\n",
      " 4   PALETA      44 non-null     category\n",
      " 5   TIENDA      44 non-null     category\n",
      "dtypes: category(5), float64(1)\n",
      "memory usage: 4.5 KB\n"
     ]
    }
   ],
   "source": [
    "maquillaje_nars.info()"
   ]
  },
  {
   "cell_type": "markdown",
   "id": "73f7d298",
   "metadata": {},
   "source": [
    "# 8 - EXTRACCIÓN DE DATOS DE CHARLOTTE TILBURY: SOMBRAS, COLORETES Y PINTALABIOS"
   ]
  },
  {
   "cell_type": "markdown",
   "id": "8488d65e",
   "metadata": {},
   "source": [
    "*SOMBRAS, PINTALABIOS Y COLORETES*"
   ]
  },
  {
   "cell_type": "code",
   "execution_count": 188,
   "id": "a12ff0d3",
   "metadata": {},
   "outputs": [],
   "source": [
    "#SOMBRAS, LABIOS Y BLUSH\n",
    "def extraer2(URL):\n",
    "    driver = webdriver.Chrome(PATH)\n",
    "    driver.get(URL)\n",
    "    \n",
    "    driver.find_element(By.XPATH, '//*[@id=\"onetrust-accept-btn-handler\"]').click()\n",
    "\n",
    "    time.sleep(5)\n",
    "    driver.execute_script('window.scrollTo(0, 3000);')  # 200px de scroll\n",
    "    time.sleep(5)\n",
    "    \n",
    "    \n",
    "    nombre = driver.find_elements(By.CLASS_NAME, 'ProductCard__title')\n",
    "    precio = driver.find_elements(By.CLASS_NAME, 'DisplayPrice__price')\n",
    "    link =  driver.find_elements(By.CLASS_NAME, 'ProductCard__link')\n",
    "    \n",
    "    tmp = []\n",
    "    precios = []\n",
    "    links = []\n",
    "    \n",
    "\n",
    "    for e in nombre:\n",
    "        tmp.append(e.text.split('\\n')[0])\n",
    "    \n",
    "    for e in precio:\n",
    "        precios.append(e.text)\n",
    "    \n",
    "    for e in link:\n",
    "        links.append(e.get_attribute('href'))\n",
    "    \n",
    "    \n",
    "    cols = ['NOMBRE']\n",
    "    \n",
    "    total = pd.DataFrame(tmp, columns = cols)\n",
    "\n",
    "    \n",
    "    total['PRECIO'] = precios\n",
    "    total['LINKS'] = links\n",
    "    total['PRODUCTO'] = 'SOMBRAS DE OJOS'\n",
    "    \n",
    "    \n",
    "    driver.quit()\n",
    "     \n",
    "    return total"
   ]
  },
  {
   "cell_type": "code",
   "execution_count": 189,
   "id": "6bcfaaa5",
   "metadata": {},
   "outputs": [],
   "source": [
    "links_ct = ['https://www.charlottetilbury.com/es/products/maquillaje/ojos/paleta',\\\n",
    "           'https://www.charlottetilbury.com/es/products/maquillaje/labios/labial/revolucion-matte',\\\n",
    "           'https://www.charlottetilbury.com/es/products/maquillaje/mejillas/rubor/rubor-en-polvo']"
   ]
  },
  {
   "cell_type": "code",
   "execution_count": 190,
   "id": "8c978c82",
   "metadata": {
    "scrolled": true
   },
   "outputs": [
    {
     "name": "stderr",
     "output_type": "stream",
     "text": [
      "[Parallel(n_jobs=3)]: Using backend LokyBackend with 3 concurrent workers.\n",
      "/var/folders/fg/hm_rz3k53fv5qf5dywc0bfwr0000gn/T/ipykernel_48607/3048332081.py:3: DeprecationWarning: executable_path has been deprecated, please pass in a Service object\n",
      "/var/folders/fg/hm_rz3k53fv5qf5dywc0bfwr0000gn/T/ipykernel_48607/3048332081.py:3: DeprecationWarning: executable_path has been deprecated, please pass in a Service object\n",
      "/var/folders/fg/hm_rz3k53fv5qf5dywc0bfwr0000gn/T/ipykernel_48607/3048332081.py:3: DeprecationWarning: executable_path has been deprecated, please pass in a Service object\n",
      "[Parallel(n_jobs=3)]: Done   3 out of   3 | elapsed:   32.0s finished\n"
     ]
    }
   ],
   "source": [
    "ch_til = Parallel(n_jobs=3, verbose=True)(delayed(extraer2)(e) for e in links_ct)"
   ]
  },
  {
   "cell_type": "code",
   "execution_count": 192,
   "id": "e7c6ec2b",
   "metadata": {},
   "outputs": [],
   "source": [
    "sombras_ct = ch_til[0]\n",
    "labios_ct = ch_til[1]\n",
    "blush_ct = ch_til[2]"
   ]
  },
  {
   "cell_type": "markdown",
   "id": "017294e7",
   "metadata": {},
   "source": [
    "*LIMPIEZA*"
   ]
  },
  {
   "cell_type": "markdown",
   "id": "b46b213d",
   "metadata": {},
   "source": [
    "Asignamos la paleta de colores para cada producto. Para ello, se ha hecho un estudio previo de cada producto."
   ]
  },
  {
   "cell_type": "code",
   "execution_count": 650,
   "id": "78aeaa3f",
   "metadata": {
    "scrolled": true
   },
   "outputs": [],
   "source": [
    "sombras_ct['PALETA'] = ['OTOÑO', 'PRIMAVERA / OTOÑO / INVIERNO', 'INVIERNO', 'PRIMAVERA / IVNVIERNO', 'OTOÑO / INVIERNO',\\\n",
    "          'OTOÑO / INVIERNO']"
   ]
  },
  {
   "cell_type": "code",
   "execution_count": 651,
   "id": "606df1f6",
   "metadata": {},
   "outputs": [],
   "source": [
    "labios_ct['PALETA'] = ['OTOÑO / INVIERNO', 'OTOÑO / INVIERNO / VERANO', 'PRIMAVERA / OTOÑO / VERANO', 'VERANO / OTOÑO, INVIERNO',\\\n",
    "          'OTOÑO / INVIERNO', 'PRIMAVERA / OTOÑO', 'PRIMAVERA / VERANO', 'VERANO / INVIERNO', 'PRIMAVERA', 'PRIMAVERA / OTOÑO', 'PRIMAVERA / OTOÑO']"
   ]
  },
  {
   "cell_type": "code",
   "execution_count": 652,
   "id": "dcfe6d0a",
   "metadata": {},
   "outputs": [],
   "source": [
    "blush_ct['PALETA'] = ['VERANO / INVIERNO', 'PRIMAVERA / OTOÑO', 'VERANO / INVIERNO', 'VERANO / INVIERNO', 'PRIMAVERA / OTOÑO', \\\n",
    "          'VERANO / INVIERNO', 'VERANO / INVIERNO']"
   ]
  },
  {
   "cell_type": "code",
   "execution_count": 116,
   "id": "f5fbe244",
   "metadata": {},
   "outputs": [],
   "source": [
    "labios_ct['PRODUCTO'] = 'PINTALABIOS'\n",
    "blush_ct['PRODUCTO'] = 'COLORETE'"
   ]
  },
  {
   "cell_type": "code",
   "execution_count": 653,
   "id": "20778105",
   "metadata": {},
   "outputs": [],
   "source": [
    "maquillaje_ct = pd.concat([sombras_ct, labios_ct, blush_ct])"
   ]
  },
  {
   "cell_type": "code",
   "execution_count": 657,
   "id": "ffec5936",
   "metadata": {},
   "outputs": [],
   "source": [
    "#Limpiamos la columna PRECIO\n",
    "p = []\n",
    "for e in maquillaje_ct.PRECIO:\n",
    "    if ',' in e:\n",
    "        p.append(e.replace(',', '.'))\n",
    "        \n",
    "        \n",
    "maquillaje_ct.PRECIO = p\n",
    "\n",
    "#Limpiamos la columna PRECIO\n",
    "def quitar_euro(columna):\n",
    "    e = re.findall('\\d+.\\d+', columna)\n",
    "    e = ''.join(e)\n",
    "    return float(e)\n",
    "\n",
    "maquillaje_ct.PRECIO = maquillaje_ct.PRECIO.apply(quitar_euro)\n",
    "\n",
    "maquillaje_ct.rename(columns = {'PRECIO' : 'PRECIO (€)'}, inplace = True)"
   ]
  },
  {
   "cell_type": "code",
   "execution_count": 659,
   "id": "3362033e",
   "metadata": {},
   "outputs": [],
   "source": [
    "#Añadimos la columna 'TIENDA' para indicar dónde comprar los productos\n",
    "maquillaje_ct['TIENDA'] = 'CHARLOTTE TILBURY'"
   ]
  },
  {
   "cell_type": "code",
   "execution_count": 660,
   "id": "67f0ccf5",
   "metadata": {},
   "outputs": [],
   "source": [
    "#Cambiamos el tipo de dato de las columnas \n",
    "maquillaje_ct[['NOMBRE', 'LINKS', 'PRODUCTO', 'PALETA', 'TIENDA']] = \\\n",
    "maquillaje_ct[['NOMBRE', 'LINKS', 'PRODUCTO', 'PALETA', 'TIENDA']].astype('category')"
   ]
  },
  {
   "cell_type": "code",
   "execution_count": 676,
   "id": "6f850b99",
   "metadata": {},
   "outputs": [
    {
     "name": "stdout",
     "output_type": "stream",
     "text": [
      "<class 'pandas.core.frame.DataFrame'>\n",
      "Int64Index: 24 entries, 0 to 6\n",
      "Data columns (total 6 columns):\n",
      " #   Column      Non-Null Count  Dtype   \n",
      "---  ------      --------------  -----   \n",
      " 0   NOMBRE      24 non-null     category\n",
      " 1   PRECIO (€)  24 non-null     float64 \n",
      " 2   LINKS       24 non-null     category\n",
      " 3   PRODUCTO    24 non-null     category\n",
      " 4   PALETA      24 non-null     category\n",
      " 5   TIENDA      24 non-null     category\n",
      "dtypes: category(5), float64(1)\n",
      "memory usage: 2.0 KB\n"
     ]
    }
   ],
   "source": [
    "maquillaje_ct.info()"
   ]
  },
  {
   "cell_type": "markdown",
   "id": "1496d24f",
   "metadata": {},
   "source": [
    "# 9 - EXTRACCIÓN DE DATOS DE BOBBI BROWN: SOMBRAS Y PINTALABIOS"
   ]
  },
  {
   "cell_type": "markdown",
   "id": "c7e03d03",
   "metadata": {},
   "source": [
    "*SOMBRAS Y PINTALABIOS*"
   ]
  },
  {
   "cell_type": "code",
   "execution_count": 664,
   "id": "9cae4b41",
   "metadata": {},
   "outputs": [],
   "source": [
    "def extraer2(URL):\n",
    "    driver = webdriver.Chrome(PATH)\n",
    "    driver.get(URL)\n",
    "    time.sleep(5)\n",
    "    driver.execute_script('window.scrollTo(0, 3000);')\n",
    "    time.sleep(5)\n",
    "    \n",
    "    \n",
    "    nombre = driver.find_elements(By.CLASS_NAME, 'product-brief__header')\n",
    "    precio = driver.find_elements(By.CLASS_NAME, 'price')\n",
    "    link =  driver.find_elements(By.CLASS_NAME, 'product-brief__headline-review-link')\n",
    "    \n",
    "    tmp = []\n",
    "    precios = []\n",
    "    links = []\n",
    "    \n",
    "\n",
    "    for e in nombre:\n",
    "        tmp.append(e.text)\n",
    "    \n",
    "    for e in precio:\n",
    "        precios.append(e.text)\n",
    "    \n",
    "    for e in link:\n",
    "        links.append(e.get_attribute('href'))\n",
    "        \n",
    "    for e in precios:\n",
    "        if e == '':\n",
    "            precios.remove(e)\n",
    "    \n",
    "    \n",
    "    cols = ['NOMBRE']\n",
    "    \n",
    "    total = pd.DataFrame(tmp, columns = cols)\n",
    "    \n",
    "    total['PRECIO'] = precios\n",
    "    total['LINKS'] = links\n",
    "    total['PRODUCTO'] = 'SOMBRAS DE OJOS'\n",
    "    \n",
    "    \n",
    "    driver.quit()\n",
    "     \n",
    "    return total"
   ]
  },
  {
   "cell_type": "code",
   "execution_count": 665,
   "id": "bb5050f4",
   "metadata": {},
   "outputs": [],
   "source": [
    "links_bb = ['https://www.bobbibrown.es/products/2330/makeup/eyes/sombra-de-ojos', \\\n",
    "           'https://www.bobbibrown.es/products/2339/makeup/lips']"
   ]
  },
  {
   "cell_type": "code",
   "execution_count": 666,
   "id": "e257c589",
   "metadata": {
    "scrolled": true
   },
   "outputs": [
    {
     "name": "stderr",
     "output_type": "stream",
     "text": [
      "[Parallel(n_jobs=2)]: Using backend LokyBackend with 2 concurrent workers.\n",
      "/var/folders/fg/hm_rz3k53fv5qf5dywc0bfwr0000gn/T/ipykernel_48607/4154559620.py:2: DeprecationWarning: executable_path has been deprecated, please pass in a Service object\n",
      "/var/folders/fg/hm_rz3k53fv5qf5dywc0bfwr0000gn/T/ipykernel_48607/4154559620.py:2: DeprecationWarning: executable_path has been deprecated, please pass in a Service object\n",
      "[Parallel(n_jobs=2)]: Done   2 out of   2 | elapsed:   32.0s remaining:    0.0s\n",
      "[Parallel(n_jobs=2)]: Done   2 out of   2 | elapsed:   32.0s finished\n"
     ]
    }
   ],
   "source": [
    "bobbi_brown = Parallel(n_jobs=2, verbose=True)(delayed(extraer2)(e) for e in links_bb)"
   ]
  },
  {
   "cell_type": "code",
   "execution_count": 667,
   "id": "3e8c3fd0",
   "metadata": {},
   "outputs": [],
   "source": [
    "sombras_bb = bobbi_brown[0]\n",
    "labios_bb = bobbi_brown[1]"
   ]
  },
  {
   "cell_type": "markdown",
   "id": "0091106b",
   "metadata": {},
   "source": [
    "*LIMPIEZA*"
   ]
  },
  {
   "cell_type": "markdown",
   "id": "0d61d07b",
   "metadata": {},
   "source": [
    "Asignamos la paleta de colores para cada producto. Para ello, se ha hecho un estudio previo de cada uno de ellos."
   ]
  },
  {
   "cell_type": "code",
   "execution_count": 668,
   "id": "26692bf4",
   "metadata": {},
   "outputs": [],
   "source": [
    "labios_bb['PRODUCTO'] = 'PINTALABIOS'\n",
    "labios_bb.drop(labios_bb.index[[19]], inplace = True)\n",
    "labios_bb['PALETA'] = ['TODAS', 'PRIMAVERA / VERANO', 'TODAS', 'TODAS', 'PRIMAVERA', 'TODAS', 'TODAS','TODAS','TODAS',\\\n",
    "          'PRIMAVERA / OTOÑO / INVIERNO', 'TODAS', 'TODAS', 'TODAS', 'TODAS', 'PRIMAVERA / VERANO', 'TODAS',\\\n",
    "          'TODAS', 'PRIMAVERA / OTOÑO / INVIERNO', 'TODAS', 'PRIMAVERA', 'TODAS', 'OTOÑO / INVIERNO', \\\n",
    "          'TODAS', 'OTOÑO / INVIERNO', 'OTOÑO / INVIERNO']"
   ]
  },
  {
   "cell_type": "code",
   "execution_count": 669,
   "id": "37d5812b",
   "metadata": {},
   "outputs": [],
   "source": [
    "sombras_bb.drop(sombras_bb.index[[0,1,4,5,14,15,16]], inplace = True)\n",
    "sombras_bb['PALETA'] = ['PRIMAVERA / OTOÑO / INVIERNO', 'PRIMAVERA / OTOÑO / INVIERNO', 'PRIMAVERA / OTOÑO / VERANO', \\\n",
    "          'PRIMAVERA / OTOÑO / VERANO', 'PRIMAVERA / OTOÑO', 'TODAS', 'TODAS', 'PRIMAVERA / OTOÑO / VERANO', \\\n",
    "           'PRIMAVERA', 'PRIMAVERA / OTOÑO / INVIERNO', 'PRIMAVERA']"
   ]
  },
  {
   "cell_type": "code",
   "execution_count": 670,
   "id": "81310709",
   "metadata": {},
   "outputs": [],
   "source": [
    "maquillaje_bb = pd.concat([sombras_bb, labios_bb])"
   ]
  },
  {
   "cell_type": "code",
   "execution_count": 673,
   "id": "64b87dac",
   "metadata": {},
   "outputs": [],
   "source": [
    "#Limpiamos la columna PRECIO\n",
    "def quitar_euro(columna):\n",
    "    e = re.findall('\\d+.\\d+', columna)\n",
    "    e = ''.join(e)\n",
    "    return float(e)\n",
    "\n",
    "maquillaje_bb.PRECIO = maquillaje_bb.PRECIO.apply(quitar_euro)\n",
    "\n",
    "maquillaje_bb.rename(columns = {'PRECIO' : 'PRECIO (€)'}, inplace = True)"
   ]
  },
  {
   "cell_type": "code",
   "execution_count": 677,
   "id": "0d788ea4",
   "metadata": {},
   "outputs": [],
   "source": [
    "#Añadimos la columna 'TIENDA' para indicar dónde comprar los productos\n",
    "maquillaje_bb['TIENDA'] = 'BOBBI BROWN'"
   ]
  },
  {
   "cell_type": "code",
   "execution_count": 678,
   "id": "2e8fabf5",
   "metadata": {},
   "outputs": [],
   "source": [
    "#Cambiamos el tipo de dato de las columnas \n",
    "maquillaje_bb[['NOMBRE', 'LINKS', 'PRODUCTO', 'PALETA', 'TIENDA']] = \\\n",
    "maquillaje_bb[['NOMBRE', 'LINKS', 'PRODUCTO', 'PALETA', 'TIENDA']].astype('category')"
   ]
  },
  {
   "cell_type": "code",
   "execution_count": 679,
   "id": "9e1dcdf9",
   "metadata": {},
   "outputs": [
    {
     "name": "stdout",
     "output_type": "stream",
     "text": [
      "<class 'pandas.core.frame.DataFrame'>\n",
      "Int64Index: 36 entries, 2 to 25\n",
      "Data columns (total 6 columns):\n",
      " #   Column      Non-Null Count  Dtype   \n",
      "---  ------      --------------  -----   \n",
      " 0   NOMBRE      36 non-null     category\n",
      " 1   PRECIO (€)  36 non-null     float64 \n",
      " 2   LINKS       36 non-null     category\n",
      " 3   PRODUCTO    36 non-null     category\n",
      " 4   PALETA      36 non-null     category\n",
      " 5   TIENDA      36 non-null     category\n",
      "dtypes: category(5), float64(1)\n",
      "memory usage: 4.0 KB\n"
     ]
    }
   ],
   "source": [
    "maquillaje_bb.info()"
   ]
  },
  {
   "cell_type": "markdown",
   "id": "5e0b658e",
   "metadata": {},
   "source": [
    "**CONCATENAMOS TODOS LOS DATAFRAMES QUE HEMOS SACADO DE CADA TIENDA PARA UNIRLOS EN UNO COMÚN AL QUE LLAMAREMOS: 'PRODUCTOS_RECOMENDADOS'**"
   ]
  },
  {
   "cell_type": "code",
   "execution_count": 680,
   "id": "ed82e359",
   "metadata": {},
   "outputs": [],
   "source": [
    "productos_recomendados = pd.concat([maquillaje_primor, mu_ud, maquillaje_hb, maquillaje_kiko, pintalabios_kvd,\\\n",
    "                                   blush_benefit, maquillaje_nars, maquillaje_ct, maquillaje_bb])"
   ]
  },
  {
   "cell_type": "code",
   "execution_count": 689,
   "id": "9292d113",
   "metadata": {},
   "outputs": [],
   "source": [
    "productos_recomendados.rename(columns = {'LINKS' : 'LINK'}, inplace = True)"
   ]
  },
  {
   "cell_type": "code",
   "execution_count": 691,
   "id": "11906638",
   "metadata": {},
   "outputs": [],
   "source": [
    "productos_recomendados[['NOMBRE', 'LINK', 'PRODUCTO', 'PALETA', 'TIENDA']] =\\\n",
    "productos_recomendados[['NOMBRE', 'LINK', 'PRODUCTO', 'PALETA', 'TIENDA']].astype('category')"
   ]
  },
  {
   "cell_type": "code",
   "execution_count": 692,
   "id": "42572169",
   "metadata": {},
   "outputs": [
    {
     "data": {
      "text/html": [
       "<div>\n",
       "<style scoped>\n",
       "    .dataframe tbody tr th:only-of-type {\n",
       "        vertical-align: middle;\n",
       "    }\n",
       "\n",
       "    .dataframe tbody tr th {\n",
       "        vertical-align: top;\n",
       "    }\n",
       "\n",
       "    .dataframe thead th {\n",
       "        text-align: right;\n",
       "    }\n",
       "</style>\n",
       "<table border=\"1\" class=\"dataframe\">\n",
       "  <thead>\n",
       "    <tr style=\"text-align: right;\">\n",
       "      <th></th>\n",
       "      <th>NOMBRE</th>\n",
       "      <th>PRECIO (€)</th>\n",
       "      <th>LINK</th>\n",
       "      <th>PRODUCTO</th>\n",
       "      <th>PALETA</th>\n",
       "      <th>TIENDA</th>\n",
       "    </tr>\n",
       "  </thead>\n",
       "  <tbody>\n",
       "    <tr>\n",
       "      <th>0</th>\n",
       "      <td>Paleta de Sombras Pastel Tropics</td>\n",
       "      <td>9.99</td>\n",
       "      <td>https://www.primor.eu/lovely-makeup/74651-pale...</td>\n",
       "      <td>SOMBRAS DE OJOS</td>\n",
       "      <td>PRIMAVERA</td>\n",
       "      <td>PRIMOR</td>\n",
       "    </tr>\n",
       "    <tr>\n",
       "      <th>1</th>\n",
       "      <td>Sweet Pastel Paleta de Sombras</td>\n",
       "      <td>2.99</td>\n",
       "      <td>https://www.primor.eu/magic-studio/80715-sweet...</td>\n",
       "      <td>SOMBRAS DE OJOS</td>\n",
       "      <td>PRIMAVERA</td>\n",
       "      <td>PRIMOR</td>\n",
       "    </tr>\n",
       "    <tr>\n",
       "      <th>2</th>\n",
       "      <td>Soft Hues Paleta Rose Quartz</td>\n",
       "      <td>2.99</td>\n",
       "      <td>https://www.primor.eu/w7/67711-soft-hues-palet...</td>\n",
       "      <td>SOMBRAS DE OJOS</td>\n",
       "      <td>PRIMAVERA</td>\n",
       "      <td>PRIMOR</td>\n",
       "    </tr>\n",
       "    <tr>\n",
       "      <th>3</th>\n",
       "      <td>Soft Hues Paleta Aquamarine</td>\n",
       "      <td>2.99</td>\n",
       "      <td>https://www.primor.eu/w7/67709-soft-hues-palet...</td>\n",
       "      <td>SOMBRAS DE OJOS</td>\n",
       "      <td>PRIMAVERA</td>\n",
       "      <td>PRIMOR</td>\n",
       "    </tr>\n",
       "    <tr>\n",
       "      <th>4</th>\n",
       "      <td>Paletas de sombras Mini Match</td>\n",
       "      <td>6.50</td>\n",
       "      <td>https://www.primor.eu/i-heart-revolution/85434...</td>\n",
       "      <td>SOMBRAS DE OJOS</td>\n",
       "      <td>PRIMAVERA</td>\n",
       "      <td>PRIMOR</td>\n",
       "    </tr>\n",
       "  </tbody>\n",
       "</table>\n",
       "</div>"
      ],
      "text/plain": [
       "                             NOMBRE  PRECIO (€)  \\\n",
       "0  Paleta de Sombras Pastel Tropics        9.99   \n",
       "1    Sweet Pastel Paleta de Sombras        2.99   \n",
       "2      Soft Hues Paleta Rose Quartz        2.99   \n",
       "3       Soft Hues Paleta Aquamarine        2.99   \n",
       "4     Paletas de sombras Mini Match        6.50   \n",
       "\n",
       "                                                LINK         PRODUCTO  \\\n",
       "0  https://www.primor.eu/lovely-makeup/74651-pale...  SOMBRAS DE OJOS   \n",
       "1  https://www.primor.eu/magic-studio/80715-sweet...  SOMBRAS DE OJOS   \n",
       "2  https://www.primor.eu/w7/67711-soft-hues-palet...  SOMBRAS DE OJOS   \n",
       "3  https://www.primor.eu/w7/67709-soft-hues-palet...  SOMBRAS DE OJOS   \n",
       "4  https://www.primor.eu/i-heart-revolution/85434...  SOMBRAS DE OJOS   \n",
       "\n",
       "      PALETA  TIENDA  \n",
       "0  PRIMAVERA  PRIMOR  \n",
       "1  PRIMAVERA  PRIMOR  \n",
       "2  PRIMAVERA  PRIMOR  \n",
       "3  PRIMAVERA  PRIMOR  \n",
       "4  PRIMAVERA  PRIMOR  "
      ]
     },
     "execution_count": 692,
     "metadata": {},
     "output_type": "execute_result"
    }
   ],
   "source": [
    "productos_recomendados.head()"
   ]
  }
 ],
 "metadata": {
  "kernelspec": {
   "display_name": "Python 3 (ipykernel)",
   "language": "python",
   "name": "python3"
  },
  "language_info": {
   "codemirror_mode": {
    "name": "ipython",
    "version": 3
   },
   "file_extension": ".py",
   "mimetype": "text/x-python",
   "name": "python",
   "nbconvert_exporter": "python",
   "pygments_lexer": "ipython3",
   "version": "3.9.12"
  }
 },
 "nbformat": 4,
 "nbformat_minor": 5
}
