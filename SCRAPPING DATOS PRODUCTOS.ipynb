{
 "cells": [
  {
   "cell_type": "markdown",
   "id": "b1182254",
   "metadata": {},
   "source": [
    "# EXTRACCIÓN DE DATOS:\n",
    "\n",
    "Paletas de sombras, pintalabios y colorete en función de la paleta de colores asignadas, siendo estas:\\\n",
    "        -PRIMAVERA\\\n",
    "        -VERANO\\\n",
    "        -OTOÑO\\\n",
    "        -INVIERNO"
   ]
  },
  {
   "cell_type": "markdown",
   "id": "5f92dcd6",
   "metadata": {},
   "source": [
    "**IMPORTACIONES**"
   ]
  },
  {
   "cell_type": "code",
   "execution_count": 1,
   "id": "a5f91590",
   "metadata": {},
   "outputs": [],
   "source": [
    "from selenium import webdriver\n",
    "import pandas as pd\n",
    "import numpy as np\n",
    "from webdriver_manager.chrome import ChromeDriverManager\n",
    "from joblib import Parallel, delayed\n",
    "from selenium.webdriver.chrome.options import Options\n",
    "from selenium.webdriver.common.by import By\n",
    "import time"
   ]
  },
  {
   "cell_type": "markdown",
   "id": "131d2317",
   "metadata": {},
   "source": [
    "Ahora, vamos a scrappear los productos de maquillaje con mejor rating que se ajusten a las paletas de colores\\\n",
    "de cada estación. Sacaremos nombre, precio y rating."
   ]
  },
  {
   "cell_type": "code",
   "execution_count": 2,
   "id": "b5734a0b",
   "metadata": {
    "scrolled": true
   },
   "outputs": [
    {
     "name": "stderr",
     "output_type": "stream",
     "text": [
      "/var/folders/fg/hm_rz3k53fv5qf5dywc0bfwr0000gn/T/ipykernel_48607/235325829.py:3: DeprecationWarning: executable_path has been deprecated, please pass in a Service object\n",
      "  driver=webdriver.Chrome(PATH)\n"
     ]
    }
   ],
   "source": [
    "PATH=ChromeDriverManager().install()\n",
    "\n",
    "driver=webdriver.Chrome(PATH)  "
   ]
  },
  {
   "cell_type": "markdown",
   "id": "ddb21d59",
   "metadata": {},
   "source": [
    "*Existen varios productos que podemos recomendar segun la colometría de las personas. En este caso, nos centraremos\\\n",
    "en sombras de ojos, pintalabios, colorete y corrector*\\\n",
    "\n",
    "Por otra parte, debemos tener en cuenta que hay varias tiendas donde podemos encontrar productos de maquillaje.\\\n",
    "Concretamente, en nuestro proyecto, los escogeremos de las siguientes:\n",
    "\n",
    "1. **PRIMOR**\n",
    "2. **SEPHORA**"
   ]
  },
  {
   "cell_type": "markdown",
   "id": "5b197a0a",
   "metadata": {},
   "source": [
    "# **1 - EXTRACCIÓN DE DATOS DE PRIMOR DE SOMBRAS, PINTALABIOS Y COLORETE DE PRIMOR**"
   ]
  },
  {
   "cell_type": "code",
   "execution_count": 3,
   "id": "02bb27cf",
   "metadata": {},
   "outputs": [],
   "source": [
    "URL = 'https://www.primor.eu/#/dfclassic/query=paletas%20sombras%20verano&filter%5Bcategories%5D%5B0%5D=Paletas%20de%20sombras%20de%20ojos%20y%20maquillaje&session_id=e68b0b5ac1828fdb430ff5b492adb6e5&query_name=match_and'\n",
    "driver.get(URL)"
   ]
  },
  {
   "cell_type": "code",
   "execution_count": 4,
   "id": "b42851c6",
   "metadata": {},
   "outputs": [],
   "source": [
    "#Investigamos dónde podemos entrar para scrappear PRIMOR\n",
    "filas = driver.find_elements(By.CLASS_NAME, 'df-card__content')"
   ]
  },
  {
   "cell_type": "code",
   "execution_count": 5,
   "id": "716f668c",
   "metadata": {},
   "outputs": [],
   "source": [
    "#Paletas de sombras\n",
    "def extraer(URL):\n",
    "    driver = webdriver.Chrome(PATH)\n",
    "    driver.get(URL)\n",
    "    \n",
    "    driver.execute_script('window.scrollTo(0, 3000);')  # 200px de scroll\n",
    "    time.sleep(5)\n",
    "    \n",
    "    filas = driver.find_elements(By.CLASS_NAME, 'df-card__content')\n",
    "    link = driver.find_elements(By.CLASS_NAME, 'df-card__main')\n",
    "    tmp = []\n",
    "    links = []\n",
    "\n",
    "    for e in filas:\n",
    "        tmp.append(e.text.split('\\n'))\n",
    "    \n",
    "    for e in link:\n",
    "        links.append(e.get_attribute('href'))\n",
    "    \n",
    "    cols = ['NOMBRE', 'TIPO', 'PRECIO'] \n",
    "    \n",
    "    total = pd.DataFrame(tmp, columns = cols)\n",
    "    \n",
    "    total['LINKS'] = links\n",
    "    total['PRODUCTO'] = 'SOMBRAS DE OJOS'\n",
    "    \n",
    "    driver.quit()\n",
    "     \n",
    "    return total"
   ]
  },
  {
   "cell_type": "code",
   "execution_count": 6,
   "id": "6a48fe86",
   "metadata": {},
   "outputs": [],
   "source": [
    "links_sombras_primor = ['https://www.primor.eu/#/dfclassic/query=paletas%20sombras%20verano&filter%5Bcategories%5D%5B0%5D=Paletas%20de%20sombras%20de%20ojos%20y%20maquillaje&session_id=e68b0b5ac1828fdb430ff5b492adb6e5&query_name=match_and',\\\n",
    "               'https://www.primor.eu/#/dfclassic/query=paletas%20sombras%20oto%C3%B1al&session_id=e68b0b5ac1828fdb430ff5b492adb6e5&query_name=match_and',\\\n",
    "               'https://www.primor.eu/#/dfclassic/query=paletas%20sombras%20invierno&filter%5Bcategories%5D%5B0%5D=Ojos%20lujo&filter%5Bcategories%5D%5B1%5D=Paletas%20de%20sombras%20de%20ojos%20y%20maquillaje&filter%5Bcategories%5D%5B2%5D=Sombras%20de%20ojos%20lujo&session_id=e68b0b5ac1828fdb430ff5b492adb6e5&query_name=match_and',\\\n",
    "               'https://www.primor.eu/#/dfclassic/query=paletas%20sombras%20pastel&filter%5Bcategories%5D%5B0%5D=Paletas%20de%20sombras%20de%20ojos%20y%20maquillaje&filter%5Bcategories%5D%5B1%5D=Sombras%20de%20ojos&session_id=e68b0b5ac1828fdb430ff5b492adb6e5&query_name=match_and']"
   ]
  },
  {
   "cell_type": "code",
   "execution_count": 7,
   "id": "49fe03b1",
   "metadata": {
    "scrolled": true
   },
   "outputs": [
    {
     "name": "stderr",
     "output_type": "stream",
     "text": [
      "[Parallel(n_jobs=4)]: Using backend LokyBackend with 4 concurrent workers.\n",
      "/var/folders/fg/hm_rz3k53fv5qf5dywc0bfwr0000gn/T/ipykernel_48607/1944395516.py:3: DeprecationWarning: executable_path has been deprecated, please pass in a Service object\n",
      "/var/folders/fg/hm_rz3k53fv5qf5dywc0bfwr0000gn/T/ipykernel_48607/1944395516.py:3: DeprecationWarning: executable_path has been deprecated, please pass in a Service object\n",
      "/var/folders/fg/hm_rz3k53fv5qf5dywc0bfwr0000gn/T/ipykernel_48607/1944395516.py:3: DeprecationWarning: executable_path has been deprecated, please pass in a Service object\n",
      "/var/folders/fg/hm_rz3k53fv5qf5dywc0bfwr0000gn/T/ipykernel_48607/1944395516.py:3: DeprecationWarning: executable_path has been deprecated, please pass in a Service object\n",
      "[Parallel(n_jobs=4)]: Done   2 out of   4 | elapsed:   38.5s remaining:   38.5s\n",
      "[Parallel(n_jobs=4)]: Done   4 out of   4 | elapsed:   50.7s finished\n"
     ]
    }
   ],
   "source": [
    "productos = Parallel(n_jobs=4, verbose=True)(delayed(extraer)(e) for e in links_sombras_primor)"
   ]
  },
  {
   "cell_type": "code",
   "execution_count": 8,
   "id": "372ec88a",
   "metadata": {},
   "outputs": [],
   "source": [
    "sombras_ver_prim = productos[0] \n",
    "sombras_oto_prim = productos[1] \n",
    "sombras_inv_prim = productos[2] \n",
    "sombras_pri_prim = productos[3] \n",
    "#productos_totales = pd.concat([productos[0], productos[1], productos[2], productos[3]], axis = 0)"
   ]
  },
  {
   "cell_type": "code",
   "execution_count": 9,
   "id": "59e730d1",
   "metadata": {},
   "outputs": [
    {
     "name": "stderr",
     "output_type": "stream",
     "text": [
      "/var/folders/fg/hm_rz3k53fv5qf5dywc0bfwr0000gn/T/ipykernel_48607/1944395516.py:3: DeprecationWarning: executable_path has been deprecated, please pass in a Service object\n",
      "  driver = webdriver.Chrome(PATH)\n",
      "/var/folders/fg/hm_rz3k53fv5qf5dywc0bfwr0000gn/T/ipykernel_48607/1944395516.py:3: DeprecationWarning: executable_path has been deprecated, please pass in a Service object\n",
      "  driver = webdriver.Chrome(PATH)\n",
      "/var/folders/fg/hm_rz3k53fv5qf5dywc0bfwr0000gn/T/ipykernel_48607/1944395516.py:3: DeprecationWarning: executable_path has been deprecated, please pass in a Service object\n",
      "  driver = webdriver.Chrome(PATH)\n",
      "/var/folders/fg/hm_rz3k53fv5qf5dywc0bfwr0000gn/T/ipykernel_48607/1944395516.py:3: DeprecationWarning: executable_path has been deprecated, please pass in a Service object\n",
      "  driver = webdriver.Chrome(PATH)\n"
     ]
    }
   ],
   "source": [
    "ad1 = extraer('https://www.primor.eu/#/dfclassic/query=sombras%20krash%20rosas&filter%5Bcategories%5D%5B0%5D=Paletas%20de%20sombras%20de%20ojos%20y%20maquillaje&filter%5Bcategories%5D%5B1%5D=Sombras%20de%20ojos&filter%5Bbrand%5D%5B0%5D=Krash%20Kosmetics&session_id=e68b0b5ac1828fdb430ff5b492adb6e5&query_name=match_and')\n",
    "ad2 = extraer('https://www.primor.eu/#/dfclassic/query=sombras%20lilas&filter%5Bcategories%5D%5B0%5D=Maquillaje%20de%20ojos&session_id=e68b0b5ac1828fdb430ff5b492adb6e5&query_name=match_and')\n",
    "ad3 = extraer('https://www.primor.eu/#/dfclassic/query=sombras%20negras&filter%5Bcategories%5D%5B0%5D=Maquillaje%20de%20ojos&session_id=e68b0b5ac1828fdb430ff5b492adb6e5&query_name=match_and')\n",
    "ad4 = extraer('https://www.primor.eu/#/dfclassic/query=sombras%20naranjas&session_id=e68b0b5ac1828fdb430ff5b492adb6e5&query_name=match_and')"
   ]
  },
  {
   "cell_type": "code",
   "execution_count": 10,
   "id": "d5b5a645",
   "metadata": {},
   "outputs": [],
   "source": [
    "#Limpiamos los índices y añadimos lo que hemos sacado más\n",
    "\n",
    "#PRIMAVERA\n",
    "sombras_pri_prim = pd.concat([sombras_pri_prim, ad1], axis = 0)\n",
    "sombras_pri_prim.drop_duplicates(inplace = True)\n",
    "sombras_pri_prim['ID'] = [e for e in range(len(sombras_pri_prim))]\n",
    "sombras_pri_prim.set_index('ID', drop = True, inplace = True)\n",
    "\n",
    "#OTOÑO\n",
    "sombras_oto_prim = pd.concat([sombras_oto_prim, ad2], axis = 0)\n",
    "sombras_oto_prim.drop_duplicates(inplace = True)\n",
    "sombras_oto_prim['ID'] = [e for e in range(len(sombras_oto_prim))]\n",
    "sombras_oto_prim.set_index('ID', drop = True, inplace = True)\n",
    "\n",
    "#INVIERNO\n",
    "sombras_inv_prim = pd.concat([sombras_inv_prim, ad3], axis = 0)\n",
    "sombras_inv_prim.drop_duplicates(inplace = True)\n",
    "sombras_inv_prim['ID'] = [e for e in range(len(sombras_inv_prim))]\n",
    "sombras_inv_prim.set_index('ID', drop = True, inplace = True)\n",
    "\n",
    "#VERANO\n",
    "sombras_ver_prim = pd.concat([sombras_ver_prim, ad4], axis = 0)\n",
    "sombras_ver_prim.drop_duplicates(inplace = True)\n",
    "sombras_ver_prim['ID'] = [e for e in range(len(sombras_ver_prim))]\n",
    "sombras_ver_prim.set_index('ID', drop = True, inplace = True)"
   ]
  },
  {
   "cell_type": "code",
   "execution_count": 11,
   "id": "179f5511",
   "metadata": {},
   "outputs": [],
   "source": [
    "#Pintalabios\n",
    "def extraer(URL):\n",
    "    driver = webdriver.Chrome(PATH)\n",
    "    driver.get(URL)\n",
    "    \n",
    "    driver.execute_script('window.scrollTo(0, 3000);')  # 200px de scroll\n",
    "    time.sleep(5)\n",
    "    \n",
    "    filas = driver.find_elements(By.CLASS_NAME, 'df-card__content')\n",
    "    link = driver.find_elements(By.CLASS_NAME, 'df-card__main')\n",
    "    tmp = []\n",
    "    links = []\n",
    "\n",
    "    for e in filas:\n",
    "        tmp.append(e.text.split('\\n'))\n",
    "    \n",
    "    for e in link:\n",
    "        links.append(e.get_attribute('href'))\n",
    "    \n",
    "    cols = ['NOMBRE', 'TIPO', 'PRECIO']\n",
    "    \n",
    "    total = pd.DataFrame(tmp, columns = cols)\n",
    "    \n",
    "    total['LINKS'] = links\n",
    "    total['PRODUCTO'] = 'PINTALABIOS'\n",
    "    \n",
    "    driver.quit()\n",
    "     \n",
    "    return total"
   ]
  },
  {
   "cell_type": "code",
   "execution_count": 12,
   "id": "e2d842f6",
   "metadata": {},
   "outputs": [],
   "source": [
    "links_pintalabios_primor = ['https://www.primor.eu/#/dfclassic/query=pintalabios%20vivid%20&filter%5Bcategories%5D%5B0%5D=Pintalabios%20y%20maquillaje%20de%20labios&session_id=e68b0b5ac1828fdb430ff5b492adb6e5&query_name=match_and',\\\n",
    "                           'https://www.primor.eu/#/dfclassic/query=pintalabios%20neutro&filter%5Bcategories%5D%5B0%5D=Barras%20de%20labios%20lujo&filter%5Bcategories%5D%5B1%5D=Pintalabios%20y%20maquillaje%20de%20labios&session_id=e68b0b5ac1828fdb430ff5b492adb6e5&query_name=match_and',\\\n",
    "                           'https://www.primor.eu/#/dfclassic/query=pintalabios%20oscuro&filter%5Bcategories%5D%5B0%5D=Pintalabios%20y%20maquillaje%20de%20labios&session_id=e68b0b5ac1828fdb430ff5b492adb6e5&query_name=match_and',\\\n",
    "                           'https://www.primor.eu/#/dfclassic/query=pintalabios%20rosados&filter%5Bcategories%5D%5B0%5D=Pintalabios%20y%20maquillaje%20de%20labios&filter%5Bbrand%5D%5B0%5D=Revolution&filter%5Bbrand%5D%5B1%5D=NYX%20Professional%20Makeup&filter%5Bbrand%5D%5B2%5D=Krash%20Kosmetics&session_id=e68b0b5ac1828fdb430ff5b492adb6e5&query_name=match_and']"
   ]
  },
  {
   "cell_type": "code",
   "execution_count": 13,
   "id": "40a0929e",
   "metadata": {
    "scrolled": true
   },
   "outputs": [
    {
     "name": "stderr",
     "output_type": "stream",
     "text": [
      "[Parallel(n_jobs=4)]: Using backend LokyBackend with 4 concurrent workers.\n",
      "/var/folders/fg/hm_rz3k53fv5qf5dywc0bfwr0000gn/T/ipykernel_48607/2764708321.py:3: DeprecationWarning: executable_path has been deprecated, please pass in a Service object\n",
      "/var/folders/fg/hm_rz3k53fv5qf5dywc0bfwr0000gn/T/ipykernel_48607/2764708321.py:3: DeprecationWarning: executable_path has been deprecated, please pass in a Service object\n",
      "/var/folders/fg/hm_rz3k53fv5qf5dywc0bfwr0000gn/T/ipykernel_48607/2764708321.py:3: DeprecationWarning: executable_path has been deprecated, please pass in a Service object\n",
      "/var/folders/fg/hm_rz3k53fv5qf5dywc0bfwr0000gn/T/ipykernel_48607/2764708321.py:3: DeprecationWarning: executable_path has been deprecated, please pass in a Service object\n",
      "[Parallel(n_jobs=4)]: Done   2 out of   4 | elapsed:   51.8s remaining:   51.8s\n",
      "[Parallel(n_jobs=4)]: Done   4 out of   4 | elapsed:   52.7s finished\n"
     ]
    }
   ],
   "source": [
    "productos1 = Parallel(n_jobs=4, verbose=True)(delayed(extraer)(e) for e in links_pintalabios_primor)"
   ]
  },
  {
   "cell_type": "code",
   "execution_count": 15,
   "id": "18c05e31",
   "metadata": {
    "scrolled": false
   },
   "outputs": [
    {
     "name": "stderr",
     "output_type": "stream",
     "text": [
      "2022-12-12 10:57:07,258 [48607] WARNING  py.warnings:109: [JupyterRequire] /var/folders/fg/hm_rz3k53fv5qf5dywc0bfwr0000gn/T/ipykernel_48607/2764708321.py:3: DeprecationWarning: executable_path has been deprecated, please pass in a Service object\n",
      "  driver = webdriver.Chrome(PATH)\n",
      "\n",
      "2022-12-12 10:57:27,066 [48607] WARNING  py.warnings:109: [JupyterRequire] /var/folders/fg/hm_rz3k53fv5qf5dywc0bfwr0000gn/T/ipykernel_48607/2764708321.py:3: DeprecationWarning: executable_path has been deprecated, please pass in a Service object\n",
      "  driver = webdriver.Chrome(PATH)\n",
      "\n",
      "2022-12-12 10:57:48,343 [48607] WARNING  py.warnings:109: [JupyterRequire] /var/folders/fg/hm_rz3k53fv5qf5dywc0bfwr0000gn/T/ipykernel_48607/2764708321.py:3: DeprecationWarning: executable_path has been deprecated, please pass in a Service object\n",
      "  driver = webdriver.Chrome(PATH)\n",
      "\n",
      "2022-12-12 10:58:03,451 [48607] WARNING  py.warnings:109: [JupyterRequire] /var/folders/fg/hm_rz3k53fv5qf5dywc0bfwr0000gn/T/ipykernel_48607/2764708321.py:3: DeprecationWarning: executable_path has been deprecated, please pass in a Service object\n",
      "  driver = webdriver.Chrome(PATH)\n",
      "\n",
      "2022-12-12 10:58:18,742 [48607] WARNING  py.warnings:109: [JupyterRequire] /var/folders/fg/hm_rz3k53fv5qf5dywc0bfwr0000gn/T/ipykernel_48607/2764708321.py:3: DeprecationWarning: executable_path has been deprecated, please pass in a Service object\n",
      "  driver = webdriver.Chrome(PATH)\n",
      "\n"
     ]
    }
   ],
   "source": [
    "#Añadimos más filas\n",
    "add1 = extraer('https://www.primor.eu/#/dfclassic/query=pintalabios%20rosados&filter%5Bcategories%5D%5B0%5D=Pintalabios%20y%20maquillaje%20de%20labios&filter%5Bbrand%5D%5B0%5D=NYX%20Professional%20Makeup&filter%5Bbrand%5D%5B1%5D=Krash%20Kosmetics&session_id=e68b0b5ac1828fdb430ff5b492adb6e5&query_name=match_and')\n",
    "add2 = extraer('https://www.primor.eu/#/dfclassic/query=berry%20nars&filter%5Bbrand%5D%5B0%5D=NARS&filter%5Bcategories%5D%5B0%5D=Labios%20lujo&session_id=e68b0b5ac1828fdb430ff5b492adb6e5&query_name=match_or')\n",
    "add3 = extraer('https://www.primor.eu/#/dfclassic/query=nude%20nars&session_id=e68b0b5ac1828fdb430ff5b492adb6e5&query_name=match_and')\n",
    "add4 = extraer('https://www.primor.eu/#/dfclassic/query=dark%20nars&filter%5Bbrand%5D%5B0%5D=NARS&filter%5Bcategories%5D%5B0%5D=Barras%20de%20labios%20lujo&session_id=e68b0b5ac1828fdb430ff5b492adb6e5&query_name=match_or')\n",
    "add5 = extraer('https://www.primor.eu/#/dfclassic/query=mac%20lips&session_id=e68b0b5ac1828fdb430ff5b492adb6e5&query_name=match_and')"
   ]
  },
  {
   "cell_type": "code",
   "execution_count": 16,
   "id": "01b83739",
   "metadata": {},
   "outputs": [],
   "source": [
    "pintalab_ver_prim = productos1[0] \n",
    "pintalab_oto_prim = productos1[1] \n",
    "pintalab_inv_prim = productos1[2] \n",
    "pintalab_pri_pri = productos1[3]"
   ]
  },
  {
   "cell_type": "code",
   "execution_count": 17,
   "id": "3f0da7d8",
   "metadata": {},
   "outputs": [],
   "source": [
    "#Limpiamos los índices y añadimos lo que hemos sacado más\n",
    "\n",
    "#PRIMAVERA\n",
    "pintalab_pri_prim = pd.concat([pintalab_pri_pri, add1, add3], axis = 0)\n",
    "pintalab_pri_prim.drop_duplicates(inplace = True)\n",
    "pintalab_pri_prim['ID'] = [e for e in range(len(pintalab_pri_prim))]\n",
    "pintalab_pri_prim.set_index('ID', drop = True, inplace = True)\n",
    "\n",
    "#OTOÑO\n",
    "pintalab_oto_prim = pd.concat([pintalab_pri_pri, add1], axis = 0)\n",
    "pintalab_oto_prim.drop_duplicates(inplace = True)\n",
    "pintalab_oto_prim['ID'] = [e for e in range(len(pintalab_oto_prim))]\n",
    "pintalab_oto_prim.set_index('ID', drop = True, inplace = True)\n",
    "\n",
    "#INVIERNO\n",
    "pintalab_inv_prim = pd.concat([pintalab_pri_pri, add4], axis = 0)\n",
    "pintalab_inv_prim.drop_duplicates(inplace = True)\n",
    "pintalab_inv_prim['ID'] = [e for e in range(len(pintalab_inv_prim))]\n",
    "pintalab_inv_prim.set_index('ID', drop = True, inplace = True)\n",
    "\n",
    "#VERANO\n",
    "pintalab_ver_prim = pd.concat([pintalab_pri_pri, add5], axis = 0)\n",
    "pintalab_ver_prim.drop_duplicates(inplace = True)\n",
    "pintalab_ver_prim['ID'] = [e for e in range(len(pintalab_ver_prim))]\n",
    "pintalab_ver_prim.set_index('ID', drop = True, inplace = True)"
   ]
  },
  {
   "cell_type": "code",
   "execution_count": 18,
   "id": "31cf94b4",
   "metadata": {},
   "outputs": [],
   "source": [
    "#Colorete\n",
    "def extraer(URL):\n",
    "    driver = webdriver.Chrome(PATH)\n",
    "    driver.get(URL)\n",
    "    \n",
    "    driver.execute_script('window.scrollTo(0, 3000);')  # 200px de scroll\n",
    "    time.sleep(5)\n",
    "    \n",
    "    filas = driver.find_elements(By.CLASS_NAME, 'df-card__content')\n",
    "    link = driver.find_elements(By.CLASS_NAME, 'df-card__main')\n",
    "    tmp = []\n",
    "    links = []\n",
    "\n",
    "    for e in filas:\n",
    "        tmp.append(e.text.split('\\n'))\n",
    "    \n",
    "    for e in link:\n",
    "        links.append(e.get_attribute('href'))\n",
    "    \n",
    "    cols = ['NOMBRE', 'TIPO', 'PRECIO']\n",
    "    \n",
    "    total = pd.DataFrame(tmp, columns = cols)\n",
    "    \n",
    "    total['LINKS'] = links\n",
    "    total['PRODUCTO'] = 'COLORETE'\n",
    "    \n",
    "    driver.quit()\n",
    "     \n",
    "    return total"
   ]
  },
  {
   "cell_type": "code",
   "execution_count": 19,
   "id": "1907bd4c",
   "metadata": {},
   "outputs": [],
   "source": [
    "links_blush_primor = ['https://www.primor.eu/3ina/66421-colorete-the-blush.html#/dfclassic/query=blush&filter%5Bbrand%5D%5B0%5D=MAC&session_id=e68b0b5ac1828fdb430ff5b492adb6e5&query_name=match_and',\\\n",
    "                     'https://www.primor.eu/#/dfclassic/query=blush&filter%5Bbrand%5D%5B0%5D=NARS&session_id=e68b0b5ac1828fdb430ff5b492adb6e5&query_name=match_and',\\\n",
    "                     'https://www.primor.eu/#/dfclassic/query=blush%20rosa&filter%5Bbrand%5D%5B0%5D=3ina&session_id=e68b0b5ac1828fdb430ff5b492adb6e5&query_name=match_and',\\\n",
    "                     'https://www.primor.eu/#/dfclassic/query=blush&filter%5Bbrand%5D%5B0%5D=Yves%20Saint%20Laurent&session_id=e68b0b5ac1828fdb430ff5b492adb6e5&query_name=match_and']"
   ]
  },
  {
   "cell_type": "code",
   "execution_count": 20,
   "id": "a2b39ade",
   "metadata": {},
   "outputs": [
    {
     "name": "stderr",
     "output_type": "stream",
     "text": [
      "[Parallel(n_jobs=4)]: Using backend LokyBackend with 4 concurrent workers.\n",
      "/var/folders/fg/hm_rz3k53fv5qf5dywc0bfwr0000gn/T/ipykernel_48607/2688360952.py:3: DeprecationWarning: executable_path has been deprecated, please pass in a Service object\n",
      "/var/folders/fg/hm_rz3k53fv5qf5dywc0bfwr0000gn/T/ipykernel_48607/2688360952.py:3: DeprecationWarning: executable_path has been deprecated, please pass in a Service object\n",
      "/var/folders/fg/hm_rz3k53fv5qf5dywc0bfwr0000gn/T/ipykernel_48607/2688360952.py:3: DeprecationWarning: executable_path has been deprecated, please pass in a Service object\n",
      "/var/folders/fg/hm_rz3k53fv5qf5dywc0bfwr0000gn/T/ipykernel_48607/2688360952.py:3: DeprecationWarning: executable_path has been deprecated, please pass in a Service object\n",
      "[Parallel(n_jobs=4)]: Done   2 out of   4 | elapsed:   35.4s remaining:   35.4s\n",
      "[Parallel(n_jobs=4)]: Done   4 out of   4 | elapsed:   43.1s finished\n"
     ]
    }
   ],
   "source": [
    "productos2 = Parallel(n_jobs=4, verbose=True)(delayed(extraer)(e) for e in links_blush_primor)"
   ]
  },
  {
   "cell_type": "code",
   "execution_count": 21,
   "id": "13d0abe2",
   "metadata": {},
   "outputs": [],
   "source": [
    "blush_pri_prim = productos1[0] \n",
    "blush_ver_prim = productos1[1] \n",
    "blush_inv_prim = productos1[2] \n",
    "blush_oto_prim = productos1[3]"
   ]
  },
  {
   "cell_type": "markdown",
   "id": "f9a9969a",
   "metadata": {},
   "source": [
    "# **2 - EXTRACCIÓN DE DATOS DE SOMBRAS Y COLORETES DE URBAN DECAY**"
   ]
  },
  {
   "cell_type": "code",
   "execution_count": 22,
   "id": "f3b3f80a",
   "metadata": {},
   "outputs": [
    {
     "name": "stderr",
     "output_type": "stream",
     "text": [
      "2022-12-12 10:59:17,915 [48607] WARNING  py.warnings:109: [JupyterRequire] /var/folders/fg/hm_rz3k53fv5qf5dywc0bfwr0000gn/T/ipykernel_48607/235325829.py:3: DeprecationWarning: executable_path has been deprecated, please pass in a Service object\n",
      "  driver=webdriver.Chrome(PATH)\n",
      "\n"
     ]
    }
   ],
   "source": [
    "PATH=ChromeDriverManager().install()\n",
    "\n",
    "driver=webdriver.Chrome(PATH)  "
   ]
  },
  {
   "cell_type": "code",
   "execution_count": 23,
   "id": "f0fd1e2f",
   "metadata": {},
   "outputs": [],
   "source": [
    "URL = 'https://www.urbandecay.com/eyeshadow/?prefn1=taxonomyColorEye&prefv1=BLACK%7CBLUE%7CBOLD%7CBROWN%7CCOOL%7CNEUTRALS%7CPLUMS%7CPURPLE%7CRED%7CSIENNA%7CSILVER%7CSMOKEY%7CTAUPE&start=0&sz=12#view-mode=grid'\n",
    "driver.get(URL)"
   ]
  },
  {
   "cell_type": "code",
   "execution_count": 24,
   "id": "f36e1ab5",
   "metadata": {},
   "outputs": [
    {
     "ename": "IndexError",
     "evalue": "list index out of range",
     "output_type": "error",
     "traceback": [
      "\u001b[0;31m---------------------------------------------------------------------------\u001b[0m",
      "\u001b[0;31mIndexError\u001b[0m                                Traceback (most recent call last)",
      "Input \u001b[0;32mIn [24]\u001b[0m, in \u001b[0;36m<cell line: 7>\u001b[0;34m()\u001b[0m\n\u001b[1;32m      5\u001b[0m links \u001b[38;5;241m=\u001b[39m [e\u001b[38;5;241m.\u001b[39mget_attribute(\u001b[38;5;124m'\u001b[39m\u001b[38;5;124mhref\u001b[39m\u001b[38;5;124m'\u001b[39m) \u001b[38;5;28;01mfor\u001b[39;00m e \u001b[38;5;129;01min\u001b[39;00m links1]\n\u001b[1;32m      6\u001b[0m precio \u001b[38;5;241m=\u001b[39m driver\u001b[38;5;241m.\u001b[39mfind_elements(By\u001b[38;5;241m.\u001b[39mCLASS_NAME, \u001b[38;5;124m'\u001b[39m\u001b[38;5;124mc-product-tile__price\u001b[39m\u001b[38;5;124m'\u001b[39m) \n\u001b[0;32m----> 7\u001b[0m precios \u001b[38;5;241m=\u001b[39m [e\u001b[38;5;241m.\u001b[39mtext\u001b[38;5;241m.\u001b[39msplit()[\u001b[38;5;241m-\u001b[39m\u001b[38;5;241m1\u001b[39m] \u001b[38;5;28;01mfor\u001b[39;00m e \u001b[38;5;129;01min\u001b[39;00m precio]\n",
      "Input \u001b[0;32mIn [24]\u001b[0m, in \u001b[0;36m<listcomp>\u001b[0;34m(.0)\u001b[0m\n\u001b[1;32m      5\u001b[0m links \u001b[38;5;241m=\u001b[39m [e\u001b[38;5;241m.\u001b[39mget_attribute(\u001b[38;5;124m'\u001b[39m\u001b[38;5;124mhref\u001b[39m\u001b[38;5;124m'\u001b[39m) \u001b[38;5;28;01mfor\u001b[39;00m e \u001b[38;5;129;01min\u001b[39;00m links1]\n\u001b[1;32m      6\u001b[0m precio \u001b[38;5;241m=\u001b[39m driver\u001b[38;5;241m.\u001b[39mfind_elements(By\u001b[38;5;241m.\u001b[39mCLASS_NAME, \u001b[38;5;124m'\u001b[39m\u001b[38;5;124mc-product-tile__price\u001b[39m\u001b[38;5;124m'\u001b[39m) \n\u001b[0;32m----> 7\u001b[0m precios \u001b[38;5;241m=\u001b[39m [\u001b[43me\u001b[49m\u001b[38;5;241;43m.\u001b[39;49m\u001b[43mtext\u001b[49m\u001b[38;5;241;43m.\u001b[39;49m\u001b[43msplit\u001b[49m\u001b[43m(\u001b[49m\u001b[43m)\u001b[49m\u001b[43m[\u001b[49m\u001b[38;5;241;43m-\u001b[39;49m\u001b[38;5;241;43m1\u001b[39;49m\u001b[43m]\u001b[49m \u001b[38;5;28;01mfor\u001b[39;00m e \u001b[38;5;129;01min\u001b[39;00m precio]\n",
      "\u001b[0;31mIndexError\u001b[0m: list index out of range"
     ]
    }
   ],
   "source": [
    "#Investigamos dónde podemos scrappear los datos que necesitamos\n",
    "prueba = driver.find_elements(By.CLASS_NAME, 'c-product-tile__caption-inner')\n",
    "nombres = driver.find_element(By.CLASS_NAME, 'c-product-tile__name').text\n",
    "links1 = driver.find_elements(By.CLASS_NAME, 'c-product-image__link')\n",
    "links = [e.get_attribute('href') for e in links1]\n",
    "precio = driver.find_elements(By.CLASS_NAME, 'c-product-tile__price') \n",
    "precios = [e.text.split()[-1] for e in precio]\n"
   ]
  },
  {
   "cell_type": "code",
   "execution_count": 25,
   "id": "17ef2bed",
   "metadata": {},
   "outputs": [],
   "source": [
    "#SOMBBRAS\n",
    "def extraer(URL):\n",
    "    PATH=ChromeDriverManager().install()\n",
    "    driver = webdriver.Chrome(PATH)\n",
    "    driver.get(URL)\n",
    "    \n",
    "    time.sleep(5)\n",
    "    driver.find_element(By.CSS_SELECTOR, 'body>div.c-modal.h-text-align-center.m-borderless.m-autosize-large.m-image.m-opened.h-fade-in>div>button').click() \n",
    "    time.sleep(5)\n",
    "    driver.execute_script('window.scrollTo(0, 3000);')  # 200px de scroll\n",
    "    time.sleep(5)\n",
    "    nombre = driver.find_elements(By.CLASS_NAME, 'c-product-tile__name') #nombre\n",
    "    time.sleep(5)\n",
    "    precio = driver.find_elements(By.CLASS_NAME, 'c-product-tile__price') #precio\n",
    "    time.sleep(5)\n",
    "    links1 = driver.find_elements(By.CLASS_NAME, 'c-product-image__link') #links\n",
    "        \n",
    "    tmp = [e.text for e in nombre]\n",
    "    \n",
    "    precios = [e.text.split('\\n')[-1] for e in precio]\n",
    "    \n",
    "    links = [e.get_attribute('href') for e in links1]\n",
    "    \n",
    "    cols = ['NOMBRE']\n",
    "    \n",
    "    total = pd.DataFrame(tmp, columns = cols)\n",
    "    \n",
    "    total['PRECIO'] = precios\n",
    "    total['LINKS'] = links\n",
    "    total['PRODUCTO'] = 'SOMBRAS DE OJOS'\n",
    "    \n",
    "    driver.quit()\n",
    "    \n",
    "    return total"
   ]
  },
  {
   "cell_type": "code",
   "execution_count": 26,
   "id": "b9d24d2f",
   "metadata": {},
   "outputs": [],
   "source": [
    "URL = 'https://www.urbandecay.com/naked-palettes/?start=0&sz=18'"
   ]
  },
  {
   "cell_type": "code",
   "execution_count": 27,
   "id": "fbf3a110",
   "metadata": {
    "scrolled": true
   },
   "outputs": [
    {
     "name": "stderr",
     "output_type": "stream",
     "text": [
      "2022-12-12 11:00:04,873 [48607] WARNING  py.warnings:109: [JupyterRequire] /var/folders/fg/hm_rz3k53fv5qf5dywc0bfwr0000gn/T/ipykernel_48607/2965688531.py:4: DeprecationWarning: executable_path has been deprecated, please pass in a Service object\n",
      "  driver = webdriver.Chrome(PATH)\n",
      "\n"
     ]
    }
   ],
   "source": [
    "sombras_ud = extraer(URL)"
   ]
  },
  {
   "cell_type": "code",
   "execution_count": 28,
   "id": "5f93fe0e",
   "metadata": {},
   "outputs": [],
   "source": [
    "sombras_ud.drop_duplicates(inplace = True)\n",
    "sombras_ud = sombras_ud[0:14] "
   ]
  },
  {
   "cell_type": "code",
   "execution_count": 29,
   "id": "a5ebf89e",
   "metadata": {},
   "outputs": [],
   "source": [
    "#Añadimos los valores de las paletas en función de los colores de las sombras\n",
    "\n",
    "sombras_ud['PALETA'] = ['PRIMAVERA', 'PRIMAVERA / OTOÑO', 'OTOÑO / INVIERNO', 'VERANO', 'TODAS', 'PRIMAVERA / VERANO',\\\n",
    "                  'OTOÑO', 'PRIMAVERA / VERANO', 'OTOÑO / INVIERNO', 'PRIMAVERA', 'PRIMAVERA / INVIERNO', 'PRIMAVERA',\\\n",
    "                  'PRIMAVERA / OTOÑO / INVIERNO', 'OTOÑO / INVIERNO']"
   ]
  },
  {
   "cell_type": "code",
   "execution_count": 30,
   "id": "06f2f1fc",
   "metadata": {},
   "outputs": [],
   "source": [
    "#COLORETE\n",
    "def extraer(URL):\n",
    "    PATH=ChromeDriverManager().install()\n",
    "    driver = webdriver.Chrome(PATH)\n",
    "    driver.get(URL)\n",
    "    \n",
    "    time.sleep(5)\n",
    "    driver.find_element(By.CSS_SELECTOR, 'body>div.c-modal.h-text-align-center.m-borderless.m-autosize-large.m-image.m-opened.h-fade-in>div>button').click() \n",
    "    time.sleep(5)\n",
    "    driver.execute_script('window.scrollTo(0, 3000);')  # 200px de scroll\n",
    "    time.sleep(5)\n",
    "    nombre = driver.find_elements(By.CLASS_NAME, 'c-product-tile__name') #nombre\n",
    "    time.sleep(5)\n",
    "    precio = driver.find_elements(By.CLASS_NAME, 'c-product-tile__price') #precio\n",
    "    time.sleep(5)\n",
    "    links1 = driver.find_elements(By.CLASS_NAME, 'c-product-image__link') #links\n",
    "        \n",
    "    tmp = [e.text for e in nombre]\n",
    "    \n",
    "    precios = [e.text.split('\\n')[-1] for e in precio]\n",
    "    \n",
    "    links = [e.get_attribute('href') for e in links1]\n",
    "    \n",
    "    cols = ['NOMBRE']\n",
    "    \n",
    "    total = pd.DataFrame(tmp, columns = cols)\n",
    "    \n",
    "    total['PRECIO'] = precios\n",
    "    total['LINKS'] = links\n",
    "    total['PRODUCTO'] = 'COLORETE'\n",
    "    \n",
    "    driver.quit()\n",
    "    \n",
    "    return total"
   ]
  },
  {
   "cell_type": "code",
   "execution_count": 31,
   "id": "51519df7",
   "metadata": {
    "scrolled": true
   },
   "outputs": [
    {
     "name": "stderr",
     "output_type": "stream",
     "text": [
      "2022-12-12 11:00:48,393 [48607] WARNING  py.warnings:109: [JupyterRequire] /var/folders/fg/hm_rz3k53fv5qf5dywc0bfwr0000gn/T/ipykernel_48607/169910402.py:4: DeprecationWarning: executable_path has been deprecated, please pass in a Service object\n",
      "  driver = webdriver.Chrome(PATH)\n",
      "\n"
     ]
    }
   ],
   "source": [
    "blush_ud = extraer('https://www.urbandecay.com/blush-bronzer-highlighter/')"
   ]
  },
  {
   "cell_type": "code",
   "execution_count": 32,
   "id": "502b8b1d",
   "metadata": {},
   "outputs": [
    {
     "data": {
      "text/html": [
       "<div>\n",
       "<style scoped>\n",
       "    .dataframe tbody tr th:only-of-type {\n",
       "        vertical-align: middle;\n",
       "    }\n",
       "\n",
       "    .dataframe tbody tr th {\n",
       "        vertical-align: top;\n",
       "    }\n",
       "\n",
       "    .dataframe thead th {\n",
       "        text-align: right;\n",
       "    }\n",
       "</style>\n",
       "<table border=\"1\" class=\"dataframe\">\n",
       "  <thead>\n",
       "    <tr style=\"text-align: right;\">\n",
       "      <th></th>\n",
       "      <th>NOMBRE</th>\n",
       "      <th>PRECIO</th>\n",
       "      <th>LINKS</th>\n",
       "      <th>PRODUCTO</th>\n",
       "    </tr>\n",
       "  </thead>\n",
       "  <tbody>\n",
       "    <tr>\n",
       "      <th>0</th>\n",
       "      <td>STAY NAKED THREESOME BRONZE, BLUSH, AND HIGHLI...</td>\n",
       "      <td>$37.00</td>\n",
       "      <td>https://www.urbandecay.com/threesome-by-urban-...</td>\n",
       "      <td>COLORETE</td>\n",
       "    </tr>\n",
       "    <tr>\n",
       "      <th>1</th>\n",
       "      <td>BEACHED BRONZER</td>\n",
       "      <td>$31.00</td>\n",
       "      <td>https://www.urbandecay.com/beached-bronzer-by-...</td>\n",
       "      <td>COLORETE</td>\n",
       "    </tr>\n",
       "    <tr>\n",
       "      <th>2</th>\n",
       "      <td>NAKED3 EYESHADOW PALETTE</td>\n",
       "      <td>$27.00</td>\n",
       "      <td>https://www.urbandecay.com/naked-3-palette-by-...</td>\n",
       "      <td>COLORETE</td>\n",
       "    </tr>\n",
       "    <tr>\n",
       "      <th>3</th>\n",
       "      <td>NAKED RELOADED EYESHADOW PALETTE</td>\n",
       "      <td>$22.00</td>\n",
       "      <td>https://www.urbandecay.com/naked-reloaded-urba...</td>\n",
       "      <td>COLORETE</td>\n",
       "    </tr>\n",
       "    <tr>\n",
       "      <th>4</th>\n",
       "      <td>NAKED HEAT EYESHADOW PALETTE</td>\n",
       "      <td>$27.00</td>\n",
       "      <td>https://www.urbandecay.com/naked-heat-eyeshado...</td>\n",
       "      <td>COLORETE</td>\n",
       "    </tr>\n",
       "    <tr>\n",
       "      <th>5</th>\n",
       "      <td>24/7 GLIDE-ON WATERPROOF EYELINER PENCIL</td>\n",
       "      <td>$11.50</td>\n",
       "      <td>https://www.urbandecay.com/24-7-glide-on-eye-p...</td>\n",
       "      <td>COLORETE</td>\n",
       "    </tr>\n",
       "    <tr>\n",
       "      <th>6</th>\n",
       "      <td></td>\n",
       "      <td></td>\n",
       "      <td>https://www.urbandecay.com/all-nighter-setting...</td>\n",
       "      <td>COLORETE</td>\n",
       "    </tr>\n",
       "    <tr>\n",
       "      <th>7</th>\n",
       "      <td></td>\n",
       "      <td></td>\n",
       "      <td>https://www.urbandecay.com/naked-honey-eyeshad...</td>\n",
       "      <td>COLORETE</td>\n",
       "    </tr>\n",
       "    <tr>\n",
       "      <th>8</th>\n",
       "      <td></td>\n",
       "      <td></td>\n",
       "      <td>https://www.urbandecay.com/eyeshadow-primer-po...</td>\n",
       "      <td>COLORETE</td>\n",
       "    </tr>\n",
       "    <tr>\n",
       "      <th>9</th>\n",
       "      <td></td>\n",
       "      <td></td>\n",
       "      <td>https://www.urbandecay.com/urban-decay-cosmeti...</td>\n",
       "      <td>COLORETE</td>\n",
       "    </tr>\n",
       "  </tbody>\n",
       "</table>\n",
       "</div>"
      ],
      "text/plain": [
       "                                              NOMBRE  PRECIO  \\\n",
       "0  STAY NAKED THREESOME BRONZE, BLUSH, AND HIGHLI...  $37.00   \n",
       "1                                    BEACHED BRONZER  $31.00   \n",
       "2                           NAKED3 EYESHADOW PALETTE  $27.00   \n",
       "3                   NAKED RELOADED EYESHADOW PALETTE  $22.00   \n",
       "4                       NAKED HEAT EYESHADOW PALETTE  $27.00   \n",
       "5           24/7 GLIDE-ON WATERPROOF EYELINER PENCIL  $11.50   \n",
       "6                                                              \n",
       "7                                                              \n",
       "8                                                              \n",
       "9                                                              \n",
       "\n",
       "                                               LINKS  PRODUCTO  \n",
       "0  https://www.urbandecay.com/threesome-by-urban-...  COLORETE  \n",
       "1  https://www.urbandecay.com/beached-bronzer-by-...  COLORETE  \n",
       "2  https://www.urbandecay.com/naked-3-palette-by-...  COLORETE  \n",
       "3  https://www.urbandecay.com/naked-reloaded-urba...  COLORETE  \n",
       "4  https://www.urbandecay.com/naked-heat-eyeshado...  COLORETE  \n",
       "5  https://www.urbandecay.com/24-7-glide-on-eye-p...  COLORETE  \n",
       "6  https://www.urbandecay.com/all-nighter-setting...  COLORETE  \n",
       "7  https://www.urbandecay.com/naked-honey-eyeshad...  COLORETE  \n",
       "8  https://www.urbandecay.com/eyeshadow-primer-po...  COLORETE  \n",
       "9  https://www.urbandecay.com/urban-decay-cosmeti...  COLORETE  "
      ]
     },
     "execution_count": 32,
     "metadata": {},
     "output_type": "execute_result"
    }
   ],
   "source": [
    "blush_ud "
   ]
  },
  {
   "cell_type": "code",
   "execution_count": 33,
   "id": "74ca0b01",
   "metadata": {},
   "outputs": [
    {
     "name": "stderr",
     "output_type": "stream",
     "text": [
      "2022-12-12 11:01:22,134 [48607] WARNING  py.warnings:109: [JupyterRequire] /var/folders/fg/hm_rz3k53fv5qf5dywc0bfwr0000gn/T/ipykernel_48607/3659531634.py:2: SettingWithCopyWarning: \n",
      "A value is trying to be set on a copy of a slice from a DataFrame\n",
      "\n",
      "See the caveats in the documentation: https://pandas.pydata.org/pandas-docs/stable/user_guide/indexing.html#returning-a-view-versus-a-copy\n",
      "  blush_ud.drop_duplicates(inplace = True)\n",
      "\n",
      "2022-12-12 11:01:22,165 [48607] WARNING  py.warnings:109: [JupyterRequire] /var/folders/fg/hm_rz3k53fv5qf5dywc0bfwr0000gn/T/ipykernel_48607/3659531634.py:3: SettingWithCopyWarning: \n",
      "A value is trying to be set on a copy of a slice from a DataFrame.\n",
      "Try using .loc[row_indexer,col_indexer] = value instead\n",
      "\n",
      "See the caveats in the documentation: https://pandas.pydata.org/pandas-docs/stable/user_guide/indexing.html#returning-a-view-versus-a-copy\n",
      "  blush_ud['PALETA'] = ['VERANO / INVIERNO', 'TODAS']\n",
      "\n"
     ]
    }
   ],
   "source": [
    "blush_ud = blush_ud[0:2]\n",
    "blush_ud.drop_duplicates(inplace = True)\n",
    "blush_ud['PALETA'] = ['VERANO / INVIERNO', 'TODAS']\n"
   ]
  },
  {
   "cell_type": "code",
   "execution_count": 34,
   "id": "3048a6c9",
   "metadata": {},
   "outputs": [],
   "source": [
    "mu_ud = pd.concat([sombras_ud, blush_ud], axis = 0)"
   ]
  },
  {
   "cell_type": "code",
   "execution_count": 35,
   "id": "35a32333",
   "metadata": {
    "scrolled": true
   },
   "outputs": [
    {
     "data": {
      "text/html": [
       "<div>\n",
       "<style scoped>\n",
       "    .dataframe tbody tr th:only-of-type {\n",
       "        vertical-align: middle;\n",
       "    }\n",
       "\n",
       "    .dataframe tbody tr th {\n",
       "        vertical-align: top;\n",
       "    }\n",
       "\n",
       "    .dataframe thead th {\n",
       "        text-align: right;\n",
       "    }\n",
       "</style>\n",
       "<table border=\"1\" class=\"dataframe\">\n",
       "  <thead>\n",
       "    <tr style=\"text-align: right;\">\n",
       "      <th></th>\n",
       "      <th>NOMBRE</th>\n",
       "      <th>PRECIO</th>\n",
       "      <th>LINKS</th>\n",
       "      <th>PRODUCTO</th>\n",
       "      <th>PALETA</th>\n",
       "    </tr>\n",
       "  </thead>\n",
       "  <tbody>\n",
       "    <tr>\n",
       "      <th>0</th>\n",
       "      <td>NAKED3 EYESHADOW PALETTE</td>\n",
       "      <td>$27.00</td>\n",
       "      <td>https://www.urbandecay.com/naked-3-palette-by-...</td>\n",
       "      <td>SOMBRAS DE OJOS</td>\n",
       "      <td>PRIMAVERA</td>\n",
       "    </tr>\n",
       "    <tr>\n",
       "      <th>1</th>\n",
       "      <td>NAKED RELOADED EYESHADOW PALETTE</td>\n",
       "      <td>$22.00</td>\n",
       "      <td>https://www.urbandecay.com/naked-reloaded-urba...</td>\n",
       "      <td>SOMBRAS DE OJOS</td>\n",
       "      <td>PRIMAVERA / OTOÑO</td>\n",
       "    </tr>\n",
       "    <tr>\n",
       "      <th>2</th>\n",
       "      <td>NAKED HEAT EYESHADOW PALETTE</td>\n",
       "      <td>$27.00</td>\n",
       "      <td>https://www.urbandecay.com/naked-heat-eyeshado...</td>\n",
       "      <td>SOMBRAS DE OJOS</td>\n",
       "      <td>OTOÑO / INVIERNO</td>\n",
       "    </tr>\n",
       "    <tr>\n",
       "      <th>3</th>\n",
       "      <td>NAKED HONEY EYESHADOW PALETTE</td>\n",
       "      <td>$24.50</td>\n",
       "      <td>https://www.urbandecay.com/naked-honey-eyeshad...</td>\n",
       "      <td>SOMBRAS DE OJOS</td>\n",
       "      <td>VERANO</td>\n",
       "    </tr>\n",
       "    <tr>\n",
       "      <th>4</th>\n",
       "      <td>LET'S GET NAKED SET</td>\n",
       "      <td>$175.00</td>\n",
       "      <td>https://www.urbandecay.com/lets-get-naked-set-...</td>\n",
       "      <td>SOMBRAS DE OJOS</td>\n",
       "      <td>TODAS</td>\n",
       "    </tr>\n",
       "    <tr>\n",
       "      <th>5</th>\n",
       "      <td>UD X ROBIN EISENBERG ARTIST COLLAB HOLIDAY MAK...</td>\n",
       "      <td>$49.00</td>\n",
       "      <td>https://www.urbandecay.com/robin-eisenberg-hol...</td>\n",
       "      <td>SOMBRAS DE OJOS</td>\n",
       "      <td>PRIMAVERA / VERANO</td>\n",
       "    </tr>\n",
       "    <tr>\n",
       "      <th>6</th>\n",
       "      <td>NAKED WILD WEST MINI EYESHADOW PALETTE</td>\n",
       "      <td>$18.90</td>\n",
       "      <td>https://www.urbandecay.com/naked-wild-west-min...</td>\n",
       "      <td>SOMBRAS DE OJOS</td>\n",
       "      <td>OTOÑO</td>\n",
       "    </tr>\n",
       "    <tr>\n",
       "      <th>7</th>\n",
       "      <td>NAKED X ROBIN EISENBERG EYESHADOW PALETTE</td>\n",
       "      <td>$27.00</td>\n",
       "      <td>https://www.urbandecay.com/robin-eisenberg-nak...</td>\n",
       "      <td>SOMBRAS DE OJOS</td>\n",
       "      <td>PRIMAVERA / VERANO</td>\n",
       "    </tr>\n",
       "    <tr>\n",
       "      <th>8</th>\n",
       "      <td>NAKED WILD WEST EYESHADOW PALETTE</td>\n",
       "      <td>$24.50</td>\n",
       "      <td>https://www.urbandecay.com/urban-decay-cosmeti...</td>\n",
       "      <td>SOMBRAS DE OJOS</td>\n",
       "      <td>OTOÑO / INVIERNO</td>\n",
       "    </tr>\n",
       "    <tr>\n",
       "      <th>9</th>\n",
       "      <td>NAKED3 MINI EYESHADOW PALETTE</td>\n",
       "      <td>$29.00</td>\n",
       "      <td>https://www.urbandecay.com/naked3-mini-eyeshad...</td>\n",
       "      <td>SOMBRAS DE OJOS</td>\n",
       "      <td>PRIMAVERA</td>\n",
       "    </tr>\n",
       "    <tr>\n",
       "      <th>10</th>\n",
       "      <td>NAKED2 BASICS EYESHADOW PALETTE</td>\n",
       "      <td>$29.00</td>\n",
       "      <td>https://www.urbandecay.com/naked-2-basics-pale...</td>\n",
       "      <td>SOMBRAS DE OJOS</td>\n",
       "      <td>PRIMAVERA / INVIERNO</td>\n",
       "    </tr>\n",
       "    <tr>\n",
       "      <th>11</th>\n",
       "      <td>NAKED SIN MINI EYESHADOW PALETTE</td>\n",
       "      <td>$29.00</td>\n",
       "      <td>https://www.urbandecay.com/naked-sin-eyeshadow...</td>\n",
       "      <td>SOMBRAS DE OJOS</td>\n",
       "      <td>PRIMAVERA</td>\n",
       "    </tr>\n",
       "    <tr>\n",
       "      <th>12</th>\n",
       "      <td>NAKED HALF-BAKED MINI EYESHADOW PALETTE</td>\n",
       "      <td>$29.00</td>\n",
       "      <td>https://www.urbandecay.com/naked-half--baked-e...</td>\n",
       "      <td>SOMBRAS DE OJOS</td>\n",
       "      <td>PRIMAVERA / OTOÑO / INVIERNO</td>\n",
       "    </tr>\n",
       "    <tr>\n",
       "      <th>13</th>\n",
       "      <td>NAKED FOXY MINI EYESHADOW PALETTE</td>\n",
       "      <td>$29.00</td>\n",
       "      <td>https://www.urbandecay.com/naked-foxy-eyeshado...</td>\n",
       "      <td>SOMBRAS DE OJOS</td>\n",
       "      <td>OTOÑO / INVIERNO</td>\n",
       "    </tr>\n",
       "    <tr>\n",
       "      <th>0</th>\n",
       "      <td>STAY NAKED THREESOME BRONZE, BLUSH, AND HIGHLI...</td>\n",
       "      <td>$37.00</td>\n",
       "      <td>https://www.urbandecay.com/threesome-by-urban-...</td>\n",
       "      <td>COLORETE</td>\n",
       "      <td>VERANO / INVIERNO</td>\n",
       "    </tr>\n",
       "    <tr>\n",
       "      <th>1</th>\n",
       "      <td>BEACHED BRONZER</td>\n",
       "      <td>$31.00</td>\n",
       "      <td>https://www.urbandecay.com/beached-bronzer-by-...</td>\n",
       "      <td>COLORETE</td>\n",
       "      <td>TODAS</td>\n",
       "    </tr>\n",
       "  </tbody>\n",
       "</table>\n",
       "</div>"
      ],
      "text/plain": [
       "                                               NOMBRE   PRECIO  \\\n",
       "0                            NAKED3 EYESHADOW PALETTE   $27.00   \n",
       "1                    NAKED RELOADED EYESHADOW PALETTE   $22.00   \n",
       "2                        NAKED HEAT EYESHADOW PALETTE   $27.00   \n",
       "3                       NAKED HONEY EYESHADOW PALETTE   $24.50   \n",
       "4                                 LET'S GET NAKED SET  $175.00   \n",
       "5   UD X ROBIN EISENBERG ARTIST COLLAB HOLIDAY MAK...   $49.00   \n",
       "6              NAKED WILD WEST MINI EYESHADOW PALETTE   $18.90   \n",
       "7           NAKED X ROBIN EISENBERG EYESHADOW PALETTE   $27.00   \n",
       "8                   NAKED WILD WEST EYESHADOW PALETTE   $24.50   \n",
       "9                       NAKED3 MINI EYESHADOW PALETTE   $29.00   \n",
       "10                    NAKED2 BASICS EYESHADOW PALETTE   $29.00   \n",
       "11                   NAKED SIN MINI EYESHADOW PALETTE   $29.00   \n",
       "12            NAKED HALF-BAKED MINI EYESHADOW PALETTE   $29.00   \n",
       "13                  NAKED FOXY MINI EYESHADOW PALETTE   $29.00   \n",
       "0   STAY NAKED THREESOME BRONZE, BLUSH, AND HIGHLI...   $37.00   \n",
       "1                                     BEACHED BRONZER   $31.00   \n",
       "\n",
       "                                                LINKS         PRODUCTO  \\\n",
       "0   https://www.urbandecay.com/naked-3-palette-by-...  SOMBRAS DE OJOS   \n",
       "1   https://www.urbandecay.com/naked-reloaded-urba...  SOMBRAS DE OJOS   \n",
       "2   https://www.urbandecay.com/naked-heat-eyeshado...  SOMBRAS DE OJOS   \n",
       "3   https://www.urbandecay.com/naked-honey-eyeshad...  SOMBRAS DE OJOS   \n",
       "4   https://www.urbandecay.com/lets-get-naked-set-...  SOMBRAS DE OJOS   \n",
       "5   https://www.urbandecay.com/robin-eisenberg-hol...  SOMBRAS DE OJOS   \n",
       "6   https://www.urbandecay.com/naked-wild-west-min...  SOMBRAS DE OJOS   \n",
       "7   https://www.urbandecay.com/robin-eisenberg-nak...  SOMBRAS DE OJOS   \n",
       "8   https://www.urbandecay.com/urban-decay-cosmeti...  SOMBRAS DE OJOS   \n",
       "9   https://www.urbandecay.com/naked3-mini-eyeshad...  SOMBRAS DE OJOS   \n",
       "10  https://www.urbandecay.com/naked-2-basics-pale...  SOMBRAS DE OJOS   \n",
       "11  https://www.urbandecay.com/naked-sin-eyeshadow...  SOMBRAS DE OJOS   \n",
       "12  https://www.urbandecay.com/naked-half--baked-e...  SOMBRAS DE OJOS   \n",
       "13  https://www.urbandecay.com/naked-foxy-eyeshado...  SOMBRAS DE OJOS   \n",
       "0   https://www.urbandecay.com/threesome-by-urban-...         COLORETE   \n",
       "1   https://www.urbandecay.com/beached-bronzer-by-...         COLORETE   \n",
       "\n",
       "                          PALETA  \n",
       "0                      PRIMAVERA  \n",
       "1              PRIMAVERA / OTOÑO  \n",
       "2               OTOÑO / INVIERNO  \n",
       "3                         VERANO  \n",
       "4                          TODAS  \n",
       "5             PRIMAVERA / VERANO  \n",
       "6                          OTOÑO  \n",
       "7             PRIMAVERA / VERANO  \n",
       "8               OTOÑO / INVIERNO  \n",
       "9                      PRIMAVERA  \n",
       "10          PRIMAVERA / INVIERNO  \n",
       "11                     PRIMAVERA  \n",
       "12  PRIMAVERA / OTOÑO / INVIERNO  \n",
       "13              OTOÑO / INVIERNO  \n",
       "0              VERANO / INVIERNO  \n",
       "1                          TODAS  "
      ]
     },
     "execution_count": 35,
     "metadata": {},
     "output_type": "execute_result"
    }
   ],
   "source": [
    "mu_ud"
   ]
  },
  {
   "cell_type": "markdown",
   "id": "c0a50dd6",
   "metadata": {},
   "source": [
    "# **3 - EXTRACCIÓN DE DATOS DE SOMBRAS Y COLORETES DE HUDA BEAUTY**"
   ]
  },
  {
   "cell_type": "code",
   "execution_count": 36,
   "id": "01aac1c7",
   "metadata": {},
   "outputs": [
    {
     "name": "stderr",
     "output_type": "stream",
     "text": [
      "2022-12-12 11:01:29,280 [48607] WARNING  py.warnings:109: [JupyterRequire] /var/folders/fg/hm_rz3k53fv5qf5dywc0bfwr0000gn/T/ipykernel_48607/91254812.py:3: DeprecationWarning: executable_path has been deprecated, please pass in a Service object\n",
      "  driver=webdriver.Chrome(PATH)\n",
      "\n"
     ]
    }
   ],
   "source": [
    "PATH=ChromeDriverManager().install()\n",
    "\n",
    "driver=webdriver.Chrome(PATH) "
   ]
  },
  {
   "cell_type": "code",
   "execution_count": 37,
   "id": "c1ecd08a",
   "metadata": {},
   "outputs": [],
   "source": [
    "URL = 'https://hudabeauty.com/us/en_US/eyes/eyeshadow'\n",
    "driver.get(URL)"
   ]
  },
  {
   "cell_type": "code",
   "execution_count": 38,
   "id": "ad17a019",
   "metadata": {},
   "outputs": [],
   "source": [
    "#Investigamos cómo scrappear los datos de la web de HUDA BEAUTY\n",
    "nombres = driver.find_element(By.CLASS_NAME, 'tile-body').text\n",
    "links = driver.find_elements(By.CLASS_NAME, 'tile-body')"
   ]
  },
  {
   "cell_type": "code",
   "execution_count": 39,
   "id": "f9c69480",
   "metadata": {},
   "outputs": [],
   "source": [
    "#SOMBRAS\n",
    "def extraer(URL):\n",
    "    driver = webdriver.Chrome(PATH)\n",
    "    driver.get(URL)\n",
    "    \n",
    "    driver.execute_script('window.scrollTo(0, 4000);')  # 200px de scroll\n",
    "    time.sleep(7)\n",
    "    \n",
    "    filas = driver.find_elements(By.CLASS_NAME, 'tile-body')\n",
    "    link = driver.find_elements(By.CLASS_NAME, 'link')\n",
    "    tmp = []\n",
    "    links = []\n",
    "\n",
    "    for e in filas:\n",
    "        tmp.append(e.text.split('\\n'))\n",
    "    \n",
    "    for e in link:\n",
    "        links.append(e.get_attribute('href'))\n",
    "    \n",
    "    cols = ['NOMBRE', 'TIPO', 'COLOR', 'PRECIO ANT', 'PRECIO']\n",
    "    \n",
    "    total = pd.DataFrame(tmp, columns = cols)\n",
    "    \n",
    "    total['LINKS'] = links\n",
    "    total['PRODUCTO'] = 'SOMBRAS DE OJOS'\n",
    "    total.drop(['PRECIO ANT'], axis = 1, inplace = True)\n",
    "    \n",
    "    \n",
    "    driver.quit()\n",
    "     \n",
    "    return total"
   ]
  },
  {
   "cell_type": "code",
   "execution_count": 40,
   "id": "792a7030",
   "metadata": {
    "scrolled": true
   },
   "outputs": [
    {
     "name": "stderr",
     "output_type": "stream",
     "text": [
      "2022-12-12 11:01:45,652 [48607] WARNING  py.warnings:109: [JupyterRequire] /var/folders/fg/hm_rz3k53fv5qf5dywc0bfwr0000gn/T/ipykernel_48607/3012731617.py:3: DeprecationWarning: executable_path has been deprecated, please pass in a Service object\n",
      "  driver = webdriver.Chrome(PATH)\n",
      "\n"
     ]
    }
   ],
   "source": [
    "sombras_hb = extraer(URL)"
   ]
  },
  {
   "cell_type": "code",
   "execution_count": 41,
   "id": "e8af8264",
   "metadata": {},
   "outputs": [
    {
     "data": {
      "text/html": [
       "<div>\n",
       "<style scoped>\n",
       "    .dataframe tbody tr th:only-of-type {\n",
       "        vertical-align: middle;\n",
       "    }\n",
       "\n",
       "    .dataframe tbody tr th {\n",
       "        vertical-align: top;\n",
       "    }\n",
       "\n",
       "    .dataframe thead th {\n",
       "        text-align: right;\n",
       "    }\n",
       "</style>\n",
       "<table border=\"1\" class=\"dataframe\">\n",
       "  <thead>\n",
       "    <tr style=\"text-align: right;\">\n",
       "      <th></th>\n",
       "      <th>NOMBRE</th>\n",
       "      <th>TIPO</th>\n",
       "      <th>COLOR</th>\n",
       "      <th>PRECIO</th>\n",
       "      <th>LINKS</th>\n",
       "      <th>PRODUCTO</th>\n",
       "    </tr>\n",
       "  </thead>\n",
       "  <tbody>\n",
       "    <tr>\n",
       "      <th>0</th>\n",
       "      <td>Naughty Nude Eyeshadow Palette</td>\n",
       "      <td>ADD TO BAG</td>\n",
       "      <td>$67.00</td>\n",
       "      <td>None</td>\n",
       "      <td>https://hudabeauty.com/us/en_US/eyeshadow/naug...</td>\n",
       "      <td>SOMBRAS DE OJOS</td>\n",
       "    </tr>\n",
       "    <tr>\n",
       "      <th>1</th>\n",
       "      <td>Haze Obsessions Eyeshadow Palette</td>\n",
       "      <td>Purple</td>\n",
       "      <td>ADD TO BAG</td>\n",
       "      <td>$17.40</td>\n",
       "      <td>https://hudabeauty.com/us/en_US/60-off/haze-ob...</td>\n",
       "      <td>SOMBRAS DE OJOS</td>\n",
       "    </tr>\n",
       "    <tr>\n",
       "      <th>2</th>\n",
       "      <td>Wild Obsessions Eyeshadow Palette</td>\n",
       "      <td>Tiger</td>\n",
       "      <td>ADD TO BAG</td>\n",
       "      <td>None</td>\n",
       "      <td>https://hudabeauty.com/us/en_US/eyeshadow/wild...</td>\n",
       "      <td>SOMBRAS DE OJOS</td>\n",
       "    </tr>\n",
       "    <tr>\n",
       "      <th>3</th>\n",
       "      <td>NUDE Obsessions Eyeshadow Palette</td>\n",
       "      <td>Rich</td>\n",
       "      <td>ADD TO BAG</td>\n",
       "      <td>None</td>\n",
       "      <td>https://hudabeauty.com/us/en_US/eyeshadow/nude...</td>\n",
       "      <td>SOMBRAS DE OJOS</td>\n",
       "    </tr>\n",
       "    <tr>\n",
       "      <th>4</th>\n",
       "      <td>Wild Obsessions Eyeshadow Palette</td>\n",
       "      <td>Python</td>\n",
       "      <td>ADD TO BAG</td>\n",
       "      <td>None</td>\n",
       "      <td>https://hudabeauty.com/us/en_US/eyeshadow/wild...</td>\n",
       "      <td>SOMBRAS DE OJOS</td>\n",
       "    </tr>\n",
       "    <tr>\n",
       "      <th>5</th>\n",
       "      <td>Wild Obsessions Eyeshadow Palette</td>\n",
       "      <td>Chameleon</td>\n",
       "      <td>ADD TO BAG</td>\n",
       "      <td>None</td>\n",
       "      <td>https://hudabeauty.com/us/en_US/eyeshadow/wild...</td>\n",
       "      <td>SOMBRAS DE OJOS</td>\n",
       "    </tr>\n",
       "    <tr>\n",
       "      <th>6</th>\n",
       "      <td>Matte Basics Melted Shadows</td>\n",
       "      <td>Black &amp; White</td>\n",
       "      <td>ADD TO BAG</td>\n",
       "      <td>None</td>\n",
       "      <td>https://hudabeauty.com/us/en_US/cyber-week-sal...</td>\n",
       "      <td>SOMBRAS DE OJOS</td>\n",
       "    </tr>\n",
       "    <tr>\n",
       "      <th>7</th>\n",
       "      <td>Color Block Obsessions Palette</td>\n",
       "      <td>Purple &amp; Orange</td>\n",
       "      <td>ADD TO BAG</td>\n",
       "      <td>None</td>\n",
       "      <td>https://hudabeauty.com/us/en_US/50-off/color-b...</td>\n",
       "      <td>SOMBRAS DE OJOS</td>\n",
       "    </tr>\n",
       "    <tr>\n",
       "      <th>8</th>\n",
       "      <td>Rose Quartz Eyeshadow Palette</td>\n",
       "      <td>ADD TO BAG</td>\n",
       "      <td>$67.00</td>\n",
       "      <td>None</td>\n",
       "      <td>https://hudabeauty.com/us/en_US/eyeshadow/rose...</td>\n",
       "      <td>SOMBRAS DE OJOS</td>\n",
       "    </tr>\n",
       "    <tr>\n",
       "      <th>9</th>\n",
       "      <td>NUDE Obsessions Eyeshadow Palette</td>\n",
       "      <td>Light</td>\n",
       "      <td>ADD TO BAG</td>\n",
       "      <td>None</td>\n",
       "      <td>https://hudabeauty.com/us/en_US/eyeshadow/nude...</td>\n",
       "      <td>SOMBRAS DE OJOS</td>\n",
       "    </tr>\n",
       "    <tr>\n",
       "      <th>10</th>\n",
       "      <td>Mini Matte &amp; Metal Melted Shadows</td>\n",
       "      <td>Soft Pinks</td>\n",
       "      <td>ADD TO BAG</td>\n",
       "      <td>$13.80</td>\n",
       "      <td>https://hudabeauty.com/us/en_US/sale/mini-melt...</td>\n",
       "      <td>SOMBRAS DE OJOS</td>\n",
       "    </tr>\n",
       "    <tr>\n",
       "      <th>11</th>\n",
       "      <td>Empowered Eyeshadow Palette</td>\n",
       "      <td>ADD TO BAG</td>\n",
       "      <td>$67.00</td>\n",
       "      <td>None</td>\n",
       "      <td>https://hudabeauty.com/us/en_US/eyeshadow/empo...</td>\n",
       "      <td>SOMBRAS DE OJOS</td>\n",
       "    </tr>\n",
       "    <tr>\n",
       "      <th>12</th>\n",
       "      <td>NUDE Obsessions Eyeshadow Palette</td>\n",
       "      <td>Medium</td>\n",
       "      <td>ADD TO BAG</td>\n",
       "      <td>None</td>\n",
       "      <td>https://hudabeauty.com/us/en_US/eyeshadow/nude...</td>\n",
       "      <td>SOMBRAS DE OJOS</td>\n",
       "    </tr>\n",
       "    <tr>\n",
       "      <th>13</th>\n",
       "      <td>The New Nude Eyeshadow Palette</td>\n",
       "      <td>ADD TO BAG</td>\n",
       "      <td>$65.00</td>\n",
       "      <td>None</td>\n",
       "      <td>https://hudabeauty.com/us/en_US/eyeshadow/the-...</td>\n",
       "      <td>SOMBRAS DE OJOS</td>\n",
       "    </tr>\n",
       "    <tr>\n",
       "      <th>14</th>\n",
       "      <td>Lovefest Obsessions Eyeshadow Palette</td>\n",
       "      <td>ADD TO BAG</td>\n",
       "      <td>$29.00</td>\n",
       "      <td>None</td>\n",
       "      <td>https://hudabeauty.com/us/en_US/eyeshadow/love...</td>\n",
       "      <td>SOMBRAS DE OJOS</td>\n",
       "    </tr>\n",
       "    <tr>\n",
       "      <th>15</th>\n",
       "      <td>Mini Matte &amp; Metal Melted Shadows</td>\n",
       "      <td>Warm Browns</td>\n",
       "      <td>ADD TO BAG</td>\n",
       "      <td>$13.80</td>\n",
       "      <td>https://hudabeauty.com/us/en_US/sale/mini-melt...</td>\n",
       "      <td>SOMBRAS DE OJOS</td>\n",
       "    </tr>\n",
       "    <tr>\n",
       "      <th>16</th>\n",
       "      <td>Haze Obsessions Eyeshadow Palette</td>\n",
       "      <td>Khaki</td>\n",
       "      <td>ADD TO BAG</td>\n",
       "      <td>$17.40</td>\n",
       "      <td>https://hudabeauty.com/us/en_US/60-off/haze-ob...</td>\n",
       "      <td>SOMBRAS DE OJOS</td>\n",
       "    </tr>\n",
       "    <tr>\n",
       "      <th>17</th>\n",
       "      <td>Haze Obsessions Eyeshadow Palette</td>\n",
       "      <td>Sand</td>\n",
       "      <td>ADD TO BAG</td>\n",
       "      <td>$17.40</td>\n",
       "      <td>https://hudabeauty.com/us/en_US/60-off/haze-ob...</td>\n",
       "      <td>SOMBRAS DE OJOS</td>\n",
       "    </tr>\n",
       "    <tr>\n",
       "      <th>18</th>\n",
       "      <td>Matte &amp; Metal Melted Double Ended Liquid Eyesh...</td>\n",
       "      <td>French Lace &amp; Diamond Drip</td>\n",
       "      <td>ADD TO BAG</td>\n",
       "      <td>None</td>\n",
       "      <td>https://hudabeauty.com/us/en_US/cyber-week-sal...</td>\n",
       "      <td>SOMBRAS DE OJOS</td>\n",
       "    </tr>\n",
       "    <tr>\n",
       "      <th>19</th>\n",
       "      <td>Brown Obsessions Eyeshadow Palettes</td>\n",
       "      <td>Toffee</td>\n",
       "      <td>SOLD OUT</td>\n",
       "      <td>None</td>\n",
       "      <td>https://hudabeauty.com/us/en_US/eyeshadow/toff...</td>\n",
       "      <td>SOMBRAS DE OJOS</td>\n",
       "    </tr>\n",
       "    <tr>\n",
       "      <th>20</th>\n",
       "      <td>Color Block Obsessions Palette</td>\n",
       "      <td>Blue &amp; Green</td>\n",
       "      <td>SOLD OUT</td>\n",
       "      <td>None</td>\n",
       "      <td>https://hudabeauty.com/us/en_US/50-off/color-b...</td>\n",
       "      <td>SOMBRAS DE OJOS</td>\n",
       "    </tr>\n",
       "  </tbody>\n",
       "</table>\n",
       "</div>"
      ],
      "text/plain": [
       "                                               NOMBRE  \\\n",
       "0                      Naughty Nude Eyeshadow Palette   \n",
       "1                   Haze Obsessions Eyeshadow Palette   \n",
       "2                   Wild Obsessions Eyeshadow Palette   \n",
       "3                   NUDE Obsessions Eyeshadow Palette   \n",
       "4                   Wild Obsessions Eyeshadow Palette   \n",
       "5                   Wild Obsessions Eyeshadow Palette   \n",
       "6                         Matte Basics Melted Shadows   \n",
       "7                      Color Block Obsessions Palette   \n",
       "8                       Rose Quartz Eyeshadow Palette   \n",
       "9                   NUDE Obsessions Eyeshadow Palette   \n",
       "10                  Mini Matte & Metal Melted Shadows   \n",
       "11                        Empowered Eyeshadow Palette   \n",
       "12                  NUDE Obsessions Eyeshadow Palette   \n",
       "13                     The New Nude Eyeshadow Palette   \n",
       "14              Lovefest Obsessions Eyeshadow Palette   \n",
       "15                  Mini Matte & Metal Melted Shadows   \n",
       "16                  Haze Obsessions Eyeshadow Palette   \n",
       "17                  Haze Obsessions Eyeshadow Palette   \n",
       "18  Matte & Metal Melted Double Ended Liquid Eyesh...   \n",
       "19                Brown Obsessions Eyeshadow Palettes   \n",
       "20                     Color Block Obsessions Palette   \n",
       "\n",
       "                          TIPO       COLOR  PRECIO  \\\n",
       "0                   ADD TO BAG      $67.00    None   \n",
       "1                       Purple  ADD TO BAG  $17.40   \n",
       "2                        Tiger  ADD TO BAG    None   \n",
       "3                         Rich  ADD TO BAG    None   \n",
       "4                       Python  ADD TO BAG    None   \n",
       "5                    Chameleon  ADD TO BAG    None   \n",
       "6                Black & White  ADD TO BAG    None   \n",
       "7              Purple & Orange  ADD TO BAG    None   \n",
       "8                   ADD TO BAG      $67.00    None   \n",
       "9                        Light  ADD TO BAG    None   \n",
       "10                  Soft Pinks  ADD TO BAG  $13.80   \n",
       "11                  ADD TO BAG      $67.00    None   \n",
       "12                      Medium  ADD TO BAG    None   \n",
       "13                  ADD TO BAG      $65.00    None   \n",
       "14                  ADD TO BAG      $29.00    None   \n",
       "15                 Warm Browns  ADD TO BAG  $13.80   \n",
       "16                       Khaki  ADD TO BAG  $17.40   \n",
       "17                        Sand  ADD TO BAG  $17.40   \n",
       "18  French Lace & Diamond Drip  ADD TO BAG    None   \n",
       "19                      Toffee    SOLD OUT    None   \n",
       "20                Blue & Green    SOLD OUT    None   \n",
       "\n",
       "                                                LINKS         PRODUCTO  \n",
       "0   https://hudabeauty.com/us/en_US/eyeshadow/naug...  SOMBRAS DE OJOS  \n",
       "1   https://hudabeauty.com/us/en_US/60-off/haze-ob...  SOMBRAS DE OJOS  \n",
       "2   https://hudabeauty.com/us/en_US/eyeshadow/wild...  SOMBRAS DE OJOS  \n",
       "3   https://hudabeauty.com/us/en_US/eyeshadow/nude...  SOMBRAS DE OJOS  \n",
       "4   https://hudabeauty.com/us/en_US/eyeshadow/wild...  SOMBRAS DE OJOS  \n",
       "5   https://hudabeauty.com/us/en_US/eyeshadow/wild...  SOMBRAS DE OJOS  \n",
       "6   https://hudabeauty.com/us/en_US/cyber-week-sal...  SOMBRAS DE OJOS  \n",
       "7   https://hudabeauty.com/us/en_US/50-off/color-b...  SOMBRAS DE OJOS  \n",
       "8   https://hudabeauty.com/us/en_US/eyeshadow/rose...  SOMBRAS DE OJOS  \n",
       "9   https://hudabeauty.com/us/en_US/eyeshadow/nude...  SOMBRAS DE OJOS  \n",
       "10  https://hudabeauty.com/us/en_US/sale/mini-melt...  SOMBRAS DE OJOS  \n",
       "11  https://hudabeauty.com/us/en_US/eyeshadow/empo...  SOMBRAS DE OJOS  \n",
       "12  https://hudabeauty.com/us/en_US/eyeshadow/nude...  SOMBRAS DE OJOS  \n",
       "13  https://hudabeauty.com/us/en_US/eyeshadow/the-...  SOMBRAS DE OJOS  \n",
       "14  https://hudabeauty.com/us/en_US/eyeshadow/love...  SOMBRAS DE OJOS  \n",
       "15  https://hudabeauty.com/us/en_US/sale/mini-melt...  SOMBRAS DE OJOS  \n",
       "16  https://hudabeauty.com/us/en_US/60-off/haze-ob...  SOMBRAS DE OJOS  \n",
       "17  https://hudabeauty.com/us/en_US/60-off/haze-ob...  SOMBRAS DE OJOS  \n",
       "18  https://hudabeauty.com/us/en_US/cyber-week-sal...  SOMBRAS DE OJOS  \n",
       "19  https://hudabeauty.com/us/en_US/eyeshadow/toff...  SOMBRAS DE OJOS  \n",
       "20  https://hudabeauty.com/us/en_US/50-off/color-b...  SOMBRAS DE OJOS  "
      ]
     },
     "execution_count": 41,
     "metadata": {},
     "output_type": "execute_result"
    }
   ],
   "source": [
    "sombras_hb"
   ]
  },
  {
   "cell_type": "code",
   "execution_count": 42,
   "id": "66ba79e3",
   "metadata": {},
   "outputs": [],
   "source": [
    "sombras_hb['PALETAS']=  ['PRIMAVERA / OTOÑO / INVIERNO', 'PRIMAVERA / OTOÑO', 'PRIMAVERA / OTOÑO','OTOÑO / INVIERNO',\\\n",
    "                        'PRIMAVERA / OTOÑO / INVIERNO', 'VERANO / OTOÑO', 'VERANO / OTOÑO / INVIERNO',\\\n",
    "                        'TODAS', 'VERANO', 'PRIMAVERA', 'PRIMAVERA / OTOÑO', 'PRIMAVERA', \\\n",
    "                        'OTOÑO / INVIERNO', 'PRIMAVERA / OTOÑO', 'PRIMAVERA', 'OTOÑO / INVIERNO', 'PRIMAVERA / VERANO / OTOÑO',\\\n",
    "                        'OTOÑO / PRIMAVERA', 'TODAS', 'OTOÑO / VERANO', 'VERANO']"
   ]
  },
  {
   "cell_type": "code",
   "execution_count": 43,
   "id": "e505fc2e",
   "metadata": {},
   "outputs": [
    {
     "data": {
      "text/html": [
       "<div>\n",
       "<style scoped>\n",
       "    .dataframe tbody tr th:only-of-type {\n",
       "        vertical-align: middle;\n",
       "    }\n",
       "\n",
       "    .dataframe tbody tr th {\n",
       "        vertical-align: top;\n",
       "    }\n",
       "\n",
       "    .dataframe thead th {\n",
       "        text-align: right;\n",
       "    }\n",
       "</style>\n",
       "<table border=\"1\" class=\"dataframe\">\n",
       "  <thead>\n",
       "    <tr style=\"text-align: right;\">\n",
       "      <th></th>\n",
       "      <th>NOMBRE</th>\n",
       "      <th>TIPO</th>\n",
       "      <th>COLOR</th>\n",
       "      <th>PRECIO</th>\n",
       "      <th>LINKS</th>\n",
       "      <th>PRODUCTO</th>\n",
       "      <th>PALETAS</th>\n",
       "    </tr>\n",
       "  </thead>\n",
       "  <tbody>\n",
       "    <tr>\n",
       "      <th>0</th>\n",
       "      <td>Naughty Nude Eyeshadow Palette</td>\n",
       "      <td>ADD TO BAG</td>\n",
       "      <td>$67.00</td>\n",
       "      <td>None</td>\n",
       "      <td>https://hudabeauty.com/us/en_US/eyeshadow/naug...</td>\n",
       "      <td>SOMBRAS DE OJOS</td>\n",
       "      <td>PRIMAVERA / OTOÑO / INVIERNO</td>\n",
       "    </tr>\n",
       "    <tr>\n",
       "      <th>1</th>\n",
       "      <td>Haze Obsessions Eyeshadow Palette</td>\n",
       "      <td>Purple</td>\n",
       "      <td>ADD TO BAG</td>\n",
       "      <td>$17.40</td>\n",
       "      <td>https://hudabeauty.com/us/en_US/60-off/haze-ob...</td>\n",
       "      <td>SOMBRAS DE OJOS</td>\n",
       "      <td>PRIMAVERA / OTOÑO</td>\n",
       "    </tr>\n",
       "    <tr>\n",
       "      <th>2</th>\n",
       "      <td>Wild Obsessions Eyeshadow Palette</td>\n",
       "      <td>Tiger</td>\n",
       "      <td>ADD TO BAG</td>\n",
       "      <td>None</td>\n",
       "      <td>https://hudabeauty.com/us/en_US/eyeshadow/wild...</td>\n",
       "      <td>SOMBRAS DE OJOS</td>\n",
       "      <td>PRIMAVERA / OTOÑO</td>\n",
       "    </tr>\n",
       "    <tr>\n",
       "      <th>3</th>\n",
       "      <td>NUDE Obsessions Eyeshadow Palette</td>\n",
       "      <td>Rich</td>\n",
       "      <td>ADD TO BAG</td>\n",
       "      <td>None</td>\n",
       "      <td>https://hudabeauty.com/us/en_US/eyeshadow/nude...</td>\n",
       "      <td>SOMBRAS DE OJOS</td>\n",
       "      <td>OTOÑO / INVIERNO</td>\n",
       "    </tr>\n",
       "    <tr>\n",
       "      <th>4</th>\n",
       "      <td>Wild Obsessions Eyeshadow Palette</td>\n",
       "      <td>Python</td>\n",
       "      <td>ADD TO BAG</td>\n",
       "      <td>None</td>\n",
       "      <td>https://hudabeauty.com/us/en_US/eyeshadow/wild...</td>\n",
       "      <td>SOMBRAS DE OJOS</td>\n",
       "      <td>PRIMAVERA / OTOÑO / INVIERNO</td>\n",
       "    </tr>\n",
       "    <tr>\n",
       "      <th>5</th>\n",
       "      <td>Wild Obsessions Eyeshadow Palette</td>\n",
       "      <td>Chameleon</td>\n",
       "      <td>ADD TO BAG</td>\n",
       "      <td>None</td>\n",
       "      <td>https://hudabeauty.com/us/en_US/eyeshadow/wild...</td>\n",
       "      <td>SOMBRAS DE OJOS</td>\n",
       "      <td>VERANO / OTOÑO</td>\n",
       "    </tr>\n",
       "    <tr>\n",
       "      <th>6</th>\n",
       "      <td>Matte Basics Melted Shadows</td>\n",
       "      <td>Black &amp; White</td>\n",
       "      <td>ADD TO BAG</td>\n",
       "      <td>None</td>\n",
       "      <td>https://hudabeauty.com/us/en_US/cyber-week-sal...</td>\n",
       "      <td>SOMBRAS DE OJOS</td>\n",
       "      <td>VERANO / OTOÑO / INVIERNO</td>\n",
       "    </tr>\n",
       "    <tr>\n",
       "      <th>7</th>\n",
       "      <td>Color Block Obsessions Palette</td>\n",
       "      <td>Purple &amp; Orange</td>\n",
       "      <td>ADD TO BAG</td>\n",
       "      <td>None</td>\n",
       "      <td>https://hudabeauty.com/us/en_US/50-off/color-b...</td>\n",
       "      <td>SOMBRAS DE OJOS</td>\n",
       "      <td>TODAS</td>\n",
       "    </tr>\n",
       "    <tr>\n",
       "      <th>8</th>\n",
       "      <td>Rose Quartz Eyeshadow Palette</td>\n",
       "      <td>ADD TO BAG</td>\n",
       "      <td>$67.00</td>\n",
       "      <td>None</td>\n",
       "      <td>https://hudabeauty.com/us/en_US/eyeshadow/rose...</td>\n",
       "      <td>SOMBRAS DE OJOS</td>\n",
       "      <td>VERANO</td>\n",
       "    </tr>\n",
       "    <tr>\n",
       "      <th>9</th>\n",
       "      <td>NUDE Obsessions Eyeshadow Palette</td>\n",
       "      <td>Light</td>\n",
       "      <td>ADD TO BAG</td>\n",
       "      <td>None</td>\n",
       "      <td>https://hudabeauty.com/us/en_US/eyeshadow/nude...</td>\n",
       "      <td>SOMBRAS DE OJOS</td>\n",
       "      <td>PRIMAVERA</td>\n",
       "    </tr>\n",
       "    <tr>\n",
       "      <th>10</th>\n",
       "      <td>Mini Matte &amp; Metal Melted Shadows</td>\n",
       "      <td>Soft Pinks</td>\n",
       "      <td>ADD TO BAG</td>\n",
       "      <td>$13.80</td>\n",
       "      <td>https://hudabeauty.com/us/en_US/sale/mini-melt...</td>\n",
       "      <td>SOMBRAS DE OJOS</td>\n",
       "      <td>PRIMAVERA / OTOÑO</td>\n",
       "    </tr>\n",
       "    <tr>\n",
       "      <th>11</th>\n",
       "      <td>Empowered Eyeshadow Palette</td>\n",
       "      <td>ADD TO BAG</td>\n",
       "      <td>$67.00</td>\n",
       "      <td>None</td>\n",
       "      <td>https://hudabeauty.com/us/en_US/eyeshadow/empo...</td>\n",
       "      <td>SOMBRAS DE OJOS</td>\n",
       "      <td>PRIMAVERA</td>\n",
       "    </tr>\n",
       "    <tr>\n",
       "      <th>12</th>\n",
       "      <td>NUDE Obsessions Eyeshadow Palette</td>\n",
       "      <td>Medium</td>\n",
       "      <td>ADD TO BAG</td>\n",
       "      <td>None</td>\n",
       "      <td>https://hudabeauty.com/us/en_US/eyeshadow/nude...</td>\n",
       "      <td>SOMBRAS DE OJOS</td>\n",
       "      <td>OTOÑO / INVIERNO</td>\n",
       "    </tr>\n",
       "    <tr>\n",
       "      <th>13</th>\n",
       "      <td>The New Nude Eyeshadow Palette</td>\n",
       "      <td>ADD TO BAG</td>\n",
       "      <td>$65.00</td>\n",
       "      <td>None</td>\n",
       "      <td>https://hudabeauty.com/us/en_US/eyeshadow/the-...</td>\n",
       "      <td>SOMBRAS DE OJOS</td>\n",
       "      <td>PRIMAVERA / OTOÑO</td>\n",
       "    </tr>\n",
       "    <tr>\n",
       "      <th>14</th>\n",
       "      <td>Lovefest Obsessions Eyeshadow Palette</td>\n",
       "      <td>ADD TO BAG</td>\n",
       "      <td>$29.00</td>\n",
       "      <td>None</td>\n",
       "      <td>https://hudabeauty.com/us/en_US/eyeshadow/love...</td>\n",
       "      <td>SOMBRAS DE OJOS</td>\n",
       "      <td>PRIMAVERA</td>\n",
       "    </tr>\n",
       "    <tr>\n",
       "      <th>15</th>\n",
       "      <td>Mini Matte &amp; Metal Melted Shadows</td>\n",
       "      <td>Warm Browns</td>\n",
       "      <td>ADD TO BAG</td>\n",
       "      <td>$13.80</td>\n",
       "      <td>https://hudabeauty.com/us/en_US/sale/mini-melt...</td>\n",
       "      <td>SOMBRAS DE OJOS</td>\n",
       "      <td>OTOÑO / INVIERNO</td>\n",
       "    </tr>\n",
       "    <tr>\n",
       "      <th>16</th>\n",
       "      <td>Haze Obsessions Eyeshadow Palette</td>\n",
       "      <td>Khaki</td>\n",
       "      <td>ADD TO BAG</td>\n",
       "      <td>$17.40</td>\n",
       "      <td>https://hudabeauty.com/us/en_US/60-off/haze-ob...</td>\n",
       "      <td>SOMBRAS DE OJOS</td>\n",
       "      <td>PRIMAVERA / VERANO / OTOÑO</td>\n",
       "    </tr>\n",
       "    <tr>\n",
       "      <th>17</th>\n",
       "      <td>Haze Obsessions Eyeshadow Palette</td>\n",
       "      <td>Sand</td>\n",
       "      <td>ADD TO BAG</td>\n",
       "      <td>$17.40</td>\n",
       "      <td>https://hudabeauty.com/us/en_US/60-off/haze-ob...</td>\n",
       "      <td>SOMBRAS DE OJOS</td>\n",
       "      <td>OTOÑO / PRIMAVERA</td>\n",
       "    </tr>\n",
       "    <tr>\n",
       "      <th>18</th>\n",
       "      <td>Matte &amp; Metal Melted Double Ended Liquid Eyesh...</td>\n",
       "      <td>French Lace &amp; Diamond Drip</td>\n",
       "      <td>ADD TO BAG</td>\n",
       "      <td>None</td>\n",
       "      <td>https://hudabeauty.com/us/en_US/cyber-week-sal...</td>\n",
       "      <td>SOMBRAS DE OJOS</td>\n",
       "      <td>TODAS</td>\n",
       "    </tr>\n",
       "    <tr>\n",
       "      <th>19</th>\n",
       "      <td>Brown Obsessions Eyeshadow Palettes</td>\n",
       "      <td>Toffee</td>\n",
       "      <td>SOLD OUT</td>\n",
       "      <td>None</td>\n",
       "      <td>https://hudabeauty.com/us/en_US/eyeshadow/toff...</td>\n",
       "      <td>SOMBRAS DE OJOS</td>\n",
       "      <td>OTOÑO / VERANO</td>\n",
       "    </tr>\n",
       "    <tr>\n",
       "      <th>20</th>\n",
       "      <td>Color Block Obsessions Palette</td>\n",
       "      <td>Blue &amp; Green</td>\n",
       "      <td>SOLD OUT</td>\n",
       "      <td>None</td>\n",
       "      <td>https://hudabeauty.com/us/en_US/50-off/color-b...</td>\n",
       "      <td>SOMBRAS DE OJOS</td>\n",
       "      <td>VERANO</td>\n",
       "    </tr>\n",
       "  </tbody>\n",
       "</table>\n",
       "</div>"
      ],
      "text/plain": [
       "                                               NOMBRE  \\\n",
       "0                      Naughty Nude Eyeshadow Palette   \n",
       "1                   Haze Obsessions Eyeshadow Palette   \n",
       "2                   Wild Obsessions Eyeshadow Palette   \n",
       "3                   NUDE Obsessions Eyeshadow Palette   \n",
       "4                   Wild Obsessions Eyeshadow Palette   \n",
       "5                   Wild Obsessions Eyeshadow Palette   \n",
       "6                         Matte Basics Melted Shadows   \n",
       "7                      Color Block Obsessions Palette   \n",
       "8                       Rose Quartz Eyeshadow Palette   \n",
       "9                   NUDE Obsessions Eyeshadow Palette   \n",
       "10                  Mini Matte & Metal Melted Shadows   \n",
       "11                        Empowered Eyeshadow Palette   \n",
       "12                  NUDE Obsessions Eyeshadow Palette   \n",
       "13                     The New Nude Eyeshadow Palette   \n",
       "14              Lovefest Obsessions Eyeshadow Palette   \n",
       "15                  Mini Matte & Metal Melted Shadows   \n",
       "16                  Haze Obsessions Eyeshadow Palette   \n",
       "17                  Haze Obsessions Eyeshadow Palette   \n",
       "18  Matte & Metal Melted Double Ended Liquid Eyesh...   \n",
       "19                Brown Obsessions Eyeshadow Palettes   \n",
       "20                     Color Block Obsessions Palette   \n",
       "\n",
       "                          TIPO       COLOR  PRECIO  \\\n",
       "0                   ADD TO BAG      $67.00    None   \n",
       "1                       Purple  ADD TO BAG  $17.40   \n",
       "2                        Tiger  ADD TO BAG    None   \n",
       "3                         Rich  ADD TO BAG    None   \n",
       "4                       Python  ADD TO BAG    None   \n",
       "5                    Chameleon  ADD TO BAG    None   \n",
       "6                Black & White  ADD TO BAG    None   \n",
       "7              Purple & Orange  ADD TO BAG    None   \n",
       "8                   ADD TO BAG      $67.00    None   \n",
       "9                        Light  ADD TO BAG    None   \n",
       "10                  Soft Pinks  ADD TO BAG  $13.80   \n",
       "11                  ADD TO BAG      $67.00    None   \n",
       "12                      Medium  ADD TO BAG    None   \n",
       "13                  ADD TO BAG      $65.00    None   \n",
       "14                  ADD TO BAG      $29.00    None   \n",
       "15                 Warm Browns  ADD TO BAG  $13.80   \n",
       "16                       Khaki  ADD TO BAG  $17.40   \n",
       "17                        Sand  ADD TO BAG  $17.40   \n",
       "18  French Lace & Diamond Drip  ADD TO BAG    None   \n",
       "19                      Toffee    SOLD OUT    None   \n",
       "20                Blue & Green    SOLD OUT    None   \n",
       "\n",
       "                                                LINKS         PRODUCTO  \\\n",
       "0   https://hudabeauty.com/us/en_US/eyeshadow/naug...  SOMBRAS DE OJOS   \n",
       "1   https://hudabeauty.com/us/en_US/60-off/haze-ob...  SOMBRAS DE OJOS   \n",
       "2   https://hudabeauty.com/us/en_US/eyeshadow/wild...  SOMBRAS DE OJOS   \n",
       "3   https://hudabeauty.com/us/en_US/eyeshadow/nude...  SOMBRAS DE OJOS   \n",
       "4   https://hudabeauty.com/us/en_US/eyeshadow/wild...  SOMBRAS DE OJOS   \n",
       "5   https://hudabeauty.com/us/en_US/eyeshadow/wild...  SOMBRAS DE OJOS   \n",
       "6   https://hudabeauty.com/us/en_US/cyber-week-sal...  SOMBRAS DE OJOS   \n",
       "7   https://hudabeauty.com/us/en_US/50-off/color-b...  SOMBRAS DE OJOS   \n",
       "8   https://hudabeauty.com/us/en_US/eyeshadow/rose...  SOMBRAS DE OJOS   \n",
       "9   https://hudabeauty.com/us/en_US/eyeshadow/nude...  SOMBRAS DE OJOS   \n",
       "10  https://hudabeauty.com/us/en_US/sale/mini-melt...  SOMBRAS DE OJOS   \n",
       "11  https://hudabeauty.com/us/en_US/eyeshadow/empo...  SOMBRAS DE OJOS   \n",
       "12  https://hudabeauty.com/us/en_US/eyeshadow/nude...  SOMBRAS DE OJOS   \n",
       "13  https://hudabeauty.com/us/en_US/eyeshadow/the-...  SOMBRAS DE OJOS   \n",
       "14  https://hudabeauty.com/us/en_US/eyeshadow/love...  SOMBRAS DE OJOS   \n",
       "15  https://hudabeauty.com/us/en_US/sale/mini-melt...  SOMBRAS DE OJOS   \n",
       "16  https://hudabeauty.com/us/en_US/60-off/haze-ob...  SOMBRAS DE OJOS   \n",
       "17  https://hudabeauty.com/us/en_US/60-off/haze-ob...  SOMBRAS DE OJOS   \n",
       "18  https://hudabeauty.com/us/en_US/cyber-week-sal...  SOMBRAS DE OJOS   \n",
       "19  https://hudabeauty.com/us/en_US/eyeshadow/toff...  SOMBRAS DE OJOS   \n",
       "20  https://hudabeauty.com/us/en_US/50-off/color-b...  SOMBRAS DE OJOS   \n",
       "\n",
       "                         PALETAS  \n",
       "0   PRIMAVERA / OTOÑO / INVIERNO  \n",
       "1              PRIMAVERA / OTOÑO  \n",
       "2              PRIMAVERA / OTOÑO  \n",
       "3               OTOÑO / INVIERNO  \n",
       "4   PRIMAVERA / OTOÑO / INVIERNO  \n",
       "5                 VERANO / OTOÑO  \n",
       "6      VERANO / OTOÑO / INVIERNO  \n",
       "7                          TODAS  \n",
       "8                         VERANO  \n",
       "9                      PRIMAVERA  \n",
       "10             PRIMAVERA / OTOÑO  \n",
       "11                     PRIMAVERA  \n",
       "12              OTOÑO / INVIERNO  \n",
       "13             PRIMAVERA / OTOÑO  \n",
       "14                     PRIMAVERA  \n",
       "15              OTOÑO / INVIERNO  \n",
       "16    PRIMAVERA / VERANO / OTOÑO  \n",
       "17             OTOÑO / PRIMAVERA  \n",
       "18                         TODAS  \n",
       "19                OTOÑO / VERANO  \n",
       "20                        VERANO  "
      ]
     },
     "execution_count": 43,
     "metadata": {},
     "output_type": "execute_result"
    }
   ],
   "source": [
    "sombras_hb #limpiar color y precio"
   ]
  },
  {
   "cell_type": "code",
   "execution_count": 44,
   "id": "ed04f3e4",
   "metadata": {},
   "outputs": [],
   "source": [
    "#LABIOS\n",
    "def extraer(URL):\n",
    "    driver = webdriver.Chrome(PATH)\n",
    "    driver.get(URL)\n",
    "    \n",
    "    driver.execute_script('window.scrollTo(0, 3000);')  # 200px de scroll\n",
    "    \n",
    "    time.sleep(5)\n",
    "    \n",
    "    filas = driver.find_elements(By.CLASS_NAME, 'tile-body')\n",
    "    link = driver.find_elements(By.CLASS_NAME, 'link')\n",
    "    tmp = []\n",
    "    links = []\n",
    "\n",
    "    for e in filas:\n",
    "        tmp.append(e.text.split('\\n'))\n",
    "    \n",
    "    for e in link:\n",
    "        links.append(e.get_attribute('href'))\n",
    "    \n",
    "    cols = ['NOMBRE', 'TIPO', 'COLOR', 'PRECIO ANT', 'PRECIO', 'x']\n",
    "    \n",
    "    total = pd.DataFrame(tmp, columns = cols)\n",
    "    \n",
    "    total['LINKS'] = links\n",
    "    total['PRODUCTO'] = 'SOMBRAS DE OJOS'\n",
    "    total.drop(['PRECIO ANT'], axis = 1, inplace = True)\n",
    "    \n",
    "    \n",
    "    driver.quit()\n",
    "     \n",
    "    return total"
   ]
  },
  {
   "cell_type": "code",
   "execution_count": 45,
   "id": "59653383",
   "metadata": {},
   "outputs": [],
   "source": [
    "URL = 'https://hudabeauty.com/us/en_US/makeup/lips'"
   ]
  },
  {
   "cell_type": "code",
   "execution_count": 46,
   "id": "516bf708",
   "metadata": {},
   "outputs": [
    {
     "name": "stderr",
     "output_type": "stream",
     "text": [
      "2022-12-12 11:02:30,120 [48607] WARNING  py.warnings:109: [JupyterRequire] /var/folders/fg/hm_rz3k53fv5qf5dywc0bfwr0000gn/T/ipykernel_48607/368865392.py:3: DeprecationWarning: executable_path has been deprecated, please pass in a Service object\n",
      "  driver = webdriver.Chrome(PATH)\n",
      "\n"
     ]
    }
   ],
   "source": [
    "pintalabios_hb = extraer(URL)"
   ]
  },
  {
   "cell_type": "code",
   "execution_count": 47,
   "id": "73a77a10",
   "metadata": {},
   "outputs": [],
   "source": [
    "#BLUSH\n",
    "def extraer(URL):\n",
    "    driver = webdriver.Chrome(PATH)\n",
    "    driver.get(URL)\n",
    "    \n",
    "    driver.execute_script('window.scrollTo(0, 3000);')  # 200px de scroll\n",
    "    time.sleep(5)\n",
    "    \n",
    "    filas = driver.find_elements(By.CLASS_NAME, 'tile-body')\n",
    "    link = driver.find_elements(By.CLASS_NAME, 'link')\n",
    "    tmp = []\n",
    "    links = []\n",
    "\n",
    "    for e in filas:\n",
    "        tmp.append(e.text.split('\\n'))\n",
    "    \n",
    "    for e in link:\n",
    "        links.append(e.get_attribute('href'))\n",
    "    \n",
    "    cols = ['NOMBRE', 'TIPO', 'COLOR', 'PRECIO ANT', 'PRECIO', 'x']\n",
    "    \n",
    "    total = pd.DataFrame(tmp, columns = cols)\n",
    "    \n",
    "    total['LINKS'] = links\n",
    "    total['PRODUCTO'] = 'SOMBRAS DE OJOS'\n",
    "    total.drop(['PRECIO ANT'], axis = 1, inplace = True)\n",
    "    \n",
    "    \n",
    "    driver.quit()\n",
    "     \n",
    "    return total"
   ]
  },
  {
   "cell_type": "code",
   "execution_count": 48,
   "id": "b77db7fb",
   "metadata": {},
   "outputs": [],
   "source": [
    "URL = 'https://hudabeauty.com/us/en_US/cheek/blush'"
   ]
  },
  {
   "cell_type": "code",
   "execution_count": 49,
   "id": "6d307d08",
   "metadata": {},
   "outputs": [
    {
     "name": "stderr",
     "output_type": "stream",
     "text": [
      "2022-12-12 11:03:08,364 [48607] WARNING  py.warnings:109: [JupyterRequire] /var/folders/fg/hm_rz3k53fv5qf5dywc0bfwr0000gn/T/ipykernel_48607/2819391843.py:3: DeprecationWarning: executable_path has been deprecated, please pass in a Service object\n",
      "  driver = webdriver.Chrome(PATH)\n",
      "\n"
     ]
    }
   ],
   "source": [
    "labios_ud = extraer(URL)"
   ]
  },
  {
   "cell_type": "code",
   "execution_count": 50,
   "id": "fba7038f",
   "metadata": {},
   "outputs": [
    {
     "data": {
      "text/html": [
       "<div>\n",
       "<style scoped>\n",
       "    .dataframe tbody tr th:only-of-type {\n",
       "        vertical-align: middle;\n",
       "    }\n",
       "\n",
       "    .dataframe tbody tr th {\n",
       "        vertical-align: top;\n",
       "    }\n",
       "\n",
       "    .dataframe thead th {\n",
       "        text-align: right;\n",
       "    }\n",
       "</style>\n",
       "<table border=\"1\" class=\"dataframe\">\n",
       "  <thead>\n",
       "    <tr style=\"text-align: right;\">\n",
       "      <th></th>\n",
       "      <th>NOMBRE</th>\n",
       "      <th>TIPO</th>\n",
       "      <th>COLOR</th>\n",
       "      <th>PRECIO</th>\n",
       "      <th>x</th>\n",
       "      <th>LINKS</th>\n",
       "      <th>PRODUCTO</th>\n",
       "    </tr>\n",
       "  </thead>\n",
       "  <tbody>\n",
       "    <tr>\n",
       "      <th>0</th>\n",
       "      <td>Cheeky Tint Blush Stick</td>\n",
       "      <td>Perky Peach</td>\n",
       "      <td>ADD TO BAG</td>\n",
       "      <td>None</td>\n",
       "      <td>None</td>\n",
       "      <td>https://hudabeauty.com/us/en_US/cyber-week-sal...</td>\n",
       "      <td>SOMBRAS DE OJOS</td>\n",
       "    </tr>\n",
       "    <tr>\n",
       "      <th>1</th>\n",
       "      <td>GloWish Cheeky Vegan Blush Powder</td>\n",
       "      <td>06 Sassy Saffron</td>\n",
       "      <td>ADD TO BAG</td>\n",
       "      <td>None</td>\n",
       "      <td>None</td>\n",
       "      <td>https://hudabeauty.com/us/en_US/cyber-week-sal...</td>\n",
       "      <td>SOMBRAS DE OJOS</td>\n",
       "    </tr>\n",
       "    <tr>\n",
       "      <th>2</th>\n",
       "      <td>Lovefest Cream Blush</td>\n",
       "      <td>Burning Cherry</td>\n",
       "      <td>ADD TO BAG</td>\n",
       "      <td>None</td>\n",
       "      <td>None</td>\n",
       "      <td>https://hudabeauty.com/us/en_US/cyber-week-sal...</td>\n",
       "      <td>SOMBRAS DE OJOS</td>\n",
       "    </tr>\n",
       "    <tr>\n",
       "      <th>3</th>\n",
       "      <td>ONLINE EXCLUSIVE</td>\n",
       "      <td>N.Y.M.P.H. KISS Glow Blush</td>\n",
       "      <td>40% SAVINGS</td>\n",
       "      <td>$39.00</td>\n",
       "      <td>$23.40</td>\n",
       "      <td>https://hudabeauty.com/us/en_US/blush/n.y.m.p....</td>\n",
       "      <td>SOMBRAS DE OJOS</td>\n",
       "    </tr>\n",
       "  </tbody>\n",
       "</table>\n",
       "</div>"
      ],
      "text/plain": [
       "                              NOMBRE                        TIPO        COLOR  \\\n",
       "0            Cheeky Tint Blush Stick                 Perky Peach   ADD TO BAG   \n",
       "1  GloWish Cheeky Vegan Blush Powder            06 Sassy Saffron   ADD TO BAG   \n",
       "2               Lovefest Cream Blush              Burning Cherry   ADD TO BAG   \n",
       "3                   ONLINE EXCLUSIVE  N.Y.M.P.H. KISS Glow Blush  40% SAVINGS   \n",
       "\n",
       "   PRECIO       x                                              LINKS  \\\n",
       "0    None    None  https://hudabeauty.com/us/en_US/cyber-week-sal...   \n",
       "1    None    None  https://hudabeauty.com/us/en_US/cyber-week-sal...   \n",
       "2    None    None  https://hudabeauty.com/us/en_US/cyber-week-sal...   \n",
       "3  $39.00  $23.40  https://hudabeauty.com/us/en_US/blush/n.y.m.p....   \n",
       "\n",
       "          PRODUCTO  \n",
       "0  SOMBRAS DE OJOS  \n",
       "1  SOMBRAS DE OJOS  \n",
       "2  SOMBRAS DE OJOS  \n",
       "3  SOMBRAS DE OJOS  "
      ]
     },
     "execution_count": 50,
     "metadata": {},
     "output_type": "execute_result"
    }
   ],
   "source": [
    "labios_ud"
   ]
  },
  {
   "cell_type": "markdown",
   "id": "ac1c660f",
   "metadata": {},
   "source": [
    "# **4 - EXTRACCIÓN DE DATOS DE SOMBRAS,  COLORETES Y PINTALABIOS DE KIKO MILANO**"
   ]
  },
  {
   "cell_type": "code",
   "execution_count": 51,
   "id": "793e25d7",
   "metadata": {},
   "outputs": [
    {
     "name": "stderr",
     "output_type": "stream",
     "text": [
      "2022-12-12 11:03:35,973 [48607] WARNING  py.warnings:109: [JupyterRequire] /var/folders/fg/hm_rz3k53fv5qf5dywc0bfwr0000gn/T/ipykernel_48607/91254812.py:3: DeprecationWarning: executable_path has been deprecated, please pass in a Service object\n",
      "  driver=webdriver.Chrome(PATH)\n",
      "\n"
     ]
    }
   ],
   "source": [
    "PATH=ChromeDriverManager().install()\n",
    "\n",
    "driver=webdriver.Chrome(PATH) "
   ]
  },
  {
   "cell_type": "code",
   "execution_count": 52,
   "id": "2647f9ba",
   "metadata": {},
   "outputs": [],
   "source": [
    "URL = 'https://www.kikocosmetics.com/es-es/maquillaje/labios.html'"
   ]
  },
  {
   "cell_type": "code",
   "execution_count": 53,
   "id": "b4f3373d",
   "metadata": {},
   "outputs": [],
   "source": [
    "driver.get(URL)"
   ]
  },
  {
   "cell_type": "code",
   "execution_count": 54,
   "id": "6afbdc75",
   "metadata": {},
   "outputs": [],
   "source": [
    "#Investigamos cómo scrappear la página de KIKO MILANO para poder sacar los productos y los precios\n",
    "nombres = driver.find_elements(By.CLASS_NAME, 'ProductBox__Title')\n",
    "precio = driver.find_elements(By.CLASS_NAME, 'js-new-price')\n",
    "link2 =  driver.find_elements(By.PARTIAL_LINK_TEXT, 'Palette')"
   ]
  },
  {
   "cell_type": "code",
   "execution_count": 241,
   "id": "f86c9835",
   "metadata": {},
   "outputs": [],
   "source": [
    "#BLUSH Y SOMBRAS\n",
    "def extraer(URL):\n",
    "    driver = webdriver.Chrome(PATH)\n",
    "    driver.get(URL)\n",
    "    \n",
    "    driver.find_element(By.XPATH, '//*[@id=\"iubenda-cs-banner\"]/div/div/div/div[3]/div[2]/button[2]').click()\n",
    "    time.sleep(5)\n",
    "    driver.execute_script('window.scrollTo(0, 3000);')  # 200px de scroll\n",
    "    time.sleep(5)\n",
    "    \n",
    "    nombre = driver.find_elements(By.CLASS_NAME, 'ProductBox__Title')\n",
    "    precio = driver.find_elements(By.CLASS_NAME, 'js-new-price')\n",
    "    link =  driver.find_elements(By.PARTIAL_LINK_TEXT, 'Palette')\n",
    "    \n",
    "    tmp = []\n",
    "    precios = []\n",
    "    links = []\n",
    "    \n",
    "\n",
    "    for e in nombre:\n",
    "        tmp.append(e.text.split('\\n'))\n",
    "    \n",
    "    for e in precio:\n",
    "        precios.append(e.text)\n",
    "    \n",
    "    for e in link:\n",
    "        links.append(e.get_attribute('href'))\n",
    "    \n",
    "    cols = ['NOMBRE']\n",
    "    \n",
    "    total = pd.DataFrame(tmp, columns = cols)\n",
    "    \n",
    "    precios.remove('')\n",
    "    precios.remove('')\n",
    "    \n",
    "    total['PRECIO'] = precios\n",
    "    total['LINKS'] = links\n",
    "    total['PRODUCTO'] = 'SOMBRAS DE OJOS'\n",
    "    \n",
    "    \n",
    "    driver.quit()\n",
    "     \n",
    "    return total"
   ]
  },
  {
   "cell_type": "code",
   "execution_count": 242,
   "id": "4ddfb4fb",
   "metadata": {},
   "outputs": [],
   "source": [
    "URL = 'https://www.kikocosmetics.com/es-es/maquillaje/paletas/paleta-de-ojos.html'"
   ]
  },
  {
   "cell_type": "code",
   "execution_count": 243,
   "id": "2d20e44c",
   "metadata": {
    "scrolled": false
   },
   "outputs": [
    {
     "name": "stderr",
     "output_type": "stream",
     "text": [
      "2022-12-12 13:45:54,438 [48607] WARNING  py.warnings:109: [JupyterRequire] /var/folders/fg/hm_rz3k53fv5qf5dywc0bfwr0000gn/T/ipykernel_48607/3280125201.py:3: DeprecationWarning: executable_path has been deprecated, please pass in a Service object\n",
      "  driver = webdriver.Chrome(PATH)\n",
      "\n"
     ]
    }
   ],
   "source": [
    "sombras_kiko = extraer(URL) #CUÁLES SOMBRAS Y CUÁLES BLUSH?"
   ]
  },
  {
   "cell_type": "code",
   "execution_count": 244,
   "id": "48ab6461",
   "metadata": {
    "scrolled": true
   },
   "outputs": [
    {
     "data": {
      "text/plain": [
       "(28, 4)"
      ]
     },
     "execution_count": 244,
     "metadata": {},
     "output_type": "execute_result"
    }
   ],
   "source": [
    "sombras_kiko.shape"
   ]
  },
  {
   "cell_type": "code",
   "execution_count": 245,
   "id": "f28486ac",
   "metadata": {},
   "outputs": [],
   "source": [
    "paletas = ['PRIMAVERA / OTOÑO', 'TODAS', 'TODAS', 'TODAS', 'TODAS', 'TODAS', 'TODAS', 'TODAS', 'TODAS', 'TODAS','TODAS',\\\n",
    "          'TODAS', 'TODAS', 'PRIMAVERA / VERANO', 'PRIMAVERA / VERANO / OTOÑO', 'INVIERNO / OTOÑO', 'INVIERNO / OTOÑO', \\\n",
    "          'INVIERNO / OTOÑO', 'PRIMAVERA / OTOÑO', 'PRIMAVERA / OTOÑO / INVIERNO', 'TODAS', 'PRIMAVERA / OTOÑO / INVIERNO',\\\n",
    "          'PRIMAVERA / OTOÑO / INVIERNO', 'TODAS', 'PRIMAVERA / VERANO', 'PRIMAVERA / VERANO', 'TODAS', 'TODAS']\n",
    "sombras_kiko['PALETAS'] = paletas"
   ]
  },
  {
   "cell_type": "code",
   "execution_count": 249,
   "id": "33a06347",
   "metadata": {},
   "outputs": [],
   "source": [
    "sombras_kiko.at[26, 'PRODUCTO'] = 'COLORETE'\n",
    "sombras_kiko.at[27, 'PRODUCTO'] = 'COLORETE'"
   ]
  },
  {
   "cell_type": "code",
   "execution_count": 58,
   "id": "5ce15af2",
   "metadata": {},
   "outputs": [],
   "source": [
    "#PINTALABIOS\n",
    "def extraer(URL):\n",
    "    driver = webdriver.Chrome(PATH)\n",
    "    driver.get(URL)\n",
    "    \n",
    "    driver.execute_script('window.scrollTo(0, 2000);')  # 200px de scroll\n",
    "    \n",
    "    nombre = driver.find_elements(By.CLASS_NAME, 'ProductBox__Title')\n",
    "    precio = driver.find_elements(By.CLASS_NAME, 'js-new-price')\n",
    "    link =  driver.find_elements(By.PARTIAL_LINK_TEXT, 'Lip')\n",
    "    link2 =  driver.find_elements(By.PARTIAL_LINK_TEXT, 'Unlimited')\n",
    "    link3 =  driver.find_elements(By.PARTIAL_LINK_TEXT, 'Stick')\n",
    "    link4 = driver.find_elements(By.PARTIAL_LINK_TEXT, 'Pearly')\n",
    "    link5 = driver.find_elements(By.PARTIAL_LINK_TEXT, 'Jelly')\n",
    "    \n",
    "    tmp = []\n",
    "    precios = []\n",
    "    links = []\n",
    "    \n",
    "\n",
    "    for e in nombre:\n",
    "        tmp.append(e.text.split('\\n'))\n",
    "    \n",
    "    for e in precio:\n",
    "        precios.append(e.text)\n",
    "    \n",
    "    for e in link:\n",
    "        links.append(e.get_attribute('href'))\n",
    "    \n",
    "    for e in link2:\n",
    "        links.append(e.get_attribute('href'))\n",
    "    \n",
    "    for e in link3:\n",
    "        links.append(e.get_attribute('href'))\n",
    "    \n",
    "    for e in link4:\n",
    "        links.append(e.get_attribute('href'))\n",
    "    \n",
    "    for e in link5:\n",
    "        links.append(e.get_attribute('href'))\n",
    "    \n",
    "    \n",
    "    cols = ['NOMBRE']\n",
    "    \n",
    "    total = pd.DataFrame(tmp, columns = cols)\n",
    "    \n",
    "    precios.remove('')\n",
    "    precios.remove('')\n",
    "    precios.remove('')\n",
    "    precios.remove('')\n",
    "    precios.remove('')\n",
    "    precios.remove('')\n",
    "    precios.remove('')\n",
    "    precios.remove('')\n",
    "    precios.remove('')\n",
    "    \n",
    "    total['PRECIO'] = precios\n",
    "    total['LINKS'] = links\n",
    "    total['PRODUCTO'] = 'PINTALABIOS'\n",
    "    \n",
    "    \n",
    "    driver.quit()\n",
    "     \n",
    "    return total"
   ]
  },
  {
   "cell_type": "code",
   "execution_count": 59,
   "id": "4b88631a",
   "metadata": {},
   "outputs": [],
   "source": [
    "URL = 'https://www.kikocosmetics.com/es-es/maquillaje/labios.html'"
   ]
  },
  {
   "cell_type": "code",
   "execution_count": 60,
   "id": "72b448af",
   "metadata": {},
   "outputs": [
    {
     "name": "stderr",
     "output_type": "stream",
     "text": [
      "2022-12-12 11:04:04,420 [48607] WARNING  py.warnings:109: [JupyterRequire] /var/folders/fg/hm_rz3k53fv5qf5dywc0bfwr0000gn/T/ipykernel_48607/1661189169.py:3: DeprecationWarning: executable_path has been deprecated, please pass in a Service object\n",
      "  driver = webdriver.Chrome(PATH)\n",
      "\n"
     ]
    }
   ],
   "source": [
    "labios_kiko = extraer(URL)"
   ]
  },
  {
   "cell_type": "code",
   "execution_count": 251,
   "id": "a2498c91",
   "metadata": {},
   "outputs": [],
   "source": [
    "labios_kiko['PALETAS'] = 'TODAS'"
   ]
  },
  {
   "cell_type": "markdown",
   "id": "28071296",
   "metadata": {},
   "source": [
    "# 5 - EXTRACCIÓN DE DATOS DE PINTALABIOS DE KAT VON D"
   ]
  },
  {
   "cell_type": "code",
   "execution_count": 62,
   "id": "79dffd15",
   "metadata": {},
   "outputs": [
    {
     "name": "stderr",
     "output_type": "stream",
     "text": [
      "2022-12-12 11:04:22,654 [48607] WARNING  py.warnings:109: [JupyterRequire] /var/folders/fg/hm_rz3k53fv5qf5dywc0bfwr0000gn/T/ipykernel_48607/1981730666.py:3: DeprecationWarning: executable_path has been deprecated, please pass in a Service object\n",
      "  driver=webdriver.Chrome(PATH)\n",
      "\n"
     ]
    }
   ],
   "source": [
    "PATH=ChromeDriverManager().install()\n",
    "\n",
    "driver=webdriver.Chrome(PATH)"
   ]
  },
  {
   "cell_type": "code",
   "execution_count": 63,
   "id": "026d486a",
   "metadata": {},
   "outputs": [],
   "source": [
    "URL = 'https://kvdveganbeauty.com/collections/lip'"
   ]
  },
  {
   "cell_type": "code",
   "execution_count": 64,
   "id": "f37fd310",
   "metadata": {},
   "outputs": [],
   "source": [
    "driver.get(URL)"
   ]
  },
  {
   "cell_type": "code",
   "execution_count": 65,
   "id": "70d76f8b",
   "metadata": {},
   "outputs": [],
   "source": [
    "nombres = driver.find_elements(By.CLASS_NAME, 'product-card__name')\n",
    "precios = driver.find_elements(By.CLASS_NAME, 'product-card__price')"
   ]
  },
  {
   "cell_type": "code",
   "execution_count": 66,
   "id": "998f4a5b",
   "metadata": {},
   "outputs": [],
   "source": [
    "lista = []\n",
    "for e in nombres:\n",
    "    lista.append(e.text)"
   ]
  },
  {
   "cell_type": "code",
   "execution_count": 67,
   "id": "ba39e59c",
   "metadata": {},
   "outputs": [
    {
     "data": {
      "text/plain": [
       "['Everlasting Hyperlight Transfer-Proof Liquid Lipstick',\n",
       " 'Epic Kiss Nourishing Vegan Butter Lipstick',\n",
       " 'Mini Epic Kiss Nourishing Vegan Butter Lipstick',\n",
       " 'Studded Kiss Crème Lipstick',\n",
       " 'XO Vinyl Lip Cream Lip Gloss',\n",
       " 'XO Lip Gloss']"
      ]
     },
     "execution_count": 67,
     "metadata": {},
     "output_type": "execute_result"
    }
   ],
   "source": [
    "lista[18:24]"
   ]
  },
  {
   "cell_type": "code",
   "execution_count": 68,
   "id": "c5c2f7fc",
   "metadata": {},
   "outputs": [],
   "source": [
    "def extraer(URL):\n",
    "    driver = webdriver.Chrome(PATH)\n",
    "    driver.get(URL)\n",
    "    \n",
    "    driver.find_element(By.XPATH, '//*[@id=\"onetrust-accept-btn-handler\"]').click()\n",
    "    time.sleep(5)\n",
    "    driver.find_element(By.CLASS_NAME, 'glClose').click()\n",
    "    time.sleep(5)\n",
    "    driver.execute_script('window.scrollTo(0, 3000);')  # 200px de scroll\n",
    "    time.sleep(5)\n",
    "    \n",
    "    nombre = driver.find_elements(By.CLASS_NAME, 'product-card__name')\n",
    "    precio = driver.find_elements(By.CLASS_NAME, 'product-card__price')\n",
    "    link =  driver.find_elements(By.PARTIAL_LINK_TEXT, 'Lip')\n",
    "    \n",
    "    tmp = []\n",
    "    precios = []\n",
    "    links = []\n",
    "    \n",
    "\n",
    "    for e in nombre:\n",
    "        tmp.append(e.text.split('\\n'))\n",
    "    \n",
    "    for e in precio:\n",
    "        precios.append(e.text)\n",
    "    \n",
    "    for e in link:\n",
    "        links.append(e.get_attribute('href'))\n",
    "    \n",
    "    tmp = tmp[18:24]\n",
    "    links = links[0:6]\n",
    "    \n",
    "    \n",
    "    cols = ['NOMBRE']\n",
    "    \n",
    "    total = pd.DataFrame(tmp, columns = cols)\n",
    "\n",
    "    \n",
    "    total['PRECIO'] = precios\n",
    "    total['LINKS'] = links\n",
    "    total['PRODUCTO'] = 'PINTALABIOS'\n",
    "    \n",
    "    \n",
    "    driver.quit()\n",
    "     \n",
    "    return total"
   ]
  },
  {
   "cell_type": "code",
   "execution_count": 69,
   "id": "3c8d5e78",
   "metadata": {},
   "outputs": [],
   "source": [
    "URL = 'https://kvdveganbeauty.com/collections/lip'"
   ]
  },
  {
   "cell_type": "code",
   "execution_count": 70,
   "id": "af7f4a63",
   "metadata": {},
   "outputs": [
    {
     "name": "stderr",
     "output_type": "stream",
     "text": [
      "2022-12-12 11:04:37,936 [48607] WARNING  py.warnings:109: [JupyterRequire] /var/folders/fg/hm_rz3k53fv5qf5dywc0bfwr0000gn/T/ipykernel_48607/3548246177.py:2: DeprecationWarning: executable_path has been deprecated, please pass in a Service object\n",
      "  driver = webdriver.Chrome(PATH)\n",
      "\n"
     ]
    }
   ],
   "source": [
    "pintalabios_kvd = extraer(URL) #falta añadir las paletas"
   ]
  },
  {
   "cell_type": "code",
   "execution_count": 229,
   "id": "9d2653d5",
   "metadata": {},
   "outputs": [],
   "source": [
    "pintalabios_kvd['PALETAS'] = 'TODAS'"
   ]
  },
  {
   "cell_type": "code",
   "execution_count": 230,
   "id": "e183f517",
   "metadata": {},
   "outputs": [
    {
     "data": {
      "text/html": [
       "<div>\n",
       "<style scoped>\n",
       "    .dataframe tbody tr th:only-of-type {\n",
       "        vertical-align: middle;\n",
       "    }\n",
       "\n",
       "    .dataframe tbody tr th {\n",
       "        vertical-align: top;\n",
       "    }\n",
       "\n",
       "    .dataframe thead th {\n",
       "        text-align: right;\n",
       "    }\n",
       "</style>\n",
       "<table border=\"1\" class=\"dataframe\">\n",
       "  <thead>\n",
       "    <tr style=\"text-align: right;\">\n",
       "      <th></th>\n",
       "      <th>NOMBRE</th>\n",
       "      <th>PRECIO</th>\n",
       "      <th>LINKS</th>\n",
       "      <th>PRODUCTO</th>\n",
       "      <th>PALETAS</th>\n",
       "    </tr>\n",
       "  </thead>\n",
       "  <tbody>\n",
       "    <tr>\n",
       "      <th>0</th>\n",
       "      <td>Everlasting Hyperlight Transfer-Proof Liquid L...</td>\n",
       "      <td>€‌22.00</td>\n",
       "      <td>https://kvdveganbeauty.com/products/everlastin...</td>\n",
       "      <td>PINTALABIOS</td>\n",
       "      <td>TODAS</td>\n",
       "    </tr>\n",
       "    <tr>\n",
       "      <th>1</th>\n",
       "      <td>Epic Kiss Nourishing Vegan Butter Lipstick</td>\n",
       "      <td>€‌11.00</td>\n",
       "      <td>https://kvdveganbeauty.com/products/epic-kiss-...</td>\n",
       "      <td>PINTALABIOS</td>\n",
       "      <td>TODAS</td>\n",
       "    </tr>\n",
       "    <tr>\n",
       "      <th>2</th>\n",
       "      <td>Mini Epic Kiss Nourishing Vegan Butter Lipstick</td>\n",
       "      <td>€‌12.00</td>\n",
       "      <td>https://kvdveganbeauty.com/products/mini-epic-...</td>\n",
       "      <td>PINTALABIOS</td>\n",
       "      <td>TODAS</td>\n",
       "    </tr>\n",
       "    <tr>\n",
       "      <th>3</th>\n",
       "      <td>Studded Kiss Crème Lipstick</td>\n",
       "      <td>€‌9.95</td>\n",
       "      <td>https://kvdveganbeauty.com/products/studded-ki...</td>\n",
       "      <td>PINTALABIOS</td>\n",
       "      <td>TODAS</td>\n",
       "    </tr>\n",
       "    <tr>\n",
       "      <th>4</th>\n",
       "      <td>XO Vinyl Lip Cream Lip Gloss</td>\n",
       "      <td>€‌14.00</td>\n",
       "      <td>https://kvdveganbeauty.com/products/xo-vinyl-l...</td>\n",
       "      <td>PINTALABIOS</td>\n",
       "      <td>TODAS</td>\n",
       "    </tr>\n",
       "    <tr>\n",
       "      <th>5</th>\n",
       "      <td>XO Lip Gloss</td>\n",
       "      <td>€‌12.00</td>\n",
       "      <td>https://kvdveganbeauty.com/products/xo-lip-glo...</td>\n",
       "      <td>PINTALABIOS</td>\n",
       "      <td>TODAS</td>\n",
       "    </tr>\n",
       "  </tbody>\n",
       "</table>\n",
       "</div>"
      ],
      "text/plain": [
       "                                              NOMBRE   PRECIO  \\\n",
       "0  Everlasting Hyperlight Transfer-Proof Liquid L...  €‌22.00   \n",
       "1         Epic Kiss Nourishing Vegan Butter Lipstick  €‌11.00   \n",
       "2    Mini Epic Kiss Nourishing Vegan Butter Lipstick  €‌12.00   \n",
       "3                        Studded Kiss Crème Lipstick   €‌9.95   \n",
       "4                       XO Vinyl Lip Cream Lip Gloss  €‌14.00   \n",
       "5                                       XO Lip Gloss  €‌12.00   \n",
       "\n",
       "                                               LINKS     PRODUCTO PALETAS  \n",
       "0  https://kvdveganbeauty.com/products/everlastin...  PINTALABIOS   TODAS  \n",
       "1  https://kvdveganbeauty.com/products/epic-kiss-...  PINTALABIOS   TODAS  \n",
       "2  https://kvdveganbeauty.com/products/mini-epic-...  PINTALABIOS   TODAS  \n",
       "3  https://kvdveganbeauty.com/products/studded-ki...  PINTALABIOS   TODAS  \n",
       "4  https://kvdveganbeauty.com/products/xo-vinyl-l...  PINTALABIOS   TODAS  \n",
       "5  https://kvdveganbeauty.com/products/xo-lip-glo...  PINTALABIOS   TODAS  "
      ]
     },
     "execution_count": 230,
     "metadata": {},
     "output_type": "execute_result"
    }
   ],
   "source": [
    "pintalabios_kvd"
   ]
  },
  {
   "cell_type": "markdown",
   "id": "73683986",
   "metadata": {},
   "source": [
    "# 5 - EXTRACCIÓN DE DATOS DE COLORETES DE BENEFIT"
   ]
  },
  {
   "cell_type": "code",
   "execution_count": 71,
   "id": "33cf6cb3",
   "metadata": {},
   "outputs": [
    {
     "name": "stderr",
     "output_type": "stream",
     "text": [
      "2022-12-12 11:05:13,513 [48607] WARNING  py.warnings:109: [JupyterRequire] /var/folders/fg/hm_rz3k53fv5qf5dywc0bfwr0000gn/T/ipykernel_48607/1981730666.py:3: DeprecationWarning: executable_path has been deprecated, please pass in a Service object\n",
      "  driver=webdriver.Chrome(PATH)\n",
      "\n"
     ]
    }
   ],
   "source": [
    "PATH=ChromeDriverManager().install()\n",
    "\n",
    "driver=webdriver.Chrome(PATH)"
   ]
  },
  {
   "cell_type": "code",
   "execution_count": 72,
   "id": "7deb3dcb",
   "metadata": {},
   "outputs": [],
   "source": [
    "URL = 'https://www.benefitcosmetics.com/en-us/face/blush?page=3'"
   ]
  },
  {
   "cell_type": "code",
   "execution_count": 73,
   "id": "e605e7fd",
   "metadata": {},
   "outputs": [],
   "source": [
    "driver.get(URL)"
   ]
  },
  {
   "cell_type": "code",
   "execution_count": 74,
   "id": "9e780702",
   "metadata": {},
   "outputs": [],
   "source": [
    "nombres = driver.find_elements(By.CLASS_NAME, 'card__title')\n",
    "precios = driver.find_elements(By.CLASS_NAME, 'price')"
   ]
  },
  {
   "cell_type": "code",
   "execution_count": 75,
   "id": "b7339f29",
   "metadata": {},
   "outputs": [],
   "source": [
    "link = driver.find_elements(By.TAG_NAME, 'a')"
   ]
  },
  {
   "cell_type": "code",
   "execution_count": 76,
   "id": "9ba9dfed",
   "metadata": {},
   "outputs": [],
   "source": [
    "lista = []\n",
    "for e in link:\n",
    "    lista.append(e.get_attribute('href'))"
   ]
  },
  {
   "cell_type": "code",
   "execution_count": 77,
   "id": "a5838cd5",
   "metadata": {},
   "outputs": [
    {
     "data": {
      "text/plain": [
       "['https://www.benefitcosmetics.com/en-us/product/moone-rich-berry-blush?product=MOONE-MINI',\n",
       " 'https://www.benefitcosmetics.com/en-us/product/shellie-warm-seashell-pink-blush?product=SHELLIE-MINI',\n",
       " 'https://www.benefitcosmetics.com/en-us/product/terra-golden-brick-red-blush?product=TERRA-MINI',\n",
       " 'https://www.benefitcosmetics.com/en-us/product/peachin-golden-peach-blush?product=PEACHIN-MINI',\n",
       " 'https://www.benefitcosmetics.com/en-us/product/dandelion-brightening-finishing-powder?product=DANDELION-FULL',\n",
       " 'https://www.benefitcosmetics.com/en-us/product/georgia-golden-peach-blush?product=GEORGIA-FULL',\n",
       " 'https://www.benefitcosmetics.com/en-us/product/georgia-golden-peach-blush?product=GEORFM233',\n",
       " 'https://www.benefitcosmetics.com/en-us/product/love-me-bright',\n",
       " 'https://www.benefitcosmetics.com/en-us/product/sincerely-yours-beauty-advent-calendar']"
      ]
     },
     "execution_count": 77,
     "metadata": {},
     "output_type": "execute_result"
    }
   ],
   "source": [
    "lista[103:112]"
   ]
  },
  {
   "cell_type": "code",
   "execution_count": 78,
   "id": "0a61ad61",
   "metadata": {},
   "outputs": [],
   "source": [
    "links = links[102:114]"
   ]
  },
  {
   "cell_type": "code",
   "execution_count": 79,
   "id": "5adda687",
   "metadata": {},
   "outputs": [
    {
     "data": {
      "text/plain": [
       "['https://www.benefitcosmetics.com/en-us',\n",
       " 'https://www.benefitcosmetics.com/en-us/locations',\n",
       " 'https://www.benefitcosmetics.com/en-us/find-a-store',\n",
       " 'https://www.benefitcosmetics.com/en-us/face/blush?page=3#',\n",
       " 'https://www.benefitcosmetics.com/en-us/account/register/?returnUrl=%2Fen-us%2Fface%2Fblush',\n",
       " 'https://www.benefitcosmetics.com/en-us/product/gimme-brow-volumizing-eyebrow-gel?product=GIMMEBROW-FULL',\n",
       " 'https://www.benefitcosmetics.com/en-us/product/gimme-brow-volumizing-eyebrow-gel?product=GIMMEBROW-MINI',\n",
       " 'https://www.benefitcosmetics.com/en-us/product/gimme-brow-volumizing-eyebrow-gel?product=GIMMEBROW-JUMBO',\n",
       " 'https://www.benefitcosmetics.com/en-us/product/goof-proof-eyebrow-pencil?product=GOOFP-FULL']"
      ]
     },
     "execution_count": 79,
     "metadata": {},
     "output_type": "execute_result"
    }
   ],
   "source": [
    "lista[10:19]"
   ]
  },
  {
   "cell_type": "code",
   "execution_count": 80,
   "id": "f2d50d6d",
   "metadata": {},
   "outputs": [],
   "source": [
    "precios = driver.find_elements(By.CLASS_NAME, 'price')"
   ]
  },
  {
   "cell_type": "code",
   "execution_count": 81,
   "id": "d929a68a",
   "metadata": {},
   "outputs": [
    {
     "data": {
      "text/plain": [
       "['https://www.benefitcosmetics.com/en-us/all-makeup',\n",
       " 'https://www.benefitcosmetics.com/en-us/product/moone-rich-berry-blush?product=MOONE-MINI',\n",
       " 'https://www.benefitcosmetics.com/en-us/product/shellie-warm-seashell-pink-blush?product=SHELLIE-MINI',\n",
       " 'https://www.benefitcosmetics.com/en-us/product/terra-golden-brick-red-blush?product=TERRA-MINI',\n",
       " 'https://www.benefitcosmetics.com/en-us/product/peachin-golden-peach-blush?product=PEACHIN-MINI',\n",
       " 'https://www.benefitcosmetics.com/en-us/product/dandelion-brightening-finishing-powder?product=DANDELION-FULL',\n",
       " 'https://www.benefitcosmetics.com/en-us/product/georgia-golden-peach-blush?product=GEORGIA-FULL',\n",
       " 'https://www.benefitcosmetics.com/en-us/product/georgia-golden-peach-blush?product=GEORFM233',\n",
       " 'https://www.benefitcosmetics.com/en-us/product/love-me-bright',\n",
       " 'https://www.benefitcosmetics.com/en-us/product/sincerely-yours-beauty-advent-calendar',\n",
       " 'https://www.benefitcosmetics.com/en-us/face/blush?page=3#',\n",
       " 'https://www.benefitcosmetics.com/en-us/bestsellers-makeup']"
      ]
     },
     "execution_count": 81,
     "metadata": {},
     "output_type": "execute_result"
    }
   ],
   "source": [
    "lista[102:114]"
   ]
  },
  {
   "cell_type": "code",
   "execution_count": 82,
   "id": "12aa4c80",
   "metadata": {},
   "outputs": [
    {
     "data": {
      "text/plain": [
       "<selenium.webdriver.remote.webelement.WebElement (session=\"ad3fdbbc39be0cfd43f7e96d0f7c502b\", element=\"32c913de-b5fa-4a91-a46d-3518d35e67e1\")>"
      ]
     },
     "execution_count": 82,
     "metadata": {},
     "output_type": "execute_result"
    }
   ],
   "source": [
    "driver.find_element(By.CSS_SELECTOR, '#category > div.category__container > div > div > div.pagination > a > i')"
   ]
  },
  {
   "cell_type": "code",
   "execution_count": 83,
   "id": "576025fe",
   "metadata": {},
   "outputs": [],
   "source": [
    "def extraer(URL):\n",
    "    driver = webdriver.Chrome(PATH)\n",
    "    driver.get(URL)\n",
    "\n",
    "    time.sleep(5)\n",
    "    driver.execute_script('window.scrollTo(0, 3000);')  # 200px de scroll\n",
    "    \n",
    "    \n",
    "    nombre = driver.find_elements(By.CLASS_NAME, 'card__title')\n",
    "    precio = driver.find_elements(By.CLASS_NAME, 'price')\n",
    "    link =  driver.find_elements(By.TAG_NAME, 'a')\n",
    "    \n",
    "    tmp = []\n",
    "    precios = []\n",
    "    links = []\n",
    "    \n",
    "\n",
    "    for e in nombre:\n",
    "        tmp.append(e.text.split('\\n'))\n",
    "    \n",
    "    for e in precio:\n",
    "        precios.append(e.text.split('\\n')[-1])\n",
    "    \n",
    "    for e in link:\n",
    "        links.append(e.get_attribute('href'))\n",
    "    \n",
    "    precios = precios[10:22]\n",
    "    tmp = tmp[10:22]\n",
    "    links = links[102:114]\n",
    "    \n",
    "    cols = ['NOMBRE']\n",
    "    \n",
    "    total = pd.DataFrame(tmp, columns = cols)\n",
    "\n",
    "    \n",
    "    total['PRECIO'] = precios\n",
    "    total['LINKS'] = links\n",
    "    total['PRODUCTO'] = 'COLORETE'\n",
    "    \n",
    "    \n",
    "    driver.quit()\n",
    "     \n",
    "    return total"
   ]
  },
  {
   "cell_type": "code",
   "execution_count": 84,
   "id": "0170a96c",
   "metadata": {},
   "outputs": [],
   "source": [
    "def extraer2(URL):\n",
    "    driver = webdriver.Chrome(PATH)\n",
    "    driver.get(URL)\n",
    "\n",
    "    time.sleep(5)\n",
    "    driver.execute_script('window.scrollTo(0, 3000);')  # 200px de scroll\n",
    "    \n",
    "    \n",
    "    nombre = driver.find_elements(By.CLASS_NAME, 'card__title')\n",
    "    precio = driver.find_elements(By.CLASS_NAME, 'price')\n",
    "    link =  driver.find_elements(By.TAG_NAME, 'a')\n",
    "    \n",
    "    tmp = []\n",
    "    precios = []\n",
    "    links = []\n",
    "    \n",
    "\n",
    "    for e in nombre:\n",
    "        tmp.append(e.text.split('\\n'))\n",
    "    \n",
    "    for e in precio:\n",
    "        precios.append(e.text.split('\\n')[-1])\n",
    "    \n",
    "    for e in link:\n",
    "        links.append(e.get_attribute('href'))\n",
    "    \n",
    "    precios = precios[10:22]\n",
    "    tmp = tmp[10:22]\n",
    "    links = links[103:112]\n",
    "    \n",
    "    cols = ['NOMBRE']\n",
    "    \n",
    "    total = pd.DataFrame(tmp, columns = cols)\n",
    "\n",
    "    \n",
    "    total['PRECIO'] = precios\n",
    "    total['LINKS'] = links\n",
    "    total['PRODUCTO'] = 'COLORETE'\n",
    "    \n",
    "    \n",
    "    driver.quit()\n",
    "     \n",
    "    return total"
   ]
  },
  {
   "cell_type": "code",
   "execution_count": 85,
   "id": "260c4f36",
   "metadata": {},
   "outputs": [],
   "source": [
    "links_ben = ['https://www.benefitcosmetics.com/en-us/face/blush',\\\n",
    "            'https://www.benefitcosmetics.com/en-us/face/blush?page=2']"
   ]
  },
  {
   "cell_type": "code",
   "execution_count": 86,
   "id": "097242ba",
   "metadata": {},
   "outputs": [
    {
     "name": "stderr",
     "output_type": "stream",
     "text": [
      "2022-12-12 11:05:31,868 [48607] WARNING  py.warnings:109: [JupyterRequire] /var/folders/fg/hm_rz3k53fv5qf5dywc0bfwr0000gn/T/ipykernel_48607/326568913.py:2: DeprecationWarning: executable_path has been deprecated, please pass in a Service object\n",
      "  driver = webdriver.Chrome(PATH)\n",
      "\n"
     ]
    }
   ],
   "source": [
    "tres = extraer2('https://www.benefitcosmetics.com/en-us/face/blush?page=3') "
   ]
  },
  {
   "cell_type": "code",
   "execution_count": 87,
   "id": "b09c48ad",
   "metadata": {},
   "outputs": [
    {
     "name": "stderr",
     "output_type": "stream",
     "text": [
      "[Parallel(n_jobs=3)]: Using backend LokyBackend with 3 concurrent workers.\n",
      "/var/folders/fg/hm_rz3k53fv5qf5dywc0bfwr0000gn/T/ipykernel_48607/1349481635.py:2: DeprecationWarning: executable_path has been deprecated, please pass in a Service object\n",
      "/var/folders/fg/hm_rz3k53fv5qf5dywc0bfwr0000gn/T/ipykernel_48607/1349481635.py:2: DeprecationWarning: executable_path has been deprecated, please pass in a Service object\n",
      "[Parallel(n_jobs=3)]: Done   2 out of   2 | elapsed:   34.3s finished\n"
     ]
    }
   ],
   "source": [
    "blush_benefit = Parallel(n_jobs=3, verbose=True)(delayed(extraer)(e) for e in links_ben)"
   ]
  },
  {
   "cell_type": "code",
   "execution_count": 88,
   "id": "eb7e9d98",
   "metadata": {},
   "outputs": [],
   "source": [
    "blush1 = blush_benefit[0]\n",
    "blush2 = blush_benefit[1]"
   ]
  },
  {
   "cell_type": "code",
   "execution_count": 218,
   "id": "39683f37",
   "metadata": {},
   "outputs": [],
   "source": [
    "blush1.drop(blush1.index[[6]], inplace = True)"
   ]
  },
  {
   "cell_type": "code",
   "execution_count": 221,
   "id": "ecdeb039",
   "metadata": {},
   "outputs": [],
   "source": [
    "paletas = ['PRIMAVERA / OTOÑO', 'TODAS', 'TODAS', 'PRIMAVERA / OTOÑO', 'INVIERNO / VERANO', 'PRIMAVERA / OTOÑO',\\\n",
    "          'INVIERNO / VERANO', 'INVIERNO / VERANO', 'TODAS', 'PRIMAVERA / OTOÑO', 'INVIERNO / VERANO']\n",
    "blush1['PALETAS'] = paletas"
   ]
  },
  {
   "cell_type": "code",
   "execution_count": 223,
   "id": "8242a092",
   "metadata": {},
   "outputs": [],
   "source": [
    "paletas = ['PRIMAVERA / OTOÑO', 'PRIMAVERA / OTOÑO', 'INVIERNO / VERANO', 'INVIERNO / VERANO', 'INVIERNO / VERANO',\\\n",
    "          'INVIERNO / VERANO', 'PRIMAVERA / OTOÑO', 'PRIMAVERA / OTOÑO', 'INVIERNO / VERANO', 'PRIMAVERA / OTOÑO',\\\n",
    "          'PRIMAVERA / OTOÑO', 'INVIERNO / VERANO']\n",
    "blush2['PALETAS'] = paletas"
   ]
  },
  {
   "cell_type": "code",
   "execution_count": 225,
   "id": "82e92b00",
   "metadata": {},
   "outputs": [],
   "source": [
    "paletas = ['INVIERNO / VERANO', 'PRIMAVERA / OTOÑO', 'PRIMAVERA / OTOÑO', 'PRIMAVERA / OTOÑO', 'INVIERNO / VERANO',\\\n",
    "          'PRIMAVERA / OTOÑO', 'PRIMAVERA / OTOÑO', 'TODAS', 'TODAS']\n",
    "tres['PALETAS'] = paletas"
   ]
  },
  {
   "cell_type": "code",
   "execution_count": 226,
   "id": "7713320d",
   "metadata": {},
   "outputs": [],
   "source": [
    "blush_benefit = pd.concat([blush1, blush2, tres], axis = 0)\n",
    "blush_benefit['PRODUCTO'] = 'COLORETE'"
   ]
  },
  {
   "cell_type": "code",
   "execution_count": 228,
   "id": "c8a580bf",
   "metadata": {},
   "outputs": [
    {
     "data": {
      "text/html": [
       "<div>\n",
       "<style scoped>\n",
       "    .dataframe tbody tr th:only-of-type {\n",
       "        vertical-align: middle;\n",
       "    }\n",
       "\n",
       "    .dataframe tbody tr th {\n",
       "        vertical-align: top;\n",
       "    }\n",
       "\n",
       "    .dataframe thead th {\n",
       "        text-align: right;\n",
       "    }\n",
       "</style>\n",
       "<table border=\"1\" class=\"dataframe\">\n",
       "  <thead>\n",
       "    <tr style=\"text-align: right;\">\n",
       "      <th></th>\n",
       "      <th>NOMBRE</th>\n",
       "      <th>PRECIO</th>\n",
       "      <th>LINKS</th>\n",
       "      <th>PRODUCTO</th>\n",
       "      <th>PALETAS</th>\n",
       "    </tr>\n",
       "  </thead>\n",
       "  <tbody>\n",
       "    <tr>\n",
       "      <th>0</th>\n",
       "      <td>Cheek the Mail</td>\n",
       "      <td>$36.00</td>\n",
       "      <td>https://www.benefitcosmetics.com/en-us/all-makeup</td>\n",
       "      <td>COLORETE</td>\n",
       "      <td>PRIMAVERA / OTOÑO</td>\n",
       "    </tr>\n",
       "    <tr>\n",
       "      <th>1</th>\n",
       "      <td>Cheek Party Package</td>\n",
       "      <td>$36.00</td>\n",
       "      <td>https://www.benefitcosmetics.com/en-us/product...</td>\n",
       "      <td>COLORETE</td>\n",
       "      <td>TODAS</td>\n",
       "    </tr>\n",
       "    <tr>\n",
       "      <th>2</th>\n",
       "      <td>Blush ‘n Brush Delivery</td>\n",
       "      <td>$30.00</td>\n",
       "      <td>https://www.benefitcosmetics.com/en-us/product...</td>\n",
       "      <td>COLORETE</td>\n",
       "      <td>TODAS</td>\n",
       "    </tr>\n",
       "    <tr>\n",
       "      <th>3</th>\n",
       "      <td>Forward to: Gorgeous</td>\n",
       "      <td>$50.00</td>\n",
       "      <td>https://www.benefitcosmetics.com/en-us/product...</td>\n",
       "      <td>COLORETE</td>\n",
       "      <td>PRIMAVERA / OTOÑO</td>\n",
       "    </tr>\n",
       "    <tr>\n",
       "      <th>4</th>\n",
       "      <td>Pretty Pink Postage</td>\n",
       "      <td>$20.00</td>\n",
       "      <td>https://www.benefitcosmetics.com/en-us/product...</td>\n",
       "      <td>COLORETE</td>\n",
       "      <td>INVIERNO / VERANO</td>\n",
       "    </tr>\n",
       "    <tr>\n",
       "      <th>5</th>\n",
       "      <td>Blushin’ Benetint Bundle</td>\n",
       "      <td>$20.00</td>\n",
       "      <td>https://www.benefitcosmetics.com/en-us/product...</td>\n",
       "      <td>COLORETE</td>\n",
       "      <td>PRIMAVERA / OTOÑO</td>\n",
       "    </tr>\n",
       "    <tr>\n",
       "      <th>7</th>\n",
       "      <td>Bright n' Peachy Blush Duo</td>\n",
       "      <td>$28.00</td>\n",
       "      <td>https://www.benefitcosmetics.com/en-us/product...</td>\n",
       "      <td>COLORETE</td>\n",
       "      <td>INVIERNO / VERANO</td>\n",
       "    </tr>\n",
       "    <tr>\n",
       "      <th>8</th>\n",
       "      <td>Whatta Beach!</td>\n",
       "      <td>$28.00</td>\n",
       "      <td>https://www.benefitcosmetics.com/en-us/product...</td>\n",
       "      <td>COLORETE</td>\n",
       "      <td>INVIERNO / VERANO</td>\n",
       "    </tr>\n",
       "    <tr>\n",
       "      <th>9</th>\n",
       "      <td>Wanderful World Blush Collection</td>\n",
       "      <td>$280.00</td>\n",
       "      <td>https://www.benefitcosmetics.com/en-us/product...</td>\n",
       "      <td>COLORETE</td>\n",
       "      <td>TODAS</td>\n",
       "    </tr>\n",
       "    <tr>\n",
       "      <th>10</th>\n",
       "      <td>Starlaa Rosy Bronze Blush</td>\n",
       "      <td>$29.00</td>\n",
       "      <td>https://www.benefitcosmetics.com/en-us/product...</td>\n",
       "      <td>COLORETE</td>\n",
       "      <td>PRIMAVERA / OTOÑO</td>\n",
       "    </tr>\n",
       "    <tr>\n",
       "      <th>11</th>\n",
       "      <td>Willa Soft Neutral-Rose Blush</td>\n",
       "      <td>$29.00</td>\n",
       "      <td>https://www.benefitcosmetics.com/en-us/product...</td>\n",
       "      <td>COLORETE</td>\n",
       "      <td>INVIERNO / VERANO</td>\n",
       "    </tr>\n",
       "    <tr>\n",
       "      <th>0</th>\n",
       "      <td>Sunny Warm Coral Blush</td>\n",
       "      <td>$29.00</td>\n",
       "      <td>https://www.benefitcosmetics.com/en-us/all-makeup</td>\n",
       "      <td>COLORETE</td>\n",
       "      <td>PRIMAVERA / OTOÑO</td>\n",
       "    </tr>\n",
       "    <tr>\n",
       "      <th>1</th>\n",
       "      <td>Butterfly Golden Orange Blush</td>\n",
       "      <td>$29.00</td>\n",
       "      <td>https://www.benefitcosmetics.com/en-us/product...</td>\n",
       "      <td>COLORETE</td>\n",
       "      <td>PRIMAVERA / OTOÑO</td>\n",
       "    </tr>\n",
       "    <tr>\n",
       "      <th>2</th>\n",
       "      <td>Shellie Warm-Seashell Pink Blush</td>\n",
       "      <td>$29.00</td>\n",
       "      <td>https://www.benefitcosmetics.com/en-us/product...</td>\n",
       "      <td>COLORETE</td>\n",
       "      <td>INVIERNO / VERANO</td>\n",
       "    </tr>\n",
       "    <tr>\n",
       "      <th>3</th>\n",
       "      <td>PomPom Pomegranate Rose Blush</td>\n",
       "      <td>$29.00</td>\n",
       "      <td>https://www.benefitcosmetics.com/en-us/product...</td>\n",
       "      <td>COLORETE</td>\n",
       "      <td>INVIERNO / VERANO</td>\n",
       "    </tr>\n",
       "    <tr>\n",
       "      <th>4</th>\n",
       "      <td>Crystah Strawberry Pink Blush</td>\n",
       "      <td>$29.00</td>\n",
       "      <td>https://www.benefitcosmetics.com/en-us/product...</td>\n",
       "      <td>COLORETE</td>\n",
       "      <td>INVIERNO / VERANO</td>\n",
       "    </tr>\n",
       "    <tr>\n",
       "      <th>5</th>\n",
       "      <td>Peachin' Golden Peach Blush</td>\n",
       "      <td>$29.00</td>\n",
       "      <td>https://www.benefitcosmetics.com/en-us/product...</td>\n",
       "      <td>COLORETE</td>\n",
       "      <td>INVIERNO / VERANO</td>\n",
       "    </tr>\n",
       "    <tr>\n",
       "      <th>6</th>\n",
       "      <td>Java Rosy Mocha Blush</td>\n",
       "      <td>$29.00</td>\n",
       "      <td>https://www.benefitcosmetics.com/en-us/product...</td>\n",
       "      <td>COLORETE</td>\n",
       "      <td>PRIMAVERA / OTOÑO</td>\n",
       "    </tr>\n",
       "    <tr>\n",
       "      <th>7</th>\n",
       "      <td>Moone Rich Berry Blush</td>\n",
       "      <td>$29.00</td>\n",
       "      <td>https://www.benefitcosmetics.com/en-us/product...</td>\n",
       "      <td>COLORETE</td>\n",
       "      <td>PRIMAVERA / OTOÑO</td>\n",
       "    </tr>\n",
       "    <tr>\n",
       "      <th>8</th>\n",
       "      <td>Dandelion Baby-Pink Brightening Blush</td>\n",
       "      <td>$29.00</td>\n",
       "      <td>https://www.benefitcosmetics.com/en-us/product...</td>\n",
       "      <td>COLORETE</td>\n",
       "      <td>INVIERNO / VERANO</td>\n",
       "    </tr>\n",
       "    <tr>\n",
       "      <th>9</th>\n",
       "      <td>Terra Golden Brick-Red Blush</td>\n",
       "      <td>$29.00</td>\n",
       "      <td>https://www.benefitcosmetics.com/en-us/product...</td>\n",
       "      <td>COLORETE</td>\n",
       "      <td>PRIMAVERA / OTOÑO</td>\n",
       "    </tr>\n",
       "    <tr>\n",
       "      <th>10</th>\n",
       "      <td>Starlaa Rosy Bronze Blush Travel Size Mini</td>\n",
       "      <td>$17.00</td>\n",
       "      <td>https://www.benefitcosmetics.com/en-us/product...</td>\n",
       "      <td>COLORETE</td>\n",
       "      <td>PRIMAVERA / OTOÑO</td>\n",
       "    </tr>\n",
       "    <tr>\n",
       "      <th>11</th>\n",
       "      <td>Crystah Strawberry Pink Blush Travel Size Mini</td>\n",
       "      <td>$17.00</td>\n",
       "      <td>https://www.benefitcosmetics.com/en-us/product...</td>\n",
       "      <td>COLORETE</td>\n",
       "      <td>INVIERNO / VERANO</td>\n",
       "    </tr>\n",
       "    <tr>\n",
       "      <th>0</th>\n",
       "      <td>Moone Rich Berry Blush Travel Size Mini</td>\n",
       "      <td>$17.00</td>\n",
       "      <td>https://www.benefitcosmetics.com/en-us/product...</td>\n",
       "      <td>COLORETE</td>\n",
       "      <td>INVIERNO / VERANO</td>\n",
       "    </tr>\n",
       "    <tr>\n",
       "      <th>1</th>\n",
       "      <td>Shellie Warm-Seashell Pink Blush Travel Size Mini</td>\n",
       "      <td>$17.00</td>\n",
       "      <td>https://www.benefitcosmetics.com/en-us/product...</td>\n",
       "      <td>COLORETE</td>\n",
       "      <td>PRIMAVERA / OTOÑO</td>\n",
       "    </tr>\n",
       "    <tr>\n",
       "      <th>2</th>\n",
       "      <td>Terra Golden Brick-Red Blush Travel Size Mini</td>\n",
       "      <td>$17.00</td>\n",
       "      <td>https://www.benefitcosmetics.com/en-us/product...</td>\n",
       "      <td>COLORETE</td>\n",
       "      <td>PRIMAVERA / OTOÑO</td>\n",
       "    </tr>\n",
       "    <tr>\n",
       "      <th>3</th>\n",
       "      <td>Peachin' Golden Peach Blush Travel Size Mini</td>\n",
       "      <td>$17.00</td>\n",
       "      <td>https://www.benefitcosmetics.com/en-us/product...</td>\n",
       "      <td>COLORETE</td>\n",
       "      <td>PRIMAVERA / OTOÑO</td>\n",
       "    </tr>\n",
       "    <tr>\n",
       "      <th>4</th>\n",
       "      <td>Dandelion Baby-Pink Brightening Blush Travel S...</td>\n",
       "      <td>$17.00</td>\n",
       "      <td>https://www.benefitcosmetics.com/en-us/product...</td>\n",
       "      <td>COLORETE</td>\n",
       "      <td>INVIERNO / VERANO</td>\n",
       "    </tr>\n",
       "    <tr>\n",
       "      <th>5</th>\n",
       "      <td>Georgia Golden Peach Blush</td>\n",
       "      <td>$30.00</td>\n",
       "      <td>https://www.benefitcosmetics.com/en-us/product...</td>\n",
       "      <td>COLORETE</td>\n",
       "      <td>PRIMAVERA / OTOÑO</td>\n",
       "    </tr>\n",
       "    <tr>\n",
       "      <th>6</th>\n",
       "      <td>Georgia Golden Peach Blush Mini</td>\n",
       "      <td>$17.00</td>\n",
       "      <td>https://www.benefitcosmetics.com/en-us/product...</td>\n",
       "      <td>COLORETE</td>\n",
       "      <td>PRIMAVERA / OTOÑO</td>\n",
       "    </tr>\n",
       "    <tr>\n",
       "      <th>7</th>\n",
       "      <td>Love Me Bright</td>\n",
       "      <td>$36.00</td>\n",
       "      <td>https://www.benefitcosmetics.com/en-us/product...</td>\n",
       "      <td>COLORETE</td>\n",
       "      <td>TODAS</td>\n",
       "    </tr>\n",
       "    <tr>\n",
       "      <th>8</th>\n",
       "      <td>Sincerely Yours, Beauty Advent Calendar</td>\n",
       "      <td>$65.00</td>\n",
       "      <td>https://www.benefitcosmetics.com/en-us/product...</td>\n",
       "      <td>COLORETE</td>\n",
       "      <td>TODAS</td>\n",
       "    </tr>\n",
       "  </tbody>\n",
       "</table>\n",
       "</div>"
      ],
      "text/plain": [
       "                                               NOMBRE   PRECIO  \\\n",
       "0                                      Cheek the Mail   $36.00   \n",
       "1                                 Cheek Party Package   $36.00   \n",
       "2                             Blush ‘n Brush Delivery   $30.00   \n",
       "3                                Forward to: Gorgeous   $50.00   \n",
       "4                                 Pretty Pink Postage   $20.00   \n",
       "5                            Blushin’ Benetint Bundle   $20.00   \n",
       "7                          Bright n' Peachy Blush Duo   $28.00   \n",
       "8                                       Whatta Beach!   $28.00   \n",
       "9                    Wanderful World Blush Collection  $280.00   \n",
       "10                          Starlaa Rosy Bronze Blush   $29.00   \n",
       "11                      Willa Soft Neutral-Rose Blush   $29.00   \n",
       "0                              Sunny Warm Coral Blush   $29.00   \n",
       "1                       Butterfly Golden Orange Blush   $29.00   \n",
       "2                    Shellie Warm-Seashell Pink Blush   $29.00   \n",
       "3                       PomPom Pomegranate Rose Blush   $29.00   \n",
       "4                       Crystah Strawberry Pink Blush   $29.00   \n",
       "5                         Peachin' Golden Peach Blush   $29.00   \n",
       "6                               Java Rosy Mocha Blush   $29.00   \n",
       "7                              Moone Rich Berry Blush   $29.00   \n",
       "8               Dandelion Baby-Pink Brightening Blush   $29.00   \n",
       "9                        Terra Golden Brick-Red Blush   $29.00   \n",
       "10         Starlaa Rosy Bronze Blush Travel Size Mini   $17.00   \n",
       "11     Crystah Strawberry Pink Blush Travel Size Mini   $17.00   \n",
       "0             Moone Rich Berry Blush Travel Size Mini   $17.00   \n",
       "1   Shellie Warm-Seashell Pink Blush Travel Size Mini   $17.00   \n",
       "2       Terra Golden Brick-Red Blush Travel Size Mini   $17.00   \n",
       "3        Peachin' Golden Peach Blush Travel Size Mini   $17.00   \n",
       "4   Dandelion Baby-Pink Brightening Blush Travel S...   $17.00   \n",
       "5                          Georgia Golden Peach Blush   $30.00   \n",
       "6                     Georgia Golden Peach Blush Mini   $17.00   \n",
       "7                                      Love Me Bright   $36.00   \n",
       "8             Sincerely Yours, Beauty Advent Calendar   $65.00   \n",
       "\n",
       "                                                LINKS  PRODUCTO  \\\n",
       "0   https://www.benefitcosmetics.com/en-us/all-makeup  COLORETE   \n",
       "1   https://www.benefitcosmetics.com/en-us/product...  COLORETE   \n",
       "2   https://www.benefitcosmetics.com/en-us/product...  COLORETE   \n",
       "3   https://www.benefitcosmetics.com/en-us/product...  COLORETE   \n",
       "4   https://www.benefitcosmetics.com/en-us/product...  COLORETE   \n",
       "5   https://www.benefitcosmetics.com/en-us/product...  COLORETE   \n",
       "7   https://www.benefitcosmetics.com/en-us/product...  COLORETE   \n",
       "8   https://www.benefitcosmetics.com/en-us/product...  COLORETE   \n",
       "9   https://www.benefitcosmetics.com/en-us/product...  COLORETE   \n",
       "10  https://www.benefitcosmetics.com/en-us/product...  COLORETE   \n",
       "11  https://www.benefitcosmetics.com/en-us/product...  COLORETE   \n",
       "0   https://www.benefitcosmetics.com/en-us/all-makeup  COLORETE   \n",
       "1   https://www.benefitcosmetics.com/en-us/product...  COLORETE   \n",
       "2   https://www.benefitcosmetics.com/en-us/product...  COLORETE   \n",
       "3   https://www.benefitcosmetics.com/en-us/product...  COLORETE   \n",
       "4   https://www.benefitcosmetics.com/en-us/product...  COLORETE   \n",
       "5   https://www.benefitcosmetics.com/en-us/product...  COLORETE   \n",
       "6   https://www.benefitcosmetics.com/en-us/product...  COLORETE   \n",
       "7   https://www.benefitcosmetics.com/en-us/product...  COLORETE   \n",
       "8   https://www.benefitcosmetics.com/en-us/product...  COLORETE   \n",
       "9   https://www.benefitcosmetics.com/en-us/product...  COLORETE   \n",
       "10  https://www.benefitcosmetics.com/en-us/product...  COLORETE   \n",
       "11  https://www.benefitcosmetics.com/en-us/product...  COLORETE   \n",
       "0   https://www.benefitcosmetics.com/en-us/product...  COLORETE   \n",
       "1   https://www.benefitcosmetics.com/en-us/product...  COLORETE   \n",
       "2   https://www.benefitcosmetics.com/en-us/product...  COLORETE   \n",
       "3   https://www.benefitcosmetics.com/en-us/product...  COLORETE   \n",
       "4   https://www.benefitcosmetics.com/en-us/product...  COLORETE   \n",
       "5   https://www.benefitcosmetics.com/en-us/product...  COLORETE   \n",
       "6   https://www.benefitcosmetics.com/en-us/product...  COLORETE   \n",
       "7   https://www.benefitcosmetics.com/en-us/product...  COLORETE   \n",
       "8   https://www.benefitcosmetics.com/en-us/product...  COLORETE   \n",
       "\n",
       "              PALETAS  \n",
       "0   PRIMAVERA / OTOÑO  \n",
       "1               TODAS  \n",
       "2               TODAS  \n",
       "3   PRIMAVERA / OTOÑO  \n",
       "4   INVIERNO / VERANO  \n",
       "5   PRIMAVERA / OTOÑO  \n",
       "7   INVIERNO / VERANO  \n",
       "8   INVIERNO / VERANO  \n",
       "9               TODAS  \n",
       "10  PRIMAVERA / OTOÑO  \n",
       "11  INVIERNO / VERANO  \n",
       "0   PRIMAVERA / OTOÑO  \n",
       "1   PRIMAVERA / OTOÑO  \n",
       "2   INVIERNO / VERANO  \n",
       "3   INVIERNO / VERANO  \n",
       "4   INVIERNO / VERANO  \n",
       "5   INVIERNO / VERANO  \n",
       "6   PRIMAVERA / OTOÑO  \n",
       "7   PRIMAVERA / OTOÑO  \n",
       "8   INVIERNO / VERANO  \n",
       "9   PRIMAVERA / OTOÑO  \n",
       "10  PRIMAVERA / OTOÑO  \n",
       "11  INVIERNO / VERANO  \n",
       "0   INVIERNO / VERANO  \n",
       "1   PRIMAVERA / OTOÑO  \n",
       "2   PRIMAVERA / OTOÑO  \n",
       "3   PRIMAVERA / OTOÑO  \n",
       "4   INVIERNO / VERANO  \n",
       "5   PRIMAVERA / OTOÑO  \n",
       "6   PRIMAVERA / OTOÑO  \n",
       "7               TODAS  \n",
       "8               TODAS  "
      ]
     },
     "execution_count": 228,
     "metadata": {},
     "output_type": "execute_result"
    }
   ],
   "source": [
    "blush_benefit"
   ]
  },
  {
   "cell_type": "markdown",
   "id": "770709cb",
   "metadata": {},
   "source": [
    "# 5 - EXTRACCIÓN DE DATOS DE SOMBRAS, BLUSH Y PINTALABIOS DE NARS"
   ]
  },
  {
   "cell_type": "code",
   "execution_count": 90,
   "id": "148f04d7",
   "metadata": {},
   "outputs": [
    {
     "name": "stderr",
     "output_type": "stream",
     "text": [
      "2022-12-12 11:06:41,282 [48607] WARNING  py.warnings:109: [JupyterRequire] /var/folders/fg/hm_rz3k53fv5qf5dywc0bfwr0000gn/T/ipykernel_48607/1981730666.py:3: DeprecationWarning: executable_path has been deprecated, please pass in a Service object\n",
      "  driver=webdriver.Chrome(PATH)\n",
      "\n"
     ]
    }
   ],
   "source": [
    "PATH=ChromeDriverManager().install()\n",
    "\n",
    "driver=webdriver.Chrome(PATH)"
   ]
  },
  {
   "cell_type": "code",
   "execution_count": 91,
   "id": "03c38573",
   "metadata": {},
   "outputs": [],
   "source": [
    "URL = 'https://www.narscosmetics.es/es/maquillaje/ojos/paletas-de-sombras'"
   ]
  },
  {
   "cell_type": "code",
   "execution_count": 92,
   "id": "7bd2bd1f",
   "metadata": {},
   "outputs": [],
   "source": [
    "driver.get(URL)"
   ]
  },
  {
   "cell_type": "code",
   "execution_count": 93,
   "id": "3262debc",
   "metadata": {},
   "outputs": [],
   "source": [
    "nombres = driver.find_elements(By.CLASS_NAME, 'product-name')"
   ]
  },
  {
   "cell_type": "code",
   "execution_count": 94,
   "id": "837949a6",
   "metadata": {},
   "outputs": [
    {
     "data": {
      "text/plain": [
       "['SUMMER UNRATED EYESHADOW PALETTE',\n",
       " 'UNWRAPPED MINI EYESHADOW PALETTE',\n",
       " 'EUPHORIA FACE PALETTE',\n",
       " 'COOL CRUSH EYESHADOW PALETTE',\n",
       " 'VOYAGEUR EYESHADOW PALETTE',\n",
       " 'VOYAGEUR EYESHADOW PALETTE',\n",
       " 'VOYAGEUR EYESHADOW PALETTE',\n",
       " 'VOYAGEUR EYESHADOW PALETTE',\n",
       " 'VOYAGEUR EYESHADOW PALETTE',\n",
       " 'CUARTETO DE SOMBRAS DE OJOS',\n",
       " 'CUARTETO DE SOMBRAS DE OJOS',\n",
       " 'CUARTETO DE SOMBRAS DE OJOS',\n",
       " 'CUARTETO DE SOMBRAS DE OJOS',\n",
       " 'CUARTETO DE SOMBRAS DE OJOS',\n",
       " '#22 BLENDING BRUSH',\n",
       " '#20 ALLOVER EYESHADOW BRUSH']"
      ]
     },
     "execution_count": 94,
     "metadata": {},
     "output_type": "execute_result"
    }
   ],
   "source": [
    "[e.text for e in nombres]"
   ]
  },
  {
   "cell_type": "code",
   "execution_count": 95,
   "id": "d7dbf5ad",
   "metadata": {},
   "outputs": [],
   "source": [
    "prec = driver.find_elements(By.CLASS_NAME, 'product-pricing')"
   ]
  },
  {
   "cell_type": "code",
   "execution_count": 96,
   "id": "9289b90e",
   "metadata": {},
   "outputs": [
    {
     "data": {
      "text/plain": [
       "['55,00',\n",
       " '26,00',\n",
       " '55,00',\n",
       " '55,00',\n",
       " '30,50',\n",
       " '30,50',\n",
       " '30,50',\n",
       " '30,50',\n",
       " '30,50',\n",
       " '49,00',\n",
       " '49,00',\n",
       " '49,00',\n",
       " '49,00',\n",
       " '49,00',\n",
       " '31,50',\n",
       " '31,50']"
      ]
     },
     "execution_count": 96,
     "metadata": {},
     "output_type": "execute_result"
    }
   ],
   "source": [
    "[e.text.split()[0] for e in prec]"
   ]
  },
  {
   "cell_type": "code",
   "execution_count": 97,
   "id": "3f12de3c",
   "metadata": {},
   "outputs": [
    {
     "data": {
      "text/plain": [
       "'/es/summer-unrated-eyeshadow-palette/0194251130200.html'"
      ]
     },
     "execution_count": 97,
     "metadata": {},
     "output_type": "execute_result"
    }
   ],
   "source": [
    "driver.find_element(By.CLASS_NAME, 'name-link').get_attribute('href')"
   ]
  },
  {
   "cell_type": "code",
   "execution_count": 98,
   "id": "a9593d92",
   "metadata": {},
   "outputs": [],
   "source": [
    "#SOMBRAS, LABIOS Y BRUSH\n",
    "def extraer2(URL):\n",
    "    driver = webdriver.Chrome(PATH)\n",
    "    driver.get(URL)\n",
    "\n",
    "    time.sleep(5)\n",
    "    driver.find_element(By.CSS_SELECTOR, '#onetrust-accept-btn-handler').click()\n",
    "    time.sleep(5)\n",
    "    driver.execute_script('window.scrollTo(0, 3000);')  # 200px de scroll\n",
    "    time.sleep(5)\n",
    "    \n",
    "    nombre = driver.find_elements(By.CLASS_NAME, 'product-name')\n",
    "    precio = driver.find_elements(By.CLASS_NAME, 'product-pricing')\n",
    "    link =  driver.find_elements(By.CLASS_NAME, 'name-link')\n",
    "    \n",
    "    tmp = []\n",
    "    precios = []\n",
    "    links = []\n",
    "    \n",
    "\n",
    "    for e in nombre:\n",
    "        tmp.append(e.text)\n",
    "    \n",
    "    for e in precio:\n",
    "        precios.append(e.text.split()[0])\n",
    "    \n",
    "    for e in link:\n",
    "        links.append(e.get_attribute('href'))\n",
    "    \n",
    "    \n",
    "    cols = ['NOMBRE']\n",
    "    \n",
    "    total = pd.DataFrame(tmp, columns = cols)\n",
    "\n",
    "    \n",
    "    total['PRECIO'] = precios\n",
    "    total['LINKS'] = links\n",
    "    total['PRODUCTO'] = 'SOMBRAS DE OJOS'\n",
    "    \n",
    "    \n",
    "    driver.quit()\n",
    "     \n",
    "    return total"
   ]
  },
  {
   "cell_type": "code",
   "execution_count": 99,
   "id": "a170bb45",
   "metadata": {},
   "outputs": [],
   "source": [
    "links_nars = ('https://www.narscosmetics.es/es/maquillaje/ojos/paletas-de-sombras',\n",
    "             'https://www.narscosmetics.es/es/maquillaje/labios',\n",
    "             'https://www.narscosmetics.es/es/maquillaje/rostro/blush')"
   ]
  },
  {
   "cell_type": "code",
   "execution_count": 100,
   "id": "421b61e2",
   "metadata": {
    "scrolled": true
   },
   "outputs": [
    {
     "name": "stderr",
     "output_type": "stream",
     "text": [
      "[Parallel(n_jobs=3)]: Using backend LokyBackend with 3 concurrent workers.\n",
      "/var/folders/fg/hm_rz3k53fv5qf5dywc0bfwr0000gn/T/ipykernel_48607/2494103033.py:3: DeprecationWarning: executable_path has been deprecated, please pass in a Service object\n",
      "/var/folders/fg/hm_rz3k53fv5qf5dywc0bfwr0000gn/T/ipykernel_48607/2494103033.py:3: DeprecationWarning: executable_path has been deprecated, please pass in a Service object\n",
      "/var/folders/fg/hm_rz3k53fv5qf5dywc0bfwr0000gn/T/ipykernel_48607/2494103033.py:3: DeprecationWarning: executable_path has been deprecated, please pass in a Service object\n",
      "[Parallel(n_jobs=3)]: Done   3 out of   3 | elapsed:   56.1s finished\n"
     ]
    }
   ],
   "source": [
    "nars = Parallel(n_jobs=3, verbose=True)(delayed(extraer2)(e) for e in links_nars)"
   ]
  },
  {
   "cell_type": "code",
   "execution_count": 101,
   "id": "bab88d52",
   "metadata": {},
   "outputs": [],
   "source": [
    "sombras_nars = nars[0]\n",
    "labios_nars = nars[1]\n",
    "blush_nars = nars[2]"
   ]
  },
  {
   "cell_type": "code",
   "execution_count": 204,
   "id": "e42dbefb",
   "metadata": {},
   "outputs": [
    {
     "name": "stderr",
     "output_type": "stream",
     "text": [
      "2022-12-12 13:04:28,775 [48607] WARNING  py.warnings:109: [JupyterRequire] /var/folders/fg/hm_rz3k53fv5qf5dywc0bfwr0000gn/T/ipykernel_48607/270403714.py:4: FutureWarning: The frame.append method is deprecated and will be removed from pandas in a future version. Use pandas.concat instead.\n",
      "  sombras_nars = sombras_nars.append(dictio, ignore_index = True)\n",
      "\n"
     ]
    }
   ],
   "source": [
    "sombras_nars\n",
    "dictio = {'NOMBRE' : 'STARGAZE EYESHADOW PALETTE', 'PRECIO' : '59,00', 'LINKS' : 'https://www.narscosmetics.es/es/stargaze-eyeshadow-palette/0194251134321.html',\\\n",
    "         'PRODUCTO' : 'SOMBRAS DE OJOS'}\n",
    "sombras_nars = sombras_nars.append(dictio, ignore_index = True)"
   ]
  },
  {
   "cell_type": "code",
   "execution_count": 207,
   "id": "e5b2272b",
   "metadata": {},
   "outputs": [],
   "source": [
    "paletas = ['TODAS', 'PRIMAVERA / VERANO', 'PRIMAVERA / VERANO / OTOÑO', 'PRIMAVERA / OTOÑO', 'INVIERNO / OTOÑO',\\\n",
    "          'VERANO / OTOÑO', 'PRIMAVERA / VERANO', 'PRIMAVERA / OTOÑO', 'OTOÑO / INVIERNO', 'OTOÑO', 'PRIMAVERA / OTOÑO',\\\n",
    "          'PRIMAVERA', 'OTOÑO / VERANO', 'PRIMAVERA', 'PRIMAVERA / OTOÑO']\n",
    "sombras_nars['PALETAS'] = paletas"
   ]
  },
  {
   "cell_type": "code",
   "execution_count": 210,
   "id": "684548cb",
   "metadata": {},
   "outputs": [],
   "source": [
    "paletas = ['VERANO / INVIERNO / OTOÑO', 'PRIMAVERA / VERANO', 'INVIERNO', 'PRIMAVERA', 'OTOÑO / INVIERNO',\\\n",
    "          'VERANO / INVIERNO / OTOÑO', 'PRIMAVERA', 'PRIMAVERA', 'PRIMAVERA / VERANO', 'TODAS', 'TODAS',\\\n",
    "          'VERANO / INVIERNO / OTOÑO', 'PRIMAVERA / VERANO', 'PRIMAVERA / VERANO', 'PRIMAVERA / VERANO', 'TODAS']\n",
    "labios_nars['PALETAS'] = paletas"
   ]
  },
  {
   "cell_type": "code",
   "execution_count": 216,
   "id": "393a97b0",
   "metadata": {},
   "outputs": [],
   "source": [
    "paletas = ['INVIERNO / VERANO', 'INVIERNO / VERANO', 'INVIERNO / VERANO', 'PRIMAVERA / OTOÑO', 'TODAS', \\\n",
    "          'PRIMAVERA / OTOÑO', 'TODAS', 'INVIERNO / VERANO', 'INVIERNO / VERANO', 'PRIMAVERA / OTOÑO', 'INVIERNO / VERANO',\\\n",
    "          'PRIMAVERA / OTOÑO', 'PRIMAVERA / OTOÑO']\n",
    "blush_nars['PALETAS'] = paletas"
   ]
  },
  {
   "cell_type": "code",
   "execution_count": 102,
   "id": "740cd60b",
   "metadata": {},
   "outputs": [],
   "source": [
    "labios_nars['PRODUCTO'] = 'PINTALABIOS'\n",
    "blush_nars['PRODUCTO'] = 'COLORETE'"
   ]
  },
  {
   "cell_type": "code",
   "execution_count": 103,
   "id": "b489533e",
   "metadata": {},
   "outputs": [],
   "source": [
    "def arreglar_links(link):\n",
    "    return 'https://www.narscosmetics.es' + link \n",
    "\n",
    "sombras_nars.LINKS = sombras_nars.LINKS.apply(arreglar_links)"
   ]
  },
  {
   "cell_type": "code",
   "execution_count": 104,
   "id": "cc55e444",
   "metadata": {},
   "outputs": [],
   "source": [
    "sombras_nars['LINKS'] = sombras_nars['LINKS'].apply(arreglar_links)\n",
    "labios_nars['LINKS'] = labios_nars['LINKS'].apply(arreglar_links)\n",
    "blush_nars['LINKS'] = blush_nars['LINKS'].apply(arreglar_links)"
   ]
  },
  {
   "cell_type": "code",
   "execution_count": 105,
   "id": "b85d5531",
   "metadata": {},
   "outputs": [],
   "source": [
    "sombras_nars.drop(sombras_nars.index[[14,15]], inplace = True)\n",
    "blush_nars.drop(blush_nars.index[[12,13,14]], inplace = True)"
   ]
  },
  {
   "cell_type": "markdown",
   "id": "039d3b99",
   "metadata": {},
   "source": [
    "# 6 - EXTRACCIÓN DE DATOS DE SOMBRAS, BLUSH Y PINTALABIOS DE CHARLOTTE TILBURY"
   ]
  },
  {
   "cell_type": "code",
   "execution_count": 182,
   "id": "bbcf2994",
   "metadata": {},
   "outputs": [
    {
     "name": "stderr",
     "output_type": "stream",
     "text": [
      "2022-12-12 12:39:52,662 [48607] WARNING  py.warnings:109: [JupyterRequire] /var/folders/fg/hm_rz3k53fv5qf5dywc0bfwr0000gn/T/ipykernel_48607/1981730666.py:3: DeprecationWarning: executable_path has been deprecated, please pass in a Service object\n",
      "  driver=webdriver.Chrome(PATH)\n",
      "\n"
     ]
    }
   ],
   "source": [
    "PATH=ChromeDriverManager().install()\n",
    "\n",
    "driver=webdriver.Chrome(PATH)"
   ]
  },
  {
   "cell_type": "code",
   "execution_count": 183,
   "id": "425d68c5",
   "metadata": {},
   "outputs": [],
   "source": [
    "URL = 'https://www.charlottetilbury.com/es/products/maquillaje/ojos/paleta'"
   ]
  },
  {
   "cell_type": "code",
   "execution_count": 184,
   "id": "b44fac2e",
   "metadata": {},
   "outputs": [],
   "source": [
    "driver.get(URL)"
   ]
  },
  {
   "cell_type": "code",
   "execution_count": 185,
   "id": "12b08e0c",
   "metadata": {},
   "outputs": [],
   "source": [
    "driver.find_element(By.XPATH, '//*[@id=\"onetrust-accept-btn-handler\"]').click()"
   ]
  },
  {
   "cell_type": "code",
   "execution_count": 186,
   "id": "432ce2da",
   "metadata": {},
   "outputs": [],
   "source": [
    "nombre = driver.find_element(By.CLASS_NAME, 'ProductCard__title').text.split('\\n')[0]"
   ]
  },
  {
   "cell_type": "code",
   "execution_count": 187,
   "id": "45af174a",
   "metadata": {},
   "outputs": [
    {
     "data": {
      "text/plain": [
       "'LUXURY PALETTE'"
      ]
     },
     "execution_count": 187,
     "metadata": {},
     "output_type": "execute_result"
    }
   ],
   "source": [
    "nombre"
   ]
  },
  {
   "cell_type": "code",
   "execution_count": 110,
   "id": "db5a7698",
   "metadata": {},
   "outputs": [],
   "source": [
    "precio = driver.find_element(By.CLASS_NAME, 'DisplayPrice__price').text"
   ]
  },
  {
   "cell_type": "code",
   "execution_count": 111,
   "id": "b8aacb77",
   "metadata": {},
   "outputs": [],
   "source": [
    "links = driver.find_element(By.CLASS_NAME, 'ProductCard__link').get_attribute('href')"
   ]
  },
  {
   "cell_type": "code",
   "execution_count": 188,
   "id": "c767d0ca",
   "metadata": {},
   "outputs": [],
   "source": [
    "#SOMBRAS, LABIOS Y BLUSH\n",
    "def extraer2(URL):\n",
    "    driver = webdriver.Chrome(PATH)\n",
    "    driver.get(URL)\n",
    "    \n",
    "    driver.find_element(By.XPATH, '//*[@id=\"onetrust-accept-btn-handler\"]').click()\n",
    "\n",
    "    time.sleep(5)\n",
    "    driver.execute_script('window.scrollTo(0, 3000);')  # 200px de scroll\n",
    "    time.sleep(5)\n",
    "    \n",
    "    \n",
    "    nombre = driver.find_elements(By.CLASS_NAME, 'ProductCard__title')\n",
    "    precio = driver.find_elements(By.CLASS_NAME, 'DisplayPrice__price')\n",
    "    link =  driver.find_elements(By.CLASS_NAME, 'ProductCard__link')\n",
    "    \n",
    "    tmp = []\n",
    "    precios = []\n",
    "    links = []\n",
    "    \n",
    "\n",
    "    for e in nombre:\n",
    "        tmp.append(e.text.split('\\n')[0])\n",
    "    \n",
    "    for e in precio:\n",
    "        precios.append(e.text)\n",
    "    \n",
    "    for e in link:\n",
    "        links.append(e.get_attribute('href'))\n",
    "    \n",
    "    \n",
    "    cols = ['NOMBRE']\n",
    "    \n",
    "    total = pd.DataFrame(tmp, columns = cols)\n",
    "\n",
    "    \n",
    "    total['PRECIO'] = precios\n",
    "    total['LINKS'] = links\n",
    "    total['PRODUCTO'] = 'SOMBRAS DE OJOS'\n",
    "    \n",
    "    \n",
    "    driver.quit()\n",
    "     \n",
    "    return total"
   ]
  },
  {
   "cell_type": "code",
   "execution_count": 189,
   "id": "079cc034",
   "metadata": {},
   "outputs": [],
   "source": [
    "links_ct = ['https://www.charlottetilbury.com/es/products/maquillaje/ojos/paleta',\\\n",
    "           'https://www.charlottetilbury.com/es/products/maquillaje/labios/labial/revolucion-matte',\\\n",
    "           'https://www.charlottetilbury.com/es/products/maquillaje/mejillas/rubor/rubor-en-polvo']"
   ]
  },
  {
   "cell_type": "code",
   "execution_count": 190,
   "id": "668fc840",
   "metadata": {
    "scrolled": true
   },
   "outputs": [
    {
     "name": "stderr",
     "output_type": "stream",
     "text": [
      "[Parallel(n_jobs=3)]: Using backend LokyBackend with 3 concurrent workers.\n",
      "/var/folders/fg/hm_rz3k53fv5qf5dywc0bfwr0000gn/T/ipykernel_48607/3048332081.py:3: DeprecationWarning: executable_path has been deprecated, please pass in a Service object\n",
      "/var/folders/fg/hm_rz3k53fv5qf5dywc0bfwr0000gn/T/ipykernel_48607/3048332081.py:3: DeprecationWarning: executable_path has been deprecated, please pass in a Service object\n",
      "/var/folders/fg/hm_rz3k53fv5qf5dywc0bfwr0000gn/T/ipykernel_48607/3048332081.py:3: DeprecationWarning: executable_path has been deprecated, please pass in a Service object\n",
      "[Parallel(n_jobs=3)]: Done   3 out of   3 | elapsed:   32.0s finished\n"
     ]
    }
   ],
   "source": [
    "ch_til = Parallel(n_jobs=3, verbose=True)(delayed(extraer2)(e) for e in links_ct)"
   ]
  },
  {
   "cell_type": "code",
   "execution_count": 192,
   "id": "2a910827",
   "metadata": {},
   "outputs": [],
   "source": [
    "sombras_ct = ch_til[0]\n",
    "labios_ct = ch_til[1]\n",
    "blush_ct = ch_til[2]"
   ]
  },
  {
   "cell_type": "code",
   "execution_count": 196,
   "id": "bb248e08",
   "metadata": {
    "scrolled": true
   },
   "outputs": [],
   "source": [
    "paletas = ['OTOÑO', 'PRIMAVERA / OTOÑO / INVIERNO', 'INVIERNO', 'PRIMAVERA / IVNVIERNO', 'OTOÑO / INVIERNO',\\\n",
    "          'OTOÑO / INVIERNO']\n",
    "sombras_ct['PALETAS'] = paletas"
   ]
  },
  {
   "cell_type": "code",
   "execution_count": 199,
   "id": "06e17b15",
   "metadata": {},
   "outputs": [],
   "source": [
    "paletas = ['OTOÑO / INVIERNO', 'OTOÑO / INVIERNO / VERANO', 'PRIMAVERA / OTOÑO / VERANO', 'VERANO / OTOÑO, INVIERNO',\\\n",
    "          'OTOÑO / INVIERNO', 'PRIMAVERA / OTOÑO', 'PRIMAVERA / VERANO', 'VERANO / INVIERNO', 'PRIMAVERA', 'PRIMAVERA / OTOÑO', 'PRIMAVERA / OTOÑO']\n",
    "labios_ct['PALETAS'] = paletas"
   ]
  },
  {
   "cell_type": "code",
   "execution_count": 200,
   "id": "17dbaaff",
   "metadata": {},
   "outputs": [],
   "source": [
    "paletas = ['VERANO / INVIERNO', 'PRIMAVERA / OTOÑO', 'VERANO / INVIERNO', 'VERANO / INVIERNO', 'PRIMAVERA / OTOÑO', \\\n",
    "          'VERANO / INVIERNO', 'VERANO / INVIERNO']\n",
    "blush_ct['PALETAS'] = paletas"
   ]
  },
  {
   "cell_type": "code",
   "execution_count": 116,
   "id": "811430a0",
   "metadata": {},
   "outputs": [],
   "source": [
    "labios_ct['PRODUCTO'] = 'PINTALABIOS'\n",
    "blush_ct['PRODUCTO'] = 'COLORETE'"
   ]
  },
  {
   "cell_type": "markdown",
   "id": "037e3ff2",
   "metadata": {},
   "source": [
    "# 7 - EXTRACCIÓN DE DATOS DE SOMBRAS, BLUSH Y PINTALABIOS DE BOBBI BROWN"
   ]
  },
  {
   "cell_type": "code",
   "execution_count": 118,
   "id": "4e3e35b2",
   "metadata": {},
   "outputs": [
    {
     "name": "stderr",
     "output_type": "stream",
     "text": [
      "2022-12-12 11:08:52,937 [48607] WARNING  py.warnings:109: [JupyterRequire] /var/folders/fg/hm_rz3k53fv5qf5dywc0bfwr0000gn/T/ipykernel_48607/1981730666.py:3: DeprecationWarning: executable_path has been deprecated, please pass in a Service object\n",
      "  driver=webdriver.Chrome(PATH)\n",
      "\n"
     ]
    }
   ],
   "source": [
    "PATH=ChromeDriverManager().install()\n",
    "\n",
    "driver=webdriver.Chrome(PATH)"
   ]
  },
  {
   "cell_type": "code",
   "execution_count": 119,
   "id": "5f3d3a7a",
   "metadata": {},
   "outputs": [],
   "source": [
    "URL = 'https://www.bobbibrown.es/products/2330/makeup/eyes/sombra-de-ojos'"
   ]
  },
  {
   "cell_type": "code",
   "execution_count": 120,
   "id": "b8534ae3",
   "metadata": {},
   "outputs": [],
   "source": [
    "driver.get(URL)"
   ]
  },
  {
   "cell_type": "code",
   "execution_count": 121,
   "id": "5581a6e3",
   "metadata": {},
   "outputs": [],
   "source": [
    "precio = driver.find_elements(By.CLASS_NAME, 'price')"
   ]
  },
  {
   "cell_type": "code",
   "execution_count": 122,
   "id": "7184bce1",
   "metadata": {},
   "outputs": [],
   "source": [
    "def extraer2(URL):\n",
    "    driver = webdriver.Chrome(PATH)\n",
    "    driver.get(URL)\n",
    "    time.sleep(5)\n",
    "    driver.execute_script('window.scrollTo(0, 3000);')\n",
    "    time.sleep(5)\n",
    "    \n",
    "    \n",
    "    nombre = driver.find_elements(By.CLASS_NAME, 'product-brief__header')\n",
    "    precio = driver.find_elements(By.CLASS_NAME, 'price')\n",
    "    link =  driver.find_elements(By.CLASS_NAME, 'product-brief__headline-review-link')\n",
    "    \n",
    "    tmp = []\n",
    "    precios = []\n",
    "    links = []\n",
    "    \n",
    "\n",
    "    for e in nombre:\n",
    "        tmp.append(e.text)\n",
    "    \n",
    "    for e in precio:\n",
    "        precios.append(e.text)\n",
    "    \n",
    "    for e in link:\n",
    "        links.append(e.get_attribute('href'))\n",
    "        \n",
    "    for e in precios:\n",
    "        if e == '':\n",
    "            precios.remove(e)\n",
    "    \n",
    "    \n",
    "    cols = ['NOMBRE']\n",
    "    \n",
    "    total = pd.DataFrame(tmp, columns = cols)\n",
    "    \n",
    "    total['PRECIO'] = precios\n",
    "    total['LINKS'] = links\n",
    "    total['PRODUCTO'] = 'SOMBRAS DE OJOS'\n",
    "    \n",
    "    \n",
    "    driver.quit()\n",
    "     \n",
    "    return total"
   ]
  },
  {
   "cell_type": "code",
   "execution_count": 123,
   "id": "f974382b",
   "metadata": {},
   "outputs": [],
   "source": [
    "links_bb = ['https://www.bobbibrown.es/products/2330/makeup/eyes/sombra-de-ojos', \\\n",
    "           'https://www.bobbibrown.es/products/2339/makeup/lips']"
   ]
  },
  {
   "cell_type": "code",
   "execution_count": 150,
   "id": "989bde37",
   "metadata": {
    "scrolled": true
   },
   "outputs": [
    {
     "name": "stderr",
     "output_type": "stream",
     "text": [
      "[Parallel(n_jobs=2)]: Using backend LokyBackend with 2 concurrent workers.\n",
      "/var/folders/fg/hm_rz3k53fv5qf5dywc0bfwr0000gn/T/ipykernel_48607/4154559620.py:2: DeprecationWarning: executable_path has been deprecated, please pass in a Service object\n",
      "/var/folders/fg/hm_rz3k53fv5qf5dywc0bfwr0000gn/T/ipykernel_48607/4154559620.py:2: DeprecationWarning: executable_path has been deprecated, please pass in a Service object\n",
      "[Parallel(n_jobs=2)]: Done   2 out of   2 | elapsed:   28.7s remaining:    0.0s\n",
      "[Parallel(n_jobs=2)]: Done   2 out of   2 | elapsed:   28.7s finished\n"
     ]
    }
   ],
   "source": [
    "bobbi_brown = Parallel(n_jobs=2, verbose=True)(delayed(extraer2)(e) for e in links_bb)"
   ]
  },
  {
   "cell_type": "code",
   "execution_count": 151,
   "id": "6a03a00d",
   "metadata": {},
   "outputs": [],
   "source": [
    "sombras_bb = bobbi_brown[0]\n",
    "labios_bb = bobbi_brown[1]"
   ]
  },
  {
   "cell_type": "code",
   "execution_count": 164,
   "id": "4e07133f",
   "metadata": {},
   "outputs": [],
   "source": [
    "#ASIGNAMOS LAS PALETAS PARA CADA PRODUCTO\n",
    "labios_bb['PRODUCTO'] = 'PINTALABIOS'\n",
    "labios_bb.drop(labios_bb.index[[19]], inplace = True)\n",
    "paletas = ['TODAS', 'PRIMAVERA / VERANO', 'TODAS', 'TODAS', 'PRIMAVERA', 'TODAS', 'TODAS','TODAS','TODAS',\\\n",
    "          'PRIMAVERA / OTOÑO / INVIERNO', 'TODAS', 'TODAS', 'TODAS', 'TODAS', 'PRIMAVERA / VERANO', 'TODAS',\\\n",
    "          'TODAS', 'PRIMAVERA / OTOÑO / INVIERNO', 'TODAS', 'PRIMAVERA', 'TODAS', 'OTOÑO / INVIERNO', \\\n",
    "          'TODAS', 'OTOÑO / INVIERNO', 'OTOÑO / INVIERNO']\n",
    "labios_bb['PALETAS'] = paletas"
   ]
  },
  {
   "cell_type": "code",
   "execution_count": 154,
   "id": "a25ef0cf",
   "metadata": {},
   "outputs": [],
   "source": [
    "#ASIGNAMOS LAS PALETAS PARA CADA PRODUCTO\n",
    "sombras_bb.drop(sombras_bb.index[[0,1,4,5,14,15,16]], inplace = True)\n",
    "paletas = ['PRIMAVERA / OTOÑO / INVIERNO', 'PRIMAVERA / OTOÑO / INVIERNO', 'PRIMAVERA / OTOÑO / VERANO', \\\n",
    "          'PRIMAVERA / OTOÑO / VERANO', 'PRIMAVERA / OTOÑO', 'TODAS', 'TODAS', 'PRIMAVERA / OTOÑO / VERANO', \\\n",
    "           'PRIMAVERA', 'PRIMAVERA / OTOÑO / INVIERNO', 'PRIMAVERA']\n",
    "sombras_bb['PALETAS'] = paletas"
   ]
  },
  {
   "cell_type": "markdown",
   "id": "c57bc98f",
   "metadata": {},
   "source": [
    "# 8 - EXTRACCIÓN DE DATOS DE SOMBRAS, BLUSH Y PINTALABIOS DE NYX"
   ]
  },
  {
   "cell_type": "code",
   "execution_count": null,
   "id": "6b558a73",
   "metadata": {},
   "outputs": [],
   "source": [
    "PATH=ChromeDriverManager().install()\n",
    "\n",
    "driver=webdriver.Chrome(PATH)"
   ]
  },
  {
   "cell_type": "code",
   "execution_count": null,
   "id": "e522a6e6",
   "metadata": {},
   "outputs": [],
   "source": [
    "URL = 'https://www.nyxcosmetics.es/paletas/sombras?start=0&sz=18#view-mode=grid'"
   ]
  },
  {
   "cell_type": "code",
   "execution_count": null,
   "id": "972d190b",
   "metadata": {},
   "outputs": [],
   "source": [
    "driver.get(URL)"
   ]
  },
  {
   "cell_type": "code",
   "execution_count": null,
   "id": "c8f82c24",
   "metadata": {},
   "outputs": [],
   "source": []
  }
 ],
 "metadata": {
  "kernelspec": {
   "display_name": "Python 3 (ipykernel)",
   "language": "python",
   "name": "python3"
  },
  "language_info": {
   "codemirror_mode": {
    "name": "ipython",
    "version": 3
   },
   "file_extension": ".py",
   "mimetype": "text/x-python",
   "name": "python",
   "nbconvert_exporter": "python",
   "pygments_lexer": "ipython3",
   "version": "3.9.12"
  }
 },
 "nbformat": 4,
 "nbformat_minor": 5
}
