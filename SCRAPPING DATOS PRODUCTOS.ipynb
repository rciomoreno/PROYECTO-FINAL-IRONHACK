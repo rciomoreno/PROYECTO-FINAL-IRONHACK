{
 "cells": [
  {
   "cell_type": "markdown",
   "id": "cc93b361",
   "metadata": {},
   "source": [
    "# EXTRACCIÓN DE DATOS:\n",
    "\n",
    "Paletas de sombras, pintalabios y colorete en función de la paleta de colores asignadas, siendo estas:\\\n",
    "        -PRIMAVERA\\\n",
    "        -VERANO\\\n",
    "        -OTOÑO\\\n",
    "        -INVIERNO"
   ]
  },
  {
   "cell_type": "markdown",
   "id": "1153dd64",
   "metadata": {},
   "source": [
    "**IMPORTACIONES**"
   ]
  },
  {
   "cell_type": "code",
   "execution_count": 3,
   "id": "791579a2",
   "metadata": {},
   "outputs": [],
   "source": [
    "from selenium import webdriver\n",
    "import pandas as pd\n",
    "import numpy as np\n",
    "from webdriver_manager.chrome import ChromeDriverManager\n",
    "from joblib import Parallel, delayed\n",
    "from selenium.webdriver.chrome.options import Options\n",
    "from selenium.webdriver.common.by import By\n",
    "import time"
   ]
  },
  {
   "cell_type": "markdown",
   "id": "a94e35ef",
   "metadata": {},
   "source": [
    "Ahora, vamos a scrappear los productos de maquillaje con mejor rating que se ajusten a las paletas de colores\\\n",
    "de cada estación. Sacaremos nombre, precio y rating."
   ]
  },
  {
   "cell_type": "code",
   "execution_count": null,
   "id": "59e6a251",
   "metadata": {
    "scrolled": true
   },
   "outputs": [],
   "source": [
    "PATH=ChromeDriverManager().install()\n",
    "\n",
    "driver=webdriver.Chrome(PATH)  "
   ]
  },
  {
   "cell_type": "markdown",
   "id": "936051bf",
   "metadata": {},
   "source": [
    "*Existen varios productos que podemos recomendar segun la colometría de las personas. En este caso, nos centraremos\\\n",
    "en sombras de ojos, pintalabios, colorete y corrector*\\\n",
    "\n",
    "Por otra parte, debemos tener en cuenta que hay varias tiendas donde podemos encontrar productos de maquillaje.\\\n",
    "Concretamente, en nuestro proyecto, los escogeremos de las siguientes:\n",
    "\n",
    "1. **PRIMOR**\n",
    "2. **SEPHORA**"
   ]
  },
  {
   "cell_type": "markdown",
   "id": "0c530da2",
   "metadata": {},
   "source": [
    "# **1 - EXTRACCIÓN DE DATOS DE PRIMOR DE SOMBRAS, PINTALABIOS Y COLORETE DE PRIMOR**"
   ]
  },
  {
   "cell_type": "code",
   "execution_count": null,
   "id": "e6bfaacf",
   "metadata": {},
   "outputs": [],
   "source": [
    "URL = 'https://www.primor.eu/#/dfclassic/query=paletas%20sombras%20verano&filter%5Bcategories%5D%5B0%5D=Paletas%20de%20sombras%20de%20ojos%20y%20maquillaje&session_id=e68b0b5ac1828fdb430ff5b492adb6e5&query_name=match_and'\n",
    "driver.get(URL)"
   ]
  },
  {
   "cell_type": "code",
   "execution_count": null,
   "id": "373cf237",
   "metadata": {},
   "outputs": [],
   "source": [
    "filas = driver.find_elements(By.CLASS_NAME, 'df-card__content')"
   ]
  },
  {
   "cell_type": "code",
   "execution_count": null,
   "id": "4a5081af",
   "metadata": {},
   "outputs": [],
   "source": [
    "#Paletas de sombras\n",
    "def extraer(URL):\n",
    "    driver = webdriver.Chrome(PATH)\n",
    "    driver.get(URL)\n",
    "    \n",
    "    driver.execute_script('window.scrollTo(0, 200);')  # 200px de scroll\n",
    "    \n",
    "    filas = driver.find_elements(By.CLASS_NAME, 'df-card__content')\n",
    "    link = driver.find_elements(By.CLASS_NAME, 'df-card__main')\n",
    "    tmp = []\n",
    "    links = []\n",
    "\n",
    "    for e in filas:\n",
    "        tmp.append(e.text.split('\\n'))\n",
    "    \n",
    "    for e in link:\n",
    "        links.append(e.get_attribute('href'))\n",
    "    \n",
    "    cols = ['NOMBRE', 'TIPO', 'PRECIO']\n",
    "    \n",
    "    total = pd.DataFrame(tmp, columns = cols)\n",
    "    \n",
    "    total['LINKS'] = links\n",
    "     \n",
    "    return total"
   ]
  },
  {
   "cell_type": "code",
   "execution_count": null,
   "id": "c86ab9e2",
   "metadata": {},
   "outputs": [],
   "source": [
    "links_sombras_primor = ['https://www.primor.eu/#/dfclassic/query=paletas%20sombras%20verano&filter%5Bcategories%5D%5B0%5D=Paletas%20de%20sombras%20de%20ojos%20y%20maquillaje&session_id=e68b0b5ac1828fdb430ff5b492adb6e5&query_name=match_and',\\\n",
    "               'https://www.primor.eu/#/dfclassic/query=paletas%20sombras%20oto%C3%B1al&session_id=e68b0b5ac1828fdb430ff5b492adb6e5&query_name=match_and',\\\n",
    "               'https://www.primor.eu/#/dfclassic/query=paletas%20sombras%20invierno&filter%5Bcategories%5D%5B0%5D=Ojos%20lujo&filter%5Bcategories%5D%5B1%5D=Paletas%20de%20sombras%20de%20ojos%20y%20maquillaje&filter%5Bcategories%5D%5B2%5D=Sombras%20de%20ojos%20lujo&session_id=e68b0b5ac1828fdb430ff5b492adb6e5&query_name=match_and',\\\n",
    "               'https://www.primor.eu/#/dfclassic/query=paletas%20sombras%20pastel&filter%5Bcategories%5D%5B0%5D=Paletas%20de%20sombras%20de%20ojos%20y%20maquillaje&filter%5Bcategories%5D%5B1%5D=Sombras%20de%20ojos&session_id=e68b0b5ac1828fdb430ff5b492adb6e5&query_name=match_and']"
   ]
  },
  {
   "cell_type": "code",
   "execution_count": null,
   "id": "f9e9ec4e",
   "metadata": {
    "scrolled": true
   },
   "outputs": [],
   "source": [
    "productos = Parallel(n_jobs=4, verbose=True)(delayed(extraer)(e) for e in links_sombras_primor)"
   ]
  },
  {
   "cell_type": "code",
   "execution_count": null,
   "id": "c0685be9",
   "metadata": {},
   "outputs": [],
   "source": [
    "sombras_ver_prim = productos[0] \n",
    "sombras_oto_prim = productos[1] \n",
    "sombras_inv_prim = productos[2] \n",
    "sombras_pri_prim = productos[3] \n",
    "#productos_totales = pd.concat([productos[0], productos[1], productos[2], productos[3]], axis = 0)"
   ]
  },
  {
   "cell_type": "code",
   "execution_count": null,
   "id": "1a7d820b",
   "metadata": {},
   "outputs": [],
   "source": [
    "ad1 = extraer('https://www.primor.eu/#/dfclassic/query=sombras%20krash%20rosas&filter%5Bcategories%5D%5B0%5D=Paletas%20de%20sombras%20de%20ojos%20y%20maquillaje&filter%5Bcategories%5D%5B1%5D=Sombras%20de%20ojos&filter%5Bbrand%5D%5B0%5D=Krash%20Kosmetics&session_id=e68b0b5ac1828fdb430ff5b492adb6e5&query_name=match_and')\n",
    "ad2 = extraer('https://www.primor.eu/#/dfclassic/query=sombras%20lilas&filter%5Bcategories%5D%5B0%5D=Maquillaje%20de%20ojos&session_id=e68b0b5ac1828fdb430ff5b492adb6e5&query_name=match_and')\n",
    "ad3 = extraer('https://www.primor.eu/#/dfclassic/query=sombras%20negras&filter%5Bcategories%5D%5B0%5D=Maquillaje%20de%20ojos&session_id=e68b0b5ac1828fdb430ff5b492adb6e5&query_name=match_and')\n",
    "ad4 = extraer('https://www.primor.eu/#/dfclassic/query=sombras%20naranjas&session_id=e68b0b5ac1828fdb430ff5b492adb6e5&query_name=match_and')"
   ]
  },
  {
   "cell_type": "code",
   "execution_count": null,
   "id": "b35e4bf8",
   "metadata": {},
   "outputs": [],
   "source": [
    "#Limpiamos los índices y añadimos lo que hemos sacado más\n",
    "\n",
    "#PRIMAVERA\n",
    "sombras_pri_prim = pd.concat([sombras_pri_prim, ad1], axis = 0)\n",
    "sombras_pri_prim.drop_duplicates(inplace = True)\n",
    "sombras_pri_prim['ID'] = [e for e in range(len(sombras_pri_prim))]\n",
    "sombras_pri_prim.set_index('ID', drop = True, inplace = True)\n",
    "\n",
    "#OTOÑO\n",
    "sombras_oto_prim = pd.concat([sombras_oto_prim, ad2], axis = 0)\n",
    "sombras_oto_prim.drop_duplicates(inplace = True)\n",
    "sombras_oto_prim['ID'] = [e for e in range(len(sombras_oto_prim))]\n",
    "sombras_oto_prim.set_index('ID', drop = True, inplace = True)\n",
    "\n",
    "#INVIERNO\n",
    "sombras_inv_prim = pd.concat([sombras_inv_prim, ad3], axis = 0)\n",
    "sombras_inv_prim.drop_duplicates(inplace = True)\n",
    "sombras_inv_prim['ID'] = [e for e in range(len(sombras_inv_prim))]\n",
    "sombras_inv_prim.set_index('ID', drop = True, inplace = True)\n",
    "\n",
    "#VERANO\n",
    "sombras_ver_prim = pd.concat([sombras_ver_prim, ad4], axis = 0)\n",
    "sombras_ver_prim.drop_duplicates(inplace = True)\n",
    "sombras_ver_prim['ID'] = [e for e in range(len(sombras_ver_prim))]\n",
    "sombras_ver_prim.set_index('ID', drop = True, inplace = True)"
   ]
  },
  {
   "cell_type": "code",
   "execution_count": null,
   "id": "738ec3ec",
   "metadata": {},
   "outputs": [],
   "source": [
    "#Pintalabios\n",
    "def extraer(URL):\n",
    "    driver = webdriver.Chrome(PATH)\n",
    "    driver.get(URL)\n",
    "    \n",
    "    driver.execute_script('window.scrollTo(0, 200);')  # 200px de scroll\n",
    "    \n",
    "    filas = driver.find_elements(By.CLASS_NAME, 'df-card__content')\n",
    "    link = driver.find_elements(By.CLASS_NAME, 'df-card__main')\n",
    "    tmp = []\n",
    "    links = []\n",
    "\n",
    "    for e in filas:\n",
    "        tmp.append(e.text.split('\\n'))\n",
    "    \n",
    "    for e in link:\n",
    "        links.append(e.get_attribute('href'))\n",
    "    \n",
    "    cols = ['NOMBRE', 'TIPO', 'PRECIO']\n",
    "    \n",
    "    total = pd.DataFrame(tmp, columns = cols)\n",
    "    \n",
    "    total['LINKS'] = links\n",
    "     \n",
    "    return total"
   ]
  },
  {
   "cell_type": "code",
   "execution_count": null,
   "id": "3789fff2",
   "metadata": {},
   "outputs": [],
   "source": [
    "links_pintalabios_primor = ['https://www.primor.eu/#/dfclassic/query=pintalabios%20vivid%20&filter%5Bcategories%5D%5B0%5D=Pintalabios%20y%20maquillaje%20de%20labios&session_id=e68b0b5ac1828fdb430ff5b492adb6e5&query_name=match_and',\\\n",
    "                           'https://www.primor.eu/#/dfclassic/query=pintalabios%20neutro&filter%5Bcategories%5D%5B0%5D=Barras%20de%20labios%20lujo&filter%5Bcategories%5D%5B1%5D=Pintalabios%20y%20maquillaje%20de%20labios&session_id=e68b0b5ac1828fdb430ff5b492adb6e5&query_name=match_and',\\\n",
    "                           'https://www.primor.eu/#/dfclassic/query=pintalabios%20oscuro&filter%5Bcategories%5D%5B0%5D=Pintalabios%20y%20maquillaje%20de%20labios&session_id=e68b0b5ac1828fdb430ff5b492adb6e5&query_name=match_and',\\\n",
    "                           'https://www.primor.eu/#/dfclassic/query=pintalabios%20rosados&filter%5Bcategories%5D%5B0%5D=Pintalabios%20y%20maquillaje%20de%20labios&filter%5Bbrand%5D%5B0%5D=Revolution&filter%5Bbrand%5D%5B1%5D=NYX%20Professional%20Makeup&filter%5Bbrand%5D%5B2%5D=Krash%20Kosmetics&session_id=e68b0b5ac1828fdb430ff5b492adb6e5&query_name=match_and']"
   ]
  },
  {
   "cell_type": "code",
   "execution_count": null,
   "id": "5b146543",
   "metadata": {
    "scrolled": true
   },
   "outputs": [],
   "source": [
    "productos1 = Parallel(n_jobs=4, verbose=True)(delayed(extraer)(e) for e in links_pintalabios_primor)"
   ]
  },
  {
   "cell_type": "code",
   "execution_count": null,
   "id": "3871abbb",
   "metadata": {
    "scrolled": false
   },
   "outputs": [],
   "source": [
    "#Añadimos más filas\n",
    "add1 = extraer('https://www.primor.eu/#/dfclassic/query=pintalabios%20rosados&filter%5Bcategories%5D%5B0%5D=Pintalabios%20y%20maquillaje%20de%20labios&filter%5Bbrand%5D%5B0%5D=NYX%20Professional%20Makeup&filter%5Bbrand%5D%5B1%5D=Krash%20Kosmetics&session_id=e68b0b5ac1828fdb430ff5b492adb6e5&query_name=match_and')\n",
    "add2 = extraer('https://www.primor.eu/#/dfclassic/query=berry%20nars&filter%5Bbrand%5D%5B0%5D=NARS&filter%5Bcategories%5D%5B0%5D=Labios%20lujo&session_id=e68b0b5ac1828fdb430ff5b492adb6e5&query_name=match_or')\n",
    "add3 = extraer('https://www.primor.eu/#/dfclassic/query=nude%20nars&session_id=e68b0b5ac1828fdb430ff5b492adb6e5&query_name=match_and')\n",
    "add4 = extraer('https://www.primor.eu/#/dfclassic/query=dark%20nars&filter%5Bbrand%5D%5B0%5D=NARS&filter%5Bcategories%5D%5B0%5D=Barras%20de%20labios%20lujo&session_id=e68b0b5ac1828fdb430ff5b492adb6e5&query_name=match_or')\n",
    "add5 = extraer('https://www.primor.eu/#/dfclassic/query=mac%20lips&session_id=e68b0b5ac1828fdb430ff5b492adb6e5&query_name=match_and')"
   ]
  },
  {
   "cell_type": "code",
   "execution_count": null,
   "id": "18fb85fb",
   "metadata": {},
   "outputs": [],
   "source": [
    "pintalab_ver_prim = productos1[0] \n",
    "pintalab_oto_prim = productos1[1] \n",
    "pintalab_inv_prim = productos1[2] \n",
    "pintalab_pri_pri = productos1[3]"
   ]
  },
  {
   "cell_type": "code",
   "execution_count": null,
   "id": "990c83d3",
   "metadata": {},
   "outputs": [],
   "source": [
    "#Limpiamos los índices y añadimos lo que hemos sacado más\n",
    "\n",
    "#PRIMAVERA\n",
    "pintalab_pri_prim = pd.concat([pintalab_pri_pri, add, add3], axis = 0)\n",
    "pintalab_pri_prim.drop_duplicates(inplace = True)\n",
    "pintalab_pri_prim['ID'] = [e for e in range(len(pintalab_pri_prim))]\n",
    "pintalab_pri_prim.set_index('ID', drop = True, inplace = True)\n",
    "\n",
    "#OTOÑO\n",
    "pintalab_oto_prim = pd.concat([pintalab_pri_pri, add1], axis = 0)\n",
    "pintalab_oto_prim.drop_duplicates(inplace = True)\n",
    "pintalab_oto_prim['ID'] = [e for e in range(len(pintalab_oto_prim))]\n",
    "pintalab_oto_prim.set_index('ID', drop = True, inplace = True)\n",
    "\n",
    "#INVIERNO\n",
    "pintalab_inv_prim = pd.concat([pintalab_pri_pri, add4], axis = 0)\n",
    "pintalab_inv_prim.drop_duplicates(inplace = True)\n",
    "pintalab_inv_prim['ID'] = [e for e in range(len(pintalab_inv_prim))]\n",
    "pintalab_inv_prim.set_index('ID', drop = True, inplace = True)\n",
    "\n",
    "#VERANO\n",
    "pintalab_ver_prim = pd.concat([pintalab_pri_pri, add5], axis = 0)\n",
    "pintalab_ver_prim.drop_duplicates(inplace = True)\n",
    "pintalab_ver_prim['ID'] = [e for e in range(len(pintalab_ver_prim))]\n",
    "pintalab_ver_prim.set_index('ID', drop = True, inplace = True)"
   ]
  },
  {
   "cell_type": "code",
   "execution_count": null,
   "id": "1bb7ce51",
   "metadata": {},
   "outputs": [],
   "source": [
    "#Colorete\n",
    "def extraer(URL):\n",
    "    driver = webdriver.Chrome(PATH)\n",
    "    driver.get(URL)\n",
    "    \n",
    "    driver.execute_script('window.scrollTo(0, 200);')  # 200px de scroll\n",
    "    \n",
    "    filas = driver.find_elements(By.CLASS_NAME, 'df-card__content')\n",
    "    link = driver.find_elements(By.CLASS_NAME, 'df-card__main')\n",
    "    tmp = []\n",
    "    links = []\n",
    "\n",
    "    for e in filas:\n",
    "        tmp.append(e.text.split('\\n'))\n",
    "    \n",
    "    for e in link:\n",
    "        links.append(e.get_attribute('href'))\n",
    "    \n",
    "    cols = ['NOMBRE', 'TIPO', 'PRECIO']\n",
    "    \n",
    "    total = pd.DataFrame(tmp, columns = cols)\n",
    "    \n",
    "    total['LINKS'] = links\n",
    "     \n",
    "    return total"
   ]
  },
  {
   "cell_type": "code",
   "execution_count": null,
   "id": "65beb724",
   "metadata": {},
   "outputs": [],
   "source": [
    "links_blush_primor = ['https://www.primor.eu/3ina/66421-colorete-the-blush.html#/dfclassic/query=blush&filter%5Bbrand%5D%5B0%5D=MAC&session_id=e68b0b5ac1828fdb430ff5b492adb6e5&query_name=match_and',\\\n",
    "                     'https://www.primor.eu/#/dfclassic/query=blush&filter%5Bbrand%5D%5B0%5D=NARS&session_id=e68b0b5ac1828fdb430ff5b492adb6e5&query_name=match_and',\\\n",
    "                     'https://www.primor.eu/#/dfclassic/query=blush%20rosa&filter%5Bbrand%5D%5B0%5D=3ina&session_id=e68b0b5ac1828fdb430ff5b492adb6e5&query_name=match_and',\\\n",
    "                     'https://www.primor.eu/#/dfclassic/query=blush&filter%5Bbrand%5D%5B0%5D=Yves%20Saint%20Laurent&session_id=e68b0b5ac1828fdb430ff5b492adb6e5&query_name=match_and']"
   ]
  },
  {
   "cell_type": "code",
   "execution_count": null,
   "id": "1416639a",
   "metadata": {},
   "outputs": [],
   "source": [
    "productos2 = Parallel(n_jobs=4, verbose=True)(delayed(extraer)(e) for e in links_blush_primor)"
   ]
  },
  {
   "cell_type": "code",
   "execution_count": null,
   "id": "8245389c",
   "metadata": {},
   "outputs": [],
   "source": [
    "blush_pri_prim = productos1[0] \n",
    "blush_ver_prim = productos1[1] \n",
    "blush_inv_prim = productos1[2] \n",
    "blush_oto_prim = productos1[3]"
   ]
  },
  {
   "cell_type": "markdown",
   "id": "c74146ce",
   "metadata": {},
   "source": [
    "# **2 - EXTRACCIÓN DE DATOS DE PRIMOR DE SOMBRAS, PINTALABIOS Y COLORETE DE SEPHORA**"
   ]
  },
  {
   "cell_type": "code",
   "execution_count": null,
   "id": "a745ab89",
   "metadata": {},
   "outputs": [],
   "source": [
    "PATH=ChromeDriverManager().install()\n",
    "\n",
    "driver=webdriver.Chrome(PATH)  "
   ]
  },
  {
   "cell_type": "code",
   "execution_count": null,
   "id": "308ffacf",
   "metadata": {},
   "outputs": [],
   "source": [
    "URL = 'https://www.urbandecay.com/eyeshadow/?prefn1=taxonomyColorEye&prefv1=BLACK%7CBLUE%7CBOLD%7CBROWN%7CCOOL%7CNEUTRALS%7CPLUMS%7CPURPLE%7CRED%7CSIENNA%7CSILVER%7CSMOKEY%7CTAUPE&start=0&sz=12#view-mode=grid'\n",
    "driver.get(URL)"
   ]
  },
  {
   "cell_type": "code",
   "execution_count": null,
   "id": "2d59c1ed",
   "metadata": {},
   "outputs": [],
   "source": [
    "prueba = driver.find_elements(By.CLASS_NAME, 'c-product-tile__caption-inner')"
   ]
  },
  {
   "cell_type": "code",
   "execution_count": null,
   "id": "73a83786",
   "metadata": {},
   "outputs": [],
   "source": [
    "driver.find_element(By.CLASS_NAME, 'c-product-tile__name').text"
   ]
  },
  {
   "cell_type": "code",
   "execution_count": null,
   "id": "6acd528c",
   "metadata": {},
   "outputs": [],
   "source": [
    "driver.find_element(By.CLASS_NAME, 'c-product-tile__price').text"
   ]
  },
  {
   "cell_type": "code",
   "execution_count": null,
   "id": "95465cdf",
   "metadata": {},
   "outputs": [],
   "source": [
    "textos = [e.text.split() for e in prueba]"
   ]
  },
  {
   "cell_type": "code",
   "execution_count": null,
   "id": "b02239ce",
   "metadata": {},
   "outputs": [],
   "source": [
    "textos = textos[415::]"
   ]
  },
  {
   "cell_type": "code",
   "execution_count": null,
   "id": "ef5aaa14",
   "metadata": {},
   "outputs": [],
   "source": [
    "driver.find_element(By.CSS_SELECTOR, 'body>div.c-modal.h-text-align-center.m-borderless.m-autosize-large.m-image.m-opened.h-fade-in>div>button') # acepta cookies\n"
   ]
  },
  {
   "cell_type": "code",
   "execution_count": 19,
   "id": "c2f853a8",
   "metadata": {},
   "outputs": [],
   "source": [
    "def extraer(URL):\n",
    "    PATH=ChromeDriverManager().install()\n",
    "    driver = webdriver.Chrome(PATH)\n",
    "    driver.get(URL)\n",
    "    \n",
    "    time.sleep(5)\n",
    "    driver.find_element(By.CSS_SELECTOR, 'body>div.c-modal.h-text-align-center.m-borderless.m-autosize-large.m-image.m-opened.h-fade-in>div>button').click() \n",
    "    time.sleep(5)\n",
    "    driver.execute_script('window.scrollTo(0, 200);')  # 200px de scroll\n",
    "    time.sleep(5)\n",
    "    nombre = driver.find_elements(By.CLASS_NAME, 'c-product-tile__name')\n",
    "    time.sleep(5)\n",
    "    precio = driver.find_elements(By.CLASS_NAME, 'c-product-tile__price')\n",
    "    tmp = []\n",
    "    precios = []\n",
    "\n",
    "    for e in nombre:\n",
    "        tmp.append(e.text)\n",
    "    \n",
    "    for e in precio:\n",
    "        precios.append(e.text.split())\n",
    "    \n",
    "    cols = ['NOMBRE']\n",
    "    \n",
    "    total = pd.DataFrame(tmp, columns = cols)\n",
    "    \n",
    "    total['PRECIO'] = precios\n",
    "     \n",
    "    return total"
   ]
  },
  {
   "cell_type": "code",
   "execution_count": 20,
   "id": "00aecc3f",
   "metadata": {},
   "outputs": [],
   "source": [
    "URL = 'https://www.urbandecay.com/eyeshadow/?prefn1=taxonomyColorEye&prefv1=BLACK%7CBLUE%7CBOLD%7CBROWN%7CCOOL%7CNEUTRALS%7CPLUMS%7CPURPLE%7CRED%7CSIENNA%7CSILVER%7CSMOKEY%7CTAUPE&start=0&sz=12#view-mode=grid'\n"
   ]
  },
  {
   "cell_type": "code",
   "execution_count": 18,
   "id": "51466fa5",
   "metadata": {},
   "outputs": [
    {
     "name": "stderr",
     "output_type": "stream",
     "text": [
      "2022-12-09 23:05:26,149 [39284] WARNING  py.warnings:109: [JupyterRequire] /var/folders/fg/hm_rz3k53fv5qf5dywc0bfwr0000gn/T/ipykernel_39284/2074955258.py:3: DeprecationWarning: executable_path has been deprecated, please pass in a Service object\n",
      "  driver = webdriver.Chrome(PATH)\n",
      "\n"
     ]
    },
    {
     "ename": "IndexError",
     "evalue": "list index out of range",
     "output_type": "error",
     "traceback": [
      "\u001b[0;31m---------------------------------------------------------------------------\u001b[0m",
      "\u001b[0;31mIndexError\u001b[0m                                Traceback (most recent call last)",
      "Input \u001b[0;32mIn [18]\u001b[0m, in \u001b[0;36m<cell line: 1>\u001b[0;34m()\u001b[0m\n\u001b[0;32m----> 1\u001b[0m \u001b[43mextraer\u001b[49m\u001b[43m(\u001b[49m\u001b[43mURL\u001b[49m\u001b[43m)\u001b[49m\n",
      "Input \u001b[0;32mIn [16]\u001b[0m, in \u001b[0;36mextraer\u001b[0;34m(URL)\u001b[0m\n\u001b[1;32m     18\u001b[0m     tmp\u001b[38;5;241m.\u001b[39mappend(e\u001b[38;5;241m.\u001b[39mtext)\n\u001b[1;32m     20\u001b[0m \u001b[38;5;28;01mfor\u001b[39;00m e \u001b[38;5;129;01min\u001b[39;00m precio:\n\u001b[0;32m---> 21\u001b[0m     precios\u001b[38;5;241m.\u001b[39mappend(\u001b[43me\u001b[49m\u001b[38;5;241;43m.\u001b[39;49m\u001b[43mtext\u001b[49m\u001b[38;5;241;43m.\u001b[39;49m\u001b[43msplit\u001b[49m\u001b[43m(\u001b[49m\u001b[38;5;124;43m'\u001b[39;49m\u001b[38;5;130;43;01m\\n\u001b[39;49;00m\u001b[38;5;124;43m'\u001b[39;49m\u001b[43m)\u001b[49m\u001b[43m[\u001b[49m\u001b[38;5;241;43m1\u001b[39;49m\u001b[43m]\u001b[49m)\n\u001b[1;32m     23\u001b[0m cols \u001b[38;5;241m=\u001b[39m [\u001b[38;5;124m'\u001b[39m\u001b[38;5;124mNOMBRE\u001b[39m\u001b[38;5;124m'\u001b[39m]\n\u001b[1;32m     25\u001b[0m total \u001b[38;5;241m=\u001b[39m pd\u001b[38;5;241m.\u001b[39mDataFrame(tmp, columns \u001b[38;5;241m=\u001b[39m cols)\n",
      "\u001b[0;31mIndexError\u001b[0m: list index out of range"
     ]
    }
   ],
   "source": [
    "extraer(URL)"
   ]
  },
  {
   "cell_type": "code",
   "execution_count": null,
   "id": "b2235fea",
   "metadata": {},
   "outputs": [],
   "source": []
  }
 ],
 "metadata": {
  "kernelspec": {
   "display_name": "Python 3 (ipykernel)",
   "language": "python",
   "name": "python3"
  },
  "language_info": {
   "codemirror_mode": {
    "name": "ipython",
    "version": 3
   },
   "file_extension": ".py",
   "mimetype": "text/x-python",
   "name": "python",
   "nbconvert_exporter": "python",
   "pygments_lexer": "ipython3",
   "version": "3.9.12"
  }
 },
 "nbformat": 4,
 "nbformat_minor": 5
}
