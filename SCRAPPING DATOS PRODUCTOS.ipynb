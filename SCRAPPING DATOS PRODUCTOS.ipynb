{
 "cells": [
  {
   "cell_type": "markdown",
   "id": "13004e06",
   "metadata": {},
   "source": [
    "# EXTRACCIÓN DE DATOS:\n",
    "\n",
    "Paletas de sombras, pintalabios y colorete en función de la paleta de colores asignadas, siendo estas:\\\n",
    "        -PRIMAVERA\\\n",
    "        -VERANO\\\n",
    "        -OTOÑO\\\n",
    "        -INVIERNO"
   ]
  },
  {
   "cell_type": "markdown",
   "id": "38e3796e",
   "metadata": {},
   "source": [
    "**IMPORTACIONES**"
   ]
  },
  {
   "cell_type": "code",
   "execution_count": 537,
   "id": "5be2cf61",
   "metadata": {},
   "outputs": [],
   "source": [
    "from selenium import webdriver\n",
    "import pandas as pd\n",
    "import numpy as np\n",
    "from webdriver_manager.chrome import ChromeDriverManager\n",
    "from joblib import Parallel, delayed\n",
    "from selenium.webdriver.chrome.options import Options\n",
    "from selenium.webdriver.common.by import By\n",
    "import time\n",
    "import re"
   ]
  },
  {
   "cell_type": "code",
   "execution_count": null,
   "id": "f48bc01e",
   "metadata": {},
   "outputs": [],
   "source": [
    "pd.set_option('display.max_rows', None)"
   ]
  },
  {
   "cell_type": "markdown",
   "id": "a6b6a1db",
   "metadata": {},
   "source": [
    "Ahora, vamos a scrappear los productos de maquillaje con mejor rating que se ajusten a las paletas de colores\\\n",
    "de cada estación. Sacaremos nombre, precio y rating."
   ]
  },
  {
   "cell_type": "code",
   "execution_count": 335,
   "id": "69d85428",
   "metadata": {
    "scrolled": true
   },
   "outputs": [
    {
     "name": "stderr",
     "output_type": "stream",
     "text": [
      "2022-12-12 16:24:52,097 [48607] WARNING  py.warnings:109: [JupyterRequire] /var/folders/fg/hm_rz3k53fv5qf5dywc0bfwr0000gn/T/ipykernel_48607/235325829.py:3: DeprecationWarning: executable_path has been deprecated, please pass in a Service object\n",
      "  driver=webdriver.Chrome(PATH)\n",
      "\n"
     ]
    }
   ],
   "source": [
    "PATH=ChromeDriverManager().install()\n",
    "\n",
    "driver=webdriver.Chrome(PATH)  "
   ]
  },
  {
   "cell_type": "markdown",
   "id": "89ec6489",
   "metadata": {},
   "source": [
    "*Existen varios productos que podemos recomendar segun la colometría de las personas. En este caso, nos centraremos\\\n",
    "en sombras de ojos, pintalabios, colorete y corrector*\\\n",
    "\n",
    "Por otra parte, debemos tener en cuenta que hay varias tiendas donde podemos encontrar productos de maquillaje.\\\n",
    "Concretamente, en nuestro proyecto, los escogeremos de las siguientes:\n",
    "\n",
    "1. **PRIMOR**\n",
    "2. **SEPHORA**"
   ]
  },
  {
   "cell_type": "markdown",
   "id": "ebf9c113",
   "metadata": {},
   "source": [
    "# **1 - EXTRACCIÓN DE DATOS DE PRIMOR DE SOMBRAS, PINTALABIOS Y COLORETE DE PRIMOR**"
   ]
  },
  {
   "cell_type": "code",
   "execution_count": 336,
   "id": "35932121",
   "metadata": {},
   "outputs": [],
   "source": [
    "URL = 'https://www.primor.eu/#/dfclassic/query=paletas%20sombras%20verano&filter%5Bcategories%5D%5B0%5D=Paletas%20de%20sombras%20de%20ojos%20y%20maquillaje&session_id=e68b0b5ac1828fdb430ff5b492adb6e5&query_name=match_and'\n",
    "driver.get(URL)"
   ]
  },
  {
   "cell_type": "code",
   "execution_count": 4,
   "id": "bb123098",
   "metadata": {},
   "outputs": [],
   "source": [
    "#Investigamos dónde podemos entrar para scrappear PRIMOR\n",
    "filas = driver.find_elements(By.CLASS_NAME, 'df-card__content')"
   ]
  },
  {
   "cell_type": "code",
   "execution_count": 368,
   "id": "d891086e",
   "metadata": {},
   "outputs": [],
   "source": [
    "precios = driver.find_elements(By.CLASS_NAME, 'df-card__price')"
   ]
  },
  {
   "cell_type": "code",
   "execution_count": null,
   "id": "272e614d",
   "metadata": {},
   "outputs": [],
   "source": []
  },
  {
   "cell_type": "code",
   "execution_count": 370,
   "id": "62060fcd",
   "metadata": {},
   "outputs": [],
   "source": [
    "#Paletas de sombras\n",
    "def extraer(URL):\n",
    "    driver = webdriver.Chrome(PATH)\n",
    "    driver.get(URL)\n",
    "    \n",
    "    driver.execute_script('window.scrollTo(0, 3000);')  # 200px de scroll\n",
    "    time.sleep(5)\n",
    "    \n",
    "    filas = driver.find_elements(By.CLASS_NAME, 'df-card__content')\n",
    "    link = driver.find_elements(By.CLASS_NAME, 'df-card__main')\n",
    "    tmp = []\n",
    "    links = []\n",
    "\n",
    "    for e in filas:\n",
    "        tmp.append(e.text.split('\\n'))\n",
    "    \n",
    "    for e in link:\n",
    "        links.append(e.get_attribute('href'))\n",
    "    \n",
    "    cols = ['NOMBRE', 'TIPO', 'PRECIO']\n",
    "    \n",
    "    total = pd.DataFrame(tmp, columns = cols)\n",
    "    \n",
    "    total['LINKS'] = links\n",
    "    total['PRODUCTO'] = 'SOMBRAS DE OJOS'\n",
    "    total.drop(['TIPO'], axis = 1, inplace = True)\n",
    "    \n",
    "    driver.quit()\n",
    "     \n",
    "    return total"
   ]
  },
  {
   "cell_type": "code",
   "execution_count": 371,
   "id": "c6e78f9d",
   "metadata": {},
   "outputs": [],
   "source": [
    "links_sombras_primor = ['https://www.primor.eu/#/dfclassic/query=paletas%20sombras%20verano&filter%5Bcategories%5D%5B0%5D=Paletas%20de%20sombras%20de%20ojos%20y%20maquillaje&session_id=e68b0b5ac1828fdb430ff5b492adb6e5&query_name=match_and',\\\n",
    "               'https://www.primor.eu/#/dfclassic/query=paletas%20sombras%20oto%C3%B1al&session_id=e68b0b5ac1828fdb430ff5b492adb6e5&query_name=match_and',\\\n",
    "               'https://www.primor.eu/#/dfclassic/query=paletas%20sombras%20invierno&filter%5Bcategories%5D%5B0%5D=Ojos%20lujo&filter%5Bcategories%5D%5B1%5D=Paletas%20de%20sombras%20de%20ojos%20y%20maquillaje&filter%5Bcategories%5D%5B2%5D=Sombras%20de%20ojos%20lujo&session_id=e68b0b5ac1828fdb430ff5b492adb6e5&query_name=match_and',\\\n",
    "               'https://www.primor.eu/#/dfclassic/query=paletas%20sombras%20pastel&filter%5Bcategories%5D%5B0%5D=Paletas%20de%20sombras%20de%20ojos%20y%20maquillaje&filter%5Bcategories%5D%5B1%5D=Sombras%20de%20ojos&session_id=e68b0b5ac1828fdb430ff5b492adb6e5&query_name=match_and']"
   ]
  },
  {
   "cell_type": "code",
   "execution_count": 372,
   "id": "0b0955db",
   "metadata": {
    "scrolled": true
   },
   "outputs": [
    {
     "name": "stderr",
     "output_type": "stream",
     "text": [
      "[Parallel(n_jobs=4)]: Using backend LokyBackend with 4 concurrent workers.\n",
      "/var/folders/fg/hm_rz3k53fv5qf5dywc0bfwr0000gn/T/ipykernel_48607/2921855445.py:3: DeprecationWarning: executable_path has been deprecated, please pass in a Service object\n",
      "/var/folders/fg/hm_rz3k53fv5qf5dywc0bfwr0000gn/T/ipykernel_48607/2921855445.py:3: DeprecationWarning: executable_path has been deprecated, please pass in a Service object\n",
      "/var/folders/fg/hm_rz3k53fv5qf5dywc0bfwr0000gn/T/ipykernel_48607/2921855445.py:3: DeprecationWarning: executable_path has been deprecated, please pass in a Service object\n",
      "/var/folders/fg/hm_rz3k53fv5qf5dywc0bfwr0000gn/T/ipykernel_48607/2921855445.py:3: DeprecationWarning: executable_path has been deprecated, please pass in a Service object\n",
      "[Parallel(n_jobs=4)]: Done   2 out of   4 | elapsed:   41.4s remaining:   41.4s\n",
      "[Parallel(n_jobs=4)]: Done   4 out of   4 | elapsed:   43.0s finished\n"
     ]
    }
   ],
   "source": [
    "productos = Parallel(n_jobs=4, verbose=True)(delayed(extraer)(e) for e in links_sombras_primor)"
   ]
  },
  {
   "cell_type": "code",
   "execution_count": 373,
   "id": "4103dd1e",
   "metadata": {},
   "outputs": [],
   "source": [
    "sombras_ver_prim = productos[0] \n",
    "sombras_oto_prim = productos[1] \n",
    "sombras_inv_prim = productos[2] \n",
    "sombras_pri_prim = productos[3] \n",
    "#productos_totales = pd.concat([productos[0], productos[1], productos[2], productos[3]], axis = 0)"
   ]
  },
  {
   "cell_type": "code",
   "execution_count": 374,
   "id": "3f97978d",
   "metadata": {},
   "outputs": [
    {
     "name": "stderr",
     "output_type": "stream",
     "text": [
      "2022-12-12 16:38:39,760 [48607] WARNING  py.warnings:109: [JupyterRequire] /var/folders/fg/hm_rz3k53fv5qf5dywc0bfwr0000gn/T/ipykernel_48607/2921855445.py:3: DeprecationWarning: executable_path has been deprecated, please pass in a Service object\n",
      "  driver = webdriver.Chrome(PATH)\n",
      "\n",
      "2022-12-12 16:39:00,221 [48607] WARNING  py.warnings:109: [JupyterRequire] /var/folders/fg/hm_rz3k53fv5qf5dywc0bfwr0000gn/T/ipykernel_48607/2921855445.py:3: DeprecationWarning: executable_path has been deprecated, please pass in a Service object\n",
      "  driver = webdriver.Chrome(PATH)\n",
      "\n",
      "2022-12-12 16:39:17,233 [48607] WARNING  py.warnings:109: [JupyterRequire] /var/folders/fg/hm_rz3k53fv5qf5dywc0bfwr0000gn/T/ipykernel_48607/2921855445.py:3: DeprecationWarning: executable_path has been deprecated, please pass in a Service object\n",
      "  driver = webdriver.Chrome(PATH)\n",
      "\n",
      "2022-12-12 16:39:41,491 [48607] WARNING  py.warnings:109: [JupyterRequire] /var/folders/fg/hm_rz3k53fv5qf5dywc0bfwr0000gn/T/ipykernel_48607/2921855445.py:3: DeprecationWarning: executable_path has been deprecated, please pass in a Service object\n",
      "  driver = webdriver.Chrome(PATH)\n",
      "\n"
     ]
    }
   ],
   "source": [
    "ad1 = extraer('https://www.primor.eu/#/dfclassic/query=sombras%20krash%20rosas&filter%5Bcategories%5D%5B0%5D=Paletas%20de%20sombras%20de%20ojos%20y%20maquillaje&filter%5Bcategories%5D%5B1%5D=Sombras%20de%20ojos&filter%5Bbrand%5D%5B0%5D=Krash%20Kosmetics&session_id=e68b0b5ac1828fdb430ff5b492adb6e5&query_name=match_and')\n",
    "ad2 = extraer('https://www.primor.eu/#/dfclassic/query=sombras%20lilas&filter%5Bcategories%5D%5B0%5D=Maquillaje%20de%20ojos&session_id=e68b0b5ac1828fdb430ff5b492adb6e5&query_name=match_and')\n",
    "ad3 = extraer('https://www.primor.eu/#/dfclassic/query=sombras%20negras&filter%5Bcategories%5D%5B0%5D=Maquillaje%20de%20ojos&session_id=e68b0b5ac1828fdb430ff5b492adb6e5&query_name=match_and')\n",
    "ad4 = extraer('https://www.primor.eu/#/dfclassic/query=sombras%20naranjas&session_id=e68b0b5ac1828fdb430ff5b492adb6e5&query_name=match_and')"
   ]
  },
  {
   "cell_type": "code",
   "execution_count": 375,
   "id": "ea33fde4",
   "metadata": {},
   "outputs": [],
   "source": [
    "#Limpiamos los índices y añadimos lo que hemos sacado más\n",
    "\n",
    "#PRIMAVERA\n",
    "sombras_pri_prim = pd.concat([sombras_pri_prim, ad1], axis = 0)\n",
    "sombras_pri_prim.drop_duplicates(inplace = True)\n",
    "sombras_pri_prim['ID'] = [e for e in range(len(sombras_pri_prim))]\n",
    "sombras_pri_prim.set_index('ID', drop = True, inplace = True)\n",
    "\n",
    "#OTOÑO\n",
    "sombras_oto_prim = pd.concat([sombras_oto_prim, ad2], axis = 0)\n",
    "sombras_oto_prim.drop_duplicates(inplace = True)\n",
    "sombras_oto_prim['ID'] = [e for e in range(len(sombras_oto_prim))]\n",
    "sombras_oto_prim.set_index('ID', drop = True, inplace = True)\n",
    "\n",
    "#INVIERNO\n",
    "sombras_inv_prim = pd.concat([sombras_inv_prim, ad3], axis = 0)\n",
    "sombras_inv_prim.drop_duplicates(inplace = True)\n",
    "sombras_inv_prim['ID'] = [e for e in range(len(sombras_inv_prim))]\n",
    "sombras_inv_prim.set_index('ID', drop = True, inplace = True)\n",
    "\n",
    "#VERANO\n",
    "sombras_ver_prim = pd.concat([sombras_ver_prim, ad4], axis = 0)\n",
    "sombras_ver_prim.drop_duplicates(inplace = True)\n",
    "sombras_ver_prim['ID'] = [e for e in range(len(sombras_ver_prim))]\n",
    "sombras_ver_prim.set_index('ID', drop = True, inplace = True)"
   ]
  },
  {
   "cell_type": "code",
   "execution_count": 409,
   "id": "40cb4b89",
   "metadata": {},
   "outputs": [],
   "source": [
    "sombras_pri_prim['PALETA'] = 'PRIMAVERA'\n",
    "sombras_oto_prim['PALETA'] = 'OTOÑO'\n",
    "sombras_inv_prim['PALETA'] = 'INVIERNO'\n",
    "sombras_ver_prim['PALETA'] = 'VERANO'"
   ]
  },
  {
   "cell_type": "code",
   "execution_count": 11,
   "id": "10a020d8",
   "metadata": {},
   "outputs": [],
   "source": [
    "#Pintalabios\n",
    "def extraer(URL):\n",
    "    driver = webdriver.Chrome(PATH)\n",
    "    driver.get(URL)\n",
    "    \n",
    "    driver.execute_script('window.scrollTo(0, 3000);')  # 200px de scroll\n",
    "    time.sleep(5)\n",
    "    \n",
    "    filas = driver.find_elements(By.CLASS_NAME, 'df-card__content')\n",
    "    link = driver.find_elements(By.CLASS_NAME, 'df-card__main')\n",
    "    tmp = []\n",
    "    links = []\n",
    "\n",
    "    for e in filas:\n",
    "        tmp.append(e.text.split('\\n'))\n",
    "    \n",
    "    for e in link:\n",
    "        links.append(e.get_attribute('href'))\n",
    "    \n",
    "    cols = ['NOMBRE', 'TIPO', 'PRECIO']\n",
    "    \n",
    "    total = pd.DataFrame(tmp, columns = cols)\n",
    "    \n",
    "    total['LINKS'] = links\n",
    "    total['PRODUCTO'] = 'PINTALABIOS'\n",
    "    \n",
    "    driver.quit()\n",
    "     \n",
    "    return total"
   ]
  },
  {
   "cell_type": "code",
   "execution_count": 12,
   "id": "d0f13078",
   "metadata": {},
   "outputs": [],
   "source": [
    "links_pintalabios_primor = ['https://www.primor.eu/#/dfclassic/query=pintalabios%20vivid%20&filter%5Bcategories%5D%5B0%5D=Pintalabios%20y%20maquillaje%20de%20labios&session_id=e68b0b5ac1828fdb430ff5b492adb6e5&query_name=match_and',\\\n",
    "                           'https://www.primor.eu/#/dfclassic/query=pintalabios%20neutro&filter%5Bcategories%5D%5B0%5D=Barras%20de%20labios%20lujo&filter%5Bcategories%5D%5B1%5D=Pintalabios%20y%20maquillaje%20de%20labios&session_id=e68b0b5ac1828fdb430ff5b492adb6e5&query_name=match_and',\\\n",
    "                           'https://www.primor.eu/#/dfclassic/query=pintalabios%20oscuro&filter%5Bcategories%5D%5B0%5D=Pintalabios%20y%20maquillaje%20de%20labios&session_id=e68b0b5ac1828fdb430ff5b492adb6e5&query_name=match_and',\\\n",
    "                           'https://www.primor.eu/#/dfclassic/query=pintalabios%20rosados&filter%5Bcategories%5D%5B0%5D=Pintalabios%20y%20maquillaje%20de%20labios&filter%5Bbrand%5D%5B0%5D=Revolution&filter%5Bbrand%5D%5B1%5D=NYX%20Professional%20Makeup&filter%5Bbrand%5D%5B2%5D=Krash%20Kosmetics&session_id=e68b0b5ac1828fdb430ff5b492adb6e5&query_name=match_and']"
   ]
  },
  {
   "cell_type": "code",
   "execution_count": 13,
   "id": "287c2113",
   "metadata": {
    "scrolled": true
   },
   "outputs": [
    {
     "name": "stderr",
     "output_type": "stream",
     "text": [
      "[Parallel(n_jobs=4)]: Using backend LokyBackend with 4 concurrent workers.\n",
      "/var/folders/fg/hm_rz3k53fv5qf5dywc0bfwr0000gn/T/ipykernel_48607/2764708321.py:3: DeprecationWarning: executable_path has been deprecated, please pass in a Service object\n",
      "/var/folders/fg/hm_rz3k53fv5qf5dywc0bfwr0000gn/T/ipykernel_48607/2764708321.py:3: DeprecationWarning: executable_path has been deprecated, please pass in a Service object\n",
      "/var/folders/fg/hm_rz3k53fv5qf5dywc0bfwr0000gn/T/ipykernel_48607/2764708321.py:3: DeprecationWarning: executable_path has been deprecated, please pass in a Service object\n",
      "/var/folders/fg/hm_rz3k53fv5qf5dywc0bfwr0000gn/T/ipykernel_48607/2764708321.py:3: DeprecationWarning: executable_path has been deprecated, please pass in a Service object\n",
      "[Parallel(n_jobs=4)]: Done   2 out of   4 | elapsed:   51.8s remaining:   51.8s\n",
      "[Parallel(n_jobs=4)]: Done   4 out of   4 | elapsed:   52.7s finished\n"
     ]
    }
   ],
   "source": [
    "productos1 = Parallel(n_jobs=4, verbose=True)(delayed(extraer)(e) for e in links_pintalabios_primor)"
   ]
  },
  {
   "cell_type": "code",
   "execution_count": 15,
   "id": "bc665e85",
   "metadata": {
    "scrolled": false
   },
   "outputs": [
    {
     "name": "stderr",
     "output_type": "stream",
     "text": [
      "2022-12-12 10:57:07,258 [48607] WARNING  py.warnings:109: [JupyterRequire] /var/folders/fg/hm_rz3k53fv5qf5dywc0bfwr0000gn/T/ipykernel_48607/2764708321.py:3: DeprecationWarning: executable_path has been deprecated, please pass in a Service object\n",
      "  driver = webdriver.Chrome(PATH)\n",
      "\n",
      "2022-12-12 10:57:27,066 [48607] WARNING  py.warnings:109: [JupyterRequire] /var/folders/fg/hm_rz3k53fv5qf5dywc0bfwr0000gn/T/ipykernel_48607/2764708321.py:3: DeprecationWarning: executable_path has been deprecated, please pass in a Service object\n",
      "  driver = webdriver.Chrome(PATH)\n",
      "\n",
      "2022-12-12 10:57:48,343 [48607] WARNING  py.warnings:109: [JupyterRequire] /var/folders/fg/hm_rz3k53fv5qf5dywc0bfwr0000gn/T/ipykernel_48607/2764708321.py:3: DeprecationWarning: executable_path has been deprecated, please pass in a Service object\n",
      "  driver = webdriver.Chrome(PATH)\n",
      "\n",
      "2022-12-12 10:58:03,451 [48607] WARNING  py.warnings:109: [JupyterRequire] /var/folders/fg/hm_rz3k53fv5qf5dywc0bfwr0000gn/T/ipykernel_48607/2764708321.py:3: DeprecationWarning: executable_path has been deprecated, please pass in a Service object\n",
      "  driver = webdriver.Chrome(PATH)\n",
      "\n",
      "2022-12-12 10:58:18,742 [48607] WARNING  py.warnings:109: [JupyterRequire] /var/folders/fg/hm_rz3k53fv5qf5dywc0bfwr0000gn/T/ipykernel_48607/2764708321.py:3: DeprecationWarning: executable_path has been deprecated, please pass in a Service object\n",
      "  driver = webdriver.Chrome(PATH)\n",
      "\n"
     ]
    }
   ],
   "source": [
    "#Añadimos más filas\n",
    "add1 = extraer('https://www.primor.eu/#/dfclassic/query=pintalabios%20rosados&filter%5Bcategories%5D%5B0%5D=Pintalabios%20y%20maquillaje%20de%20labios&filter%5Bbrand%5D%5B0%5D=NYX%20Professional%20Makeup&filter%5Bbrand%5D%5B1%5D=Krash%20Kosmetics&session_id=e68b0b5ac1828fdb430ff5b492adb6e5&query_name=match_and')\n",
    "add2 = extraer('https://www.primor.eu/#/dfclassic/query=berry%20nars&filter%5Bbrand%5D%5B0%5D=NARS&filter%5Bcategories%5D%5B0%5D=Labios%20lujo&session_id=e68b0b5ac1828fdb430ff5b492adb6e5&query_name=match_or')\n",
    "add3 = extraer('https://www.primor.eu/#/dfclassic/query=nude%20nars&session_id=e68b0b5ac1828fdb430ff5b492adb6e5&query_name=match_and')\n",
    "add4 = extraer('https://www.primor.eu/#/dfclassic/query=dark%20nars&filter%5Bbrand%5D%5B0%5D=NARS&filter%5Bcategories%5D%5B0%5D=Barras%20de%20labios%20lujo&session_id=e68b0b5ac1828fdb430ff5b492adb6e5&query_name=match_or')\n",
    "add5 = extraer('https://www.primor.eu/#/dfclassic/query=mac%20lips&session_id=e68b0b5ac1828fdb430ff5b492adb6e5&query_name=match_and')"
   ]
  },
  {
   "cell_type": "code",
   "execution_count": 16,
   "id": "a4cca662",
   "metadata": {},
   "outputs": [],
   "source": [
    "pintalab_ver_prim = productos1[0] \n",
    "pintalab_oto_prim = productos1[1] \n",
    "pintalab_inv_prim = productos1[2] \n",
    "pintalab_pri_pri = productos1[3]"
   ]
  },
  {
   "cell_type": "code",
   "execution_count": 17,
   "id": "e979ab7b",
   "metadata": {},
   "outputs": [],
   "source": [
    "#Limpiamos los índices y añadimos lo que hemos sacado más\n",
    "\n",
    "#PRIMAVERA\n",
    "pintalab_pri_prim = pd.concat([pintalab_pri_pri, add1, add3], axis = 0)\n",
    "pintalab_pri_prim.drop_duplicates(inplace = True)\n",
    "pintalab_pri_prim['ID'] = [e for e in range(len(pintalab_pri_prim))]\n",
    "pintalab_pri_prim.set_index('ID', drop = True, inplace = True)\n",
    "\n",
    "#OTOÑO\n",
    "pintalab_oto_prim = pd.concat([pintalab_pri_pri, add1], axis = 0)\n",
    "pintalab_oto_prim.drop_duplicates(inplace = True)\n",
    "pintalab_oto_prim['ID'] = [e for e in range(len(pintalab_oto_prim))]\n",
    "pintalab_oto_prim.set_index('ID', drop = True, inplace = True)\n",
    "\n",
    "#INVIERNO\n",
    "pintalab_inv_prim = pd.concat([pintalab_pri_pri, add4], axis = 0)\n",
    "pintalab_inv_prim.drop_duplicates(inplace = True)\n",
    "pintalab_inv_prim['ID'] = [e for e in range(len(pintalab_inv_prim))]\n",
    "pintalab_inv_prim.set_index('ID', drop = True, inplace = True)\n",
    "\n",
    "#VERANO\n",
    "pintalab_ver_prim = pd.concat([pintalab_pri_pri, add5], axis = 0)\n",
    "pintalab_ver_prim.drop_duplicates(inplace = True)\n",
    "pintalab_ver_prim['ID'] = [e for e in range(len(pintalab_ver_prim))]\n",
    "pintalab_ver_prim.set_index('ID', drop = True, inplace = True)"
   ]
  },
  {
   "cell_type": "code",
   "execution_count": 410,
   "id": "8e5384e7",
   "metadata": {},
   "outputs": [],
   "source": [
    "pintalab_pri_prim['PALETA'] = 'PRIMAVERA'\n",
    "pintalab_oto_prim['PALETA'] = 'OTOÑO'\n",
    "pintalab_inv_prim['PALETA'] = 'INVIERNO'\n",
    "pintalab_ver_prim['PALETA'] = 'VERANO'"
   ]
  },
  {
   "cell_type": "code",
   "execution_count": 422,
   "id": "b527be23",
   "metadata": {},
   "outputs": [],
   "source": [
    "#Colorete\n",
    "def extraer(URL):\n",
    "    driver = webdriver.Chrome(PATH)\n",
    "    driver.get(URL)\n",
    "    \n",
    "    driver.execute_script('window.scrollTo(0, 3000);')  # 200px de scroll\n",
    "    time.sleep(5)\n",
    "    \n",
    "    filas = driver.find_elements(By.CLASS_NAME, 'df-card__content')\n",
    "    link = driver.find_elements(By.CLASS_NAME, 'df-card__main')\n",
    "    tmp = []\n",
    "    links = []\n",
    "\n",
    "    for e in filas:\n",
    "        tmp.append(e.text.split('\\n'))\n",
    "    \n",
    "    for e in link:\n",
    "        links.append(e.get_attribute('href'))\n",
    "    \n",
    "    cols = ['NOMBRE', 'TIPO', 'PRECIO']\n",
    "    \n",
    "    total = pd.DataFrame(tmp, columns = cols)\n",
    "    \n",
    "    total['LINKS'] = links\n",
    "    total['PRODUCTO'] = 'COLORETE'\n",
    "    \n",
    "    driver.quit()\n",
    "     \n",
    "    return total"
   ]
  },
  {
   "cell_type": "code",
   "execution_count": 19,
   "id": "8a2fd352",
   "metadata": {},
   "outputs": [],
   "source": [
    "links_blush_primor = ['https://www.primor.eu/3ina/66421-colorete-the-blush.html#/dfclassic/query=blush&filter%5Bbrand%5D%5B0%5D=MAC&session_id=e68b0b5ac1828fdb430ff5b492adb6e5&query_name=match_and',\\\n",
    "                     'https://www.primor.eu/#/dfclassic/query=blush&filter%5Bbrand%5D%5B0%5D=NARS&session_id=e68b0b5ac1828fdb430ff5b492adb6e5&query_name=match_and',\\\n",
    "                     'https://www.primor.eu/#/dfclassic/query=blush%20rosa&filter%5Bbrand%5D%5B0%5D=3ina&session_id=e68b0b5ac1828fdb430ff5b492adb6e5&query_name=match_and',\\\n",
    "                     'https://www.primor.eu/#/dfclassic/query=blush&filter%5Bbrand%5D%5B0%5D=Yves%20Saint%20Laurent&session_id=e68b0b5ac1828fdb430ff5b492adb6e5&query_name=match_and']"
   ]
  },
  {
   "cell_type": "code",
   "execution_count": 20,
   "id": "51f7b4cb",
   "metadata": {},
   "outputs": [
    {
     "name": "stderr",
     "output_type": "stream",
     "text": [
      "[Parallel(n_jobs=4)]: Using backend LokyBackend with 4 concurrent workers.\n",
      "/var/folders/fg/hm_rz3k53fv5qf5dywc0bfwr0000gn/T/ipykernel_48607/2688360952.py:3: DeprecationWarning: executable_path has been deprecated, please pass in a Service object\n",
      "/var/folders/fg/hm_rz3k53fv5qf5dywc0bfwr0000gn/T/ipykernel_48607/2688360952.py:3: DeprecationWarning: executable_path has been deprecated, please pass in a Service object\n",
      "/var/folders/fg/hm_rz3k53fv5qf5dywc0bfwr0000gn/T/ipykernel_48607/2688360952.py:3: DeprecationWarning: executable_path has been deprecated, please pass in a Service object\n",
      "/var/folders/fg/hm_rz3k53fv5qf5dywc0bfwr0000gn/T/ipykernel_48607/2688360952.py:3: DeprecationWarning: executable_path has been deprecated, please pass in a Service object\n",
      "[Parallel(n_jobs=4)]: Done   2 out of   4 | elapsed:   35.4s remaining:   35.4s\n",
      "[Parallel(n_jobs=4)]: Done   4 out of   4 | elapsed:   43.1s finished\n"
     ]
    }
   ],
   "source": [
    "productos2 = Parallel(n_jobs=4, verbose=True)(delayed(extraer)(e) for e in links_blush_primor)"
   ]
  },
  {
   "cell_type": "code",
   "execution_count": 21,
   "id": "520f68e8",
   "metadata": {},
   "outputs": [],
   "source": [
    "blush_pri_prim = productos1[0] \n",
    "blush_ver_prim = productos1[1] \n",
    "blush_inv_prim = productos1[2] \n",
    "blush_oto_prim = productos1[3]"
   ]
  },
  {
   "cell_type": "code",
   "execution_count": 437,
   "id": "00bfbf0a",
   "metadata": {},
   "outputs": [],
   "source": [
    "blush_pri_prim['PALETA'] = 'PRIMAVERA'\n",
    "blush_ver_prim['PALETA'] = 'VERANO'\n",
    "blush_inv_prim['PALETA'] = 'INVIERNO'\n",
    "blush_oto_prim['PALETA'] = 'OTOÑO'"
   ]
  },
  {
   "cell_type": "code",
   "execution_count": 438,
   "id": "19ca4889",
   "metadata": {},
   "outputs": [],
   "source": [
    "maquillaje_primor = pd.concat([sombras_pri_prim, sombras_ver_prim, sombras_oto_prim, sombras_inv_prim, \\\n",
    "                              pintalab_pri_prim, pintalab_ver_prim, pintalab_oto_prim, pintalab_inv_prim, \\\n",
    "                              blush_pri_prim, blush_ver_prim, blush_oto_prim, blush_inv_prim])"
   ]
  },
  {
   "cell_type": "code",
   "execution_count": 439,
   "id": "f108221c",
   "metadata": {},
   "outputs": [],
   "source": [
    "maquillaje_primor.drop('TIPO', axis = 1, inplace = True)"
   ]
  },
  {
   "cell_type": "code",
   "execution_count": 440,
   "id": "d2dc2996",
   "metadata": {},
   "outputs": [],
   "source": [
    "def limpiar_precios(columna):\n",
    "    return columna.split()[0]"
   ]
  },
  {
   "cell_type": "code",
   "execution_count": 452,
   "id": "649cfa65",
   "metadata": {},
   "outputs": [],
   "source": [
    "p = []\n",
    "for e in maquillaje_primor.PRECIO:\n",
    "    if ',' in e:\n",
    "        p.append(e.replace(',', '.'))\n",
    "        \n",
    "        \n",
    "maquillaje_primor.PRECIO = p"
   ]
  },
  {
   "cell_type": "code",
   "execution_count": 454,
   "id": "e61e5cd8",
   "metadata": {},
   "outputs": [],
   "source": [
    "maquillaje_primor.rename(columns = {'PRECIO': 'PRECIO (€)'}, inplace = True ) "
   ]
  },
  {
   "cell_type": "code",
   "execution_count": 441,
   "id": "5d10300d",
   "metadata": {},
   "outputs": [],
   "source": [
    "maquillaje_primor.PRECIO = maquillaje_primor.PRECIO.apply(limpiar_precios)"
   ]
  },
  {
   "cell_type": "code",
   "execution_count": 442,
   "id": "ae821885",
   "metadata": {},
   "outputs": [
    {
     "name": "stdout",
     "output_type": "stream",
     "text": [
      "<class 'pandas.core.frame.DataFrame'>\n",
      "Int64Index: 543 entries, 0 to 29\n",
      "Data columns (total 5 columns):\n",
      " #   Column    Non-Null Count  Dtype \n",
      "---  ------    --------------  ----- \n",
      " 0   NOMBRE    543 non-null    object\n",
      " 1   PRECIO    543 non-null    object\n",
      " 2   LINKS     543 non-null    object\n",
      " 3   PRODUCTO  543 non-null    object\n",
      " 4   PALETA    543 non-null    object\n",
      "dtypes: object(5)\n",
      "memory usage: 25.5+ KB\n"
     ]
    }
   ],
   "source": [
    "maquillaje_primor.info()"
   ]
  },
  {
   "cell_type": "code",
   "execution_count": 443,
   "id": "029bf293",
   "metadata": {},
   "outputs": [],
   "source": [
    "#Añadimos la columna 'TIENDA' para indicar dónde comprar los productos\n",
    "maquillaje_primor['TIENDA'] = 'PRIMOR'"
   ]
  },
  {
   "cell_type": "code",
   "execution_count": 463,
   "id": "d6c1c5fb",
   "metadata": {},
   "outputs": [],
   "source": [
    "#Cambiamos el tipo de dato a nuestro nuevo dataframe\n",
    "maquillaje_primor[['NOMBRE', 'LINKS', 'PRODUCTO', 'PALETA', 'TIENDA']] = maquillaje_primor[['NOMBRE', 'LINKS', 'PRODUCTO', 'PALETA', 'TIENDA']].astype('category')\n",
    "maquillaje_primor['PRECIO (€)'] = maquillaje_primor['PRECIO (€)'].astype('float')"
   ]
  },
  {
   "cell_type": "code",
   "execution_count": 464,
   "id": "d5793e36",
   "metadata": {},
   "outputs": [
    {
     "name": "stdout",
     "output_type": "stream",
     "text": [
      "<class 'pandas.core.frame.DataFrame'>\n",
      "Int64Index: 543 entries, 0 to 29\n",
      "Data columns (total 6 columns):\n",
      " #   Column      Non-Null Count  Dtype   \n",
      "---  ------      --------------  -----   \n",
      " 0   NOMBRE      543 non-null    category\n",
      " 1   PRECIO (€)  543 non-null    float64 \n",
      " 2   LINKS       543 non-null    category\n",
      " 3   PRODUCTO    543 non-null    category\n",
      " 4   PALETA      543 non-null    category\n",
      " 5   TIENDA      543 non-null    category\n",
      "dtypes: category(5), float64(1)\n",
      "memory usage: 28.8 KB\n"
     ]
    }
   ],
   "source": [
    "maquillaje_primor.info()"
   ]
  },
  {
   "cell_type": "markdown",
   "id": "aae6a5a5",
   "metadata": {},
   "source": [
    "# **2 - EXTRACCIÓN DE DATOS DE SOMBRAS Y COLORETES DE URBAN DECAY**"
   ]
  },
  {
   "cell_type": "code",
   "execution_count": 22,
   "id": "cea1b0f1",
   "metadata": {},
   "outputs": [
    {
     "name": "stderr",
     "output_type": "stream",
     "text": [
      "2022-12-12 10:59:17,915 [48607] WARNING  py.warnings:109: [JupyterRequire] /var/folders/fg/hm_rz3k53fv5qf5dywc0bfwr0000gn/T/ipykernel_48607/235325829.py:3: DeprecationWarning: executable_path has been deprecated, please pass in a Service object\n",
      "  driver=webdriver.Chrome(PATH)\n",
      "\n"
     ]
    }
   ],
   "source": [
    "PATH=ChromeDriverManager().install()\n",
    "\n",
    "driver=webdriver.Chrome(PATH)  "
   ]
  },
  {
   "cell_type": "code",
   "execution_count": 23,
   "id": "92c1211d",
   "metadata": {},
   "outputs": [],
   "source": [
    "URL = 'https://www.urbandecay.com/eyeshadow/?prefn1=taxonomyColorEye&prefv1=BLACK%7CBLUE%7CBOLD%7CBROWN%7CCOOL%7CNEUTRALS%7CPLUMS%7CPURPLE%7CRED%7CSIENNA%7CSILVER%7CSMOKEY%7CTAUPE&start=0&sz=12#view-mode=grid'\n",
    "driver.get(URL)"
   ]
  },
  {
   "cell_type": "code",
   "execution_count": 24,
   "id": "476e2ac2",
   "metadata": {},
   "outputs": [
    {
     "ename": "IndexError",
     "evalue": "list index out of range",
     "output_type": "error",
     "traceback": [
      "\u001b[0;31m---------------------------------------------------------------------------\u001b[0m",
      "\u001b[0;31mIndexError\u001b[0m                                Traceback (most recent call last)",
      "Input \u001b[0;32mIn [24]\u001b[0m, in \u001b[0;36m<cell line: 7>\u001b[0;34m()\u001b[0m\n\u001b[1;32m      5\u001b[0m links \u001b[38;5;241m=\u001b[39m [e\u001b[38;5;241m.\u001b[39mget_attribute(\u001b[38;5;124m'\u001b[39m\u001b[38;5;124mhref\u001b[39m\u001b[38;5;124m'\u001b[39m) \u001b[38;5;28;01mfor\u001b[39;00m e \u001b[38;5;129;01min\u001b[39;00m links1]\n\u001b[1;32m      6\u001b[0m precio \u001b[38;5;241m=\u001b[39m driver\u001b[38;5;241m.\u001b[39mfind_elements(By\u001b[38;5;241m.\u001b[39mCLASS_NAME, \u001b[38;5;124m'\u001b[39m\u001b[38;5;124mc-product-tile__price\u001b[39m\u001b[38;5;124m'\u001b[39m) \n\u001b[0;32m----> 7\u001b[0m precios \u001b[38;5;241m=\u001b[39m [e\u001b[38;5;241m.\u001b[39mtext\u001b[38;5;241m.\u001b[39msplit()[\u001b[38;5;241m-\u001b[39m\u001b[38;5;241m1\u001b[39m] \u001b[38;5;28;01mfor\u001b[39;00m e \u001b[38;5;129;01min\u001b[39;00m precio]\n",
      "Input \u001b[0;32mIn [24]\u001b[0m, in \u001b[0;36m<listcomp>\u001b[0;34m(.0)\u001b[0m\n\u001b[1;32m      5\u001b[0m links \u001b[38;5;241m=\u001b[39m [e\u001b[38;5;241m.\u001b[39mget_attribute(\u001b[38;5;124m'\u001b[39m\u001b[38;5;124mhref\u001b[39m\u001b[38;5;124m'\u001b[39m) \u001b[38;5;28;01mfor\u001b[39;00m e \u001b[38;5;129;01min\u001b[39;00m links1]\n\u001b[1;32m      6\u001b[0m precio \u001b[38;5;241m=\u001b[39m driver\u001b[38;5;241m.\u001b[39mfind_elements(By\u001b[38;5;241m.\u001b[39mCLASS_NAME, \u001b[38;5;124m'\u001b[39m\u001b[38;5;124mc-product-tile__price\u001b[39m\u001b[38;5;124m'\u001b[39m) \n\u001b[0;32m----> 7\u001b[0m precios \u001b[38;5;241m=\u001b[39m [\u001b[43me\u001b[49m\u001b[38;5;241;43m.\u001b[39;49m\u001b[43mtext\u001b[49m\u001b[38;5;241;43m.\u001b[39;49m\u001b[43msplit\u001b[49m\u001b[43m(\u001b[49m\u001b[43m)\u001b[49m\u001b[43m[\u001b[49m\u001b[38;5;241;43m-\u001b[39;49m\u001b[38;5;241;43m1\u001b[39;49m\u001b[43m]\u001b[49m \u001b[38;5;28;01mfor\u001b[39;00m e \u001b[38;5;129;01min\u001b[39;00m precio]\n",
      "\u001b[0;31mIndexError\u001b[0m: list index out of range"
     ]
    }
   ],
   "source": [
    "#Investigamos dónde podemos scrappear los datos que necesitamos\n",
    "prueba = driver.find_elements(By.CLASS_NAME, 'c-product-tile__caption-inner')\n",
    "nombres = driver.find_element(By.CLASS_NAME, 'c-product-tile__name').text\n",
    "links1 = driver.find_elements(By.CLASS_NAME, 'c-product-image__link')\n",
    "links = [e.get_attribute('href') for e in links1]\n",
    "precio = driver.find_elements(By.CLASS_NAME, 'c-product-tile__price') \n",
    "#precios = [e.text.split()[-1] for e in precio]\n"
   ]
  },
  {
   "cell_type": "code",
   "execution_count": 25,
   "id": "be07c1f1",
   "metadata": {},
   "outputs": [],
   "source": [
    "#SOMBBRAS\n",
    "def extraer(URL):\n",
    "    PATH=ChromeDriverManager().install()\n",
    "    driver = webdriver.Chrome(PATH)\n",
    "    driver.get(URL)\n",
    "    \n",
    "    time.sleep(5)\n",
    "    driver.find_element(By.CSS_SELECTOR, 'body>div.c-modal.h-text-align-center.m-borderless.m-autosize-large.m-image.m-opened.h-fade-in>div>button').click() \n",
    "    time.sleep(5)\n",
    "    driver.execute_script('window.scrollTo(0, 3000);')  # 200px de scroll\n",
    "    time.sleep(5)\n",
    "    nombre = driver.find_elements(By.CLASS_NAME, 'c-product-tile__name') #nombre\n",
    "    time.sleep(5)\n",
    "    precio = driver.find_elements(By.CLASS_NAME, 'c-product-tile__price') #precio\n",
    "    time.sleep(5)\n",
    "    links1 = driver.find_elements(By.CLASS_NAME, 'c-product-image__link') #links\n",
    "        \n",
    "    tmp = [e.text for e in nombre]\n",
    "    \n",
    "    precios = [e.text.split('\\n')[-1] for e in precio]\n",
    "    \n",
    "    links = [e.get_attribute('href') for e in links1]\n",
    "    \n",
    "    cols = ['NOMBRE']\n",
    "    \n",
    "    total = pd.DataFrame(tmp, columns = cols)\n",
    "    \n",
    "    total['PRECIO'] = precios\n",
    "    total['LINKS'] = links\n",
    "    total['PRODUCTO'] = 'SOMBRAS DE OJOS'\n",
    "    \n",
    "    driver.quit()\n",
    "    \n",
    "    return total"
   ]
  },
  {
   "cell_type": "code",
   "execution_count": 26,
   "id": "4362908c",
   "metadata": {},
   "outputs": [],
   "source": [
    "URL = 'https://www.urbandecay.com/naked-palettes/?start=0&sz=18'"
   ]
  },
  {
   "cell_type": "code",
   "execution_count": 27,
   "id": "1a4e79b9",
   "metadata": {
    "scrolled": true
   },
   "outputs": [
    {
     "name": "stderr",
     "output_type": "stream",
     "text": [
      "2022-12-12 11:00:04,873 [48607] WARNING  py.warnings:109: [JupyterRequire] /var/folders/fg/hm_rz3k53fv5qf5dywc0bfwr0000gn/T/ipykernel_48607/2965688531.py:4: DeprecationWarning: executable_path has been deprecated, please pass in a Service object\n",
      "  driver = webdriver.Chrome(PATH)\n",
      "\n"
     ]
    }
   ],
   "source": [
    "sombras_ud = extraer(URL)"
   ]
  },
  {
   "cell_type": "code",
   "execution_count": 28,
   "id": "ffa6cf2f",
   "metadata": {},
   "outputs": [],
   "source": [
    "sombras_ud.drop_duplicates(inplace = True)\n",
    "sombras_ud = sombras_ud[0:14] "
   ]
  },
  {
   "cell_type": "code",
   "execution_count": 29,
   "id": "186b61a9",
   "metadata": {},
   "outputs": [],
   "source": [
    "#Añadimos los valores de las paletas en función de los colores de las sombras\n",
    "\n",
    "sombras_ud['PALETA'] = ['PRIMAVERA', 'PRIMAVERA / OTOÑO', 'OTOÑO / INVIERNO', 'VERANO', 'TODAS', 'PRIMAVERA / VERANO',\\\n",
    "                  'OTOÑO', 'PRIMAVERA / VERANO', 'OTOÑO / INVIERNO', 'PRIMAVERA', 'PRIMAVERA / INVIERNO', 'PRIMAVERA',\\\n",
    "                  'PRIMAVERA / OTOÑO / INVIERNO', 'OTOÑO / INVIERNO']"
   ]
  },
  {
   "cell_type": "code",
   "execution_count": 30,
   "id": "419bdd5e",
   "metadata": {},
   "outputs": [],
   "source": [
    "#COLORETE\n",
    "def extraer(URL):\n",
    "    PATH=ChromeDriverManager().install()\n",
    "    driver = webdriver.Chrome(PATH)\n",
    "    driver.get(URL)\n",
    "    \n",
    "    time.sleep(5)\n",
    "    driver.find_element(By.CSS_SELECTOR, 'body>div.c-modal.h-text-align-center.m-borderless.m-autosize-large.m-image.m-opened.h-fade-in>div>button').click() \n",
    "    time.sleep(5)\n",
    "    driver.execute_script('window.scrollTo(0, 3000);')  # 200px de scroll\n",
    "    time.sleep(5)\n",
    "    nombre = driver.find_elements(By.CLASS_NAME, 'c-product-tile__name') #nombre\n",
    "    time.sleep(5)\n",
    "    precio = driver.find_elements(By.CLASS_NAME, 'c-product-tile__price') #precio\n",
    "    time.sleep(5)\n",
    "    links1 = driver.find_elements(By.CLASS_NAME, 'c-product-image__link') #links\n",
    "        \n",
    "    tmp = [e.text for e in nombre]\n",
    "    \n",
    "    precios = [e.text.split('\\n')[-1] for e in precio]\n",
    "    \n",
    "    links = [e.get_attribute('href') for e in links1]\n",
    "    \n",
    "    cols = ['NOMBRE']\n",
    "    \n",
    "    total = pd.DataFrame(tmp, columns = cols)\n",
    "    \n",
    "    total['PRECIO'] = precios\n",
    "    total['LINKS'] = links\n",
    "    total['PRODUCTO'] = 'COLORETE'\n",
    "    \n",
    "    driver.quit()\n",
    "    \n",
    "    return total"
   ]
  },
  {
   "cell_type": "code",
   "execution_count": 31,
   "id": "d696721c",
   "metadata": {
    "scrolled": true
   },
   "outputs": [
    {
     "name": "stderr",
     "output_type": "stream",
     "text": [
      "2022-12-12 11:00:48,393 [48607] WARNING  py.warnings:109: [JupyterRequire] /var/folders/fg/hm_rz3k53fv5qf5dywc0bfwr0000gn/T/ipykernel_48607/169910402.py:4: DeprecationWarning: executable_path has been deprecated, please pass in a Service object\n",
      "  driver = webdriver.Chrome(PATH)\n",
      "\n"
     ]
    }
   ],
   "source": [
    "blush_ud = extraer('https://www.urbandecay.com/blush-bronzer-highlighter/')"
   ]
  },
  {
   "cell_type": "code",
   "execution_count": 32,
   "id": "d1820ff3",
   "metadata": {},
   "outputs": [
    {
     "data": {
      "text/html": [
       "<div>\n",
       "<style scoped>\n",
       "    .dataframe tbody tr th:only-of-type {\n",
       "        vertical-align: middle;\n",
       "    }\n",
       "\n",
       "    .dataframe tbody tr th {\n",
       "        vertical-align: top;\n",
       "    }\n",
       "\n",
       "    .dataframe thead th {\n",
       "        text-align: right;\n",
       "    }\n",
       "</style>\n",
       "<table border=\"1\" class=\"dataframe\">\n",
       "  <thead>\n",
       "    <tr style=\"text-align: right;\">\n",
       "      <th></th>\n",
       "      <th>NOMBRE</th>\n",
       "      <th>PRECIO</th>\n",
       "      <th>LINKS</th>\n",
       "      <th>PRODUCTO</th>\n",
       "    </tr>\n",
       "  </thead>\n",
       "  <tbody>\n",
       "    <tr>\n",
       "      <th>0</th>\n",
       "      <td>STAY NAKED THREESOME BRONZE, BLUSH, AND HIGHLI...</td>\n",
       "      <td>$37.00</td>\n",
       "      <td>https://www.urbandecay.com/threesome-by-urban-...</td>\n",
       "      <td>COLORETE</td>\n",
       "    </tr>\n",
       "    <tr>\n",
       "      <th>1</th>\n",
       "      <td>BEACHED BRONZER</td>\n",
       "      <td>$31.00</td>\n",
       "      <td>https://www.urbandecay.com/beached-bronzer-by-...</td>\n",
       "      <td>COLORETE</td>\n",
       "    </tr>\n",
       "    <tr>\n",
       "      <th>2</th>\n",
       "      <td>NAKED3 EYESHADOW PALETTE</td>\n",
       "      <td>$27.00</td>\n",
       "      <td>https://www.urbandecay.com/naked-3-palette-by-...</td>\n",
       "      <td>COLORETE</td>\n",
       "    </tr>\n",
       "    <tr>\n",
       "      <th>3</th>\n",
       "      <td>NAKED RELOADED EYESHADOW PALETTE</td>\n",
       "      <td>$22.00</td>\n",
       "      <td>https://www.urbandecay.com/naked-reloaded-urba...</td>\n",
       "      <td>COLORETE</td>\n",
       "    </tr>\n",
       "    <tr>\n",
       "      <th>4</th>\n",
       "      <td>NAKED HEAT EYESHADOW PALETTE</td>\n",
       "      <td>$27.00</td>\n",
       "      <td>https://www.urbandecay.com/naked-heat-eyeshado...</td>\n",
       "      <td>COLORETE</td>\n",
       "    </tr>\n",
       "    <tr>\n",
       "      <th>5</th>\n",
       "      <td>24/7 GLIDE-ON WATERPROOF EYELINER PENCIL</td>\n",
       "      <td>$11.50</td>\n",
       "      <td>https://www.urbandecay.com/24-7-glide-on-eye-p...</td>\n",
       "      <td>COLORETE</td>\n",
       "    </tr>\n",
       "    <tr>\n",
       "      <th>6</th>\n",
       "      <td></td>\n",
       "      <td></td>\n",
       "      <td>https://www.urbandecay.com/all-nighter-setting...</td>\n",
       "      <td>COLORETE</td>\n",
       "    </tr>\n",
       "    <tr>\n",
       "      <th>7</th>\n",
       "      <td></td>\n",
       "      <td></td>\n",
       "      <td>https://www.urbandecay.com/naked-honey-eyeshad...</td>\n",
       "      <td>COLORETE</td>\n",
       "    </tr>\n",
       "    <tr>\n",
       "      <th>8</th>\n",
       "      <td></td>\n",
       "      <td></td>\n",
       "      <td>https://www.urbandecay.com/eyeshadow-primer-po...</td>\n",
       "      <td>COLORETE</td>\n",
       "    </tr>\n",
       "    <tr>\n",
       "      <th>9</th>\n",
       "      <td></td>\n",
       "      <td></td>\n",
       "      <td>https://www.urbandecay.com/urban-decay-cosmeti...</td>\n",
       "      <td>COLORETE</td>\n",
       "    </tr>\n",
       "  </tbody>\n",
       "</table>\n",
       "</div>"
      ],
      "text/plain": [
       "                                              NOMBRE  PRECIO  \\\n",
       "0  STAY NAKED THREESOME BRONZE, BLUSH, AND HIGHLI...  $37.00   \n",
       "1                                    BEACHED BRONZER  $31.00   \n",
       "2                           NAKED3 EYESHADOW PALETTE  $27.00   \n",
       "3                   NAKED RELOADED EYESHADOW PALETTE  $22.00   \n",
       "4                       NAKED HEAT EYESHADOW PALETTE  $27.00   \n",
       "5           24/7 GLIDE-ON WATERPROOF EYELINER PENCIL  $11.50   \n",
       "6                                                              \n",
       "7                                                              \n",
       "8                                                              \n",
       "9                                                              \n",
       "\n",
       "                                               LINKS  PRODUCTO  \n",
       "0  https://www.urbandecay.com/threesome-by-urban-...  COLORETE  \n",
       "1  https://www.urbandecay.com/beached-bronzer-by-...  COLORETE  \n",
       "2  https://www.urbandecay.com/naked-3-palette-by-...  COLORETE  \n",
       "3  https://www.urbandecay.com/naked-reloaded-urba...  COLORETE  \n",
       "4  https://www.urbandecay.com/naked-heat-eyeshado...  COLORETE  \n",
       "5  https://www.urbandecay.com/24-7-glide-on-eye-p...  COLORETE  \n",
       "6  https://www.urbandecay.com/all-nighter-setting...  COLORETE  \n",
       "7  https://www.urbandecay.com/naked-honey-eyeshad...  COLORETE  \n",
       "8  https://www.urbandecay.com/eyeshadow-primer-po...  COLORETE  \n",
       "9  https://www.urbandecay.com/urban-decay-cosmeti...  COLORETE  "
      ]
     },
     "execution_count": 32,
     "metadata": {},
     "output_type": "execute_result"
    }
   ],
   "source": [
    "blush_ud "
   ]
  },
  {
   "cell_type": "code",
   "execution_count": 33,
   "id": "7a21b26c",
   "metadata": {},
   "outputs": [
    {
     "name": "stderr",
     "output_type": "stream",
     "text": [
      "2022-12-12 11:01:22,134 [48607] WARNING  py.warnings:109: [JupyterRequire] /var/folders/fg/hm_rz3k53fv5qf5dywc0bfwr0000gn/T/ipykernel_48607/3659531634.py:2: SettingWithCopyWarning: \n",
      "A value is trying to be set on a copy of a slice from a DataFrame\n",
      "\n",
      "See the caveats in the documentation: https://pandas.pydata.org/pandas-docs/stable/user_guide/indexing.html#returning-a-view-versus-a-copy\n",
      "  blush_ud.drop_duplicates(inplace = True)\n",
      "\n",
      "2022-12-12 11:01:22,165 [48607] WARNING  py.warnings:109: [JupyterRequire] /var/folders/fg/hm_rz3k53fv5qf5dywc0bfwr0000gn/T/ipykernel_48607/3659531634.py:3: SettingWithCopyWarning: \n",
      "A value is trying to be set on a copy of a slice from a DataFrame.\n",
      "Try using .loc[row_indexer,col_indexer] = value instead\n",
      "\n",
      "See the caveats in the documentation: https://pandas.pydata.org/pandas-docs/stable/user_guide/indexing.html#returning-a-view-versus-a-copy\n",
      "  blush_ud['PALETA'] = ['VERANO / INVIERNO', 'TODAS']\n",
      "\n"
     ]
    }
   ],
   "source": [
    "blush_ud = blush_ud[0:2]\n",
    "blush_ud.drop_duplicates(inplace = True)\n",
    "blush_ud['PALETA'] = ['VERANO / INVIERNO', 'TODAS']\n"
   ]
  },
  {
   "cell_type": "code",
   "execution_count": 501,
   "id": "00a025e6",
   "metadata": {},
   "outputs": [],
   "source": [
    "mu_ud = pd.concat([sombras_ud, blush_ud], axis = 0)"
   ]
  },
  {
   "cell_type": "code",
   "execution_count": 586,
   "id": "4b20c039",
   "metadata": {
    "scrolled": true
   },
   "outputs": [
    {
     "data": {
      "text/html": [
       "<div>\n",
       "<style scoped>\n",
       "    .dataframe tbody tr th:only-of-type {\n",
       "        vertical-align: middle;\n",
       "    }\n",
       "\n",
       "    .dataframe tbody tr th {\n",
       "        vertical-align: top;\n",
       "    }\n",
       "\n",
       "    .dataframe thead th {\n",
       "        text-align: right;\n",
       "    }\n",
       "</style>\n",
       "<table border=\"1\" class=\"dataframe\">\n",
       "  <thead>\n",
       "    <tr style=\"text-align: right;\">\n",
       "      <th></th>\n",
       "      <th>NOMBRE</th>\n",
       "      <th>PRECIO (€)</th>\n",
       "      <th>LINKS</th>\n",
       "      <th>PRODUCTO</th>\n",
       "      <th>PALETA</th>\n",
       "    </tr>\n",
       "  </thead>\n",
       "  <tbody>\n",
       "    <tr>\n",
       "      <th>0</th>\n",
       "      <td>NAKED3 EYESHADOW PALETTE</td>\n",
       "      <td>25.65</td>\n",
       "      <td>https://www.urbandecay.com/naked-3-palette-by-...</td>\n",
       "      <td>SOMBRAS DE OJOS</td>\n",
       "      <td>PRIMAVERA</td>\n",
       "    </tr>\n",
       "    <tr>\n",
       "      <th>1</th>\n",
       "      <td>NAKED RELOADED EYESHADOW PALETTE</td>\n",
       "      <td>20.90</td>\n",
       "      <td>https://www.urbandecay.com/naked-reloaded-urba...</td>\n",
       "      <td>SOMBRAS DE OJOS</td>\n",
       "      <td>PRIMAVERA / OTOÑO</td>\n",
       "    </tr>\n",
       "    <tr>\n",
       "      <th>2</th>\n",
       "      <td>NAKED HEAT EYESHADOW PALETTE</td>\n",
       "      <td>25.65</td>\n",
       "      <td>https://www.urbandecay.com/naked-heat-eyeshado...</td>\n",
       "      <td>SOMBRAS DE OJOS</td>\n",
       "      <td>OTOÑO / INVIERNO</td>\n",
       "    </tr>\n",
       "    <tr>\n",
       "      <th>3</th>\n",
       "      <td>NAKED HONEY EYESHADOW PALETTE</td>\n",
       "      <td>23.27</td>\n",
       "      <td>https://www.urbandecay.com/naked-honey-eyeshad...</td>\n",
       "      <td>SOMBRAS DE OJOS</td>\n",
       "      <td>VERANO</td>\n",
       "    </tr>\n",
       "    <tr>\n",
       "      <th>4</th>\n",
       "      <td>LET'S GET NAKED SET</td>\n",
       "      <td>166.25</td>\n",
       "      <td>https://www.urbandecay.com/lets-get-naked-set-...</td>\n",
       "      <td>SOMBRAS DE OJOS</td>\n",
       "      <td>TODAS</td>\n",
       "    </tr>\n",
       "  </tbody>\n",
       "</table>\n",
       "</div>"
      ],
      "text/plain": [
       "                             NOMBRE  PRECIO (€)  \\\n",
       "0          NAKED3 EYESHADOW PALETTE       25.65   \n",
       "1  NAKED RELOADED EYESHADOW PALETTE       20.90   \n",
       "2      NAKED HEAT EYESHADOW PALETTE       25.65   \n",
       "3     NAKED HONEY EYESHADOW PALETTE       23.27   \n",
       "4               LET'S GET NAKED SET      166.25   \n",
       "\n",
       "                                               LINKS         PRODUCTO  \\\n",
       "0  https://www.urbandecay.com/naked-3-palette-by-...  SOMBRAS DE OJOS   \n",
       "1  https://www.urbandecay.com/naked-reloaded-urba...  SOMBRAS DE OJOS   \n",
       "2  https://www.urbandecay.com/naked-heat-eyeshado...  SOMBRAS DE OJOS   \n",
       "3  https://www.urbandecay.com/naked-honey-eyeshad...  SOMBRAS DE OJOS   \n",
       "4  https://www.urbandecay.com/lets-get-naked-set-...  SOMBRAS DE OJOS   \n",
       "\n",
       "              PALETA  \n",
       "0          PRIMAVERA  \n",
       "1  PRIMAVERA / OTOÑO  \n",
       "2   OTOÑO / INVIERNO  \n",
       "3             VERANO  \n",
       "4              TODAS  "
      ]
     },
     "execution_count": 586,
     "metadata": {},
     "output_type": "execute_result"
    }
   ],
   "source": [
    "mu_ud.head()"
   ]
  },
  {
   "cell_type": "code",
   "execution_count": 504,
   "id": "886f06c0",
   "metadata": {},
   "outputs": [],
   "source": [
    "#Vamos a limpiar la columna de PRECIO\n",
    "p2 = []\n",
    "for e in mu_ud['PRECIO']:\n",
    "    if '$' in e:\n",
    "        p2.append(float(e.replace('$', '')))\n",
    "        \n",
    "#Lo convertimos a EUROS(TIPO DE CAMBIO - 12/12/2022):\n",
    "p3 = []\n",
    "for e in p2:\n",
    "    p3.append(round((e*0.95), 2))\n",
    "\n",
    "mu_ud.PRECIO = p3\n",
    "mu_ud.rename(columns = {'PRECIO' : 'PRECIO (€)'}, inplace = True)"
   ]
  },
  {
   "cell_type": "code",
   "execution_count": 587,
   "id": "e6c099ed",
   "metadata": {},
   "outputs": [],
   "source": [
    "#Añadimos la columna 'TIENDA' para indicar dónde comprar los productos\n",
    "mu_ud['TIENDA'] = 'URBAN DECAY'"
   ]
  },
  {
   "cell_type": "code",
   "execution_count": 588,
   "id": "e6ffa399",
   "metadata": {},
   "outputs": [],
   "source": [
    "#Cambiamos el tipo de dato de las columnas \n",
    "mu_ud[['NOMBRE', 'LINKS', 'PRODUCTO', 'PALETA', 'TIENDA']] = mu_ud[['NOMBRE', 'LINKS', 'PRODUCTO', 'PALETA', 'TIENDA']].astype('category')"
   ]
  },
  {
   "cell_type": "code",
   "execution_count": 591,
   "id": "3d5417a6",
   "metadata": {},
   "outputs": [
    {
     "name": "stdout",
     "output_type": "stream",
     "text": [
      "<class 'pandas.core.frame.DataFrame'>\n",
      "Int64Index: 16 entries, 0 to 1\n",
      "Data columns (total 6 columns):\n",
      " #   Column      Non-Null Count  Dtype   \n",
      "---  ------      --------------  -----   \n",
      " 0   NOMBRE      16 non-null     category\n",
      " 1   PRECIO (€)  16 non-null     float64 \n",
      " 2   LINKS       16 non-null     category\n",
      " 3   PRODUCTO    16 non-null     category\n",
      " 4   PALETA      16 non-null     category\n",
      " 5   TIENDA      16 non-null     category\n",
      "dtypes: category(5), float64(1)\n",
      "memory usage: 2.3 KB\n"
     ]
    }
   ],
   "source": [
    "mu_ud.info()"
   ]
  },
  {
   "cell_type": "markdown",
   "id": "526fdfb6",
   "metadata": {},
   "source": [
    "# **3 - EXTRACCIÓN DE DATOS DE SOMBRAS Y COLORETES DE HUDA BEAUTY**"
   ]
  },
  {
   "cell_type": "code",
   "execution_count": 267,
   "id": "767c4c24",
   "metadata": {},
   "outputs": [
    {
     "name": "stderr",
     "output_type": "stream",
     "text": [
      "2022-12-12 16:04:12,877 [48607] WARNING  py.warnings:109: [JupyterRequire] /var/folders/fg/hm_rz3k53fv5qf5dywc0bfwr0000gn/T/ipykernel_48607/91254812.py:3: DeprecationWarning: executable_path has been deprecated, please pass in a Service object\n",
      "  driver=webdriver.Chrome(PATH)\n",
      "\n"
     ]
    }
   ],
   "source": [
    "PATH=ChromeDriverManager().install()\n",
    "\n",
    "driver=webdriver.Chrome(PATH) "
   ]
  },
  {
   "cell_type": "code",
   "execution_count": 279,
   "id": "b6657fe5",
   "metadata": {},
   "outputs": [],
   "source": [
    "URL = 'https://hudabeauty.com/us/en_US/eyes/eyeshadow'\n",
    "driver.get(URL)"
   ]
  },
  {
   "cell_type": "code",
   "execution_count": 319,
   "id": "83259a29",
   "metadata": {},
   "outputs": [],
   "source": [
    "#SOMBRAS\n",
    "def extraer(URL):\n",
    "    driver = webdriver.Chrome(PATH)\n",
    "    driver.get(URL)\n",
    "    \n",
    "    time.sleep(5)\n",
    "    driver.execute_script('window.scrollTo(0, 4500);')  # 200px de scroll\n",
    "    time.sleep(10)\n",
    "    \n",
    "    filas = driver.find_elements(By.CLASS_NAME, 'link')\n",
    "    precios = driver.find_elements(By.CLASS_NAME, 'price')\n",
    "    tmp = []\n",
    "    links = []\n",
    "    precio = []\n",
    "\n",
    "    for e in filas:\n",
    "        tmp.append(e.text)\n",
    "    \n",
    "    for e in filas:\n",
    "        links.append(e.get_attribute('href'))\n",
    "    \n",
    "    for e in precios:\n",
    "        precio.append(e.text.split()[0])\n",
    "    \n",
    "    \n",
    "    cols = ['NOMBRE']\n",
    "    \n",
    "    total = pd.DataFrame(tmp, columns = cols)\n",
    "    \n",
    "    total['LINKS'] = links\n",
    "    total['PRECIO'] = precio\n",
    "    total['PRODUCTO'] = 'SOMBRAS DE OJOS'\n",
    "    \n",
    "    \n",
    "    driver.quit()\n",
    "     \n",
    "    return total"
   ]
  },
  {
   "cell_type": "code",
   "execution_count": 320,
   "id": "bc9ae24b",
   "metadata": {},
   "outputs": [],
   "source": [
    "URL = 'https://hudabeauty.com/us/en_US/eyes/eyeshadow'"
   ]
  },
  {
   "cell_type": "code",
   "execution_count": 321,
   "id": "281d66c0",
   "metadata": {
    "scrolled": true
   },
   "outputs": [
    {
     "name": "stderr",
     "output_type": "stream",
     "text": [
      "2022-12-12 16:19:59,725 [48607] WARNING  py.warnings:109: [JupyterRequire] /var/folders/fg/hm_rz3k53fv5qf5dywc0bfwr0000gn/T/ipykernel_48607/958777798.py:3: DeprecationWarning: executable_path has been deprecated, please pass in a Service object\n",
      "  driver = webdriver.Chrome(PATH)\n",
      "\n"
     ]
    }
   ],
   "source": [
    "sombras_hb = extraer(URL)"
   ]
  },
  {
   "cell_type": "code",
   "execution_count": 525,
   "id": "c0dbc99c",
   "metadata": {},
   "outputs": [],
   "source": [
    "sombras_hb['PALETA']=  ['PRIMAVERA / OTOÑO / INVIERNO', 'PRIMAVERA / OTOÑO', 'PRIMAVERA / OTOÑO','OTOÑO / INVIERNO',\\\n",
    "                        'PRIMAVERA / OTOÑO / INVIERNO', 'VERANO / OTOÑO', 'VERANO / OTOÑO / INVIERNO',\\\n",
    "                        'TODAS', 'VERANO', 'PRIMAVERA', 'PRIMAVERA / OTOÑO', 'PRIMAVERA', \\\n",
    "                        'OTOÑO / INVIERNO', 'PRIMAVERA / OTOÑO', 'PRIMAVERA', 'OTOÑO / INVIERNO', 'PRIMAVERA / VERANO / OTOÑO',\\\n",
    "                        'OTOÑO / PRIMAVERA', 'TODAS', 'OTOÑO / VERANO', 'VERANO']"
   ]
  },
  {
   "cell_type": "code",
   "execution_count": 324,
   "id": "6ff8bb1f",
   "metadata": {},
   "outputs": [],
   "source": [
    "#LABIOS\n",
    "def extraer(URL):\n",
    "    driver = webdriver.Chrome(PATH)\n",
    "    driver.get(URL)\n",
    "    \n",
    "    time.sleep(5)\n",
    "    driver.execute_script('window.scrollTo(0, 4500);')  # 200px de scroll\n",
    "    time.sleep(10)\n",
    "    \n",
    "    filas = driver.find_elements(By.CLASS_NAME, 'link')\n",
    "    precios = driver.find_elements(By.CLASS_NAME, 'price')\n",
    "    tmp = []\n",
    "    links = []\n",
    "    precio = []\n",
    "\n",
    "    for e in filas:\n",
    "        tmp.append(e.text)\n",
    "    \n",
    "    for e in filas:\n",
    "        links.append(e.get_attribute('href'))\n",
    "    \n",
    "    for e in precios:\n",
    "        precio.append(e.text.split()[0])\n",
    "    \n",
    "    \n",
    "    cols = ['NOMBRE']\n",
    "    \n",
    "    total = pd.DataFrame(tmp, columns = cols)\n",
    "    \n",
    "    total['LINKS'] = links\n",
    "    total['PRECIO'] = precio\n",
    "    total['PRODUCTO'] = 'PINTALABIOS'\n",
    "    \n",
    "    \n",
    "    driver.quit()\n",
    "     \n",
    "    return total"
   ]
  },
  {
   "cell_type": "code",
   "execution_count": 325,
   "id": "51bf7b61",
   "metadata": {},
   "outputs": [],
   "source": [
    "URL = 'https://hudabeauty.com/us/en_US/makeup/lips'"
   ]
  },
  {
   "cell_type": "code",
   "execution_count": 326,
   "id": "440917ba",
   "metadata": {},
   "outputs": [
    {
     "name": "stderr",
     "output_type": "stream",
     "text": [
      "2022-12-12 16:21:28,932 [48607] WARNING  py.warnings:109: [JupyterRequire] /var/folders/fg/hm_rz3k53fv5qf5dywc0bfwr0000gn/T/ipykernel_48607/1998456133.py:3: DeprecationWarning: executable_path has been deprecated, please pass in a Service object\n",
      "  driver = webdriver.Chrome(PATH)\n",
      "\n"
     ]
    }
   ],
   "source": [
    "pintalabios_hb = extraer(URL)"
   ]
  },
  {
   "cell_type": "code",
   "execution_count": 524,
   "id": "6b761db3",
   "metadata": {},
   "outputs": [],
   "source": [
    "paletas = ['TODAS', 'TODAS', 'TODAS', 'PRIMAVERA / VERANO / OTOÑO', 'TODAS', 'PRIMAVERA / OTOÑO / INVIERNO',\\\n",
    "          'TODAS', 'TODAS', 'TODAS', 'TODAS', 'INVIERNO', 'TODAS', 'TODAS', 'INVIERNO / OTOÑO', 'TODAS',\\\n",
    "          'OTOÑO / PRIMAVERA / INVIERNO', 'OTOÑO / INVIERNO', 'TODAS', 'TODAS', 'OTOÑO / INVIERNO']\n",
    "pintalabios_hb['PALETA'] = paletas"
   ]
  },
  {
   "cell_type": "code",
   "execution_count": 329,
   "id": "8a3bd32b",
   "metadata": {},
   "outputs": [],
   "source": [
    "#BLUSH\n",
    "def extraer(URL):\n",
    "    driver = webdriver.Chrome(PATH)\n",
    "    driver.get(URL)\n",
    "    \n",
    "    time.sleep(5)\n",
    "    driver.execute_script('window.scrollTo(0, 4500);')  # 200px de scroll\n",
    "    time.sleep(10)\n",
    "    \n",
    "    filas = driver.find_elements(By.CLASS_NAME, 'link')\n",
    "    precios = driver.find_elements(By.CLASS_NAME, 'price')\n",
    "    tmp = []\n",
    "    links = []\n",
    "    precio = []\n",
    "\n",
    "    for e in filas:\n",
    "        tmp.append(e.text)\n",
    "    \n",
    "    for e in filas:\n",
    "        links.append(e.get_attribute('href'))\n",
    "    \n",
    "    for e in precios:\n",
    "        precio.append(e.text.split()[0])\n",
    "    \n",
    "    \n",
    "    cols = ['NOMBRE']\n",
    "    \n",
    "    total = pd.DataFrame(tmp, columns = cols)\n",
    "    \n",
    "    total['LINKS'] = links\n",
    "    total['PRECIO'] = precio\n",
    "    total['PRODUCTO'] = 'COLORETE'\n",
    "    \n",
    "    \n",
    "    driver.quit()\n",
    "     \n",
    "    return total"
   ]
  },
  {
   "cell_type": "code",
   "execution_count": 330,
   "id": "ed4be5a6",
   "metadata": {},
   "outputs": [],
   "source": [
    "URL = 'https://hudabeauty.com/us/en_US/cheek/blush'"
   ]
  },
  {
   "cell_type": "code",
   "execution_count": 331,
   "id": "27c9fea5",
   "metadata": {},
   "outputs": [
    {
     "name": "stderr",
     "output_type": "stream",
     "text": [
      "2022-12-12 16:22:34,520 [48607] WARNING  py.warnings:109: [JupyterRequire] /var/folders/fg/hm_rz3k53fv5qf5dywc0bfwr0000gn/T/ipykernel_48607/4071659692.py:3: DeprecationWarning: executable_path has been deprecated, please pass in a Service object\n",
      "  driver = webdriver.Chrome(PATH)\n",
      "\n"
     ]
    }
   ],
   "source": [
    "blush_hb = extraer(URL)"
   ]
  },
  {
   "cell_type": "code",
   "execution_count": 526,
   "id": "f74070e9",
   "metadata": {},
   "outputs": [],
   "source": [
    "blush_hb['PALETA'] = 'TODAS'"
   ]
  },
  {
   "cell_type": "code",
   "execution_count": 527,
   "id": "2cd61b08",
   "metadata": {},
   "outputs": [],
   "source": [
    "maquillaje_hb = pd.concat([sombras_hb, pintalabios_hb, blush_hb])"
   ]
  },
  {
   "cell_type": "code",
   "execution_count": 528,
   "id": "9c640825",
   "metadata": {},
   "outputs": [],
   "source": [
    "#Vamos a limpiar la columna de PRECIO\n",
    "p2 = []\n",
    "for e in maquillaje_hb['PRECIO']:\n",
    "    if '$' in e:\n",
    "        p2.append(float(e.replace('$', '')))\n",
    "#Lo convertimos a EUROS (TIPO DE CAMBIO - 12/12/2022):\n",
    "p3 = []\n",
    "for e in p2:\n",
    "    p3.append(round((e*0.95), 2))\n",
    "\n",
    "maquillaje_hb.PRECIO = p3\n",
    "maquillaje_hb.rename(columns = {'PRECIO' : 'PRECIO (€)'}, inplace = True)"
   ]
  },
  {
   "cell_type": "code",
   "execution_count": 593,
   "id": "d7fe801b",
   "metadata": {},
   "outputs": [],
   "source": [
    "#Añadimos la columna 'TIENDA' para indicar dónde comprar los productos\n",
    "maquillaje_hb['TIENDA'] = 'HUDA BEAUTY'"
   ]
  },
  {
   "cell_type": "code",
   "execution_count": 594,
   "id": "b185bb7f",
   "metadata": {},
   "outputs": [],
   "source": [
    "#Cambiamos el tipo de dato de las columnas \n",
    "maquillaje_hb[['NOMBRE', 'LINKS', 'PRODUCTO', 'PALETA', 'TIENDA']] = \\\n",
    "maquillaje_hb[['NOMBRE', 'LINKS', 'PRODUCTO', 'PALETA', 'TIENDA']].astype('category')"
   ]
  },
  {
   "cell_type": "code",
   "execution_count": 595,
   "id": "e8ec996a",
   "metadata": {},
   "outputs": [
    {
     "name": "stdout",
     "output_type": "stream",
     "text": [
      "<class 'pandas.core.frame.DataFrame'>\n",
      "Int64Index: 45 entries, 0 to 3\n",
      "Data columns (total 7 columns):\n",
      " #   Column      Non-Null Count  Dtype   \n",
      "---  ------      --------------  -----   \n",
      " 0   NOMBRE      45 non-null     category\n",
      " 1   LINKS       45 non-null     category\n",
      " 2   PRECIO (€)  45 non-null     float64 \n",
      " 3   PRODUCTO    45 non-null     category\n",
      " 4   PALETAS     45 non-null     object  \n",
      " 5   PALETA      45 non-null     category\n",
      " 6   TIENDA      45 non-null     category\n",
      "dtypes: category(5), float64(1), object(1)\n",
      "memory usage: 4.9+ KB\n"
     ]
    }
   ],
   "source": [
    "maquillaje_hb.info()"
   ]
  },
  {
   "cell_type": "markdown",
   "id": "d2d84398",
   "metadata": {},
   "source": [
    "# **4 - EXTRACCIÓN DE DATOS DE SOMBRAS,  COLORETES Y PINTALABIOS DE KIKO MILANO**"
   ]
  },
  {
   "cell_type": "code",
   "execution_count": 51,
   "id": "032d2517",
   "metadata": {},
   "outputs": [
    {
     "name": "stderr",
     "output_type": "stream",
     "text": [
      "2022-12-12 11:03:35,973 [48607] WARNING  py.warnings:109: [JupyterRequire] /var/folders/fg/hm_rz3k53fv5qf5dywc0bfwr0000gn/T/ipykernel_48607/91254812.py:3: DeprecationWarning: executable_path has been deprecated, please pass in a Service object\n",
      "  driver=webdriver.Chrome(PATH)\n",
      "\n"
     ]
    }
   ],
   "source": [
    "PATH=ChromeDriverManager().install()\n",
    "\n",
    "driver=webdriver.Chrome(PATH) "
   ]
  },
  {
   "cell_type": "code",
   "execution_count": 52,
   "id": "35730fc5",
   "metadata": {},
   "outputs": [],
   "source": [
    "URL = 'https://www.kikocosmetics.com/es-es/maquillaje/labios.html'"
   ]
  },
  {
   "cell_type": "code",
   "execution_count": 53,
   "id": "dc0c7e29",
   "metadata": {},
   "outputs": [],
   "source": [
    "driver.get(URL)"
   ]
  },
  {
   "cell_type": "code",
   "execution_count": 54,
   "id": "42af749a",
   "metadata": {},
   "outputs": [],
   "source": [
    "#Investigamos cómo scrappear la página de KIKO MILANO para poder sacar los productos y los precios\n",
    "nombres = driver.find_elements(By.CLASS_NAME, 'ProductBox__Title')\n",
    "precio = driver.find_elements(By.CLASS_NAME, 'js-new-price')\n",
    "link2 =  driver.find_elements(By.PARTIAL_LINK_TEXT, 'Palette')"
   ]
  },
  {
   "cell_type": "code",
   "execution_count": 241,
   "id": "7a6dd1a6",
   "metadata": {},
   "outputs": [],
   "source": [
    "#BLUSH Y SOMBRAS\n",
    "def extraer(URL):\n",
    "    driver = webdriver.Chrome(PATH)\n",
    "    driver.get(URL)\n",
    "    \n",
    "    driver.find_element(By.XPATH, '//*[@id=\"iubenda-cs-banner\"]/div/div/div/div[3]/div[2]/button[2]').click()\n",
    "    time.sleep(5)\n",
    "    driver.execute_script('window.scrollTo(0, 3000);')  # 200px de scroll\n",
    "    time.sleep(5)\n",
    "    \n",
    "    nombre = driver.find_elements(By.CLASS_NAME, 'ProductBox__Title')\n",
    "    precio = driver.find_elements(By.CLASS_NAME, 'js-new-price')\n",
    "    link =  driver.find_elements(By.PARTIAL_LINK_TEXT, 'Palette')\n",
    "    \n",
    "    tmp = []\n",
    "    precios = []\n",
    "    links = []\n",
    "    \n",
    "\n",
    "    for e in nombre:\n",
    "        tmp.append(e.text.split('\\n'))\n",
    "    \n",
    "    for e in precio:\n",
    "        precios.append(e.text)\n",
    "    \n",
    "    for e in link:\n",
    "        links.append(e.get_attribute('href'))\n",
    "    \n",
    "    cols = ['NOMBRE']\n",
    "    \n",
    "    total = pd.DataFrame(tmp, columns = cols)\n",
    "    \n",
    "    precios.remove('')\n",
    "    precios.remove('')\n",
    "    \n",
    "    total['PRECIO'] = precios\n",
    "    total['LINKS'] = links\n",
    "    total['PRODUCTO'] = 'SOMBRAS DE OJOS'\n",
    "    \n",
    "    \n",
    "    driver.quit()\n",
    "     \n",
    "    return total"
   ]
  },
  {
   "cell_type": "code",
   "execution_count": 242,
   "id": "776c0a2d",
   "metadata": {},
   "outputs": [],
   "source": [
    "URL = 'https://www.kikocosmetics.com/es-es/maquillaje/paletas/paleta-de-ojos.html'"
   ]
  },
  {
   "cell_type": "code",
   "execution_count": 243,
   "id": "fd12d6d1",
   "metadata": {
    "scrolled": false
   },
   "outputs": [
    {
     "name": "stderr",
     "output_type": "stream",
     "text": [
      "2022-12-12 13:45:54,438 [48607] WARNING  py.warnings:109: [JupyterRequire] /var/folders/fg/hm_rz3k53fv5qf5dywc0bfwr0000gn/T/ipykernel_48607/3280125201.py:3: DeprecationWarning: executable_path has been deprecated, please pass in a Service object\n",
      "  driver = webdriver.Chrome(PATH)\n",
      "\n"
     ]
    }
   ],
   "source": [
    "sombras_kiko = extraer(URL) #CUÁLES SOMBRAS Y CUÁLES BLUSH?"
   ]
  },
  {
   "cell_type": "code",
   "execution_count": 244,
   "id": "d28621ee",
   "metadata": {
    "scrolled": true
   },
   "outputs": [
    {
     "data": {
      "text/plain": [
       "(28, 4)"
      ]
     },
     "execution_count": 244,
     "metadata": {},
     "output_type": "execute_result"
    }
   ],
   "source": [
    "sombras_kiko.shape"
   ]
  },
  {
   "cell_type": "code",
   "execution_count": 567,
   "id": "e82ca9e2",
   "metadata": {},
   "outputs": [],
   "source": [
    "paletas = ['PRIMAVERA / OTOÑO', 'TODAS', 'TODAS', 'TODAS', 'TODAS', 'TODAS', 'TODAS', 'TODAS', 'TODAS', 'TODAS','TODAS',\\\n",
    "          'TODAS', 'TODAS', 'PRIMAVERA / VERANO', 'PRIMAVERA / VERANO / OTOÑO', 'INVIERNO / OTOÑO', 'INVIERNO / OTOÑO', \\\n",
    "          'INVIERNO / OTOÑO', 'PRIMAVERA / OTOÑO', 'PRIMAVERA / OTOÑO / INVIERNO', 'TODAS', 'PRIMAVERA / OTOÑO / INVIERNO',\\\n",
    "          'PRIMAVERA / OTOÑO / INVIERNO', 'TODAS', 'PRIMAVERA / VERANO', 'PRIMAVERA / VERANO', 'TODAS', 'TODAS']\n",
    "sombras_kiko['PALETA'] = paletas"
   ]
  },
  {
   "cell_type": "code",
   "execution_count": 568,
   "id": "83bf1c77",
   "metadata": {},
   "outputs": [],
   "source": [
    "sombras_kiko.at[26, 'PRODUCTO'] = 'COLORETE'\n",
    "sombras_kiko.at[27, 'PRODUCTO'] = 'COLORETE'"
   ]
  },
  {
   "cell_type": "code",
   "execution_count": 569,
   "id": "56a442d5",
   "metadata": {},
   "outputs": [],
   "source": [
    "#PINTALABIOS\n",
    "def extraer(URL):\n",
    "    driver = webdriver.Chrome(PATH)\n",
    "    driver.get(URL)\n",
    "    \n",
    "    driver.execute_script('window.scrollTo(0, 2000);')  # 200px de scroll\n",
    "    \n",
    "    nombre = driver.find_elements(By.CLASS_NAME, 'ProductBox__Title')\n",
    "    precio = driver.find_elements(By.CLASS_NAME, 'js-new-price')\n",
    "    link =  driver.find_elements(By.PARTIAL_LINK_TEXT, 'Lip')\n",
    "    link2 =  driver.find_elements(By.PARTIAL_LINK_TEXT, 'Unlimited')\n",
    "    link3 =  driver.find_elements(By.PARTIAL_LINK_TEXT, 'Stick')\n",
    "    link4 = driver.find_elements(By.PARTIAL_LINK_TEXT, 'Pearly')\n",
    "    link5 = driver.find_elements(By.PARTIAL_LINK_TEXT, 'Jelly')\n",
    "    \n",
    "    tmp = []\n",
    "    precios = []\n",
    "    links = []\n",
    "    \n",
    "\n",
    "    for e in nombre:\n",
    "        tmp.append(e.text.split('\\n'))\n",
    "    \n",
    "    for e in precio:\n",
    "        precios.append(e.text)\n",
    "    \n",
    "    for e in link:\n",
    "        links.append(e.get_attribute('href'))\n",
    "    \n",
    "    for e in link2:\n",
    "        links.append(e.get_attribute('href'))\n",
    "    \n",
    "    for e in link3:\n",
    "        links.append(e.get_attribute('href'))\n",
    "    \n",
    "    for e in link4:\n",
    "        links.append(e.get_attribute('href'))\n",
    "    \n",
    "    for e in link5:\n",
    "        links.append(e.get_attribute('href'))\n",
    "    \n",
    "    \n",
    "    cols = ['NOMBRE']\n",
    "    \n",
    "    total = pd.DataFrame(tmp, columns = cols)\n",
    "    \n",
    "    precios.remove('')\n",
    "    precios.remove('')\n",
    "    precios.remove('')\n",
    "    precios.remove('')\n",
    "    precios.remove('')\n",
    "    precios.remove('')\n",
    "    precios.remove('')\n",
    "    precios.remove('')\n",
    "    precios.remove('')\n",
    "    \n",
    "    total['PRECIO'] = precios\n",
    "    total['LINKS'] = links\n",
    "    total['PRODUCTO'] = 'PINTALABIOS'\n",
    "    \n",
    "    \n",
    "    driver.quit()\n",
    "     \n",
    "    return total"
   ]
  },
  {
   "cell_type": "code",
   "execution_count": 59,
   "id": "84ae29f9",
   "metadata": {},
   "outputs": [],
   "source": [
    "URL = 'https://www.kikocosmetics.com/es-es/maquillaje/labios.html'"
   ]
  },
  {
   "cell_type": "code",
   "execution_count": 60,
   "id": "29d12cee",
   "metadata": {},
   "outputs": [
    {
     "name": "stderr",
     "output_type": "stream",
     "text": [
      "2022-12-12 11:04:04,420 [48607] WARNING  py.warnings:109: [JupyterRequire] /var/folders/fg/hm_rz3k53fv5qf5dywc0bfwr0000gn/T/ipykernel_48607/1661189169.py:3: DeprecationWarning: executable_path has been deprecated, please pass in a Service object\n",
      "  driver = webdriver.Chrome(PATH)\n",
      "\n"
     ]
    }
   ],
   "source": [
    "labios_kiko = extraer(URL)"
   ]
  },
  {
   "cell_type": "code",
   "execution_count": 570,
   "id": "1db3c381",
   "metadata": {},
   "outputs": [],
   "source": [
    "labios_kiko['PALETA'] = 'TODAS'"
   ]
  },
  {
   "cell_type": "code",
   "execution_count": 571,
   "id": "f6f82d03",
   "metadata": {},
   "outputs": [],
   "source": [
    "maquillaje_kiko = pd.concat([sombras_kiko, labios_kiko])"
   ]
  },
  {
   "cell_type": "code",
   "execution_count": 572,
   "id": "22675f44",
   "metadata": {},
   "outputs": [],
   "source": [
    "#Limpiamos la columna PRECIO\n",
    "p = []\n",
    "for e in maquillaje_kiko.PRECIO:\n",
    "    if ',' in e:\n",
    "        p.append(e.replace(',', '.'))\n",
    "        \n",
    "        \n",
    "maquillaje_kiko.PRECIO = p\n",
    "\n",
    "#Limpiamos la columna PRECIO\n",
    "def quitar_euro(columna):\n",
    "    e = re.findall('\\d+.\\d+', columna)\n",
    "    e = ''.join(e)\n",
    "    return float(e)\n",
    "\n",
    "maquillaje_kiko.PRECIO = maquillaje_kiko.PRECIO.apply(quitar_euro)\n",
    "\n",
    "maquillaje_kiko.rename(columns = {'PRECIO' : 'PRECIO (€)'}, inplace = True)"
   ]
  },
  {
   "cell_type": "code",
   "execution_count": 596,
   "id": "4a0f36c7",
   "metadata": {},
   "outputs": [],
   "source": [
    "#Añadimos la columna 'TIENDA' para indicar dónde comprar los productos\n",
    "maquillaje_kiko['TIENDA'] = 'KIKO MILANO'"
   ]
  },
  {
   "cell_type": "code",
   "execution_count": 597,
   "id": "de4d3126",
   "metadata": {},
   "outputs": [],
   "source": [
    "#Cambiamos el tipo de dato de las columnas\n",
    "maquillaje_kiko[['NOMBRE', 'LINKS', 'PRODUCTO', 'PALETA', 'TIENDA']] = \\\n",
    "maquillaje_kiko[['NOMBRE', 'LINKS', 'PRODUCTO', 'PALETA', 'TIENDA']].astype('category')"
   ]
  },
  {
   "cell_type": "code",
   "execution_count": 598,
   "id": "3e2c3d2b",
   "metadata": {},
   "outputs": [
    {
     "name": "stdout",
     "output_type": "stream",
     "text": [
      "<class 'pandas.core.frame.DataFrame'>\n",
      "Int64Index: 52 entries, 0 to 23\n",
      "Data columns (total 6 columns):\n",
      " #   Column      Non-Null Count  Dtype   \n",
      "---  ------      --------------  -----   \n",
      " 0   NOMBRE      52 non-null     category\n",
      " 1   PRECIO (€)  52 non-null     float64 \n",
      " 2   LINKS       52 non-null     category\n",
      " 3   PRODUCTO    52 non-null     category\n",
      " 4   PALETA      52 non-null     category\n",
      " 5   TIENDA      52 non-null     category\n",
      "dtypes: category(5), float64(1)\n",
      "memory usage: 6.4 KB\n"
     ]
    }
   ],
   "source": [
    "maquillaje_kiko.info()"
   ]
  },
  {
   "cell_type": "markdown",
   "id": "9929d713",
   "metadata": {},
   "source": [
    "# 5 - EXTRACCIÓN DE DATOS DE PINTALABIOS DE KAT VON D"
   ]
  },
  {
   "cell_type": "code",
   "execution_count": 62,
   "id": "f262a487",
   "metadata": {},
   "outputs": [
    {
     "name": "stderr",
     "output_type": "stream",
     "text": [
      "2022-12-12 11:04:22,654 [48607] WARNING  py.warnings:109: [JupyterRequire] /var/folders/fg/hm_rz3k53fv5qf5dywc0bfwr0000gn/T/ipykernel_48607/1981730666.py:3: DeprecationWarning: executable_path has been deprecated, please pass in a Service object\n",
      "  driver=webdriver.Chrome(PATH)\n",
      "\n"
     ]
    }
   ],
   "source": [
    "PATH=ChromeDriverManager().install()\n",
    "\n",
    "driver=webdriver.Chrome(PATH)"
   ]
  },
  {
   "cell_type": "code",
   "execution_count": 63,
   "id": "ffeb0ff5",
   "metadata": {},
   "outputs": [],
   "source": [
    "URL = 'https://kvdveganbeauty.com/collections/lip'"
   ]
  },
  {
   "cell_type": "code",
   "execution_count": 64,
   "id": "7b634c05",
   "metadata": {},
   "outputs": [],
   "source": [
    "driver.get(URL)"
   ]
  },
  {
   "cell_type": "code",
   "execution_count": 65,
   "id": "eb866bdd",
   "metadata": {},
   "outputs": [],
   "source": [
    "nombres = driver.find_elements(By.CLASS_NAME, 'product-card__name')\n",
    "precios = driver.find_elements(By.CLASS_NAME, 'product-card__price')"
   ]
  },
  {
   "cell_type": "code",
   "execution_count": 66,
   "id": "71a13155",
   "metadata": {},
   "outputs": [],
   "source": [
    "lista = []\n",
    "for e in nombres:\n",
    "    lista.append(e.text)"
   ]
  },
  {
   "cell_type": "code",
   "execution_count": 67,
   "id": "b57ccffd",
   "metadata": {},
   "outputs": [
    {
     "data": {
      "text/plain": [
       "['Everlasting Hyperlight Transfer-Proof Liquid Lipstick',\n",
       " 'Epic Kiss Nourishing Vegan Butter Lipstick',\n",
       " 'Mini Epic Kiss Nourishing Vegan Butter Lipstick',\n",
       " 'Studded Kiss Crème Lipstick',\n",
       " 'XO Vinyl Lip Cream Lip Gloss',\n",
       " 'XO Lip Gloss']"
      ]
     },
     "execution_count": 67,
     "metadata": {},
     "output_type": "execute_result"
    }
   ],
   "source": [
    "lista[18:24]"
   ]
  },
  {
   "cell_type": "code",
   "execution_count": 68,
   "id": "d57c8461",
   "metadata": {},
   "outputs": [],
   "source": [
    "def extraer(URL):\n",
    "    driver = webdriver.Chrome(PATH)\n",
    "    driver.get(URL)\n",
    "    \n",
    "    driver.find_element(By.XPATH, '//*[@id=\"onetrust-accept-btn-handler\"]').click()\n",
    "    time.sleep(5)\n",
    "    driver.find_element(By.CLASS_NAME, 'glClose').click()\n",
    "    time.sleep(5)\n",
    "    driver.execute_script('window.scrollTo(0, 3000);')  # 200px de scroll\n",
    "    time.sleep(5)\n",
    "    \n",
    "    nombre = driver.find_elements(By.CLASS_NAME, 'product-card__name')\n",
    "    precio = driver.find_elements(By.CLASS_NAME, 'product-card__price')\n",
    "    link =  driver.find_elements(By.PARTIAL_LINK_TEXT, 'Lip')\n",
    "    \n",
    "    tmp = []\n",
    "    precios = []\n",
    "    links = []\n",
    "    \n",
    "\n",
    "    for e in nombre:\n",
    "        tmp.append(e.text.split('\\n'))\n",
    "    \n",
    "    for e in precio:\n",
    "        precios.append(e.text)\n",
    "    \n",
    "    for e in link:\n",
    "        links.append(e.get_attribute('href'))\n",
    "    \n",
    "    tmp = tmp[18:24]\n",
    "    links = links[0:6]\n",
    "    \n",
    "    \n",
    "    cols = ['NOMBRE']\n",
    "    \n",
    "    total = pd.DataFrame(tmp, columns = cols)\n",
    "\n",
    "    \n",
    "    total['PRECIO'] = precios\n",
    "    total['LINKS'] = links\n",
    "    total['PRODUCTO'] = 'PINTALABIOS'\n",
    "    \n",
    "    \n",
    "    driver.quit()\n",
    "     \n",
    "    return total"
   ]
  },
  {
   "cell_type": "code",
   "execution_count": 69,
   "id": "58b0c26a",
   "metadata": {},
   "outputs": [],
   "source": [
    "URL = 'https://kvdveganbeauty.com/collections/lip'"
   ]
  },
  {
   "cell_type": "code",
   "execution_count": 70,
   "id": "895ef80c",
   "metadata": {},
   "outputs": [
    {
     "name": "stderr",
     "output_type": "stream",
     "text": [
      "2022-12-12 11:04:37,936 [48607] WARNING  py.warnings:109: [JupyterRequire] /var/folders/fg/hm_rz3k53fv5qf5dywc0bfwr0000gn/T/ipykernel_48607/3548246177.py:2: DeprecationWarning: executable_path has been deprecated, please pass in a Service object\n",
      "  driver = webdriver.Chrome(PATH)\n",
      "\n"
     ]
    }
   ],
   "source": [
    "pintalabios_kvd = extraer(URL) #falta añadir las paletas"
   ]
  },
  {
   "cell_type": "code",
   "execution_count": 577,
   "id": "781eb682",
   "metadata": {},
   "outputs": [],
   "source": [
    "pintalabios_kvd['PALETA'] = 'TODAS'"
   ]
  },
  {
   "cell_type": "code",
   "execution_count": 578,
   "id": "9666a346",
   "metadata": {},
   "outputs": [],
   "source": [
    "pintalabios_kvd.drop('PALETAS', axis = 1, inplace = True)"
   ]
  },
  {
   "cell_type": "code",
   "execution_count": 580,
   "id": "3e20718e",
   "metadata": {},
   "outputs": [
    {
     "ename": "TypeError",
     "evalue": "rename() got an unexpected keyword argument 'columns'",
     "output_type": "error",
     "traceback": [
      "\u001b[0;31m---------------------------------------------------------------------------\u001b[0m",
      "\u001b[0;31mTypeError\u001b[0m                                 Traceback (most recent call last)",
      "Input \u001b[0;32mIn [580]\u001b[0m, in \u001b[0;36m<cell line: 9>\u001b[0;34m()\u001b[0m\n\u001b[1;32m      5\u001b[0m     \u001b[38;5;28;01mreturn\u001b[39;00m \u001b[38;5;28mfloat\u001b[39m(e)\n\u001b[1;32m      7\u001b[0m pintalabios_kvd\u001b[38;5;241m.\u001b[39mPRECIO \u001b[38;5;241m=\u001b[39m pintalabios_kvd\u001b[38;5;241m.\u001b[39mPRECIO\u001b[38;5;241m.\u001b[39mapply(quitar_euro)\n\u001b[0;32m----> 9\u001b[0m \u001b[43mpintalabios_kvd\u001b[49m\u001b[38;5;241;43m.\u001b[39;49m\u001b[43mPRECIO\u001b[49m\u001b[38;5;241;43m.\u001b[39;49m\u001b[43mrename\u001b[49m\u001b[43m(\u001b[49m\u001b[43mcolumns\u001b[49m\u001b[43m \u001b[49m\u001b[38;5;241;43m=\u001b[39;49m\u001b[43m \u001b[49m\u001b[43m{\u001b[49m\u001b[38;5;124;43m'\u001b[39;49m\u001b[38;5;124;43mPRECIO\u001b[39;49m\u001b[38;5;124;43m'\u001b[39;49m\u001b[43m \u001b[49m\u001b[43m:\u001b[49m\u001b[43m \u001b[49m\u001b[38;5;124;43m'\u001b[39;49m\u001b[38;5;124;43mPRECIO (€)\u001b[39;49m\u001b[38;5;124;43m'\u001b[39;49m\u001b[43m}\u001b[49m\u001b[43m,\u001b[49m\u001b[43m \u001b[49m\u001b[43minplace\u001b[49m\u001b[43m \u001b[49m\u001b[38;5;241;43m=\u001b[39;49m\u001b[43m \u001b[49m\u001b[38;5;28;43;01mTrue\u001b[39;49;00m\u001b[43m)\u001b[49m\n",
      "\u001b[0;31mTypeError\u001b[0m: rename() got an unexpected keyword argument 'columns'"
     ]
    }
   ],
   "source": [
    "#Limpiamos la columna PRECIO\n",
    "def quitar_euro(columna):\n",
    "    e = re.findall('\\d+.\\d+', columna)\n",
    "    e = ''.join(e)\n",
    "    return float(e)\n",
    "\n",
    "pintalabios_kvd.PRECIO = pintalabios_kvd.PRECIO.apply(quitar_euro)\n",
    "pintalabios_kvd.rename(columns = {'PRECIO' : 'PRECIO (€)'}, inplace = True)"
   ]
  },
  {
   "cell_type": "code",
   "execution_count": 599,
   "id": "5ba391e8",
   "metadata": {},
   "outputs": [],
   "source": [
    "#Añadimos la columna 'TIENDA' para indicar dónde comprar los productos\n",
    "pintalabios_kvd['TIENDA'] = 'KAT VON D'"
   ]
  },
  {
   "cell_type": "code",
   "execution_count": 600,
   "id": "bde570f6",
   "metadata": {},
   "outputs": [],
   "source": [
    "#Cambiamos el tipo de dato de las columnas\n",
    "pintalabios_kvd[['NOMBRE', 'LINKS', 'PRODUCTO', 'PALETA', 'TIENDA']] = \\\n",
    "pintalabios_kvd[['NOMBRE', 'LINKS', 'PRODUCTO', 'PALETA', 'TIENDA']].astype('category')"
   ]
  },
  {
   "cell_type": "code",
   "execution_count": 602,
   "id": "eabb762f",
   "metadata": {},
   "outputs": [
    {
     "name": "stdout",
     "output_type": "stream",
     "text": [
      "<class 'pandas.core.frame.DataFrame'>\n",
      "RangeIndex: 6 entries, 0 to 5\n",
      "Data columns (total 6 columns):\n",
      " #   Column      Non-Null Count  Dtype   \n",
      "---  ------      --------------  -----   \n",
      " 0   NOMBRE      6 non-null      category\n",
      " 1   PRECIO (€)  6 non-null      float64 \n",
      " 2   LINKS       6 non-null      category\n",
      " 3   PRODUCTO    6 non-null      category\n",
      " 4   PALETA      6 non-null      category\n",
      " 5   TIENDA      6 non-null      category\n",
      "dtypes: category(5), float64(1)\n",
      "memory usage: 994.0 bytes\n"
     ]
    }
   ],
   "source": [
    "pintalabios_kvd.info()"
   ]
  },
  {
   "cell_type": "markdown",
   "id": "1ad62f47",
   "metadata": {},
   "source": [
    "# 5 - EXTRACCIÓN DE DATOS DE COLORETES DE BENEFIT"
   ]
  },
  {
   "cell_type": "code",
   "execution_count": 71,
   "id": "fcb5d7b6",
   "metadata": {},
   "outputs": [
    {
     "name": "stderr",
     "output_type": "stream",
     "text": [
      "2022-12-12 11:05:13,513 [48607] WARNING  py.warnings:109: [JupyterRequire] /var/folders/fg/hm_rz3k53fv5qf5dywc0bfwr0000gn/T/ipykernel_48607/1981730666.py:3: DeprecationWarning: executable_path has been deprecated, please pass in a Service object\n",
      "  driver=webdriver.Chrome(PATH)\n",
      "\n"
     ]
    }
   ],
   "source": [
    "PATH=ChromeDriverManager().install()\n",
    "\n",
    "driver=webdriver.Chrome(PATH)"
   ]
  },
  {
   "cell_type": "code",
   "execution_count": 72,
   "id": "de00e3ea",
   "metadata": {},
   "outputs": [],
   "source": [
    "URL = 'https://www.benefitcosmetics.com/en-us/face/blush?page=3'"
   ]
  },
  {
   "cell_type": "code",
   "execution_count": 73,
   "id": "b642ed89",
   "metadata": {},
   "outputs": [],
   "source": [
    "driver.get(URL)"
   ]
  },
  {
   "cell_type": "code",
   "execution_count": 74,
   "id": "365915c9",
   "metadata": {},
   "outputs": [],
   "source": [
    "nombres = driver.find_elements(By.CLASS_NAME, 'card__title')\n",
    "precios = driver.find_elements(By.CLASS_NAME, 'price')"
   ]
  },
  {
   "cell_type": "code",
   "execution_count": 75,
   "id": "5c24d536",
   "metadata": {},
   "outputs": [],
   "source": [
    "link = driver.find_elements(By.TAG_NAME, 'a')"
   ]
  },
  {
   "cell_type": "code",
   "execution_count": 76,
   "id": "fc44915f",
   "metadata": {},
   "outputs": [],
   "source": [
    "lista = []\n",
    "for e in link:\n",
    "    lista.append(e.get_attribute('href'))"
   ]
  },
  {
   "cell_type": "code",
   "execution_count": 77,
   "id": "8dc38d48",
   "metadata": {},
   "outputs": [
    {
     "data": {
      "text/plain": [
       "['https://www.benefitcosmetics.com/en-us/product/moone-rich-berry-blush?product=MOONE-MINI',\n",
       " 'https://www.benefitcosmetics.com/en-us/product/shellie-warm-seashell-pink-blush?product=SHELLIE-MINI',\n",
       " 'https://www.benefitcosmetics.com/en-us/product/terra-golden-brick-red-blush?product=TERRA-MINI',\n",
       " 'https://www.benefitcosmetics.com/en-us/product/peachin-golden-peach-blush?product=PEACHIN-MINI',\n",
       " 'https://www.benefitcosmetics.com/en-us/product/dandelion-brightening-finishing-powder?product=DANDELION-FULL',\n",
       " 'https://www.benefitcosmetics.com/en-us/product/georgia-golden-peach-blush?product=GEORGIA-FULL',\n",
       " 'https://www.benefitcosmetics.com/en-us/product/georgia-golden-peach-blush?product=GEORFM233',\n",
       " 'https://www.benefitcosmetics.com/en-us/product/love-me-bright',\n",
       " 'https://www.benefitcosmetics.com/en-us/product/sincerely-yours-beauty-advent-calendar']"
      ]
     },
     "execution_count": 77,
     "metadata": {},
     "output_type": "execute_result"
    }
   ],
   "source": [
    "lista[103:112]"
   ]
  },
  {
   "cell_type": "code",
   "execution_count": 78,
   "id": "5575fea3",
   "metadata": {},
   "outputs": [],
   "source": [
    "links = links[102:114]"
   ]
  },
  {
   "cell_type": "code",
   "execution_count": 79,
   "id": "7bd9b1b7",
   "metadata": {},
   "outputs": [
    {
     "data": {
      "text/plain": [
       "['https://www.benefitcosmetics.com/en-us',\n",
       " 'https://www.benefitcosmetics.com/en-us/locations',\n",
       " 'https://www.benefitcosmetics.com/en-us/find-a-store',\n",
       " 'https://www.benefitcosmetics.com/en-us/face/blush?page=3#',\n",
       " 'https://www.benefitcosmetics.com/en-us/account/register/?returnUrl=%2Fen-us%2Fface%2Fblush',\n",
       " 'https://www.benefitcosmetics.com/en-us/product/gimme-brow-volumizing-eyebrow-gel?product=GIMMEBROW-FULL',\n",
       " 'https://www.benefitcosmetics.com/en-us/product/gimme-brow-volumizing-eyebrow-gel?product=GIMMEBROW-MINI',\n",
       " 'https://www.benefitcosmetics.com/en-us/product/gimme-brow-volumizing-eyebrow-gel?product=GIMMEBROW-JUMBO',\n",
       " 'https://www.benefitcosmetics.com/en-us/product/goof-proof-eyebrow-pencil?product=GOOFP-FULL']"
      ]
     },
     "execution_count": 79,
     "metadata": {},
     "output_type": "execute_result"
    }
   ],
   "source": [
    "lista[10:19]"
   ]
  },
  {
   "cell_type": "code",
   "execution_count": 80,
   "id": "d54384bb",
   "metadata": {},
   "outputs": [],
   "source": [
    "precios = driver.find_elements(By.CLASS_NAME, 'price')"
   ]
  },
  {
   "cell_type": "code",
   "execution_count": 81,
   "id": "d6e2b714",
   "metadata": {},
   "outputs": [
    {
     "data": {
      "text/plain": [
       "['https://www.benefitcosmetics.com/en-us/all-makeup',\n",
       " 'https://www.benefitcosmetics.com/en-us/product/moone-rich-berry-blush?product=MOONE-MINI',\n",
       " 'https://www.benefitcosmetics.com/en-us/product/shellie-warm-seashell-pink-blush?product=SHELLIE-MINI',\n",
       " 'https://www.benefitcosmetics.com/en-us/product/terra-golden-brick-red-blush?product=TERRA-MINI',\n",
       " 'https://www.benefitcosmetics.com/en-us/product/peachin-golden-peach-blush?product=PEACHIN-MINI',\n",
       " 'https://www.benefitcosmetics.com/en-us/product/dandelion-brightening-finishing-powder?product=DANDELION-FULL',\n",
       " 'https://www.benefitcosmetics.com/en-us/product/georgia-golden-peach-blush?product=GEORGIA-FULL',\n",
       " 'https://www.benefitcosmetics.com/en-us/product/georgia-golden-peach-blush?product=GEORFM233',\n",
       " 'https://www.benefitcosmetics.com/en-us/product/love-me-bright',\n",
       " 'https://www.benefitcosmetics.com/en-us/product/sincerely-yours-beauty-advent-calendar',\n",
       " 'https://www.benefitcosmetics.com/en-us/face/blush?page=3#',\n",
       " 'https://www.benefitcosmetics.com/en-us/bestsellers-makeup']"
      ]
     },
     "execution_count": 81,
     "metadata": {},
     "output_type": "execute_result"
    }
   ],
   "source": [
    "lista[102:114]"
   ]
  },
  {
   "cell_type": "code",
   "execution_count": 82,
   "id": "23d97200",
   "metadata": {},
   "outputs": [
    {
     "data": {
      "text/plain": [
       "<selenium.webdriver.remote.webelement.WebElement (session=\"ad3fdbbc39be0cfd43f7e96d0f7c502b\", element=\"32c913de-b5fa-4a91-a46d-3518d35e67e1\")>"
      ]
     },
     "execution_count": 82,
     "metadata": {},
     "output_type": "execute_result"
    }
   ],
   "source": [
    "driver.find_element(By.CSS_SELECTOR, '#category > div.category__container > div > div > div.pagination > a > i')"
   ]
  },
  {
   "cell_type": "code",
   "execution_count": 83,
   "id": "8f415b33",
   "metadata": {},
   "outputs": [],
   "source": [
    "def extraer(URL):\n",
    "    driver = webdriver.Chrome(PATH)\n",
    "    driver.get(URL)\n",
    "\n",
    "    time.sleep(5)\n",
    "    driver.execute_script('window.scrollTo(0, 3000);')  # 200px de scroll\n",
    "    \n",
    "    \n",
    "    nombre = driver.find_elements(By.CLASS_NAME, 'card__title')\n",
    "    precio = driver.find_elements(By.CLASS_NAME, 'price')\n",
    "    link =  driver.find_elements(By.TAG_NAME, 'a')\n",
    "    \n",
    "    tmp = []\n",
    "    precios = []\n",
    "    links = []\n",
    "    \n",
    "\n",
    "    for e in nombre:\n",
    "        tmp.append(e.text.split('\\n'))\n",
    "    \n",
    "    for e in precio:\n",
    "        precios.append(e.text.split('\\n')[-1])\n",
    "    \n",
    "    for e in link:\n",
    "        links.append(e.get_attribute('href'))\n",
    "    \n",
    "    precios = precios[10:22]\n",
    "    tmp = tmp[10:22]\n",
    "    links = links[102:114]\n",
    "    \n",
    "    cols = ['NOMBRE']\n",
    "    \n",
    "    total = pd.DataFrame(tmp, columns = cols)\n",
    "\n",
    "    \n",
    "    total['PRECIO'] = precios\n",
    "    total['LINKS'] = links\n",
    "    total['PRODUCTO'] = 'COLORETE'\n",
    "    \n",
    "    \n",
    "    driver.quit()\n",
    "     \n",
    "    return total"
   ]
  },
  {
   "cell_type": "code",
   "execution_count": 84,
   "id": "9a448e1f",
   "metadata": {},
   "outputs": [],
   "source": [
    "def extraer2(URL):\n",
    "    driver = webdriver.Chrome(PATH)\n",
    "    driver.get(URL)\n",
    "\n",
    "    time.sleep(5)\n",
    "    driver.execute_script('window.scrollTo(0, 3000);')  # 200px de scroll\n",
    "    \n",
    "    \n",
    "    nombre = driver.find_elements(By.CLASS_NAME, 'card__title')\n",
    "    precio = driver.find_elements(By.CLASS_NAME, 'price')\n",
    "    link =  driver.find_elements(By.TAG_NAME, 'a')\n",
    "    \n",
    "    tmp = []\n",
    "    precios = []\n",
    "    links = []\n",
    "    \n",
    "\n",
    "    for e in nombre:\n",
    "        tmp.append(e.text.split('\\n'))\n",
    "    \n",
    "    for e in precio:\n",
    "        precios.append(e.text.split('\\n')[-1])\n",
    "    \n",
    "    for e in link:\n",
    "        links.append(e.get_attribute('href'))\n",
    "    \n",
    "    precios = precios[10:22]\n",
    "    tmp = tmp[10:22]\n",
    "    links = links[103:112]\n",
    "    \n",
    "    cols = ['NOMBRE']\n",
    "    \n",
    "    total = pd.DataFrame(tmp, columns = cols)\n",
    "\n",
    "    \n",
    "    total['PRECIO'] = precios\n",
    "    total['LINKS'] = links\n",
    "    total['PRODUCTO'] = 'COLORETE'\n",
    "    \n",
    "    \n",
    "    driver.quit()\n",
    "     \n",
    "    return total"
   ]
  },
  {
   "cell_type": "code",
   "execution_count": 85,
   "id": "2914f4d3",
   "metadata": {},
   "outputs": [],
   "source": [
    "links_ben = ['https://www.benefitcosmetics.com/en-us/face/blush',\\\n",
    "            'https://www.benefitcosmetics.com/en-us/face/blush?page=2']"
   ]
  },
  {
   "cell_type": "code",
   "execution_count": 86,
   "id": "d876c195",
   "metadata": {},
   "outputs": [
    {
     "name": "stderr",
     "output_type": "stream",
     "text": [
      "2022-12-12 11:05:31,868 [48607] WARNING  py.warnings:109: [JupyterRequire] /var/folders/fg/hm_rz3k53fv5qf5dywc0bfwr0000gn/T/ipykernel_48607/326568913.py:2: DeprecationWarning: executable_path has been deprecated, please pass in a Service object\n",
      "  driver = webdriver.Chrome(PATH)\n",
      "\n"
     ]
    }
   ],
   "source": [
    "tres = extraer2('https://www.benefitcosmetics.com/en-us/face/blush?page=3') "
   ]
  },
  {
   "cell_type": "code",
   "execution_count": 87,
   "id": "1d22b643",
   "metadata": {},
   "outputs": [
    {
     "name": "stderr",
     "output_type": "stream",
     "text": [
      "[Parallel(n_jobs=3)]: Using backend LokyBackend with 3 concurrent workers.\n",
      "/var/folders/fg/hm_rz3k53fv5qf5dywc0bfwr0000gn/T/ipykernel_48607/1349481635.py:2: DeprecationWarning: executable_path has been deprecated, please pass in a Service object\n",
      "/var/folders/fg/hm_rz3k53fv5qf5dywc0bfwr0000gn/T/ipykernel_48607/1349481635.py:2: DeprecationWarning: executable_path has been deprecated, please pass in a Service object\n",
      "[Parallel(n_jobs=3)]: Done   2 out of   2 | elapsed:   34.3s finished\n"
     ]
    }
   ],
   "source": [
    "blush_benefit = Parallel(n_jobs=3, verbose=True)(delayed(extraer)(e) for e in links_ben)"
   ]
  },
  {
   "cell_type": "code",
   "execution_count": 608,
   "id": "3530f024",
   "metadata": {},
   "outputs": [
    {
     "ename": "KeyError",
     "evalue": "0",
     "output_type": "error",
     "traceback": [
      "\u001b[0;31m---------------------------------------------------------------------------\u001b[0m",
      "\u001b[0;31mKeyError\u001b[0m                                  Traceback (most recent call last)",
      "File \u001b[0;32m~/opt/anaconda3/lib/python3.9/site-packages/pandas/core/indexes/base.py:3621\u001b[0m, in \u001b[0;36mIndex.get_loc\u001b[0;34m(self, key, method, tolerance)\u001b[0m\n\u001b[1;32m   3620\u001b[0m \u001b[38;5;28;01mtry\u001b[39;00m:\n\u001b[0;32m-> 3621\u001b[0m     \u001b[38;5;28;01mreturn\u001b[39;00m \u001b[38;5;28;43mself\u001b[39;49m\u001b[38;5;241;43m.\u001b[39;49m\u001b[43m_engine\u001b[49m\u001b[38;5;241;43m.\u001b[39;49m\u001b[43mget_loc\u001b[49m\u001b[43m(\u001b[49m\u001b[43mcasted_key\u001b[49m\u001b[43m)\u001b[49m\n\u001b[1;32m   3622\u001b[0m \u001b[38;5;28;01mexcept\u001b[39;00m \u001b[38;5;167;01mKeyError\u001b[39;00m \u001b[38;5;28;01mas\u001b[39;00m err:\n",
      "File \u001b[0;32m~/opt/anaconda3/lib/python3.9/site-packages/pandas/_libs/index.pyx:136\u001b[0m, in \u001b[0;36mpandas._libs.index.IndexEngine.get_loc\u001b[0;34m()\u001b[0m\n",
      "File \u001b[0;32m~/opt/anaconda3/lib/python3.9/site-packages/pandas/_libs/index.pyx:163\u001b[0m, in \u001b[0;36mpandas._libs.index.IndexEngine.get_loc\u001b[0;34m()\u001b[0m\n",
      "File \u001b[0;32mpandas/_libs/hashtable_class_helper.pxi:5198\u001b[0m, in \u001b[0;36mpandas._libs.hashtable.PyObjectHashTable.get_item\u001b[0;34m()\u001b[0m\n",
      "File \u001b[0;32mpandas/_libs/hashtable_class_helper.pxi:5206\u001b[0m, in \u001b[0;36mpandas._libs.hashtable.PyObjectHashTable.get_item\u001b[0;34m()\u001b[0m\n",
      "\u001b[0;31mKeyError\u001b[0m: 0",
      "\nThe above exception was the direct cause of the following exception:\n",
      "\u001b[0;31mKeyError\u001b[0m                                  Traceback (most recent call last)",
      "Input \u001b[0;32mIn [608]\u001b[0m, in \u001b[0;36m<cell line: 1>\u001b[0;34m()\u001b[0m\n\u001b[0;32m----> 1\u001b[0m blush1 \u001b[38;5;241m=\u001b[39m \u001b[43mblush_benefit\u001b[49m\u001b[43m[\u001b[49m\u001b[38;5;241;43m0\u001b[39;49m\u001b[43m]\u001b[49m\n\u001b[1;32m      2\u001b[0m blush2 \u001b[38;5;241m=\u001b[39m blush_benefit[\u001b[38;5;241m1\u001b[39m]\n",
      "File \u001b[0;32m~/opt/anaconda3/lib/python3.9/site-packages/pandas/core/frame.py:3505\u001b[0m, in \u001b[0;36mDataFrame.__getitem__\u001b[0;34m(self, key)\u001b[0m\n\u001b[1;32m   3503\u001b[0m \u001b[38;5;28;01mif\u001b[39;00m \u001b[38;5;28mself\u001b[39m\u001b[38;5;241m.\u001b[39mcolumns\u001b[38;5;241m.\u001b[39mnlevels \u001b[38;5;241m>\u001b[39m \u001b[38;5;241m1\u001b[39m:\n\u001b[1;32m   3504\u001b[0m     \u001b[38;5;28;01mreturn\u001b[39;00m \u001b[38;5;28mself\u001b[39m\u001b[38;5;241m.\u001b[39m_getitem_multilevel(key)\n\u001b[0;32m-> 3505\u001b[0m indexer \u001b[38;5;241m=\u001b[39m \u001b[38;5;28;43mself\u001b[39;49m\u001b[38;5;241;43m.\u001b[39;49m\u001b[43mcolumns\u001b[49m\u001b[38;5;241;43m.\u001b[39;49m\u001b[43mget_loc\u001b[49m\u001b[43m(\u001b[49m\u001b[43mkey\u001b[49m\u001b[43m)\u001b[49m\n\u001b[1;32m   3506\u001b[0m \u001b[38;5;28;01mif\u001b[39;00m is_integer(indexer):\n\u001b[1;32m   3507\u001b[0m     indexer \u001b[38;5;241m=\u001b[39m [indexer]\n",
      "File \u001b[0;32m~/opt/anaconda3/lib/python3.9/site-packages/pandas/core/indexes/base.py:3623\u001b[0m, in \u001b[0;36mIndex.get_loc\u001b[0;34m(self, key, method, tolerance)\u001b[0m\n\u001b[1;32m   3621\u001b[0m     \u001b[38;5;28;01mreturn\u001b[39;00m \u001b[38;5;28mself\u001b[39m\u001b[38;5;241m.\u001b[39m_engine\u001b[38;5;241m.\u001b[39mget_loc(casted_key)\n\u001b[1;32m   3622\u001b[0m \u001b[38;5;28;01mexcept\u001b[39;00m \u001b[38;5;167;01mKeyError\u001b[39;00m \u001b[38;5;28;01mas\u001b[39;00m err:\n\u001b[0;32m-> 3623\u001b[0m     \u001b[38;5;28;01mraise\u001b[39;00m \u001b[38;5;167;01mKeyError\u001b[39;00m(key) \u001b[38;5;28;01mfrom\u001b[39;00m \u001b[38;5;21;01merr\u001b[39;00m\n\u001b[1;32m   3624\u001b[0m \u001b[38;5;28;01mexcept\u001b[39;00m \u001b[38;5;167;01mTypeError\u001b[39;00m:\n\u001b[1;32m   3625\u001b[0m     \u001b[38;5;66;03m# If we have a listlike key, _check_indexing_error will raise\u001b[39;00m\n\u001b[1;32m   3626\u001b[0m     \u001b[38;5;66;03m#  InvalidIndexError. Otherwise we fall through and re-raise\u001b[39;00m\n\u001b[1;32m   3627\u001b[0m     \u001b[38;5;66;03m#  the TypeError.\u001b[39;00m\n\u001b[1;32m   3628\u001b[0m     \u001b[38;5;28mself\u001b[39m\u001b[38;5;241m.\u001b[39m_check_indexing_error(key)\n",
      "\u001b[0;31mKeyError\u001b[0m: 0"
     ]
    }
   ],
   "source": [
    "blush1 = blush_benefit[0]\n",
    "blush2 = blush_benefit[1]"
   ]
  },
  {
   "cell_type": "code",
   "execution_count": 218,
   "id": "aa0dc5a2",
   "metadata": {},
   "outputs": [],
   "source": [
    "blush1.drop(blush1.index[[6]], inplace = True)"
   ]
  },
  {
   "cell_type": "code",
   "execution_count": 609,
   "id": "acaf4f90",
   "metadata": {},
   "outputs": [],
   "source": [
    "paletas = ['PRIMAVERA / OTOÑO', 'TODAS', 'TODAS', 'PRIMAVERA / OTOÑO', 'INVIERNO / VERANO', 'PRIMAVERA / OTOÑO',\\\n",
    "          'INVIERNO / VERANO', 'INVIERNO / VERANO', 'TODAS', 'PRIMAVERA / OTOÑO', 'INVIERNO / VERANO']\n",
    "blush1['PALETA'] = paletas"
   ]
  },
  {
   "cell_type": "code",
   "execution_count": 610,
   "id": "d9032a2a",
   "metadata": {},
   "outputs": [],
   "source": [
    "paletas = ['PRIMAVERA / OTOÑO', 'PRIMAVERA / OTOÑO', 'INVIERNO / VERANO', 'INVIERNO / VERANO', 'INVIERNO / VERANO',\\\n",
    "          'INVIERNO / VERANO', 'PRIMAVERA / OTOÑO', 'PRIMAVERA / OTOÑO', 'INVIERNO / VERANO', 'PRIMAVERA / OTOÑO',\\\n",
    "          'PRIMAVERA / OTOÑO', 'INVIERNO / VERANO']\n",
    "blush2['PALETA'] = paletas"
   ]
  },
  {
   "cell_type": "code",
   "execution_count": 611,
   "id": "1982c68c",
   "metadata": {},
   "outputs": [],
   "source": [
    "paletas = ['INVIERNO / VERANO', 'PRIMAVERA / OTOÑO', 'PRIMAVERA / OTOÑO', 'PRIMAVERA / OTOÑO', 'INVIERNO / VERANO',\\\n",
    "          'PRIMAVERA / OTOÑO', 'PRIMAVERA / OTOÑO', 'TODAS', 'TODAS']\n",
    "tres['PALETA'] = paletas"
   ]
  },
  {
   "cell_type": "code",
   "execution_count": 612,
   "id": "8c847fbb",
   "metadata": {},
   "outputs": [],
   "source": [
    "blush_benefit = pd.concat([blush1, blush2, tres], axis = 0)\n",
    "blush_benefit['PRODUCTO'] = 'COLORETE'"
   ]
  },
  {
   "cell_type": "code",
   "execution_count": 613,
   "id": "bbc3d70f",
   "metadata": {},
   "outputs": [],
   "source": [
    "#Vamos a limpiar la columna de PRECIO\n",
    "p2 = []\n",
    "for e in blush_benefit['PRECIO']:\n",
    "    if '$' in e:\n",
    "        p2.append(float(e.replace('$', '')))\n",
    "#Lo convertimos a EUROS (TIPO DE CAMBIO - 12/12/2022):\n",
    "p3 = []\n",
    "for e in p2:\n",
    "    p3.append(round((e*0.95), 2))\n",
    "\n",
    "blush_benefit.PRECIO = p3\n",
    "blush_benefit.rename(columns = {'PRECIO' : 'PRECIO (€)'}, inplace = True)"
   ]
  },
  {
   "cell_type": "code",
   "execution_count": 614,
   "id": "516cab38",
   "metadata": {},
   "outputs": [],
   "source": [
    "#Añadimos la columna 'TIENDA' para indicar dónde comprar los productos\n",
    "blush_benefit['TIENDA'] = 'BENEFIT'"
   ]
  },
  {
   "cell_type": "code",
   "execution_count": 615,
   "id": "99ab1e92",
   "metadata": {},
   "outputs": [],
   "source": [
    "#Cambiamos el tipo de dato de las columnas \n",
    "blush_benefit[['NOMBRE', 'LINKS', 'PRODUCTO', 'PALETA', 'TIENDA']] = \\\n",
    "blush_benefit[['NOMBRE', 'LINKS', 'PRODUCTO', 'PALETA', 'TIENDA']].astype('category')"
   ]
  },
  {
   "cell_type": "code",
   "execution_count": 621,
   "id": "1e82a4e7",
   "metadata": {},
   "outputs": [
    {
     "name": "stdout",
     "output_type": "stream",
     "text": [
      "<class 'pandas.core.frame.DataFrame'>\n",
      "Int64Index: 32 entries, 0 to 8\n",
      "Data columns (total 6 columns):\n",
      " #   Column      Non-Null Count  Dtype   \n",
      "---  ------      --------------  -----   \n",
      " 0   NOMBRE      32 non-null     category\n",
      " 1   PRECIO (€)  32 non-null     float64 \n",
      " 2   LINKS       32 non-null     category\n",
      " 3   PRODUCTO    32 non-null     category\n",
      " 4   PALETA      32 non-null     category\n",
      " 5   TIENDA      32 non-null     category\n",
      "dtypes: category(5), float64(1)\n",
      "memory usage: 4.6 KB\n"
     ]
    }
   ],
   "source": [
    "blush_benefit.info()"
   ]
  },
  {
   "cell_type": "markdown",
   "id": "fa61ab03",
   "metadata": {},
   "source": [
    "# 5 - EXTRACCIÓN DE DATOS DE SOMBRAS, BLUSH Y PINTALABIOS DE NARS"
   ]
  },
  {
   "cell_type": "code",
   "execution_count": 90,
   "id": "c1ae04db",
   "metadata": {},
   "outputs": [
    {
     "name": "stderr",
     "output_type": "stream",
     "text": [
      "2022-12-12 11:06:41,282 [48607] WARNING  py.warnings:109: [JupyterRequire] /var/folders/fg/hm_rz3k53fv5qf5dywc0bfwr0000gn/T/ipykernel_48607/1981730666.py:3: DeprecationWarning: executable_path has been deprecated, please pass in a Service object\n",
      "  driver=webdriver.Chrome(PATH)\n",
      "\n"
     ]
    }
   ],
   "source": [
    "PATH=ChromeDriverManager().install()\n",
    "\n",
    "driver=webdriver.Chrome(PATH)"
   ]
  },
  {
   "cell_type": "code",
   "execution_count": 91,
   "id": "95926589",
   "metadata": {},
   "outputs": [],
   "source": [
    "URL = 'https://www.narscosmetics.es/es/maquillaje/ojos/paletas-de-sombras'"
   ]
  },
  {
   "cell_type": "code",
   "execution_count": 92,
   "id": "b0f6c212",
   "metadata": {},
   "outputs": [],
   "source": [
    "driver.get(URL)"
   ]
  },
  {
   "cell_type": "code",
   "execution_count": 93,
   "id": "38e7bf01",
   "metadata": {},
   "outputs": [],
   "source": [
    "nombres = driver.find_elements(By.CLASS_NAME, 'product-name')"
   ]
  },
  {
   "cell_type": "code",
   "execution_count": 94,
   "id": "66574da4",
   "metadata": {},
   "outputs": [
    {
     "data": {
      "text/plain": [
       "['SUMMER UNRATED EYESHADOW PALETTE',\n",
       " 'UNWRAPPED MINI EYESHADOW PALETTE',\n",
       " 'EUPHORIA FACE PALETTE',\n",
       " 'COOL CRUSH EYESHADOW PALETTE',\n",
       " 'VOYAGEUR EYESHADOW PALETTE',\n",
       " 'VOYAGEUR EYESHADOW PALETTE',\n",
       " 'VOYAGEUR EYESHADOW PALETTE',\n",
       " 'VOYAGEUR EYESHADOW PALETTE',\n",
       " 'VOYAGEUR EYESHADOW PALETTE',\n",
       " 'CUARTETO DE SOMBRAS DE OJOS',\n",
       " 'CUARTETO DE SOMBRAS DE OJOS',\n",
       " 'CUARTETO DE SOMBRAS DE OJOS',\n",
       " 'CUARTETO DE SOMBRAS DE OJOS',\n",
       " 'CUARTETO DE SOMBRAS DE OJOS',\n",
       " '#22 BLENDING BRUSH',\n",
       " '#20 ALLOVER EYESHADOW BRUSH']"
      ]
     },
     "execution_count": 94,
     "metadata": {},
     "output_type": "execute_result"
    }
   ],
   "source": [
    "[e.text for e in nombres]"
   ]
  },
  {
   "cell_type": "code",
   "execution_count": 95,
   "id": "a6d83f35",
   "metadata": {},
   "outputs": [],
   "source": [
    "prec = driver.find_elements(By.CLASS_NAME, 'product-pricing')"
   ]
  },
  {
   "cell_type": "code",
   "execution_count": 96,
   "id": "f94e954f",
   "metadata": {},
   "outputs": [
    {
     "data": {
      "text/plain": [
       "['55,00',\n",
       " '26,00',\n",
       " '55,00',\n",
       " '55,00',\n",
       " '30,50',\n",
       " '30,50',\n",
       " '30,50',\n",
       " '30,50',\n",
       " '30,50',\n",
       " '49,00',\n",
       " '49,00',\n",
       " '49,00',\n",
       " '49,00',\n",
       " '49,00',\n",
       " '31,50',\n",
       " '31,50']"
      ]
     },
     "execution_count": 96,
     "metadata": {},
     "output_type": "execute_result"
    }
   ],
   "source": [
    "[e.text.split()[0] for e in prec]"
   ]
  },
  {
   "cell_type": "code",
   "execution_count": 97,
   "id": "366339fc",
   "metadata": {},
   "outputs": [
    {
     "data": {
      "text/plain": [
       "'/es/summer-unrated-eyeshadow-palette/0194251130200.html'"
      ]
     },
     "execution_count": 97,
     "metadata": {},
     "output_type": "execute_result"
    }
   ],
   "source": [
    "driver.find_element(By.CLASS_NAME, 'name-link').get_attribute('href')"
   ]
  },
  {
   "cell_type": "code",
   "execution_count": 98,
   "id": "5d640209",
   "metadata": {},
   "outputs": [],
   "source": [
    "#SOMBRAS, LABIOS Y BRUSH\n",
    "def extraer2(URL):\n",
    "    driver = webdriver.Chrome(PATH)\n",
    "    driver.get(URL)\n",
    "\n",
    "    time.sleep(5)\n",
    "    driver.find_element(By.CSS_SELECTOR, '#onetrust-accept-btn-handler').click()\n",
    "    time.sleep(5)\n",
    "    driver.execute_script('window.scrollTo(0, 3000);')  # 200px de scroll\n",
    "    time.sleep(5)\n",
    "    \n",
    "    nombre = driver.find_elements(By.CLASS_NAME, 'product-name')\n",
    "    precio = driver.find_elements(By.CLASS_NAME, 'product-pricing')\n",
    "    link =  driver.find_elements(By.CLASS_NAME, 'name-link')\n",
    "    \n",
    "    tmp = []\n",
    "    precios = []\n",
    "    links = []\n",
    "    \n",
    "\n",
    "    for e in nombre:\n",
    "        tmp.append(e.text)\n",
    "    \n",
    "    for e in precio:\n",
    "        precios.append(e.text.split()[0])\n",
    "    \n",
    "    for e in link:\n",
    "        links.append(e.get_attribute('href'))\n",
    "    \n",
    "    \n",
    "    cols = ['NOMBRE']\n",
    "    \n",
    "    total = pd.DataFrame(tmp, columns = cols)\n",
    "\n",
    "    \n",
    "    total['PRECIO'] = precios\n",
    "    total['LINKS'] = links\n",
    "    total['PRODUCTO'] = 'SOMBRAS DE OJOS'\n",
    "    \n",
    "    \n",
    "    driver.quit()\n",
    "     \n",
    "    return total"
   ]
  },
  {
   "cell_type": "code",
   "execution_count": 99,
   "id": "498bc77f",
   "metadata": {},
   "outputs": [],
   "source": [
    "links_nars = ('https://www.narscosmetics.es/es/maquillaje/ojos/paletas-de-sombras',\n",
    "             'https://www.narscosmetics.es/es/maquillaje/labios',\n",
    "             'https://www.narscosmetics.es/es/maquillaje/rostro/blush')"
   ]
  },
  {
   "cell_type": "code",
   "execution_count": 100,
   "id": "fc2f6829",
   "metadata": {
    "scrolled": true
   },
   "outputs": [
    {
     "name": "stderr",
     "output_type": "stream",
     "text": [
      "[Parallel(n_jobs=3)]: Using backend LokyBackend with 3 concurrent workers.\n",
      "/var/folders/fg/hm_rz3k53fv5qf5dywc0bfwr0000gn/T/ipykernel_48607/2494103033.py:3: DeprecationWarning: executable_path has been deprecated, please pass in a Service object\n",
      "/var/folders/fg/hm_rz3k53fv5qf5dywc0bfwr0000gn/T/ipykernel_48607/2494103033.py:3: DeprecationWarning: executable_path has been deprecated, please pass in a Service object\n",
      "/var/folders/fg/hm_rz3k53fv5qf5dywc0bfwr0000gn/T/ipykernel_48607/2494103033.py:3: DeprecationWarning: executable_path has been deprecated, please pass in a Service object\n",
      "[Parallel(n_jobs=3)]: Done   3 out of   3 | elapsed:   56.1s finished\n"
     ]
    }
   ],
   "source": [
    "nars = Parallel(n_jobs=3, verbose=True)(delayed(extraer2)(e) for e in links_nars)"
   ]
  },
  {
   "cell_type": "code",
   "execution_count": 101,
   "id": "e524a782",
   "metadata": {},
   "outputs": [],
   "source": [
    "sombras_nars = nars[0]\n",
    "labios_nars = nars[1]\n",
    "blush_nars = nars[2]"
   ]
  },
  {
   "cell_type": "code",
   "execution_count": 204,
   "id": "99022d73",
   "metadata": {},
   "outputs": [
    {
     "name": "stderr",
     "output_type": "stream",
     "text": [
      "2022-12-12 13:04:28,775 [48607] WARNING  py.warnings:109: [JupyterRequire] /var/folders/fg/hm_rz3k53fv5qf5dywc0bfwr0000gn/T/ipykernel_48607/270403714.py:4: FutureWarning: The frame.append method is deprecated and will be removed from pandas in a future version. Use pandas.concat instead.\n",
      "  sombras_nars = sombras_nars.append(dictio, ignore_index = True)\n",
      "\n"
     ]
    }
   ],
   "source": [
    "sombras_nars\n",
    "dictio = {'NOMBRE' : 'STARGAZE EYESHADOW PALETTE', 'PRECIO' : '59,00', 'LINKS' : 'https://www.narscosmetics.es/es/stargaze-eyeshadow-palette/0194251134321.html',\\\n",
    "         'PRODUCTO' : 'SOMBRAS DE OJOS'}\n",
    "sombras_nars = sombras_nars.append(dictio, ignore_index = True)"
   ]
  },
  {
   "cell_type": "code",
   "execution_count": 207,
   "id": "2fdc02c6",
   "metadata": {},
   "outputs": [],
   "source": [
    "paletas = ['TODAS', 'PRIMAVERA / VERANO', 'PRIMAVERA / VERANO / OTOÑO', 'PRIMAVERA / OTOÑO', 'INVIERNO / OTOÑO',\\\n",
    "          'VERANO / OTOÑO', 'PRIMAVERA / VERANO', 'PRIMAVERA / OTOÑO', 'OTOÑO / INVIERNO', 'OTOÑO', 'PRIMAVERA / OTOÑO',\\\n",
    "          'PRIMAVERA', 'OTOÑO / VERANO', 'PRIMAVERA', 'PRIMAVERA / OTOÑO']\n",
    "sombras_nars['PALETAS'] = paletas"
   ]
  },
  {
   "cell_type": "code",
   "execution_count": 210,
   "id": "947ea50b",
   "metadata": {},
   "outputs": [],
   "source": [
    "paletas = ['VERANO / INVIERNO / OTOÑO', 'PRIMAVERA / VERANO', 'INVIERNO', 'PRIMAVERA', 'OTOÑO / INVIERNO',\\\n",
    "          'VERANO / INVIERNO / OTOÑO', 'PRIMAVERA', 'PRIMAVERA', 'PRIMAVERA / VERANO', 'TODAS', 'TODAS',\\\n",
    "          'VERANO / INVIERNO / OTOÑO', 'PRIMAVERA / VERANO', 'PRIMAVERA / VERANO', 'PRIMAVERA / VERANO', 'TODAS']\n",
    "labios_nars['PALETAS'] = paletas"
   ]
  },
  {
   "cell_type": "code",
   "execution_count": 216,
   "id": "84f28f40",
   "metadata": {},
   "outputs": [],
   "source": [
    "paletas = ['INVIERNO / VERANO', 'INVIERNO / VERANO', 'INVIERNO / VERANO', 'PRIMAVERA / OTOÑO', 'TODAS', \\\n",
    "          'PRIMAVERA / OTOÑO', 'TODAS', 'INVIERNO / VERANO', 'INVIERNO / VERANO', 'PRIMAVERA / OTOÑO', 'INVIERNO / VERANO',\\\n",
    "          'PRIMAVERA / OTOÑO', 'PRIMAVERA / OTOÑO']\n",
    "blush_nars['PALETAS'] = paletas"
   ]
  },
  {
   "cell_type": "code",
   "execution_count": 102,
   "id": "b7f4f910",
   "metadata": {},
   "outputs": [],
   "source": [
    "labios_nars['PRODUCTO'] = 'PINTALABIOS'\n",
    "blush_nars['PRODUCTO'] = 'COLORETE'"
   ]
  },
  {
   "cell_type": "code",
   "execution_count": 103,
   "id": "05b4ca70",
   "metadata": {},
   "outputs": [],
   "source": [
    "def arreglar_links(link):\n",
    "    return 'https://www.narscosmetics.es' + link \n",
    "\n",
    "sombras_nars.LINKS = sombras_nars.LINKS.apply(arreglar_links)"
   ]
  },
  {
   "cell_type": "code",
   "execution_count": 104,
   "id": "da3451c9",
   "metadata": {},
   "outputs": [],
   "source": [
    "sombras_nars['LINKS'] = sombras_nars['LINKS'].apply(arreglar_links)\n",
    "labios_nars['LINKS'] = labios_nars['LINKS'].apply(arreglar_links)\n",
    "blush_nars['LINKS'] = blush_nars['LINKS'].apply(arreglar_links)"
   ]
  },
  {
   "cell_type": "code",
   "execution_count": 105,
   "id": "cbefa843",
   "metadata": {},
   "outputs": [],
   "source": [
    "sombras_nars.drop(sombras_nars.index[[14,15]], inplace = True)\n",
    "blush_nars.drop(blush_nars.index[[12,13,14]], inplace = True)"
   ]
  },
  {
   "cell_type": "markdown",
   "id": "dfd5a962",
   "metadata": {},
   "source": [
    "# 6 - EXTRACCIÓN DE DATOS DE SOMBRAS, BLUSH Y PINTALABIOS DE CHARLOTTE TILBURY"
   ]
  },
  {
   "cell_type": "code",
   "execution_count": 182,
   "id": "fac7411c",
   "metadata": {},
   "outputs": [
    {
     "name": "stderr",
     "output_type": "stream",
     "text": [
      "2022-12-12 12:39:52,662 [48607] WARNING  py.warnings:109: [JupyterRequire] /var/folders/fg/hm_rz3k53fv5qf5dywc0bfwr0000gn/T/ipykernel_48607/1981730666.py:3: DeprecationWarning: executable_path has been deprecated, please pass in a Service object\n",
      "  driver=webdriver.Chrome(PATH)\n",
      "\n"
     ]
    }
   ],
   "source": [
    "PATH=ChromeDriverManager().install()\n",
    "\n",
    "driver=webdriver.Chrome(PATH)"
   ]
  },
  {
   "cell_type": "code",
   "execution_count": 183,
   "id": "a605e440",
   "metadata": {},
   "outputs": [],
   "source": [
    "URL = 'https://www.charlottetilbury.com/es/products/maquillaje/ojos/paleta'"
   ]
  },
  {
   "cell_type": "code",
   "execution_count": 184,
   "id": "75bf26a9",
   "metadata": {},
   "outputs": [],
   "source": [
    "driver.get(URL)"
   ]
  },
  {
   "cell_type": "code",
   "execution_count": 185,
   "id": "374165e5",
   "metadata": {},
   "outputs": [],
   "source": [
    "driver.find_element(By.XPATH, '//*[@id=\"onetrust-accept-btn-handler\"]').click()"
   ]
  },
  {
   "cell_type": "code",
   "execution_count": 186,
   "id": "7b8b4687",
   "metadata": {},
   "outputs": [],
   "source": [
    "nombre = driver.find_element(By.CLASS_NAME, 'ProductCard__title').text.split('\\n')[0]"
   ]
  },
  {
   "cell_type": "code",
   "execution_count": 187,
   "id": "8b70b043",
   "metadata": {},
   "outputs": [
    {
     "data": {
      "text/plain": [
       "'LUXURY PALETTE'"
      ]
     },
     "execution_count": 187,
     "metadata": {},
     "output_type": "execute_result"
    }
   ],
   "source": [
    "nombre"
   ]
  },
  {
   "cell_type": "code",
   "execution_count": 110,
   "id": "be25ca6d",
   "metadata": {},
   "outputs": [],
   "source": [
    "precio = driver.find_element(By.CLASS_NAME, 'DisplayPrice__price').text"
   ]
  },
  {
   "cell_type": "code",
   "execution_count": 111,
   "id": "bcf882cd",
   "metadata": {},
   "outputs": [],
   "source": [
    "links = driver.find_element(By.CLASS_NAME, 'ProductCard__link').get_attribute('href')"
   ]
  },
  {
   "cell_type": "code",
   "execution_count": 188,
   "id": "a83a68cb",
   "metadata": {},
   "outputs": [],
   "source": [
    "#SOMBRAS, LABIOS Y BLUSH\n",
    "def extraer2(URL):\n",
    "    driver = webdriver.Chrome(PATH)\n",
    "    driver.get(URL)\n",
    "    \n",
    "    driver.find_element(By.XPATH, '//*[@id=\"onetrust-accept-btn-handler\"]').click()\n",
    "\n",
    "    time.sleep(5)\n",
    "    driver.execute_script('window.scrollTo(0, 3000);')  # 200px de scroll\n",
    "    time.sleep(5)\n",
    "    \n",
    "    \n",
    "    nombre = driver.find_elements(By.CLASS_NAME, 'ProductCard__title')\n",
    "    precio = driver.find_elements(By.CLASS_NAME, 'DisplayPrice__price')\n",
    "    link =  driver.find_elements(By.CLASS_NAME, 'ProductCard__link')\n",
    "    \n",
    "    tmp = []\n",
    "    precios = []\n",
    "    links = []\n",
    "    \n",
    "\n",
    "    for e in nombre:\n",
    "        tmp.append(e.text.split('\\n')[0])\n",
    "    \n",
    "    for e in precio:\n",
    "        precios.append(e.text)\n",
    "    \n",
    "    for e in link:\n",
    "        links.append(e.get_attribute('href'))\n",
    "    \n",
    "    \n",
    "    cols = ['NOMBRE']\n",
    "    \n",
    "    total = pd.DataFrame(tmp, columns = cols)\n",
    "\n",
    "    \n",
    "    total['PRECIO'] = precios\n",
    "    total['LINKS'] = links\n",
    "    total['PRODUCTO'] = 'SOMBRAS DE OJOS'\n",
    "    \n",
    "    \n",
    "    driver.quit()\n",
    "     \n",
    "    return total"
   ]
  },
  {
   "cell_type": "code",
   "execution_count": 189,
   "id": "584496ab",
   "metadata": {},
   "outputs": [],
   "source": [
    "links_ct = ['https://www.charlottetilbury.com/es/products/maquillaje/ojos/paleta',\\\n",
    "           'https://www.charlottetilbury.com/es/products/maquillaje/labios/labial/revolucion-matte',\\\n",
    "           'https://www.charlottetilbury.com/es/products/maquillaje/mejillas/rubor/rubor-en-polvo']"
   ]
  },
  {
   "cell_type": "code",
   "execution_count": 190,
   "id": "49dc760e",
   "metadata": {
    "scrolled": true
   },
   "outputs": [
    {
     "name": "stderr",
     "output_type": "stream",
     "text": [
      "[Parallel(n_jobs=3)]: Using backend LokyBackend with 3 concurrent workers.\n",
      "/var/folders/fg/hm_rz3k53fv5qf5dywc0bfwr0000gn/T/ipykernel_48607/3048332081.py:3: DeprecationWarning: executable_path has been deprecated, please pass in a Service object\n",
      "/var/folders/fg/hm_rz3k53fv5qf5dywc0bfwr0000gn/T/ipykernel_48607/3048332081.py:3: DeprecationWarning: executable_path has been deprecated, please pass in a Service object\n",
      "/var/folders/fg/hm_rz3k53fv5qf5dywc0bfwr0000gn/T/ipykernel_48607/3048332081.py:3: DeprecationWarning: executable_path has been deprecated, please pass in a Service object\n",
      "[Parallel(n_jobs=3)]: Done   3 out of   3 | elapsed:   32.0s finished\n"
     ]
    }
   ],
   "source": [
    "ch_til = Parallel(n_jobs=3, verbose=True)(delayed(extraer2)(e) for e in links_ct)"
   ]
  },
  {
   "cell_type": "code",
   "execution_count": 192,
   "id": "dd3c67af",
   "metadata": {},
   "outputs": [],
   "source": [
    "sombras_ct = ch_til[0]\n",
    "labios_ct = ch_til[1]\n",
    "blush_ct = ch_til[2]"
   ]
  },
  {
   "cell_type": "code",
   "execution_count": 196,
   "id": "697ea90c",
   "metadata": {
    "scrolled": true
   },
   "outputs": [],
   "source": [
    "paletas = ['OTOÑO', 'PRIMAVERA / OTOÑO / INVIERNO', 'INVIERNO', 'PRIMAVERA / IVNVIERNO', 'OTOÑO / INVIERNO',\\\n",
    "          'OTOÑO / INVIERNO']\n",
    "sombras_ct['PALETAS'] = paletas"
   ]
  },
  {
   "cell_type": "code",
   "execution_count": 199,
   "id": "e345f174",
   "metadata": {},
   "outputs": [],
   "source": [
    "paletas = ['OTOÑO / INVIERNO', 'OTOÑO / INVIERNO / VERANO', 'PRIMAVERA / OTOÑO / VERANO', 'VERANO / OTOÑO, INVIERNO',\\\n",
    "          'OTOÑO / INVIERNO', 'PRIMAVERA / OTOÑO', 'PRIMAVERA / VERANO', 'VERANO / INVIERNO', 'PRIMAVERA', 'PRIMAVERA / OTOÑO', 'PRIMAVERA / OTOÑO']\n",
    "labios_ct['PALETAS'] = paletas"
   ]
  },
  {
   "cell_type": "code",
   "execution_count": 200,
   "id": "7b2e7673",
   "metadata": {},
   "outputs": [],
   "source": [
    "paletas = ['VERANO / INVIERNO', 'PRIMAVERA / OTOÑO', 'VERANO / INVIERNO', 'VERANO / INVIERNO', 'PRIMAVERA / OTOÑO', \\\n",
    "          'VERANO / INVIERNO', 'VERANO / INVIERNO']\n",
    "blush_ct['PALETAS'] = paletas"
   ]
  },
  {
   "cell_type": "code",
   "execution_count": 116,
   "id": "9bfea673",
   "metadata": {},
   "outputs": [],
   "source": [
    "labios_ct['PRODUCTO'] = 'PINTALABIOS'\n",
    "blush_ct['PRODUCTO'] = 'COLORETE'"
   ]
  },
  {
   "cell_type": "markdown",
   "id": "5d4970f3",
   "metadata": {},
   "source": [
    "# 7 - EXTRACCIÓN DE DATOS DE SOMBRAS, BLUSH Y PINTALABIOS DE BOBBI BROWN"
   ]
  },
  {
   "cell_type": "code",
   "execution_count": 118,
   "id": "a548b1c9",
   "metadata": {},
   "outputs": [
    {
     "name": "stderr",
     "output_type": "stream",
     "text": [
      "2022-12-12 11:08:52,937 [48607] WARNING  py.warnings:109: [JupyterRequire] /var/folders/fg/hm_rz3k53fv5qf5dywc0bfwr0000gn/T/ipykernel_48607/1981730666.py:3: DeprecationWarning: executable_path has been deprecated, please pass in a Service object\n",
      "  driver=webdriver.Chrome(PATH)\n",
      "\n"
     ]
    }
   ],
   "source": [
    "PATH=ChromeDriverManager().install()\n",
    "\n",
    "driver=webdriver.Chrome(PATH)"
   ]
  },
  {
   "cell_type": "code",
   "execution_count": 119,
   "id": "171b2e54",
   "metadata": {},
   "outputs": [],
   "source": [
    "URL = 'https://www.bobbibrown.es/products/2330/makeup/eyes/sombra-de-ojos'"
   ]
  },
  {
   "cell_type": "code",
   "execution_count": 120,
   "id": "9fe765ea",
   "metadata": {},
   "outputs": [],
   "source": [
    "driver.get(URL)"
   ]
  },
  {
   "cell_type": "code",
   "execution_count": 121,
   "id": "070bcb45",
   "metadata": {},
   "outputs": [],
   "source": [
    "precio = driver.find_elements(By.CLASS_NAME, 'price')"
   ]
  },
  {
   "cell_type": "code",
   "execution_count": 122,
   "id": "38de65f0",
   "metadata": {},
   "outputs": [],
   "source": [
    "def extraer2(URL):\n",
    "    driver = webdriver.Chrome(PATH)\n",
    "    driver.get(URL)\n",
    "    time.sleep(5)\n",
    "    driver.execute_script('window.scrollTo(0, 3000);')\n",
    "    time.sleep(5)\n",
    "    \n",
    "    \n",
    "    nombre = driver.find_elements(By.CLASS_NAME, 'product-brief__header')\n",
    "    precio = driver.find_elements(By.CLASS_NAME, 'price')\n",
    "    link =  driver.find_elements(By.CLASS_NAME, 'product-brief__headline-review-link')\n",
    "    \n",
    "    tmp = []\n",
    "    precios = []\n",
    "    links = []\n",
    "    \n",
    "\n",
    "    for e in nombre:\n",
    "        tmp.append(e.text)\n",
    "    \n",
    "    for e in precio:\n",
    "        precios.append(e.text)\n",
    "    \n",
    "    for e in link:\n",
    "        links.append(e.get_attribute('href'))\n",
    "        \n",
    "    for e in precios:\n",
    "        if e == '':\n",
    "            precios.remove(e)\n",
    "    \n",
    "    \n",
    "    cols = ['NOMBRE']\n",
    "    \n",
    "    total = pd.DataFrame(tmp, columns = cols)\n",
    "    \n",
    "    total['PRECIO'] = precios\n",
    "    total['LINKS'] = links\n",
    "    total['PRODUCTO'] = 'SOMBRAS DE OJOS'\n",
    "    \n",
    "    \n",
    "    driver.quit()\n",
    "     \n",
    "    return total"
   ]
  },
  {
   "cell_type": "code",
   "execution_count": 123,
   "id": "5dd22f26",
   "metadata": {},
   "outputs": [],
   "source": [
    "links_bb = ['https://www.bobbibrown.es/products/2330/makeup/eyes/sombra-de-ojos', \\\n",
    "           'https://www.bobbibrown.es/products/2339/makeup/lips']"
   ]
  },
  {
   "cell_type": "code",
   "execution_count": 150,
   "id": "3ae6a6bb",
   "metadata": {
    "scrolled": true
   },
   "outputs": [
    {
     "name": "stderr",
     "output_type": "stream",
     "text": [
      "[Parallel(n_jobs=2)]: Using backend LokyBackend with 2 concurrent workers.\n",
      "/var/folders/fg/hm_rz3k53fv5qf5dywc0bfwr0000gn/T/ipykernel_48607/4154559620.py:2: DeprecationWarning: executable_path has been deprecated, please pass in a Service object\n",
      "/var/folders/fg/hm_rz3k53fv5qf5dywc0bfwr0000gn/T/ipykernel_48607/4154559620.py:2: DeprecationWarning: executable_path has been deprecated, please pass in a Service object\n",
      "[Parallel(n_jobs=2)]: Done   2 out of   2 | elapsed:   28.7s remaining:    0.0s\n",
      "[Parallel(n_jobs=2)]: Done   2 out of   2 | elapsed:   28.7s finished\n"
     ]
    }
   ],
   "source": [
    "bobbi_brown = Parallel(n_jobs=2, verbose=True)(delayed(extraer2)(e) for e in links_bb)"
   ]
  },
  {
   "cell_type": "code",
   "execution_count": 151,
   "id": "5b7ab882",
   "metadata": {},
   "outputs": [],
   "source": [
    "sombras_bb = bobbi_brown[0]\n",
    "labios_bb = bobbi_brown[1]"
   ]
  },
  {
   "cell_type": "code",
   "execution_count": 164,
   "id": "7106a022",
   "metadata": {},
   "outputs": [],
   "source": [
    "#ASIGNAMOS LAS PALETAS PARA CADA PRODUCTO\n",
    "labios_bb['PRODUCTO'] = 'PINTALABIOS'\n",
    "labios_bb.drop(labios_bb.index[[19]], inplace = True)\n",
    "paletas = ['TODAS', 'PRIMAVERA / VERANO', 'TODAS', 'TODAS', 'PRIMAVERA', 'TODAS', 'TODAS','TODAS','TODAS',\\\n",
    "          'PRIMAVERA / OTOÑO / INVIERNO', 'TODAS', 'TODAS', 'TODAS', 'TODAS', 'PRIMAVERA / VERANO', 'TODAS',\\\n",
    "          'TODAS', 'PRIMAVERA / OTOÑO / INVIERNO', 'TODAS', 'PRIMAVERA', 'TODAS', 'OTOÑO / INVIERNO', \\\n",
    "          'TODAS', 'OTOÑO / INVIERNO', 'OTOÑO / INVIERNO']\n",
    "labios_bb['PALETAS'] = paletas"
   ]
  },
  {
   "cell_type": "code",
   "execution_count": 154,
   "id": "88f64a4b",
   "metadata": {},
   "outputs": [],
   "source": [
    "#ASIGNAMOS LAS PALETAS PARA CADA PRODUCTO\n",
    "sombras_bb.drop(sombras_bb.index[[0,1,4,5,14,15,16]], inplace = True)\n",
    "paletas = ['PRIMAVERA / OTOÑO / INVIERNO', 'PRIMAVERA / OTOÑO / INVIERNO', 'PRIMAVERA / OTOÑO / VERANO', \\\n",
    "          'PRIMAVERA / OTOÑO / VERANO', 'PRIMAVERA / OTOÑO', 'TODAS', 'TODAS', 'PRIMAVERA / OTOÑO / VERANO', \\\n",
    "           'PRIMAVERA', 'PRIMAVERA / OTOÑO / INVIERNO', 'PRIMAVERA']\n",
    "sombras_bb['PALETAS'] = paletas"
   ]
  },
  {
   "cell_type": "markdown",
   "id": "d7dac456",
   "metadata": {},
   "source": [
    "# 8 - EXTRACCIÓN DE DATOS DE SOMBRAS, BLUSH Y PINTALABIOS DE NYX"
   ]
  },
  {
   "cell_type": "code",
   "execution_count": null,
   "id": "d57763c4",
   "metadata": {},
   "outputs": [],
   "source": [
    "PATH=ChromeDriverManager().install()\n",
    "\n",
    "driver=webdriver.Chrome(PATH)"
   ]
  },
  {
   "cell_type": "code",
   "execution_count": null,
   "id": "4c1dcc18",
   "metadata": {},
   "outputs": [],
   "source": [
    "URL = 'https://www.nyxcosmetics.es/paletas/sombras?start=0&sz=18#view-mode=grid'"
   ]
  },
  {
   "cell_type": "code",
   "execution_count": null,
   "id": "bf0afd53",
   "metadata": {},
   "outputs": [],
   "source": [
    "driver.get(URL)"
   ]
  },
  {
   "cell_type": "code",
   "execution_count": null,
   "id": "98c34c9c",
   "metadata": {},
   "outputs": [],
   "source": []
  }
 ],
 "metadata": {
  "kernelspec": {
   "display_name": "Python 3 (ipykernel)",
   "language": "python",
   "name": "python3"
  },
  "language_info": {
   "codemirror_mode": {
    "name": "ipython",
    "version": 3
   },
   "file_extension": ".py",
   "mimetype": "text/x-python",
   "name": "python",
   "nbconvert_exporter": "python",
   "pygments_lexer": "ipython3",
   "version": "3.9.12"
  }
 },
 "nbformat": 4,
 "nbformat_minor": 5
}
